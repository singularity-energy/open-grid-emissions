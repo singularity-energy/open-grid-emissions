{
 "cells": [
  {
   "cell_type": "markdown",
   "metadata": {},
   "source": [
    "## About this notebook\n",
    "\n",
    "When imputing missing hourly profiles for wind and solar data in a region, one of our methods averages national-level data. However, when aggrgeating wind and solar data across timezones, it is unclear whether wind and solar patterns on a particular day are more closely related to the local time (ie are driven by diurnal cycles) or utc time (ie are driven by macro/national weather patterns).\n",
    "\n",
    "For solar, it seems intuitive that solar energy would be related to local time, since solar irradiance depends on the position of the sun locally. \n",
    "\n",
    "However, for wind, it is unclear whether wind patterns are more related to macro trends or day/night swings in temperature."
   ]
  },
  {
   "cell_type": "code",
   "execution_count": null,
   "metadata": {},
   "outputs": [],
   "source": [
    "# import packages\n",
    "import pandas as pd\n",
    "\n",
    "%reload_ext autoreload\n",
    "%autoreload 2\n",
    "\n",
    "# # Tell python where to look for modules.\n",
    "import sys\n",
    "\n",
    "sys.path.append(\"../../../open-grid-emissions/src/\")\n",
    "\n",
    "\n",
    "import eia930\n",
    "\n",
    "from filepaths import *\n",
    "\n",
    "year = 2020\n",
    "path_prefix = f\"{year}/\""
   ]
  },
  {
   "cell_type": "code",
   "execution_count": null,
   "metadata": {},
   "outputs": [],
   "source": [
    "# load eia930 data\n",
    "\n",
    "# If running small, we didn't clean the whole year, so need to use the Chalender file to build residual profiles.\n",
    "clean_930_file = f\"{outputs_folder()}{path_prefix}/eia930/eia930_elec.csv\"\n",
    "eia930_data = eia930.load_chalendar_for_pipeline(clean_930_file, year=year)\n",
    "# until we can fix the physics reconciliation, we need to apply some post-processing steps\n",
    "eia930_data = eia930.remove_imputed_ones(eia930_data)\n",
    "eia930_data = eia930.remove_months_with_zero_data(eia930_data)"
   ]
  },
  {
   "cell_type": "markdown",
   "metadata": {},
   "source": [
    "## Explore Wind data"
   ]
  },
  {
   "cell_type": "code",
   "execution_count": null,
   "metadata": {},
   "outputs": [],
   "source": [
    "fuel = \"wind\"\n",
    "report_date = \"2020-11-01\"\n",
    "\n",
    "df_temporary = eia930_data.copy()[\n",
    "    (eia930_data[\"fuel_category_eia930\"] == fuel)\n",
    "    & (eia930_data[\"report_date\"] == report_date)\n",
    "]\n",
    "\n",
    "# strip the time zone information so we can group by local time\n",
    "df_temporary[\"datetime_local\"] = df_temporary[\"datetime_local\"].astype(str).str[:-6]\n",
    "df_temporary[\"datetime_utc\"] = df_temporary[\"datetime_utc\"].astype(str).str[:-6]\n",
    "\n",
    "df_temporary"
   ]
  },
  {
   "cell_type": "code",
   "execution_count": null,
   "metadata": {},
   "outputs": [],
   "source": [
    "# how well correlated are profiles across utc time\n",
    "df_temporary.pivot(\n",
    "    index=\"datetime_utc\", columns=\"ba_code\", values=\"net_generation_mwh_930\"\n",
    ").corr().mean().mean()"
   ]
  },
  {
   "cell_type": "code",
   "execution_count": null,
   "metadata": {},
   "outputs": [],
   "source": [
    "# how well correlated are profiles across local time\n",
    "df_temporary.pivot(\n",
    "    index=\"datetime_local\", columns=\"ba_code\", values=\"net_generation_mwh_930\"\n",
    ").corr().mean().mean()"
   ]
  }
 ],
 "metadata": {
  "kernelspec": {
   "display_name": "Python 3.10.5 ('hourly_egrid')",
   "language": "python",
   "name": "python3"
  },
  "language_info": {
   "codemirror_mode": {
    "name": "ipython",
    "version": 3
   },
   "file_extension": ".py",
   "mimetype": "text/x-python",
   "name": "python",
   "nbconvert_exporter": "python",
   "pygments_lexer": "ipython3",
   "version": "3.10.5"
  },
  "orig_nbformat": 4,
  "vscode": {
   "interpreter": {
    "hash": "4103f3cd497821eca917ea303dbe10c590d787eb7d2dc3fd4e15dec0356e7931"
   }
  }
 },
 "nbformat": 4,
 "nbformat_minor": 2
}
