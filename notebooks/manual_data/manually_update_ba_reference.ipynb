{
 "cells": [
  {
   "attachments": {},
   "cell_type": "markdown",
   "metadata": {},
   "source": [
    "# About\n",
    "This notebook is used to update `data/manual/ba_reference.csv` using the FERC allowable BA entries list, which is updated on a quarterly basis.\n",
    "\n",
    "Check https://www.ferc.gov/power-sales-and-markets/electric-quarterly-reports-eqr and look for the \"Allowable Entries for Balancing Authorities and Hubs\"\n",
    "\n",
    "The most recent file uploaded is https://www.ferc.gov/sites/default/files/2020-05/allowable-entries1_0.xls\n",
    "\n",
    "Also check the EIA-930 data reference tables and List of Balancing Authorities posted on https://www.eia.gov/electricity/gridmonitor/about"
   ]
  },
  {
   "cell_type": "code",
   "execution_count": null,
   "metadata": {},
   "outputs": [],
   "source": [
    "import os\n",
    "import requests\n",
    "import pandas as pd\n",
    "import numpy as np"
   ]
  },
  {
   "cell_type": "code",
   "execution_count": null,
   "metadata": {},
   "outputs": [],
   "source": [
    "ba_reference = pd.read_csv(\"../../data/manual/ba_reference.csv\")\n",
    "ferc_bas = pd.read_csv(\"../../data/downloads/ferc/ferc_bas.csv\")\n",
    "\n",
    "# merge the ferc data into the manual table\n",
    "ba_reference_updated = ba_reference.merge(\n",
    "    ferc_bas,\n",
    "    how=\"outer\",\n",
    "    on=\"ba_code\",\n",
    "    indicator=\"source\",\n",
    "    suffixes=(None, \"_ferc\"),\n",
    "    validate=\"1:1\",\n",
    ")\n",
    "\n",
    "# fill any missing data in the manual table with the data from ferc\n",
    "for col in [\n",
    "    \"ba_name\",\n",
    "    \"us_ba\",\n",
    "    \"activation_date\",\n",
    "    \"retirement_date\",\n",
    "]:\n",
    "    ba_reference_updated[col] = ba_reference_updated[col].fillna(\n",
    "        ba_reference_updated[f\"{col}_ferc\"]\n",
    "    )\n",
    "\n",
    "    # wherever the ferc entry does not match the EIA entry, keep the ferc entry too\n",
    "    ba_reference_updated.loc[\n",
    "        (ba_reference_updated[f\"{col}_ferc\"] == ba_reference_updated[col]),\n",
    "        f\"{col}_ferc\",\n",
    "    ] = np.NaN\n",
    "\n",
    "\n",
    "ba_reference_updated[\"source\"] = ba_reference_updated[\"source\"].replace(\n",
    "    {\"left_only\": \"EIA\", \"right_only\": \"FERC\", \"both\": \"EIA & FERC\"}\n",
    ")\n",
    "# drop the us_ba_ferc column\n",
    "ba_reference_updated = ba_reference_updated.drop(columns=[\"us_ba_ferc\"])\n",
    "\n",
    "\n",
    "ba_reference_updated"
   ]
  },
  {
   "cell_type": "code",
   "execution_count": null,
   "metadata": {},
   "outputs": [],
   "source": [
    "ba_reference_updated.to_csv(\"../../data/manual/ba_reference_updated.csv\", index=False)"
   ]
  }
 ],
 "metadata": {
  "kernelspec": {
   "display_name": "Python 3.9.12 ('hourly_egrid')",
   "language": "python",
   "name": "python3"
  },
  "language_info": {
   "codemirror_mode": {
    "name": "ipython",
    "version": 3
   },
   "file_extension": ".py",
   "mimetype": "text/x-python",
   "name": "python",
   "nbconvert_exporter": "python",
   "pygments_lexer": "ipython3",
   "version": "3.10.5"
  },
  "orig_nbformat": 4,
  "vscode": {
   "interpreter": {
    "hash": "4103f3cd497821eca917ea303dbe10c590d787eb7d2dc3fd4e15dec0356e7931"
   }
  }
 },
 "nbformat": 4,
 "nbformat_minor": 2
}
