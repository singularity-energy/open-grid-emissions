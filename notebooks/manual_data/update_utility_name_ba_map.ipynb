{
 "cells": [
  {
   "cell_type": "code",
   "execution_count": 2,
   "metadata": {},
   "outputs": [],
   "source": [
    "# import packages\n",
    "import pandas as pd\n",
    "import numpy as np\n",
    "import os\n",
    "import plotly.express as px\n",
    "\n",
    "%reload_ext autoreload\n",
    "%autoreload 2\n",
    "\n",
    "# # Tell python where to look for modules.\n",
    "import sys\n",
    "\n",
    "sys.path.append(\"../../src\")\n",
    "\n",
    "import oge.load_data as load_data\n",
    "from oge.column_checks import get_dtypes\n",
    "from oge.filepaths import *\n",
    "\n",
    "\n",
    "year = 2021\n",
    "path_prefix = f\"{year}/\""
   ]
  },
  {
   "cell_type": "code",
   "execution_count": null,
   "metadata": {},
   "outputs": [],
   "source": [
    "pudl_out = load_data.initialize_pudl_out(year=year)\n",
    "\n",
    "plant_ba = pudl_out.plants_eia860().loc[\n",
    "    :,\n",
    "    [\n",
    "        \"plant_id_eia\",\n",
    "        \"balancing_authority_code_eia\",\n",
    "        \"balancing_authority_name_eia\",\n",
    "        \"utility_name_eia\",\n",
    "        \"transmission_distribution_owner_name\",\n",
    "        \"state\",\n",
    "    ],\n",
    "]\n",
    "\n",
    "# convert the dtype of the balancing authority code column from string to object\n",
    "# this will allow for missing values to be filled\n",
    "plant_ba[\"balancing_authority_code_eia\"] = plant_ba[\n",
    "    \"balancing_authority_code_eia\"\n",
    "].astype(object)\n",
    "plant_ba[\"balancing_authority_code_eia\"] = plant_ba[\n",
    "    \"balancing_authority_code_eia\"\n",
    "].fillna(value=np.NaN)\n",
    "\n",
    "# specify a ba code for certain utilities\n",
    "utility_as_ba_code = pd.read_csv(manual_folder(\"utility_name_ba_code_map.csv\"))\n",
    "utility_as_ba_code = dict(\n",
    "    zip(\n",
    "        utility_as_ba_code[\"name\"],\n",
    "        utility_as_ba_code[\"ba_code\"],\n",
    "    )\n",
    ")\n",
    "\n",
    "# fill missing BA codes first based on the BA name, then utility name, then on the transmisison owner name\n",
    "plant_ba[\"balancing_authority_code_eia\"] = plant_ba[\n",
    "    \"balancing_authority_code_eia\"\n",
    "].fillna(plant_ba[\"balancing_authority_name_eia\"].map(utility_as_ba_code))\n",
    "plant_ba[\"balancing_authority_code_eia\"] = plant_ba[\n",
    "    \"balancing_authority_code_eia\"\n",
    "].fillna(plant_ba[\"utility_name_eia\"].map(utility_as_ba_code))\n",
    "plant_ba[\"balancing_authority_code_eia\"] = plant_ba[\n",
    "    \"balancing_authority_code_eia\"\n",
    "].fillna(plant_ba[\"transmission_distribution_owner_name\"].map(utility_as_ba_code))"
   ]
  },
  {
   "cell_type": "code",
   "execution_count": null,
   "metadata": {},
   "outputs": [],
   "source": [
    "# what are all the utility names not mapped to a BA?\n",
    "list(\n",
    "    plant_ba.loc[\n",
    "        plant_ba[\"balancing_authority_code_eia\"].isna(), \"utility_name_eia\"\n",
    "    ].unique()\n",
    ")"
   ]
  },
  {
   "cell_type": "code",
   "execution_count": null,
   "metadata": {},
   "outputs": [],
   "source": [
    "# what are all the utility names not mapped to a BA?\n",
    "list(\n",
    "    plant_ba.loc[\n",
    "        plant_ba[\"balancing_authority_code_eia\"].isna(),\n",
    "        \"transmission_distribution_owner_name\",\n",
    "    ].unique()\n",
    ")"
   ]
  },
  {
   "cell_type": "code",
   "execution_count": null,
   "metadata": {},
   "outputs": [],
   "source": [
    "plant_ba[\n",
    "    plant_ba[\"balancing_authority_code_eia\"].isna()\n",
    "    & (plant_ba[\"utility_name_eia\"] == \"Pacific Gas & Electric Co\")\n",
    "]"
   ]
  }
 ],
 "metadata": {
  "kernelspec": {
   "display_name": "oge_update",
   "language": "python",
   "name": "python3"
  },
  "language_info": {
   "codemirror_mode": {
    "name": "ipython",
    "version": 3
   },
   "file_extension": ".py",
   "mimetype": "text/x-python",
   "name": "python",
   "nbconvert_exporter": "python",
   "pygments_lexer": "ipython3",
   "version": "3.11.2"
  },
  "orig_nbformat": 4,
  "vscode": {
   "interpreter": {
    "hash": "a6b598b31fc646bdc0acd5c2004810e407b47ff3b1550e1d461e8498c70ba381"
   }
  }
 },
 "nbformat": 4,
 "nbformat_minor": 2
}
