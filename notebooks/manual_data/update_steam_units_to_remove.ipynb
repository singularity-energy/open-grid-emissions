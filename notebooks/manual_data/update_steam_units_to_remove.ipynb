{
 "cells": [
  {
   "cell_type": "code",
   "execution_count": null,
   "metadata": {},
   "outputs": [],
   "source": [
    "# import packages\n",
    "import pandas as pd\n",
    "import numpy as np\n",
    "import os\n",
    "\n",
    "%reload_ext autoreload\n",
    "%autoreload 2\n",
    "\n",
    "# # Tell python where to look for modules.\n",
    "import sys\n",
    "\n",
    "sys.path.append(\"../../src/\")\n",
    "\n",
    "\n",
    "import oge.load_data as load_data\n",
    "import oge.data_cleaning as data_cleaning\n",
    "from oge.filepaths import *\n",
    "\n",
    "year = 2022"
   ]
  },
  {
   "cell_type": "markdown",
   "metadata": {},
   "source": [
    "# About\n",
    "The purpose of this notebook is to update the `reference_tables/steam_units_to_remove.csv` table.\n",
    "This table identifies units in CEMS that do not exist in the EIA data, and which only report steam data."
   ]
  },
  {
   "cell_type": "code",
   "execution_count": null,
   "metadata": {},
   "outputs": [],
   "source": [
    "# load cems data\n",
    "cems = load_data.load_cems_data(year)\n",
    "# remove non-grid connected plants\n",
    "cems = data_cleaning.remove_plants(\n",
    "    cems,\n",
    "    non_grid_connected=True,\n",
    "    remove_states=[\"PR\"],\n",
    "    steam_only_plants=False,\n",
    "    distribution_connected_plants=False,\n",
    ")"
   ]
  },
  {
   "cell_type": "code",
   "execution_count": null,
   "metadata": {},
   "outputs": [],
   "source": [
    "# sum operational data by unit and merge the generator map\n",
    "cems_units = (\n",
    "    cems.groupby([\"plant_id_epa\", \"plant_id_eia\", \"emissions_unit_id_epa\"])[\n",
    "        [\n",
    "            \"gross_generation_mwh\",\n",
    "            \"fuel_consumed_mmbtu\",\n",
    "            \"steam_load_1000_lb\",\n",
    "            \"co2_mass_lb\",\n",
    "        ]\n",
    "    ]\n",
    "    .sum()\n",
    "    .reset_index()\n",
    ")"
   ]
  },
  {
   "cell_type": "code",
   "execution_count": null,
   "metadata": {},
   "outputs": [],
   "source": [
    "# load the unit to generator mapping from the subplant crosswalk\n",
    "# NOTE: you will need to run this in the pipeline first\n",
    "generator_unit_map = pd.read_csv(\n",
    "    outputs_folder(f\"{year}/subplant_crosswalk_{year}.csv\"),\n",
    ")[[\"plant_id_epa\", \"generator_id\", \"emissions_unit_id_epa\"]]\n",
    "\n",
    "cems_units = cems_units.merge(\n",
    "    generator_unit_map, how=\"left\", on=[\"plant_id_epa\", \"emissions_unit_id_epa\"]\n",
    ")"
   ]
  },
  {
   "cell_type": "code",
   "execution_count": null,
   "metadata": {},
   "outputs": [],
   "source": [
    "# identify units that are not mapped to a generator and have non-zero generation\n",
    "cems_units[\n",
    "    cems_units[\"generator_id\"].isna() & (cems_units[\"gross_generation_mwh\"] == 0)\n",
    "]"
   ]
  },
  {
   "cell_type": "code",
   "execution_count": null,
   "metadata": {},
   "outputs": [],
   "source": [
    "cems_units[\n",
    "    (~cems_units[\"generator_id\"].isna()) & (cems_units[\"gross_generation_mwh\"] == 0)\n",
    "]"
   ]
  },
  {
   "cell_type": "code",
   "execution_count": null,
   "metadata": {},
   "outputs": [],
   "source": [
    "cems_units.loc[\n",
    "    cems_units[\"generator_id\"].isna() & (cems_units[\"gross_generation_mwh\"] == 0),\n",
    "    [\"plant_id_eia\", \"emissions_unit_id_epa\"],\n",
    "].drop_duplicates().to_csv(\n",
    "    reference_table_folder(\"steam_units_to_remove.csv\", index=False)\n",
    ")"
   ]
  }
 ],
 "metadata": {
  "kernelspec": {
   "display_name": "open-grid-emissions-QkuIZ37I",
   "language": "python",
   "name": "python3"
  },
  "language_info": {
   "codemirror_mode": {
    "name": "ipython",
    "version": 3
   },
   "file_extension": ".py",
   "mimetype": "text/x-python",
   "name": "python",
   "nbconvert_exporter": "python",
   "pygments_lexer": "ipython3",
   "version": "3.11.4"
  }
 },
 "nbformat": 4,
 "nbformat_minor": 2
}
