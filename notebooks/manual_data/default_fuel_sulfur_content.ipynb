{
 "cells": [
  {
   "cell_type": "markdown",
   "metadata": {},
   "source": [
    "## About this notebook\n",
    "This notebook is used to explore what a default sulfur content for certain fuel types should be based on historical data. This is used for default factors that can be used to fill missing annual data from EIA-923."
   ]
  },
  {
   "cell_type": "code",
   "execution_count": null,
   "metadata": {},
   "outputs": [],
   "source": [
    "# # Tell python where to look for modules.\n",
    "import sys\n",
    "import pandas as pd\n",
    "import plotly.express as px\n",
    "\n",
    "sys.path.append(\"../../src\")\n",
    "import emissions\n",
    "import load_data"
   ]
  },
  {
   "cell_type": "code",
   "execution_count": null,
   "metadata": {},
   "outputs": [],
   "source": [
    "for year in [2015, 2016, 2017, 2018, 2019, 2020]:\n",
    "    pudl_out = load_data.initialize_pudl_out(year)\n",
    "\n",
    "    (\n",
    "        plant_specific_fuel_sulfur_content,\n",
    "        national_avg_fuel_sulfur_content,\n",
    "        annual_avg_fuel_sulfur_content,\n",
    "    ) = emissions.return_monthly_plant_fuel_sulfur_content(pudl_out)\n",
    "\n",
    "    annual_avg_fuel_sulfur_content = annual_avg_fuel_sulfur_content.rename(\n",
    "        columns={\"sulfur_content_pct\": f\"sulfur_content_pct_{year}\"}\n",
    "    )\n",
    "\n",
    "    if year == 2015:\n",
    "        result = annual_avg_fuel_sulfur_content.copy()\n",
    "    else:\n",
    "        result = result.merge(\n",
    "            annual_avg_fuel_sulfur_content, how=\"outer\", on=\"energy_source_code\"\n",
    "        )\n",
    "\n",
    "result"
   ]
  }
 ],
 "metadata": {
  "kernelspec": {
   "display_name": "Python 3.10.5 ('hourly_egrid')",
   "language": "python",
   "name": "python3"
  },
  "language_info": {
   "codemirror_mode": {
    "name": "ipython",
    "version": 3
   },
   "file_extension": ".py",
   "mimetype": "text/x-python",
   "name": "python",
   "nbconvert_exporter": "python",
   "pygments_lexer": "ipython3",
   "version": "3.10.5"
  },
  "orig_nbformat": 4,
  "vscode": {
   "interpreter": {
    "hash": "4103f3cd497821eca917ea303dbe10c590d787eb7d2dc3fd4e15dec0356e7931"
   }
  }
 },
 "nbformat": 4,
 "nbformat_minor": 2
}
