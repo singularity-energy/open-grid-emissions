{
 "cells": [
  {
   "cell_type": "markdown",
   "metadata": {},
   "source": [
    "# About this notebook\n",
    "\n",
    "The EPA's power sector data crosswalk is an important input for this data pipeline. However, it is incomplete and in some cases has incorrect crosswalks. Ideally, we would contribute directly to the github repository, but the code is written in R and not python. As a temporary measure, we want to explore the outputted crosswalk and post-process it to fix some of these issues."
   ]
  },
  {
   "cell_type": "code",
   "execution_count": null,
   "metadata": {},
   "outputs": [],
   "source": [
    "import pandas as pd\n"
   ]
  },
  {
   "cell_type": "code",
   "execution_count": null,
   "metadata": {},
   "outputs": [],
   "source": [
    "year = 2020"
   ]
  },
  {
   "cell_type": "code",
   "execution_count": null,
   "metadata": {},
   "outputs": [],
   "source": [
    "# load raw cems data\n",
    "cems_path = f\"../data/downloads/pudl/pudl_data/parquet/epacems/year={year}\"\n",
    "cems = pd.read_parquet(cems_path).rename(\n",
    "    columns={\n",
    "        \"plant_id_eia\": \"plant_id_epa\",\n",
    "        \"heat_content_mmbtu\": \"fuel_consumed_mmbtu\",\n",
    "    }\n",
    ")\n",
    "\n",
    "# load crosswalk data\n",
    "crosswalk = pudl.output.epacems.epa_crosswalk()\n",
    "\n",
    "# load eia-860 data\n",
    "pudl_db = \"sqlite:///../data/downloads/pudl/pudl_data/sqlite/pudl.sqlite\"\n",
    "pudl_engine = sa.create_engine(pudl_db)\n",
    "pudl_out = pudl.output.pudltabl.PudlTabl(\n",
    "    pudl_engine, freq=\"MS\", start_date=f\"{year}-01-01\", end_date=f\"{year}-12-31\"\n",
    ")\n",
    "gens_860 = pudl_out.gens_eia860()"
   ]
  },
  {
   "cell_type": "code",
   "execution_count": null,
   "metadata": {},
   "outputs": [],
   "source": [
    "ids = cems[[\"plant_id_epa\", \"emissions_unit_id_epa\"]].drop_duplicates()"
   ]
  },
  {
   "cell_type": "markdown",
   "metadata": {},
   "source": [
    "# Complete list of non grid connected plants"
   ]
  },
  {
   "cell_type": "code",
   "execution_count": null,
   "metadata": {},
   "outputs": [],
   "source": [
    "# get the list of plant_id_eia from the static table\n",
    "ngc_plants = list(\n",
    "    pd.read_csv(\n",
    "        \"../data/manual/egrid_static_tables/table_4-2_plants_not_connected_to_grid.csv\"\n",
    "    )[\"Plant ID\"]\n",
    ")"
   ]
  },
  {
   "cell_type": "code",
   "execution_count": null,
   "metadata": {},
   "outputs": [],
   "source": [
    "ids[ids[\"plant_id_epa\"].isin(ngc_plants)].to_clipboard()"
   ]
  },
  {
   "cell_type": "markdown",
   "metadata": {},
   "source": [
    "# Identify where there is no EIA plant that matches the EPA plant"
   ]
  },
  {
   "cell_type": "code",
   "execution_count": null,
   "metadata": {},
   "outputs": [],
   "source": [
    "missing_eia = crosswalk[\n",
    "    ~crosswalk[\"CAMD_PLANT_ID\"].isna() & crosswalk[\"EIA_PLANT_ID\"].isna()\n",
    "]\n",
    "missing_eia"
   ]
  },
  {
   "cell_type": "code",
   "execution_count": null,
   "metadata": {},
   "outputs": [],
   "source": [
    "missing_ids = missing_eia[\n",
    "    [\"CAMD_PLANT_ID\", \"CAMD_UNIT_ID\", \"CAMD_GENERATOR_ID\"]\n",
    "].drop_duplicates()\n",
    "\n",
    "missing_ids = missing_ids.merge(\n",
    "    gens_860[[\"plant_id_eia\", \"generator_id\"]],\n",
    "    how=\"left\",\n",
    "    left_on=[\"CAMD_PLANT_ID\", \"CAMD_UNIT_ID\"],\n",
    "    right_on=[\"plant_id_eia\", \"generator_id\"],\n",
    ")\n",
    "missing_ids = missing_ids.merge(\n",
    "    gens_860[[\"plant_id_eia\", \"generator_id\"]],\n",
    "    how=\"left\",\n",
    "    left_on=[\"CAMD_PLANT_ID\", \"CAMD_GENERATOR_ID\"],\n",
    "    right_on=[\"plant_id_eia\", \"generator_id\"],\n",
    "    suffixes=(\"_u\", \"_g\"),\n",
    ")\n",
    "\n",
    "# identify the source of the data\n",
    "missing_ids[\"source\"] = \"\"\n",
    "missing_ids.loc[\n",
    "    ~missing_ids[\"plant_id_eia_u\"].isna(), \"source\"\n",
    "] = \"CAMD_UNIT_ID matches EIA_GENERATOR_ID\"\n",
    "missing_ids.loc[\n",
    "    ~missing_ids[\"plant_id_eia_g\"].isna(), \"source\"\n",
    "] = \"CAMD_GENERATOR_ID matches EIA_GENERATOR_ID\"\n",
    "\n",
    "# fill nas in each group so that we can identify where values match\n",
    "missing_ids[\"generator_id_u\"] = missing_ids[\"generator_id_u\"].fillna(\n",
    "    missing_ids[\"generator_id_g\"]\n",
    ")\n",
    "missing_ids[\"generator_id_g\"] = missing_ids[\"generator_id_g\"].fillna(\n",
    "    missing_ids[\"generator_id_u\"]\n",
    ")\n",
    "\n",
    "missing_ids[\"plant_id_eia_u\"] = missing_ids[\"plant_id_eia_u\"].fillna(\n",
    "    missing_ids[\"plant_id_eia_g\"]\n",
    ")\n",
    "missing_ids[\"plant_id_eia_g\"] = missing_ids[\"plant_id_eia_g\"].fillna(\n",
    "    missing_ids[\"plant_id_eia_u\"]\n",
    ")"
   ]
  },
  {
   "cell_type": "code",
   "execution_count": null,
   "metadata": {},
   "outputs": [],
   "source": [
    "# identify where we identified a consistent generator match\n",
    "unit_manual_match = (\n",
    "    (missing_ids[missing_ids[\"generator_id_u\"] == missing_ids[\"generator_id_g\"]])\n",
    "    .drop(columns=[\"plant_id_eia_g\", \"generator_id_g\"])\n",
    "    .rename(\n",
    "        columns={\"plant_id_eia_u\": \"plant_id_eia\", \"generator_id_u\": \"generator_id\"}\n",
    "    )\n",
    ")\n",
    "unit_manual_match"
   ]
  },
  {
   "cell_type": "code",
   "execution_count": null,
   "metadata": {},
   "outputs": [],
   "source": [
    "unit_manual_match.to_csv(\"../data/outputs/crosswalk_unit_manual_matches.csv\")"
   ]
  },
  {
   "cell_type": "code",
   "execution_count": null,
   "metadata": {},
   "outputs": [],
   "source": [
    "# identify where the two matching methods returned different generator matches\n",
    "multi_match = missing_ids[\n",
    "    missing_ids[\"generator_id_u\"] != missing_ids[\"generator_id_g\"]\n",
    "]\n",
    "multi_match"
   ]
  },
  {
   "cell_type": "code",
   "execution_count": null,
   "metadata": {},
   "outputs": [],
   "source": [
    "multi_match.to_csv(\"../data/outputs/crosswalk_unit_manual_matches_multi.csv\")"
   ]
  },
  {
   "cell_type": "code",
   "execution_count": null,
   "metadata": {},
   "outputs": [],
   "source": [
    "gens_860[gens_860[\"plant_id_eia\"] == 3443]"
   ]
  },
  {
   "cell_type": "markdown",
   "metadata": {},
   "source": [
    "# Identify units missing from crosswalk"
   ]
  },
  {
   "cell_type": "code",
   "execution_count": null,
   "metadata": {},
   "outputs": [],
   "source": [
    "missing_from_cw = ids.merge(\n",
    "    crosswalk[[\"CAMD_PLANT_ID\", \"CAMD_UNIT_ID\"]],\n",
    "    how=\"left\",\n",
    "    left_on=[\"plant_id_epa\", \"emissions_unit_id_epa\"],\n",
    "    right_on=[\"CAMD_PLANT_ID\", \"CAMD_UNIT_ID\"],\n",
    ")\n",
    "missing_from_cw = missing_from_cw[missing_from_cw[\"CAMD_UNIT_ID\"].isna()]"
   ]
  },
  {
   "cell_type": "code",
   "execution_count": null,
   "metadata": {},
   "outputs": [],
   "source": [
    "missing_from_cw = missing_from_cw.merge(\n",
    "    gens_860[[\"plant_id_eia\", \"generator_id\"]],\n",
    "    how=\"left\",\n",
    "    left_on=[\"plant_id_epa\", \"emissions_unit_id_epa\"],\n",
    "    right_on=[\"plant_id_eia\", \"generator_id\"],\n",
    ")\n",
    "\n",
    "missing_from_cw[\"source\"] = \"\"\n",
    "missing_from_cw.loc[\n",
    "    ~missing_from_cw[\"generator_id\"].isna(), \"source\"\n",
    "] = \"CAMD_UNIT_ID matches EIA_GENERATOR_ID\"\n",
    "\n",
    "missing_from_cw"
   ]
  },
  {
   "cell_type": "code",
   "execution_count": null,
   "metadata": {},
   "outputs": [],
   "source": [
    "missing_from_cw.to_csv(\"../data/outputs/missing_from_crosswalk.csv\", index=False)"
   ]
  },
  {
   "cell_type": "code",
   "execution_count": null,
   "metadata": {},
   "outputs": [],
   "source": [
    "gens_860.loc[\n",
    "    gens_860[\"plant_id_eia\"] == 55641,\n",
    "    [\"plant_id_eia\", \"generator_id\", \"prime_mover_code\"],\n",
    "]"
   ]
  }
 ],
 "metadata": {
  "interpreter": {
   "hash": "4103f3cd497821eca917ea303dbe10c590d787eb7d2dc3fd4e15dec0356e7931"
  },
  "kernelspec": {
   "display_name": "Python 3.9.12 ('hourly_egrid')",
   "language": "python",
   "name": "python3"
  },
  "language_info": {
   "codemirror_mode": {
    "name": "ipython",
    "version": 3
   },
   "file_extension": ".py",
   "mimetype": "text/x-python",
   "name": "python",
   "nbconvert_exporter": "python",
   "pygments_lexer": "ipython3",
   "version": "3.10.5"
  },
  "orig_nbformat": 4
 },
 "nbformat": 4,
 "nbformat_minor": 2
}
