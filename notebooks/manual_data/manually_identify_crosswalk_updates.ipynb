{
 "cells": [
  {
   "cell_type": "markdown",
   "metadata": {},
   "source": [
    "# About this notebook\n",
    "\n",
    "The EPA's power sector data crosswalk is an important input for this data pipeline. However, it is incomplete and in some cases has incorrect crosswalks. Ideally, we would contribute directly to the github repository, but the code is written in R and not python. As a temporary measure, we want to explore the outputted crosswalk and post-process it to fix some of these issues."
   ]
  },
  {
   "cell_type": "code",
   "execution_count": null,
   "metadata": {},
   "outputs": [],
   "source": [
    "# import packages\n",
    "import pandas as pd\n",
    "import numpy as np\n",
    "import os\n",
    "\n",
    "%reload_ext autoreload\n",
    "%autoreload 2\n",
    "\n",
    "# # Tell python where to look for modules.\n",
    "import sys\n",
    "sys.path.append(\"../../src/\")\n",
    "\n",
    "\n",
    "import oge.load_data as load_data\n",
    "from oge.filepaths import *\n",
    "import oge.data_cleaning as data_cleaning\n",
    "\n",
    "year = 2022"
   ]
  },
  {
   "cell_type": "markdown",
   "metadata": {},
   "source": [
    "### Identify CEMS Units that are not mapped to EIA"
   ]
  },
  {
   "cell_type": "code",
   "execution_count": null,
   "metadata": {},
   "outputs": [],
   "source": [
    "# load cems data\n",
    "cems = load_data.load_cems_data(year)\n",
    "# remove non-grid connected plants\n",
    "cems = data_cleaning.remove_plants(\n",
    "    cems,\n",
    "    non_grid_connected=True,\n",
    "    remove_states=[\"PR\"],\n",
    "    steam_only_plants=False,\n",
    "    distribution_connected_plants=False,\n",
    ")\n",
    "\n",
    "# load the unit to generator mapping from the subplant crosswalk\n",
    "# NOTE: you will need to run this in the pipeline first\n",
    "generator_unit_map = pd.read_csv(\n",
    "    outputs_folder(f\"{year}/subplant_crosswalk_{year}.csv\"),\n",
    ")[[\"plant_id_epa\", \"generator_id\", \"emissions_unit_id_epa\"]]\n",
    "\n",
    "# sum operational data by unit and merge the generator map\n",
    "cems_units = (\n",
    "    cems.groupby([\"plant_id_epa\", \"plant_id_eia\", \"emissions_unit_id_epa\"])[\n",
    "        [\n",
    "            \"gross_generation_mwh\",\n",
    "            \"fuel_consumed_mmbtu\",\n",
    "            \"steam_load_1000_lb\",\n",
    "            \"co2_mass_lb\",\n",
    "        ]\n",
    "    ]\n",
    "    .sum()\n",
    "    .reset_index()\n",
    ")\n",
    "cems_units = cems_units.merge(\n",
    "    generator_unit_map, how=\"left\", on=[\"plant_id_epa\", \"emissions_unit_id_epa\"]\n",
    ")"
   ]
  },
  {
   "cell_type": "code",
   "execution_count": null,
   "metadata": {},
   "outputs": [],
   "source": [
    "# identify units that are not mapped to a generator and have non-zero generation\n",
    "cems_units[cems_units[\"generator_id\"].isna() & (cems_units[\"gross_generation_mwh\"] > 0)]"
   ]
  },
  {
   "cell_type": "code",
   "execution_count": null,
   "metadata": {},
   "outputs": [],
   "source": [
    "# identify units that are not mapped to a generator and have non-zero generation\n",
    "cems_units[cems_units[\"generator_id\"].isna() & (cems_units[\"gross_generation_mwh\"] == 0)]"
   ]
  },
  {
   "cell_type": "markdown",
   "metadata": {},
   "source": [
    "### Investigate matches for a specific plant"
   ]
  },
  {
   "cell_type": "code",
   "execution_count": null,
   "metadata": {},
   "outputs": [],
   "source": [
    "# load data that will help with exploration\n",
    "gens860 = load_data.load_pudl_table(\n",
    "    \"generators_eia860\",\n",
    "    year,\n",
    "    columns=[\n",
    "        \"plant_id_eia\",\n",
    "        \"generator_id\",\n",
    "        \"operational_status\",\n",
    "        \"current_planned_generator_operating_date\",\n",
    "        \"prime_mover_code\",\n",
    "        \"energy_source_code_1\",\n",
    "        \"energy_source_code_2\",\n",
    "    ],\n",
    ")\n",
    "plants_entity_eia = load_data.load_pudl_table(\n",
    "    \"plants_entity_eia\",\n",
    "    columns=[\"plant_id_eia\", \"plant_name_eia\", \"street_address\", \"city\", \"county\", \"state\"],\n",
    ")\n",
    "gens860 = gens860.merge(plants_entity_eia, how=\"left\", on=\"plant_id_eia\")\n",
    "\n",
    "gen_fuel_allocated = (\n",
    "    load_data.load_pudl_table(\n",
    "        \"generation_fuel_by_generator_energy_source_monthly_eia923\", year\n",
    "    )\n",
    "    .groupby(\n",
    "        [\"plant_id_eia\", \"generator_id\", \"prime_mover_code\", \"energy_source_code\"]\n",
    "    )[[\"net_generation_mwh\", \"fuel_consumed_mmbtu\"]]\n",
    "    .sum()\n",
    "    .reset_index()\n",
    ")"
   ]
  },
  {
   "cell_type": "code",
   "execution_count": null,
   "metadata": {},
   "outputs": [],
   "source": [
    "plant_id = 2503\n",
    "\n",
    "cems_units[cems_units[\"plant_id_eia\"] == plant_id]"
   ]
  },
  {
   "cell_type": "code",
   "execution_count": null,
   "metadata": {},
   "outputs": [],
   "source": [
    "gens860[gens860[\"plant_id_eia\"] == plant_id]"
   ]
  },
  {
   "cell_type": "code",
   "execution_count": null,
   "metadata": {},
   "outputs": [],
   "source": [
    "# look and see if there are plants with similar names in the same county\n",
    "# sometimes plants split off\n",
    "gens860[(gens860[\"county\"] == \"Queens\") & gens860[\"plant_name_eia\"].str.contains(\"Bayswater\")]"
   ]
  },
  {
   "cell_type": "code",
   "execution_count": null,
   "metadata": {},
   "outputs": [],
   "source": [
    "gens860[(gens860[\"city\"] == \"New York\")]"
   ]
  },
  {
   "cell_type": "code",
   "execution_count": null,
   "metadata": {},
   "outputs": [],
   "source": [
    "gen_fuel_allocated[gen_fuel_allocated[\"plant_id_eia\"] == plant_id]"
   ]
  }
 ],
 "metadata": {
  "interpreter": {
   "hash": "4103f3cd497821eca917ea303dbe10c590d787eb7d2dc3fd4e15dec0356e7931"
  },
  "kernelspec": {
   "display_name": "Python 3.9.12 ('hourly_egrid')",
   "language": "python",
   "name": "python3"
  },
  "language_info": {
   "codemirror_mode": {
    "name": "ipython",
    "version": 3
   },
   "file_extension": ".py",
   "mimetype": "text/x-python",
   "name": "python",
   "nbconvert_exporter": "python",
   "pygments_lexer": "ipython3",
   "version": "3.11.4"
  },
  "orig_nbformat": 4
 },
 "nbformat": 4,
 "nbformat_minor": 2
}
