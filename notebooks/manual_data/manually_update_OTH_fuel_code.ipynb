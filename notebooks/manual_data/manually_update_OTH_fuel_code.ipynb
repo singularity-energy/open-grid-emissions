{
 "cells": [
  {
   "cell_type": "code",
   "execution_count": 1,
   "metadata": {},
   "outputs": [],
   "source": [
    "%reload_ext autoreload\n",
    "%autoreload 2\n",
    "\n",
    "# Useful high-level external modules.\n",
    "import numpy as np\n",
    "import pandas as pd\n",
    "import plotly.express as px\n",
    "\n",
    "import sys\n",
    "\n",
    "sys.path.append(\"../../src\")\n",
    "\n",
    "import oge.load_data as load_data\n",
    "import oge.data_cleaning as data_cleaning"
   ]
  },
  {
   "cell_type": "code",
   "execution_count": null,
   "metadata": {},
   "outputs": [],
   "source": [
    "year = 2021\n",
    "pudl_out = load_data.initialize_pudl_out(year=year)"
   ]
  },
  {
   "cell_type": "code",
   "execution_count": null,
   "metadata": {},
   "outputs": [],
   "source": [
    "# load the fuel content data and visualize the distribution by fuel\n",
    "fuel_heat_content = pudl_out.gf_eia923()[\n",
    "    [\"plant_id_eia\", \"report_date\", \"energy_source_code\", \"fuel_mmbtu_per_unit\"]\n",
    "]\n",
    "fuel_heat_content = fuel_heat_content.replace([np.inf, -np.inf], np.nan)\n",
    "fuel_heat_content = fuel_heat_content.dropna()\n",
    "px.box(\n",
    "    fuel_heat_content.sort_values(by=\"fuel_mmbtu_per_unit\"),\n",
    "    x=\"energy_source_code\",\n",
    "    y=\"fuel_mmbtu_per_unit\",\n",
    "    title=f\"Range of heat contents for each fuel reported in {year}\",\n",
    "    width=1000,\n",
    "    height=600,\n",
    ")"
   ]
  },
  {
   "cell_type": "code",
   "execution_count": null,
   "metadata": {},
   "outputs": [],
   "source": [
    "plants_with_oth = fuel_heat_content[\n",
    "    fuel_heat_content[\"energy_source_code\"] == \"OTH\"\n",
    "].copy()\n",
    "plants_with_oth = plants_with_oth.groupby(\"plant_id_eia\").mean()\n",
    "plants_with_oth"
   ]
  },
  {
   "cell_type": "code",
   "execution_count": null,
   "metadata": {},
   "outputs": [],
   "source": [
    "fuel_heat_content[fuel_heat_content[\"plant_id_eia\"] == 902]"
   ]
  },
  {
   "cell_type": "code",
   "execution_count": null,
   "metadata": {},
   "outputs": [],
   "source": [
    "# load EPA fuel type data\n",
    "epa_fuel_types = data_cleaning.get_epa_unit_fuel_types(year)\n",
    "epa_fuel_types[epa_fuel_types[\"energy_source_code\"] == \"OTH\"]"
   ]
  },
  {
   "cell_type": "code",
   "execution_count": null,
   "metadata": {},
   "outputs": [],
   "source": [
    "# Load EIA-860 to examine whether a plant is retired\n",
    "gens_860 = pudl_out.gens_eia860()\n",
    "gens_860[gens_860[\"plant_id_eia\"] == 60670]"
   ]
  }
 ],
 "metadata": {
  "kernelspec": {
   "display_name": "oge_update",
   "language": "python",
   "name": "python3"
  },
  "language_info": {
   "codemirror_mode": {
    "name": "ipython",
    "version": 3
   },
   "file_extension": ".py",
   "mimetype": "text/x-python",
   "name": "python",
   "nbconvert_exporter": "python",
   "pygments_lexer": "ipython3",
   "version": "3.11.2"
  },
  "orig_nbformat": 4,
  "vscode": {
   "interpreter": {
    "hash": "a6b598b31fc646bdc0acd5c2004810e407b47ff3b1550e1d461e8498c70ba381"
   }
  }
 },
 "nbformat": 4,
 "nbformat_minor": 2
}
