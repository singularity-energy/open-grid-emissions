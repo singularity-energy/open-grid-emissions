{
 "cells": [
  {
   "cell_type": "code",
   "execution_count": null,
   "metadata": {},
   "outputs": [],
   "source": [
    "%reload_ext autoreload\n",
    "%autoreload 2\n",
    "\n",
    "# Useful high-level external modules.\n",
    "import numpy as np\n",
    "import pandas as pd\n",
    "import plotly.express as px\n",
    "\n",
    "import sys\n",
    "\n",
    "sys.path.append(\"../../src\")\n",
    "\n",
    "import oge.load_data as load_data\n",
    "import oge.data_cleaning as data_cleaning\n",
    "import oge.filepaths as filepaths"
   ]
  },
  {
   "cell_type": "code",
   "execution_count": null,
   "metadata": {},
   "outputs": [],
   "source": [
    "year = 2022\n",
    "\n",
    "# load the fuel content data\n",
    "fuel_heat_content = load_data.load_pudl_table(\n",
    "    \"denorm_generation_fuel_combined_eia923\",\n",
    "    year,\n",
    "    columns=[\n",
    "        \"plant_id_eia\",\n",
    "        \"report_date\",\n",
    "        \"energy_source_code\",\n",
    "        \"fuel_mmbtu_per_unit\",\n",
    "        \"fuel_consumed_mmbtu\",\n",
    "    ],\n",
    ")\n",
    "fuel_heat_content = fuel_heat_content.replace([np.inf, -np.inf], np.nan)\n",
    "fuel_heat_content = fuel_heat_content.dropna()\n",
    "fuel_heat_content"
   ]
  },
  {
   "cell_type": "code",
   "execution_count": null,
   "metadata": {},
   "outputs": [],
   "source": [
    "# identify which plants have an \"OTH\" fuel type with non-zero fuel consumption\n",
    "plants_with_oth = fuel_heat_content[\n",
    "    fuel_heat_content[\"energy_source_code\"] == \"OTH\"\n",
    "].copy()\n",
    "plants_with_oth = (\n",
    "    plants_with_oth.groupby(\"plant_id_eia\")[\n",
    "        [\"fuel_mmbtu_per_unit\", \"fuel_consumed_mmbtu\"]\n",
    "    ]\n",
    "    .mean()\n",
    "    .reset_index()\n",
    ")\n",
    "plants_with_oth = plants_with_oth[plants_with_oth[\"fuel_consumed_mmbtu\"] != 0]\n",
    "plants_with_oth"
   ]
  },
  {
   "cell_type": "code",
   "execution_count": null,
   "metadata": {},
   "outputs": [],
   "source": [
    "# load the existing manual fuel map table and check which plants already have been manually matched\n",
    "# any plants with a missing `updated_energy_source_code` column need to be manually matched\n",
    "manual_table = pd.read_csv(\n",
    "    filepaths.reference_table_folder(\"updated_oth_energy_source_codes.csv\")\n",
    ")\n",
    "plants_with_oth = plants_with_oth.merge(\n",
    "    manual_table, how=\"left\", on=\"plant_id_eia\", validate=\"1:1\"\n",
    ")\n",
    "plants_with_oth"
   ]
  },
  {
   "cell_type": "code",
   "execution_count": null,
   "metadata": {},
   "outputs": [],
   "source": [
    "# visualize heat content by fuel\n",
    "# to manually match a fuel type, examine the average `fuel_mmbtu_per_unit` from\n",
    "# `plants_with_oth` and identify which heat content matches best\n",
    "px.box(\n",
    "    fuel_heat_content.sort_values(by=\"fuel_mmbtu_per_unit\"),\n",
    "    x=\"energy_source_code\",\n",
    "    y=\"fuel_mmbtu_per_unit\",\n",
    "    title=f\"Range of heat contents for each fuel reported in {year}\",\n",
    "    width=1000,\n",
    "    height=600,\n",
    ")"
   ]
  }
 ],
 "metadata": {
  "kernelspec": {
   "display_name": "oge_update",
   "language": "python",
   "name": "python3"
  },
  "language_info": {
   "codemirror_mode": {
    "name": "ipython",
    "version": 3
   },
   "file_extension": ".py",
   "mimetype": "text/x-python",
   "name": "python",
   "nbconvert_exporter": "python",
   "pygments_lexer": "ipython3",
   "version": "3.11.4"
  },
  "orig_nbformat": 4,
  "vscode": {
   "interpreter": {
    "hash": "a6b598b31fc646bdc0acd5c2004810e407b47ff3b1550e1d461e8498c70ba381"
   }
  }
 },
 "nbformat": 4,
 "nbformat_minor": 2
}
