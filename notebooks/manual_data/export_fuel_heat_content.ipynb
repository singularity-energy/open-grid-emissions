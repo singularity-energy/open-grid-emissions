{
 "cells": [
  {
   "cell_type": "code",
   "execution_count": 1,
   "metadata": {},
   "outputs": [],
   "source": [
    "# import packages\n",
    "import pandas as pd\n",
    "import plotly.express as px\n",
    "\n",
    "%reload_ext autoreload\n",
    "%autoreload 2\n",
    "\n",
    "# # Tell python where to look for modules.\n",
    "import sys\n",
    "sys.path.append('../../../open-grid-emissions/src/')\n",
    "\n",
    "import load_data\n",
    "from filepaths import *\n",
    "import emissions\n"
   ]
  },
  {
   "attachments": {},
   "cell_type": "markdown",
   "metadata": {},
   "source": [
    "## About\n",
    "This notebook calculates and exports the annual average fuel heat content for each energy source code"
   ]
  },
  {
   "cell_type": "code",
   "execution_count": 5,
   "metadata": {},
   "outputs": [],
   "source": [
    "years_to_export = [2019, 2020, 2021]\n",
    "\n",
    "fuel_heat_content = []\n",
    "for year in years_to_export:\n",
    "    pudl_out = load_data.initialize_pudl_out(year)\n",
    "\n",
    "    (\n",
    "        plant_specific_fuel_heat_content,\n",
    "        national_avg_fuel_heat_content,\n",
    "        annual_avg_fuel_heat_content,\n",
    "    ) = emissions.return_monthly_plant_fuel_heat_content(pudl_out)\n",
    "\n",
    "    annual_avg_fuel_heat_content[\"year\"] = year\n",
    "\n",
    "    fuel_heat_content.append(annual_avg_fuel_heat_content)\n",
    "\n",
    "fuel_heat_content = pd.concat(fuel_heat_content, axis=0)\n",
    "\n",
    "fuel_heat_content.to_csv(\n",
    "    outputs_folder(\"annual_average_fuel_heat_content.csv\"), index=False\n",
    ")\n"
   ]
  }
 ],
 "metadata": {
  "kernelspec": {
   "display_name": "Python 3.10.4 ('open_grid_emissions')",
   "language": "python",
   "name": "python3"
  },
  "language_info": {
   "codemirror_mode": {
    "name": "ipython",
    "version": 3
   },
   "file_extension": ".py",
   "mimetype": "text/x-python",
   "name": "python",
   "nbconvert_exporter": "python",
   "pygments_lexer": "ipython3",
   "version": "3.10.8"
  },
  "orig_nbformat": 4,
  "vscode": {
   "interpreter": {
    "hash": "25e36f192ecdbe5da57d9bea009812e7b11ef0e0053366a845a2802aae1b29d2"
   }
  }
 },
 "nbformat": 4,
 "nbformat_minor": 2
}
