{
 "cells": [
  {
   "cell_type": "code",
   "execution_count": null,
   "metadata": {},
   "outputs": [],
   "source": [
    "import plotly.express as px\n",
    "import plotly.io as pio\n",
    "import pandas as pd\n",
    "\n",
    "%reload_ext autoreload\n",
    "%autoreload 2\n",
    "\n",
    "# # Tell python where to look for modules.\n",
    "import sys\n",
    "\n",
    "sys.path.append(\"../../../open-grid-emissions/src/\")\n",
    "\n",
    "from filepaths import *\n",
    "import validation\n",
    "import visualization"
   ]
  },
  {
   "cell_type": "markdown",
   "metadata": {},
   "source": [
    "# Visualize data for a single BA"
   ]
  },
  {
   "cell_type": "code",
   "execution_count": null,
   "metadata": {},
   "outputs": [],
   "source": [
    "ba = \"CISO\"\n",
    "year = 2020\n",
    "show_egrid = False\n",
    "pollutant = \"co2\"\n",
    "rate_type = \"for_electricity\"\n",
    "\n",
    "data_to_graph = visualization.load_ba_ef_data_to_graph(\n",
    "    ba, year, pollutant, rate_type, show_egrid\n",
    ")\n",
    "data_to_graph"
   ]
  },
  {
   "cell_type": "code",
   "execution_count": null,
   "metadata": {},
   "outputs": [],
   "source": [
    "# show all data\n",
    "if show_egrid:\n",
    "    columns_to_use = [\n",
    "        \"hourly_produced\",\n",
    "        \"hourly_consumed\",\n",
    "        \"monthly_consumed\",\n",
    "        \"egrid_value\",\n",
    "        \"annual_produced\",\n",
    "        \"annual_consumed\",\n",
    "    ]\n",
    "else:\n",
    "    columns_to_use = [\n",
    "        \"hourly_produced\",\n",
    "        \"hourly_consumed\",\n",
    "        \"monthly_consumed\",\n",
    "        \"annual_produced\",\n",
    "        \"annual_consumed\",\n",
    "    ]\n",
    "\n",
    "px.line(\n",
    "    data_to_graph,\n",
    "    x=data_to_graph.index,\n",
    "    y=columns_to_use,\n",
    "    labels={\"value\": \"lbCO2e/MWh\"},\n",
    "    template=\"plotly_white\",\n",
    "    title=ba,\n",
    ")"
   ]
  },
  {
   "cell_type": "code",
   "execution_count": null,
   "metadata": {},
   "outputs": [],
   "source": [
    "# plot data that compares annual to hourly\n",
    "fig = (\n",
    "    px.line(\n",
    "        data_to_graph.rename(\n",
    "            columns={\n",
    "                \"hourly_consumed\": \"Hourly Average\",\n",
    "                \"annual_consumed\": \"Annual Average\",\n",
    "            }\n",
    "        ),\n",
    "        x=data_to_graph.index,\n",
    "        y=[\"Hourly Average\", \"Annual Average\"],\n",
    "        labels={\n",
    "            \"value\": f\"lb {pollutant.upper()} per MWh\",\n",
    "            \"x\": \"Datetime\",\n",
    "            \"variable\": \"Emission Factor\",\n",
    "        },\n",
    "        template=\"ggplot2\",\n",
    "        width=1300,\n",
    "        height=500,\n",
    "        color_discrete_sequence=[\"#636EFA\", \"#EF553B\"],\n",
    "        title=\"Hourly compared to an annual CO2 emission factors for the Caifornia ISO\",\n",
    "    )\n",
    "    .update_yaxes(rangemode=\"tozero\", dtick=100)\n",
    "    .update_layout(\n",
    "        legend=dict(orientation=\"h\", yanchor=\"top\", y=1.1, xanchor=\"center\", x=0.5),\n",
    "        font=dict(size=15),\n",
    "        title=dict(font=dict(size=20)),\n",
    "    )\n",
    ")\n",
    "\n",
    "\n",
    "fig.show()"
   ]
  },
  {
   "cell_type": "code",
   "execution_count": 13,
   "metadata": {},
   "outputs": [],
   "source": [
    "pio.write_image(fig, \"outputs/fig1.png\", width=1300, height=500)"
   ]
  },
  {
   "cell_type": "markdown",
   "metadata": {},
   "source": [
    "## Plot data by fuel category"
   ]
  },
  {
   "cell_type": "code",
   "execution_count": null,
   "metadata": {},
   "outputs": [],
   "source": [
    "ba = \"CISO\"\n",
    "year = 2020\n",
    "\n",
    "power_sector_data = pd.read_csv(\n",
    "    results_folder(f\"{year}/power_sector_data/hourly/us_units/{ba}.csv\")\n",
    ")"
   ]
  },
  {
   "cell_type": "code",
   "execution_count": null,
   "metadata": {},
   "outputs": [],
   "source": [
    "visualization.graph_hourly_data_by_fuel_category(\n",
    "    hourly_data=power_sector_data,\n",
    "    ba=ba,\n",
    "    column_name=\"net_generation_mwh\",\n",
    "    fuel_category_name=\"fuel_category\",\n",
    "    plot_type=\"area\",\n",
    ")"
   ]
  },
  {
   "cell_type": "code",
   "execution_count": null,
   "metadata": {},
   "outputs": [],
   "source": [
    "visualization.graph_hourly_data_by_fuel_category(\n",
    "    hourly_data=power_sector_data,\n",
    "    ba=ba,\n",
    "    column_name=\"co2_mass_lb\",\n",
    "    fuel_category_name=\"fuel_category\",\n",
    "    plot_type=\"area\",\n",
    ")"
   ]
  }
 ],
 "metadata": {
  "kernelspec": {
   "display_name": "Python 3.10.4 ('open_grid_emissions')",
   "language": "python",
   "name": "python3"
  },
  "language_info": {
   "codemirror_mode": {
    "name": "ipython",
    "version": 3
   },
   "file_extension": ".py",
   "mimetype": "text/x-python",
   "name": "python",
   "nbconvert_exporter": "python",
   "pygments_lexer": "ipython3",
   "version": "3.10.4"
  },
  "orig_nbformat": 4,
  "vscode": {
   "interpreter": {
    "hash": "25e36f192ecdbe5da57d9bea009812e7b11ef0e0053366a845a2802aae1b29d2"
   }
  }
 },
 "nbformat": 4,
 "nbformat_minor": 2
}
