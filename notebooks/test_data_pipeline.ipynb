{
 "cells": [
  {
   "cell_type": "markdown",
   "metadata": {},
   "source": [
    "# About this notebook\n",
    "\n",
    "This notebook is for test running the data pipeline and  as a sandbox for testing new functions that we are adding to data pipeline."
   ]
  },
  {
   "cell_type": "code",
   "execution_count": null,
   "metadata": {},
   "outputs": [],
   "source": [
    "# import packages\n",
    "import numpy as np\n",
    "import pandas as pd\n",
    "import argparse\n",
    "import os\n",
    "\n",
    "%reload_ext autoreload\n",
    "%autoreload 2\n",
    "\n",
    "# # Tell python where to look for modules.\n",
    "import sys\n",
    "\n",
    "sys.path.append(\"../../hourly-egrid/\")\n",
    "\n",
    "# import local modules\n",
    "import src.data_cleaning as data_cleaning\n",
    "import src.gross_to_net_generation as gross_to_net_generation\n",
    "import src.load_data as load_data\n",
    "import src.impute_hourly_profiles as impute_hourly_profiles\n",
    "import src.eia930 as eia930\n",
    "import src.output_data as output_data\n",
    "\n",
    "from src.column_checks import get_dtypes, apply_dtypes"
   ]
  },
  {
   "cell_type": "markdown",
   "metadata": {},
   "source": [
    "# TODO: Add output metrics back in"
   ]
  },
  {
   "cell_type": "code",
   "execution_count": null,
   "metadata": {},
   "outputs": [],
   "source": [
    "# output data quality metrics\n",
    "output_data.output_to_results(\n",
    "    validation.co2_source_metric(cems, partial_cems_scaled, monthly_eia_data_to_shape),\n",
    "    \"co2_measurement_source\",\n",
    "    \"validation_metrics/\",\n",
    "    path_prefix,\n",
    ")\n",
    "output_data.output_to_results(\n",
    "    validation.net_generation_method_metric(\n",
    "        cems, partial_cems_scaled, monthly_eia_data_to_shape\n",
    "    ),\n",
    "    \"net_generation_method\",\n",
    "    \"validation_metrics/\",\n",
    "    path_prefix,\n",
    ")\n",
    "\n",
    "output_data.output_to_results(\n",
    "    validation.hourly_profile_source_metric(\n",
    "        cems, partial_cems_scaled, monthly_eia_data_to_shape\n",
    "    ),\n",
    "    \"hourly_profile_method\",\n",
    "    \"validation_metrics/\",\n",
    "    path_prefix,\n",
    ")"
   ]
  },
  {
   "cell_type": "markdown",
   "metadata": {},
   "source": [
    "# Test Memory Use after data cleaning steps"
   ]
  },
  {
   "cell_type": "markdown",
   "metadata": {},
   "source": [
    "### Load data\n",
    "- Baseline: 8.1 GB\n",
    "- End: 14.3\n",
    "- Peak: 30.6 GB\n",
    "- Net: + 6.2 GB"
   ]
  },
  {
   "cell_type": "code",
   "execution_count": null,
   "metadata": {},
   "outputs": [],
   "source": [
    "# load data from csv\n",
    "year = 2020\n",
    "path_prefix = 'small/'\n",
    "cems = pd.read_csv(f'../data/outputs/{path_prefix}cems_{year}.csv', dtype=get_dtypes(), parse_dates=['datetime_utc', 'report_date'])\n",
    "partial_cems_scaled = pd.read_csv(f'../data/outputs/{path_prefix}partial_cems_scaled_{year}.csv', dtype=get_dtypes(), parse_dates=['datetime_utc', 'report_date'])\n",
    "eia923_allocated = pd.read_csv(f'../data/outputs/{path_prefix}eia923_allocated_{year}.csv', dtype=get_dtypes(), parse_dates=['report_date'])\n",
    "plant_attributes = pd.read_csv(f\"../data/outputs/{path_prefix}plant_static_attributes_{year}.csv\")\n",
    "primary_fuel_table = plant_attributes.drop_duplicates(subset=\"plant_id_eia\")[[\"plant_id_eia\", \"plant_primary_fuel\"]]"
   ]
  },
  {
   "cell_type": "markdown",
   "metadata": {},
   "source": [
    "### Assign static\n",
    "- Baseline: 14.4 GB\n",
    "- End: 16\n",
    "- Peak: 28.6\n",
    "- Net: + 1.6 GB"
   ]
  },
  {
   "cell_type": "code",
   "execution_count": null,
   "metadata": {},
   "outputs": [],
   "source": [
    "# 8. Assign static characteristics to CEMS and EIA data to aid in aggregation\n",
    "eia923_allocated = data_cleaning.add_plant_static_attributes(eia923_allocated, year, primary_fuel_table)\n",
    "cems = data_cleaning.add_plant_static_attributes(cems, year, primary_fuel_table)\n",
    "eia923_allocated = eia923_allocated.drop(columns='distribution_flag')\n"
   ]
  },
  {
   "cell_type": "markdown",
   "metadata": {},
   "source": [
    "### Split data\n",
    "- Baseline: 16.1 GB\n",
    "- End: 15.3 GB\n",
    "- Peak: 39.7 GB\n",
    "- Net: - 0.8 GB"
   ]
  },
  {
   "cell_type": "code",
   "execution_count": null,
   "metadata": {},
   "outputs": [],
   "source": [
    "# 8b. split all data into three non-overlapping dataframes \n",
    "# drop data from cems that is now in partial_cems\n",
    "cems = data_cleaning.filter_unique_cems_data(cems, partial_cems_scaled)\n",
    "\n",
    "# create a separate dataframe containing only the generators for which we do not have CEMS data\n",
    "monthly_eia_data_to_shape = eia923_allocated[\n",
    "    (eia923_allocated[\"hourly_data_source\"] == \"eia\")\n",
    "    & ~(eia923_allocated[\"fuel_consumed_mmbtu\"].isna())\n",
    "]\n",
    "del eia923_allocated"
   ]
  },
  {
   "cell_type": "markdown",
   "metadata": {},
   "source": [
    "### Residuals\n",
    "- Baseline: 15.3 GB\n",
    "- End: 35.5 GB\n",
    "- Peak: 16.8 GB\n",
    "- Net: + 1.5 GB"
   ]
  },
  {
   "cell_type": "code",
   "execution_count": null,
   "metadata": {},
   "outputs": [],
   "source": [
    "# 9. Clean and Reconcile EIA-930 data\n",
    "print(\"Cleaning EIA-930 data\")\n",
    "# TODO\n",
    "# Load raw EIA-930 data, fix timestamp issues, perform physics-based reconciliation\n",
    "# Currently implemented in `notebooks/930_lag` and the `gridemissions` repository\n",
    "# Output: `data/outputs/EBA_adjusted_elec.csv`\n",
    "eia930_dat = eia930.load_chalendar_for_pipeline(\n",
    "    \"../data/downloads/eia930/chalendar/EBA_adjusted_elec.csv\", year=year\n",
    ")  # For now, load data in form it will eventually be in\n",
    "\n",
    "# 10. Calculate Residual Net Generation Profile\n",
    "print(\"Calculating residual net generation profiles from EIA-930\")\n",
    "residual_profiles = impute_hourly_profiles.calculate_residual(\n",
    "    cems, eia930_dat, plant_frame, year\n",
    ")\n",
    "del eia930_dat"
   ]
  },
  {
   "cell_type": "code",
   "execution_count": null,
   "metadata": {},
   "outputs": [],
   "source": [
    "cems = cems.drop(columns=['ba_code', 'ba_code_physical', 'state', 'distribution_flag', 'plant_primary_fuel', 'fuel_category', 'fuel_category_eia930'])"
   ]
  },
  {
   "cell_type": "markdown",
   "metadata": {},
   "source": [
    "### Calculate hourly profiles\n",
    "- Baseline: 16.9 GB\n",
    "- End: 16.6 GB\n",
    "- Peak: 17 GB\n",
    "- Net: -0.3 GB"
   ]
  },
  {
   "cell_type": "code",
   "execution_count": null,
   "metadata": {},
   "outputs": [],
   "source": [
    "# 11. Assign hourly profile to monthly data\n",
    "print(\"Assigning hourly profile to monthly EIA-923 data\")\n",
    "# load profile data and format for use in the pipeline\n",
    "# TODO: once this is in the pipeline (step 10), may not need to read file\n",
    "hourly_profiles = impute_hourly_profiles.impute_missing_hourly_profiles(\n",
    "    monthly_eia_data_to_shape, residual_profiles, year\n",
    ")\n",
    "del residual_profiles\n",
    "hourly_profiles = impute_hourly_profiles.convert_profile_to_percent(hourly_profiles)"
   ]
  },
  {
   "cell_type": "markdown",
   "metadata": {},
   "source": [
    "### Shape EIA data\n",
    "- Baseline: 16.8 GB\n",
    "- End: 32.5 GB\n",
    "- Peak: 56.7 GB\n",
    "- Net: + 15.7 GB"
   ]
  },
  {
   "cell_type": "code",
   "execution_count": null,
   "metadata": {},
   "outputs": [],
   "source": [
    "# TODO: shaped_eia_data is HUGE, consider moving to dask.dataframe\n",
    "shaped_eia_data = impute_hourly_profiles.shape_monthly_eia_data_as_hourly(\n",
    "    monthly_eia_data_to_shape, hourly_profiles\n",
    ")\n",
    "del monthly_eia_data_to_shape, hourly_profiles"
   ]
  },
  {
   "cell_type": "markdown",
   "metadata": {},
   "source": [
    "### Combine data\n",
    "- Baseline: 29.7 GB\n",
    "- End: \n",
    "- Peak: "
   ]
  },
  {
   "cell_type": "code",
   "execution_count": null,
   "metadata": {},
   "outputs": [],
   "source": [
    "# 12. Combine plant-level data from all sources\n",
    "# write metadata and remove metadata columns\n",
    "cems, partial_cems_scaled, shaped_eia_data = output_data.write_plant_metadata(cems, partial_cems_scaled, shaped_eia_data, path_prefix)"
   ]
  },
  {
   "cell_type": "code",
   "execution_count": null,
   "metadata": {},
   "outputs": [],
   "source": [
    "combined_plant_data = data_cleaning.combine_plant_data(\n",
    "    cems, partial_cems_scaled, shaped_eia_data\n",
    ")\n",
    "del shaped_eia_data, cems, partial_cems_scaled  # free memory back to python\n"
   ]
  },
  {
   "cell_type": "markdown",
   "metadata": {},
   "source": [
    "# Run the pipeline"
   ]
  },
  {
   "cell_type": "code",
   "execution_count": null,
   "metadata": {},
   "outputs": [],
   "source": [
    "%cd ../src\n",
    "%run data_pipeline --year 2020"
   ]
  },
  {
   "cell_type": "code",
   "execution_count": null,
   "metadata": {},
   "outputs": [],
   "source": [
    "%cd ../src\n",
    "%run data_pipeline --small SMALL --year 2020"
   ]
  },
  {
   "cell_type": "markdown",
   "metadata": {},
   "source": [
    "# Investigate missing data"
   ]
  },
  {
   "cell_type": "code",
   "execution_count": null,
   "metadata": {},
   "outputs": [],
   "source": [
    "year = 2020\n",
    "path_prefix = ''\n",
    "eia923_allocated = pd.read_csv(f'../data/outputs/{path_prefix}eia923_allocated_{year}.csv', parse_dates=['report_date'])\n",
    "plant_frame = pd.read_csv(f\"../data/outputs/{path_prefix}plant_static_attributes_{year}.csv\")\n",
    "residual_profiles = pd.read_csv(f\"../data/outputs/{path_prefix}residual_profiles_{year}.csv\")\n",
    "eia923_allocated = eia923_allocated.merge(plant_frame, how='left', on='plant_id_eia')"
   ]
  },
  {
   "cell_type": "code",
   "execution_count": null,
   "metadata": {},
   "outputs": [],
   "source": [
    "# 11. Assign hourly profile to monthly data\n",
    "print(\"Assigning hourly profile to monthly EIA-923 data\")\n",
    "# create a separate dataframe containing only the generators for which we do not have CEMS data\n",
    "monthly_eia_data_to_shape = eia923_allocated[\n",
    "    (eia923_allocated[\"hourly_data_source\"] == \"eia\")\n",
    "    & ~(eia923_allocated[\"fuel_consumed_mmbtu\"].isna())\n",
    "]"
   ]
  },
  {
   "cell_type": "code",
   "execution_count": null,
   "metadata": {},
   "outputs": [],
   "source": [
    "monthly_data_to_shape[monthly_data_to_shape['energy_source_code'] == 'SUN']"
   ]
  },
  {
   "cell_type": "code",
   "execution_count": null,
   "metadata": {},
   "outputs": [],
   "source": [
    "hourly_profiles = impute_hourly_profiles.impute_missing_hourly_profiles(\n",
    "    monthly_eia_data_to_shape, residual_profiles, year\n",
    ")"
   ]
  },
  {
   "cell_type": "code",
   "execution_count": null,
   "metadata": {},
   "outputs": [],
   "source": [
    "hourly_profiles['report_date'] = pd.to_datetime(hourly_profiles['report_date'])"
   ]
  },
  {
   "cell_type": "code",
   "execution_count": null,
   "metadata": {},
   "outputs": [],
   "source": [
    "hourly_profiles[(hourly_profiles['fuel_category'] == 'solar') & (hourly_profiles['ba_code'] == 'ISNE')]"
   ]
  },
  {
   "cell_type": "code",
   "execution_count": null,
   "metadata": {},
   "outputs": [],
   "source": [
    "px.line(hourly_profiles[hourly_profiles['fuel_category'] == 'solar'], x='datetime_local', y='profile', color='ba_code')"
   ]
  },
  {
   "cell_type": "code",
   "execution_count": null,
   "metadata": {},
   "outputs": [],
   "source": [
    "hourly_profiles = impute_hourly_profiles.convert_profile_to_percent(hourly_profiles)"
   ]
  },
  {
   "cell_type": "code",
   "execution_count": null,
   "metadata": {},
   "outputs": [],
   "source": [
    "px.line(hourly_profiles[hourly_profiles['fuel_category'] == 'solar'], x='datetime_local', y='profile', color='ba_code')"
   ]
  },
  {
   "cell_type": "code",
   "execution_count": null,
   "metadata": {},
   "outputs": [],
   "source": [
    "\n",
    "shaped_eia_data = impute_hourly_profiles.shape_monthly_eia_data_as_hourly(\n",
    "    monthly_eia_data_to_shape, hourly_profiles\n",
    ")"
   ]
  },
  {
   "cell_type": "code",
   "execution_count": null,
   "metadata": {},
   "outputs": [],
   "source": [
    "# specify columns containing monthly data that should be distributed to hourly\n",
    "columns_to_shape = [\n",
    "    \"net_generation_mwh\",\n",
    "    \"fuel_consumed_mmbtu\",\n",
    "    \"fuel_consumed_for_electricity_mmbtu\",\n",
    "    \"co2_mass_lb\",\n",
    "    \"ch4_mass_lb\",\n",
    "    \"n2o_mass_lb\",\n",
    "    \"nox_mass_lb\",\n",
    "    \"so2_mass_lb\",\n",
    "    \"co2_mass_lb_for_electricity\",\n",
    "    \"ch4_mass_lb_for_electricity\",\n",
    "    \"n2o_mass_lb_for_electricity\",\n",
    "    \"nox_mass_lb_for_electricity\",\n",
    "    \"so2_mass_lb_for_electricity\",\n",
    "    \"co2_mass_lb_adjusted\",\n",
    "    \"ch4_mass_lb_adjusted\",\n",
    "    \"n2o_mass_lb_adjusted\",\n",
    "    \"nox_mass_lb_adjusted\",\n",
    "    \"so2_mass_lb_adjusted\",\n",
    "]\n",
    "\n",
    "# group eia data by plant\n",
    "shaped_monthly_data = (\n",
    "    monthly_eia_data_to_shape.groupby(\n",
    "        [\n",
    "            \"plant_id_eia\",\n",
    "            \"subplant_id\",\n",
    "            \"report_date\",\n",
    "            \"plant_primary_fuel\",\n",
    "            \"hourly_data_source\",\n",
    "            \"fuel_category\",\n",
    "            \"fuel_category_eia930\",\n",
    "            \"ba_code\",\n",
    "            \"ba_code_physical\",\n",
    "            \"state\",\n",
    "            \"distribution_flag\",\n",
    "        ],dropna=False)\n",
    "    .sum()\n",
    "    .reset_index()\n",
    ")"
   ]
  },
  {
   "cell_type": "code",
   "execution_count": null,
   "metadata": {},
   "outputs": [],
   "source": [
    "monthly_eia_data_to_shape.plant_primary_fuel.unique()"
   ]
  },
  {
   "cell_type": "code",
   "execution_count": null,
   "metadata": {},
   "outputs": [],
   "source": [
    "shaped_monthly_data.plant_primary_fuel.unique()"
   ]
  },
  {
   "cell_type": "code",
   "execution_count": null,
   "metadata": {},
   "outputs": [],
   "source": [
    "\n",
    "\n",
    "# merge the hourly profiles into each plant-month\n",
    "shaped_monthly_data = shaped_monthly_data.merge(\n",
    "    hourly_profiles, how=\"left\", on=[\"report_date\", \"fuel_category\", \"ba_code\"]\n",
    ")\n",
    "\n",
    "# plant-months where there is negative net generation, assign a flat profile\n",
    "shaped_monthly_data.loc[\n",
    "    shaped_monthly_data[\"net_generation_mwh\"] < 0, \"profile\"\n",
    "] = 1 / (shaped_monthly_data[\"report_date\"].dt.daysinmonth * 24)\n",
    "shaped_monthly_data.loc[\n",
    "    shaped_monthly_data[\"net_generation_mwh\"] < 0, \"profile_method\"\n",
    "] = \"flat_negative_generation\"\n",
    "\n",
    "# shape the data\n",
    "for column in columns_to_shape:\n",
    "    shaped_monthly_data[column] = (\n",
    "        shaped_monthly_data[column] * shaped_monthly_data[\"profile\"]\n",
    "    )\n",
    "shaped_monthly_data = shaped_monthly_data.drop(columns=[\"profile\"])\n",
    "\n",
    "# re order the columns\n",
    "column_order = [\n",
    "    \"plant_id_eia\",\n",
    "    \"subplant_id\",\n",
    "    \"datetime_local\",\n",
    "    \"datetime_utc\",\n",
    "    \"report_date\",\n",
    "    \"net_generation_mwh\",\n",
    "    \"fuel_consumed_mmbtu\",\n",
    "    \"fuel_consumed_for_electricity_mmbtu\",\n",
    "    \"co2_mass_lb\",\n",
    "    \"ch4_mass_lb\",\n",
    "    \"n2o_mass_lb\",\n",
    "    \"nox_mass_lb\",\n",
    "    \"so2_mass_lb\",\n",
    "    \"co2_mass_lb_for_electricity\",\n",
    "    \"ch4_mass_lb_for_electricity\",\n",
    "    \"n2o_mass_lb_for_electricity\",\n",
    "    \"nox_mass_lb_for_electricity\",\n",
    "    \"so2_mass_lb_for_electricity\",\n",
    "    \"co2_mass_lb_adjusted\",\n",
    "    \"ch4_mass_lb_adjusted\",\n",
    "    \"n2o_mass_lb_adjusted\",\n",
    "    \"nox_mass_lb_adjusted\",\n",
    "    \"so2_mass_lb_adjusted\",\n",
    "    \"profile_method\",\n",
    "    \"hourly_data_source\",\n",
    "]\n",
    "shaped_monthly_data = shaped_monthly_data[column_order]"
   ]
  },
  {
   "cell_type": "code",
   "execution_count": null,
   "metadata": {},
   "outputs": [],
   "source": [
    "shaped_eia_data[(shaped_eia_data['fuel_category'] == 'solar')]"
   ]
  },
  {
   "cell_type": "markdown",
   "metadata": {},
   "source": [
    "# Combine all plant data together"
   ]
  },
  {
   "cell_type": "code",
   "execution_count": null,
   "metadata": {},
   "outputs": [],
   "source": [
    "# load data from csv\n",
    "year = 2020\n",
    "path_prefix = ''\n",
    "cems = pd.read_csv(f'../data/outputs/{path_prefix}cems_{year}.csv')\n",
    "partial_cems = pd.read_csv(f'../data/outputs/{path_prefix}partial_cems_scaled_{year}.csv')\n",
    "shaped_eia_data = pd.read_csv(f'../data/outputs/{path_prefix}shaped_eia923_data{year}.csv')\n",
    "plant_frame = pd.read_csv(f\"../data/outputs/{path_prefix}plant_static_attributes.csv\")\n"
   ]
  },
  {
   "cell_type": "code",
   "execution_count": null,
   "metadata": {},
   "outputs": [],
   "source": [
    "# check that none of the sources have overlapping subplant-months\n",
    "columns_to_check_for_duplicates = ['plant_id_eia','subplant_id','report_date']\n",
    "cems_subplant_months = cems[columns_to_check_for_duplicates].drop_duplicates()\n",
    "cems_subplant_months['cems'] = 1\n",
    "partial_cems_subplant_months = partial_cems[columns_to_check_for_duplicates].drop_duplicates()\n",
    "partial_cems_subplant_months['partial_cems'] = 1\n",
    "shaped_eia_subplant_months = shaped_eia_data[columns_to_check_for_duplicates].drop_duplicates()\n",
    "shaped_eia_subplant_months['shaped_eia'] = 1\n",
    "\n",
    "data_source_overlap = cems_subplant_months.merge(partial_cems_subplant_months, how='outer',on=columns_to_check_for_duplicates).merge(shaped_eia_subplant_months, how='outer',on=columns_to_check_for_duplicates).fillna(0)\n",
    "data_source_overlap\n",
    "\n",
    "# check that there is no overlap between shaped eia and cems data\n",
    "data_source_overlap[(data_source_overlap.shaped_eia == 1) & ((data_source_overlap.cems == 1) | (data_source_overlap.partial_cems == 1))]\n",
    "\n",
    "# check for overlap between cems and partial cems data\n",
    "data_source_overlap[(data_source_overlap.cems == 1) & (data_source_overlap.partial_cems == 1)]"
   ]
  },
  {
   "cell_type": "code",
   "execution_count": null,
   "metadata": {},
   "outputs": [],
   "source": [
    "cems = data_cleaning.filter_unique_cems_data(cems, partial_cems)"
   ]
  },
  {
   "cell_type": "code",
   "execution_count": null,
   "metadata": {},
   "outputs": [],
   "source": [
    "combined_plant_data = data_cleaning.combine_subplant_data(cems, partial_cems, shaped_eia_data)\n",
    "combined_plant_data"
   ]
  },
  {
   "cell_type": "code",
   "execution_count": null,
   "metadata": {},
   "outputs": [],
   "source": [
    "ba_tz = load_data.load_ba_reference()[[\"ba_code\", \"timezone_local\"]]\n"
   ]
  },
  {
   "cell_type": "code",
   "execution_count": null,
   "metadata": {},
   "outputs": [],
   "source": [
    "ba_table.columns"
   ]
  },
  {
   "cell_type": "code",
   "execution_count": null,
   "metadata": {},
   "outputs": [],
   "source": [
    "ba_tz = load_data.load_ba_reference()[[\"ba_code\", \"timezone_local\"]]\n",
    "generated_emission_rate_columns = [\n",
    "    \"generated_co2_rate_lb_per_mwh_for_electricity\",\n",
    "    \"generated_ch4_rate_lb_per_mwh_for_electricity\",\n",
    "    \"generated_n2o_rate_lb_per_mwh_for_electricity\",\n",
    "    \"generated_nox_rate_lb_per_mwh_for_electricity\",\n",
    "    \"generated_so2_rate_lb_per_mwh_for_electricity\",\n",
    "    \"generated_co2_rate_lb_per_mwh_adjusted\",\n",
    "    \"generated_ch4_rate_lb_per_mwh_adjusted\",\n",
    "    \"generated_n2o_rate_lb_per_mwh_adjusted\",\n",
    "    \"generated_nox_rate_lb_per_mwh_adjusted\",\n",
    "    \"generated_so2_rate_lb_per_mwh_adjusted\",\n",
    "]\n",
    "\n",
    "for ba in list(ba_fuel_data.ba_code.unique()):\n",
    "\n",
    "    # filter the data for a single BA\n",
    "    ba_table = ba_fuel_data[ba_fuel_data[\"ba_code\"] == ba].drop(columns=\"ba_code\")\n",
    "\n",
    "    # convert the datetime_utc column back to a datetime\n",
    "    ba_table[\"datetime_utc\"] = pd.to_datetime(ba_table[\"datetime_utc\"], utc=True)\n",
    "\n",
    "    # calculate a total for the BA\n",
    "    ba_total = ba_table.groupby([\"datetime_utc\"]).sum()[data_columns].reset_index()\n",
    "    ba_total[\"fuel_category\"] = \"total\"\n",
    "\n",
    "    # concat the totals to the fuel-specific totals\n",
    "    ba_table = pd.concat([ba_table, ba_total], axis=0, ignore_index=True)\n",
    "\n",
    "    # round all values to one decimal place\n",
    "    ba_table = ba_table.round(2)\n",
    "\n",
    "    for emission_type in [\"_for_electricity\", \"_adjusted\"]:\n",
    "        for emission in [\"co2\", \"ch4\", \"n2o\", \"nox\", \"so2\"]:\n",
    "            ba_table[f\"generated_{emission}_rate_lb_per_mwh{emission_type}\"] = (\n",
    "                (\n",
    "                    ba_table[f\"{emission}_mass_lb{emission_type}\"]\n",
    "                    / ba_table[\"net_generation_mwh\"]\n",
    "                )\n",
    "                .fillna(0)\n",
    "                .replace(np.inf, np.NaN)\n",
    "                .replace(-np.inf, np.NaN)\n",
    "            )\n",
    "\n",
    "    # create a local datetime column\n",
    "    local_tz = ba_tz.loc[ba_tz[\"ba_code\"] == ba, \"timezone_local\"].item()\n",
    "    ba_table[\"datetime_local\"] = ba_table[\"datetime_utc\"].dt.tz_convert(local_tz)\n",
    "\n",
    "    # re-order columns\n",
    "    ba_table = ba_table[['fuel_category','datetime_local','datetime_utc'] + data_columns + generated_emission_rate_columns]\n",
    "\n",
    "    # export to a csv\n",
    "    ba_table.to_csv(\n",
    "        f\"../data/results/{path_prefix}power_sector_data/{ba}.csv\", index=False\n",
    "    )\n",
    "\n"
   ]
  },
  {
   "cell_type": "code",
   "execution_count": null,
   "metadata": {},
   "outputs": [],
   "source": [
    "for ba in list(ba_fuel_data.ba_code.unique()):\n",
    "\n",
    "    # filter the data for a single BA\n",
    "    ba_table = ba_fuel_data[ba_fuel_data[\"ba_code\"] == ba].drop(columns=\"ba_code\")\n",
    "\n",
    "    # convert the datetime_utc column back to a datetime\n",
    "    ba_table[\"datetime_utc\"] = pd.to_datetime(ba_table[\"datetime_utc\"], utc=True)\n",
    "\n",
    "    # calculate a total for the BA\n",
    "    ba_total = (\n",
    "        ba_table.groupby([\"datetime_utc\"])\n",
    "        .sum()[data_columns]\n",
    "        .reset_index()\n",
    "    )\n",
    "    ba_total[\"fuel_category\"] = \"total\"\n",
    "\n",
    "    # concat the totals to the fuel-specific totals\n",
    "    ba_table = pd.concat([ba_table, ba_total], axis=0, ignore_index=True)\n",
    "\n",
    "    # round all values to one decimal place\n",
    "    ba_table = ba_table.round(1)\n",
    "\n",
    "    for emission_type in ['_for_electricity','_adjusted']:\n",
    "        for emission in ['co2','ch4','n2o','nox','so2']:\n",
    "            ba_table[f\"generated_{emission}_rate_lb_per_mwh{emission_type}\"] = (\n",
    "                    (ba_table[f\"{emission}_mass_lb{emission_type}\"] / ba_table[\"net_generation_mwh\"])\n",
    "                    .fillna(0)\n",
    "                    .replace(np.inf, np.NaN).replace(-np.inf, np.NaN)\n",
    "                )\n",
    "\n",
    "    # export to a csv\n",
    "    ba_table.to_csv(f\"../data/results/{path_prefix}power_sector_data/{ba}.csv\")"
   ]
  },
  {
   "cell_type": "markdown",
   "metadata": {},
   "source": [
    "# Test new functions"
   ]
  },
  {
   "cell_type": "code",
   "execution_count": null,
   "metadata": {},
   "outputs": [],
   "source": [
    "year = 2020\n",
    "path_prefix = ''\n",
    "cems = pd.read_csv(f'../data/outputs/{path_prefix}cems_{year}.csv', parse_dates=['operating_datetime_utc','report_date'])\n",
    "eia923_allocated = pd.read_csv(f'../data/outputs/{path_prefix}eia923_allocated_{year}.csv', parse_dates=['report_date'])"
   ]
  },
  {
   "cell_type": "code",
   "execution_count": null,
   "metadata": {},
   "outputs": [],
   "source": [
    "cems.energy_source_code.unique()"
   ]
  },
  {
   "cell_type": "code",
   "execution_count": null,
   "metadata": {},
   "outputs": [],
   "source": [
    "cems[cems['energy_source_code'] == 'MSW']"
   ]
  },
  {
   "cell_type": "code",
   "execution_count": null,
   "metadata": {},
   "outputs": [],
   "source": [
    "\n",
    "px.line(cems[cems['energy_source_code'] == 'BLQ'], x='operating_datetime_utc', y='fuel_consumed_mmbtu', color='cems_id')"
   ]
  },
  {
   "cell_type": "code",
   "execution_count": null,
   "metadata": {},
   "outputs": [],
   "source": [
    "plant_frame = pd.read_csv(f\"../data/outputs/{path_prefix}plant_static_attributes.csv\")\n",
    "eia923_allocated = eia923_allocated.merge(plant_frame, how='left', on='plant_id_eia')"
   ]
  },
  {
   "cell_type": "code",
   "execution_count": null,
   "metadata": {},
   "outputs": [],
   "source": [
    "# 11. Assign hourly profile to monthly data\n",
    "print('Assigning hourly profile to monthly EIA-923 data')\n",
    "# create a separate dataframe containing only the generators for which we do not have CEMS data\n",
    "monthly_eia_data_to_distribute = eia923_allocated[\n",
    "    (eia923_allocated[\"hourly_data_source\"] == \"eia\")\n",
    "    & ~(eia923_allocated[\"fuel_consumed_mmbtu\"].isna())\n",
    "]\n",
    "# load profile data and format for use in the pipeline\n",
    "# TODO: once this is in the pipeline (step 10), may not need to read file\n",
    "hourly_profiles = pd.read_csv(\n",
    "    \"../data/outputs/residual_profiles.csv\", parse_dates=[\"report_date\"]\n",
    ")\n"
   ]
  },
  {
   "cell_type": "code",
   "execution_count": null,
   "metadata": {},
   "outputs": [],
   "source": [
    "available_profiles = hourly_profiles[['ba_code','fuel_category']].drop_duplicates()\n",
    "ba_fuel_to_distribute = monthly_eia_data_to_distribute[['ba_code','fuel_category']].drop_duplicates().dropna()\n",
    "missing_profiles = ba_fuel_to_distribute.merge(available_profiles, how='outer', on=['ba_code','fuel_category'], indicator='source')\n",
    "missing_profiles = missing_profiles[missing_profiles.source == 'left_only']\n",
    "missing_profiles.sort_values(by=['fuel_category','ba_code'])"
   ]
  },
  {
   "cell_type": "code",
   "execution_count": null,
   "metadata": {},
   "outputs": [],
   "source": [
    "hourly_profiles = hourly_profiles.load_hourly_profiles(monthly_eia_data_to_distribute, year)"
   ]
  },
  {
   "cell_type": "code",
   "execution_count": null,
   "metadata": {},
   "outputs": [],
   "source": [
    "print(hourly_profiles[['ba_code','fuel_category','profile_method']].drop_duplicates().pivot_table(index='fuel_category',columns='profile_method', aggfunc='count').fillna(0).astype(int))"
   ]
  },
  {
   "cell_type": "markdown",
   "metadata": {},
   "source": [
    "# investigate profile shapes"
   ]
  },
  {
   "cell_type": "code",
   "execution_count": null,
   "metadata": {},
   "outputs": [],
   "source": [
    "import plotly.express as px\n",
    "import src.eia930 as eia930"
   ]
  },
  {
   "cell_type": "code",
   "execution_count": null,
   "metadata": {},
   "outputs": [],
   "source": [
    "hydro_demand = load_data.load_raw_eia930_data(year, 'BALANCE')\n",
    "hydro_demand = hydro_demand[[\"Balancing Authority\",\"datetime_utc\",\"Demand (MW)\",\"Net Generation (MW)\",\"Net Generation (MW) from Hydropower and Pumped Storage\",]]"
   ]
  },
  {
   "cell_type": "code",
   "execution_count": null,
   "metadata": {},
   "outputs": [],
   "source": [
    "bas_with_no_hydro = hydro_demand.groupby(\"Balancing Authority\").sum().reset_index()\n",
    "bas_with_no_hydro = list(bas_with_no_hydro.loc[(bas_with_no_hydro[\"Net Generation (MW) from Hydropower and Pumped Storage\"] == 0),\"Balancing Authority\"])"
   ]
  },
  {
   "cell_type": "code",
   "execution_count": null,
   "metadata": {},
   "outputs": [],
   "source": [
    "hydro_demand = hydro_demand[~hydro_demand['Balancing Authority'].isin(bas_with_no_hydro)]"
   ]
  },
  {
   "cell_type": "code",
   "execution_count": null,
   "metadata": {},
   "outputs": [],
   "source": [
    "px.line(hydro_demand, x='datetime_utc', y='Net Generation (MW) from Hydropower and Pumped Storage', color='Balancing Authority')"
   ]
  },
  {
   "cell_type": "code",
   "execution_count": null,
   "metadata": {},
   "outputs": [],
   "source": [
    "hydro_corr = hydro_demand.groupby(\"Balancing Authority\")[[\"Demand (MW)\",\"Net Generation (MW) from Hydropower and Pumped Storage\"]].corr().reset_index()\n",
    "hydro_corr = hydro_corr[hydro_corr['level_1'] == 'Demand (MW)'].drop(columns=[\"Demand (MW)\",\"level_1\"])\n",
    "hydro_corr"
   ]
  },
  {
   "cell_type": "code",
   "execution_count": null,
   "metadata": {},
   "outputs": [],
   "source": []
  },
  {
   "cell_type": "code",
   "execution_count": null,
   "metadata": {},
   "outputs": [],
   "source": [
    "cleaned_930 = eia930.load_chalendar_for_pipeline(\n",
    "    \"../data/outputs/EBA_adjusted_elec.csv\", year=year\n",
    ")"
   ]
  },
  {
   "cell_type": "code",
   "execution_count": null,
   "metadata": {},
   "outputs": [],
   "source": [
    "cleaned_930.fuel_category.unique()"
   ]
  },
  {
   "cell_type": "code",
   "execution_count": null,
   "metadata": {},
   "outputs": [],
   "source": [
    "fuel = 'other'\n",
    "\n",
    "data_to_plot = cleaned_930[cleaned_930['fuel_category'] == fuel]\n",
    "\n",
    "px.line(data_to_plot, x='datetime_local', y='net_generation_mwh_930', color='ba_code')"
   ]
  },
  {
   "cell_type": "code",
   "execution_count": null,
   "metadata": {},
   "outputs": [],
   "source": [
    "data_to_plot"
   ]
  },
  {
   "cell_type": "code",
   "execution_count": null,
   "metadata": {},
   "outputs": [],
   "source": [
    "data_to_plot.pivot(index='datetime_local', columns='ba_code', values='net_generation_mwh_930').corr()"
   ]
  }
 ],
 "metadata": {
  "interpreter": {
   "hash": "4103f3cd497821eca917ea303dbe10c590d787eb7d2dc3fd4e15dec0356e7931"
  },
  "kernelspec": {
   "display_name": "Python 3.9.12 ('hourly_egrid')",
   "language": "python",
   "name": "python3"
  },
  "language_info": {
   "codemirror_mode": {
    "name": "ipython",
    "version": 3
   },
   "file_extension": ".py",
   "mimetype": "text/x-python",
   "name": "python",
   "nbconvert_exporter": "python",
   "pygments_lexer": "ipython3",
   "version": "3.9.12"
  },
  "orig_nbformat": 4
 },
 "nbformat": 4,
 "nbformat_minor": 2
}
