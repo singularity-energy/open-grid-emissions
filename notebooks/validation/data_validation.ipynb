{
 "cells": [
  {
   "cell_type": "code",
   "execution_count": null,
   "metadata": {},
   "outputs": [],
   "source": [
    "# import packages\n",
    "import numpy as np\n",
    "import pandas as pd\n",
    "import plotly.express as px\n",
    "from IPython.display import display"
   ]
  },
  {
   "cell_type": "code",
   "execution_count": 1,
   "metadata": {},
   "outputs": [],
   "source": [
    "%reload_ext autoreload\n",
    "%autoreload 2\n",
    "\n",
    "# Tell python where to look for modules.\n",
    "import sys\n",
    "\n",
    "sys.path.append(\"../../src\")\n",
    "\n",
    "# import local modules\n",
    "import oge.load_data as load_data\n",
    "from oge.data_cleaning import assign_ba_code_to_plant\n",
    "import oge.validation as validation\n",
    "\n",
    "from oge.column_checks import get_dtypes, apply_dtypes"
   ]
  },
  {
   "cell_type": "markdown",
   "metadata": {},
   "source": [
    "# Specify the year for analysis and load the data\n",
    "This validation can only be run for a single year at a time"
   ]
  },
  {
   "cell_type": "code",
   "execution_count": null,
   "metadata": {},
   "outputs": [],
   "source": [
    "year = 2020\n",
    "cems = pd.read_csv(\n",
    "    f\"../data/outputs/cems_subplant_{year}.csv\",\n",
    "    parse_dates=[\"datetime_utc\", \"report_date\"],\n",
    ")\n",
    "eia923_allocated = pd.read_csv(\n",
    "    f\"../data/outputs/eia923_allocated_{year}.csv\", parse_dates=[\"report_date\"]\n",
    ")"
   ]
  },
  {
   "cell_type": "code",
   "execution_count": null,
   "metadata": {},
   "outputs": [],
   "source": [
    "# what percent of emissions is reported in CEMS vs EIA\n",
    "# NOTE: This does not include emissions only reported by CEMS, so the % may be higher\n",
    "(\n",
    "    eia923_allocated.groupby(\"hourly_data_source\")[\"co2_mass_lb_adjusted\"].sum()\n",
    "    / eia923_allocated.groupby(\"hourly_data_source\")[\"co2_mass_lb_adjusted\"]\n",
    "    .sum()\n",
    "    .sum(axis=0)\n",
    ").round(3)"
   ]
  },
  {
   "cell_type": "markdown",
   "metadata": {},
   "source": [
    "### Run Validation Tests on Cleaned EIA-923 data\n",
    "Notes:\n",
    "- When net generation is positive but no fuel consumption is reported, this could be due to several reasons:\n",
    "    - The generator uses a clean fuel, like WAT, and reports 0 mmbtu per physical unit fuel consumed\n",
    "    - The generator is part of a combined cycle unit and all of the fuel is reported on the other cycle\n",
    "- Records where all data is zero could just mean that the generator didn't operate in that month"
   ]
  },
  {
   "cell_type": "code",
   "execution_count": null,
   "metadata": {},
   "outputs": [],
   "source": [
    "# perform checks on allocated data\n",
    "# fuel consumption and co2 emissions should be positive\n",
    "negative_test = validation.test_for_negative_values(\n",
    "    eia923_allocated,\n",
    "    [\n",
    "        \"fuel_consumed_mmbtu\",\n",
    "        \"fuel_consumed_for_electricity_mmbtu\",\n",
    "        \"co2_mass_lb\",\n",
    "        \"co2_mass_lb_for_electricity\",\n",
    "        \"co2_mass_lb_adjusted\",\n",
    "    ],\n",
    ")\n",
    "\n",
    "# if net generation is positive, fuel consumption should be non zero\n",
    "missing_fuel_test = validation.test_for_missing_fuel(\n",
    "    eia923_allocated, \"net_generation_mwh\"\n",
    ")\n",
    "\n",
    "# fuel consumed for electricity should be less than fuel consumed\n",
    "chp_allocation_test = validation.test_chp_allocation(eia923_allocated)\n",
    "\n",
    "# check for missing co2 data\n",
    "missing_co2_test = validation.test_for_missing_co2(eia923_allocated)\n",
    "\n",
    "# check for generators with no data\n",
    "missing_data_test = validation.test_for_missing_data(\n",
    "    eia923_allocated,\n",
    "    [\n",
    "        \"net_generation_mwh\",\n",
    "        \"fuel_consumed_mmbtu\",\n",
    "        \"fuel_consumed_for_electricity_mmbtu\",\n",
    "        \"co2_mass_lb\",\n",
    "        \"co2_mass_lb_for_electricity\",\n",
    "        \"co2_mass_lb_adjusted\",\n",
    "    ],\n",
    ")\n",
    "\n",
    "# check for generators with all data = 0\n",
    "zero_data_test = validation.test_for_zero_data(\n",
    "    eia923_allocated,\n",
    "    [\n",
    "        \"net_generation_mwh\",\n",
    "        \"fuel_consumed_mmbtu\",\n",
    "        \"fuel_consumed_for_electricity_mmbtu\",\n",
    "        \"co2_mass_lb\",\n",
    "        \"co2_mass_lb_for_electricity\",\n",
    "        \"co2_mass_lb_adjusted\",\n",
    "    ],\n",
    ")\n",
    "\n",
    "# check for missing energy source code\n",
    "missing_esc_test = validation.test_for_missing_energy_source_code(eia923_allocated)\n",
    "\n",
    "# check for missing and incorrect prime movers\n",
    "incorrect_pm_test, missing_pm_test = validation.test_for_missing_incorrect_prime_movers(\n",
    "    eia923_allocated, year\n",
    ")\n",
    "\n",
    "# check for missing subplant ids\n",
    "eia_missing_subplant_test = validation.test_for_missing_subplant_id(eia923_allocated)\n",
    "\n",
    "# check heat rates\n",
    "heat_rate_test = validation.test_for_outlier_heat_rates(eia923_allocated)"
   ]
  },
  {
   "cell_type": "code",
   "execution_count": null,
   "metadata": {},
   "outputs": [],
   "source": [
    "heat_rate_test.sort_values(by=\"heat_rate\")"
   ]
  },
  {
   "cell_type": "markdown",
   "metadata": {},
   "source": [
    "### Run Validation tests on cleaned CEMS data"
   ]
  },
  {
   "cell_type": "code",
   "execution_count": null,
   "metadata": {},
   "outputs": [],
   "source": [
    "# fuel consumption and co2 emissions should be positive\n",
    "cems_negative_test = validation.test_for_negative_values(\n",
    "    cems,\n",
    "    [\n",
    "        \"fuel_consumed_mmbtu\",\n",
    "        \"fuel_consumed_for_electricity_mmbtu\",\n",
    "        \"co2_mass_lb\",\n",
    "        \"co2_mass_lb_adjusted\",\n",
    "        \"gross_generation_mwh\",\n",
    "    ],\n",
    ")\n",
    "\n",
    "# if net generation is positive, fuel consumption should be non zero\n",
    "cems_missing_fuel_test = validation.test_for_missing_fuel(cems, \"gross_generation_mwh\")\n",
    "\n",
    "# fuel consumed for electricity should be less than fuel consumed\n",
    "cems_chp_allocation_test = validation.test_chp_allocation(cems)\n",
    "\n",
    "# check for missing co2 data\n",
    "cems_missing_co2_test = validation.test_for_missing_co2(cems)\n",
    "\n",
    "# check for missing energy source code\n",
    "cems_missing_esc_test = validation.test_for_missing_energy_source_code(cems)\n",
    "\n",
    "# test to make sure that there is a complete subplant mapping\n",
    "cems_missing_subplant_test = validation.test_for_missing_subplant_id(cems)\n",
    "\n",
    "# test to see if there are any net generation values greater than gross generation\n",
    "gtn_test = validation.test_gtn_results(cems)"
   ]
  },
  {
   "cell_type": "code",
   "execution_count": null,
   "metadata": {},
   "outputs": [],
   "source": [
    "cems_missing_subplant_test[[\"plant_id_eia\", \"emissions_unit_id_epa\"]].drop_duplicates()"
   ]
  },
  {
   "cell_type": "code",
   "execution_count": null,
   "metadata": {},
   "outputs": [],
   "source": [
    "cems_missing_esc_test[[\"plant_id_eia\", \"emissions_unit_id_epa\"]].drop_duplicates()"
   ]
  },
  {
   "cell_type": "markdown",
   "metadata": {},
   "source": [
    "# Data Quality Metrics"
   ]
  },
  {
   "cell_type": "markdown",
   "metadata": {},
   "source": [
    "### Evalutate data source mismatch"
   ]
  },
  {
   "cell_type": "code",
   "execution_count": null,
   "metadata": {},
   "outputs": [],
   "source": [
    "year = 2020\n",
    "cems = pd.read_csv(f\"../data/outputs/{year}/cems_{year}.csv\", dtype=get_dtypes())\n",
    "partial_cems_scaled = pd.read_csv(\n",
    "    f\"../data/outputs/{year}/partial_cems_scaled_{year}.csv\", dtype=get_dtypes()\n",
    ")\n",
    "eia923_allocated = pd.read_csv(\n",
    "    f\"../data/outputs/{year}/eia923_allocated_{year}.csv\", dtype=get_dtypes()\n",
    ")\n",
    "\n",
    "plant_attributes = pd.read_csv(\n",
    "    f\"../data/outputs/{year}/plant_static_attributes_{year}.csv\"\n",
    ")\n",
    "eia923_allocated = eia923_allocated.merge(\n",
    "    plant_attributes, how=\"left\", on=\"plant_id_eia\"\n",
    ")\n",
    "cems = cems.merge(plant_attributes, how=\"left\", on=\"plant_id_eia\")"
   ]
  },
  {
   "cell_type": "code",
   "execution_count": null,
   "metadata": {},
   "outputs": [],
   "source": [
    "partial_cems_scaled = partial_cems_scaled.merge(\n",
    "    plant_attributes, how=\"left\", on=\"plant_id_eia\"\n",
    ")"
   ]
  },
  {
   "cell_type": "code",
   "execution_count": null,
   "metadata": {},
   "outputs": [],
   "source": [
    "ba = \"CISO\"\n",
    "fuel = \"natural_gas\"\n",
    "test_eia = eia923_allocated[\n",
    "    (eia923_allocated[\"ba_code\"] == ba) & (eia923_allocated[\"fuel_category\"] == fuel)\n",
    "]\n",
    "test_cems = cems[(cems[\"ba_code\"] == ba) & (cems[\"fuel_category\"] == fuel)]\n",
    "test_pc = partial_cems_scaled[\n",
    "    (partial_cems_scaled[\"ba_code\"] == ba)\n",
    "    & (partial_cems_scaled[\"fuel_category\"] == fuel)\n",
    "]"
   ]
  },
  {
   "cell_type": "code",
   "execution_count": null,
   "metadata": {},
   "outputs": [],
   "source": [
    "test_eia.groupby(\"hourly_data_source\").sum()[\"net_generation_mwh\"]"
   ]
  },
  {
   "cell_type": "code",
   "execution_count": null,
   "metadata": {},
   "outputs": [],
   "source": [
    "test_cems[[\"gross_generation_mwh\", \"net_generation_mwh\"]].sum()"
   ]
  },
  {
   "cell_type": "code",
   "execution_count": null,
   "metadata": {},
   "outputs": [],
   "source": [
    "test_pc[[\"net_generation_mwh\"]].sum()"
   ]
  },
  {
   "cell_type": "code",
   "execution_count": null,
   "metadata": {},
   "outputs": [],
   "source": [
    "test_pc = test_pc.drop(columns=\"source\")"
   ]
  },
  {
   "cell_type": "code",
   "execution_count": null,
   "metadata": {},
   "outputs": [],
   "source": [
    "test_cems = test_cems.drop(columns=\"source\")"
   ]
  },
  {
   "cell_type": "code",
   "execution_count": null,
   "metadata": {},
   "outputs": [],
   "source": [
    "partial_cems_subplant_months = test_pc[\n",
    "    [\"plant_id_eia\", \"subplant_id\", \"report_date\"]\n",
    "].drop_duplicates()\n",
    "filtered_cems = test_cems.merge(\n",
    "    partial_cems_subplant_months,\n",
    "    how=\"outer\",\n",
    "    on=[\"plant_id_eia\", \"subplant_id\", \"report_date\"],\n",
    "    indicator=\"source\",\n",
    ")\n",
    "\n",
    "filtered_cems = filtered_cems[filtered_cems[\"source\"] == \"left_only\"].drop(\n",
    "    columns=[\"source\"]\n",
    ")"
   ]
  },
  {
   "cell_type": "code",
   "execution_count": null,
   "metadata": {},
   "outputs": [],
   "source": [
    "filtered_cems[[\"gross_generation_mwh\", \"net_generation_mwh\"]].sum()"
   ]
  },
  {
   "cell_type": "code",
   "execution_count": null,
   "metadata": {},
   "outputs": [],
   "source": [
    "subplants_ided_as_cems = test_eia.loc[\n",
    "    test_eia[\"hourly_data_source\"] == \"cems\", [\"plant_id_eia\", \"subplant_id\"]\n",
    "].drop_duplicates()\n",
    "subplants_in_cems = filtered_cems[[\"plant_id_eia\", \"subplant_id\"]].drop_duplicates()\n",
    "cems_overlap = subplants_ided_as_cems.merge(\n",
    "    subplants_in_cems,\n",
    "    how=\"outer\",\n",
    "    on=[\"plant_id_eia\", \"subplant_id\"],\n",
    "    indicator=\"source\",\n",
    ")\n",
    "cems_overlap"
   ]
  },
  {
   "cell_type": "code",
   "execution_count": null,
   "metadata": {},
   "outputs": [],
   "source": [
    "subplants_ided_as_pc = test_eia.loc[\n",
    "    test_eia[\"hourly_data_source\"] == \"partial_cems\", [\"plant_id_eia\", \"subplant_id\"]\n",
    "].drop_duplicates()\n",
    "subplants_in_pc = test_pc[[\"plant_id_eia\", \"subplant_id\"]].drop_duplicates()\n",
    "pc_overlap = subplants_ided_as_pc.merge(\n",
    "    subplants_in_pc, how=\"outer\", on=[\"plant_id_eia\", \"subplant_id\"], indicator=\"source\"\n",
    ")\n",
    "pc_overlap"
   ]
  },
  {
   "cell_type": "code",
   "execution_count": null,
   "metadata": {},
   "outputs": [],
   "source": [
    "test_cems.loc[test_cems[\"plant_id_eia\"] == 55748, \"net_generation_mwh\"].sum()"
   ]
  },
  {
   "cell_type": "markdown",
   "metadata": {},
   "source": [
    "### Compare monthly totals for each plant from each data source"
   ]
  },
  {
   "cell_type": "code",
   "execution_count": null,
   "metadata": {},
   "outputs": [],
   "source": [
    "# for plants where there is data reported in cems, see how off it is from data reported in eia\n",
    "cems_plant_monthly = (\n",
    "    cems.groupby([\"plant_id_eia\", \"subplant_id\", \"report_date\"], dropna=False)\n",
    "    .sum()[\n",
    "        [\n",
    "            \"gross_generation_mwh\",\n",
    "            \"net_generation_mwh\",\n",
    "            \"fuel_consumed_mmbtu\",\n",
    "            \"fuel_consumed_for_electricity_mmbtu\",\n",
    "            \"co2_mass_lb\",\n",
    "            \"co2_mass_lb_adjusted\",\n",
    "        ]\n",
    "    ]\n",
    "    .reset_index()\n",
    ")\n",
    "gf_plant_monthly = (\n",
    "    eia923_allocated.groupby(\n",
    "        [\"plant_id_eia\", \"subplant_id\", \"report_date\"], dropna=False\n",
    "    )\n",
    "    .sum()\n",
    "    .reset_index()\n",
    ")\n",
    "compare_cems_eia = gf_plant_monthly.merge(\n",
    "    cems_plant_monthly,\n",
    "    how=\"inner\",\n",
    "    on=[\"plant_id_eia\", \"subplant_id\", \"report_date\"],\n",
    "    suffixes=(\"_eia\", \"_cems\"),\n",
    ")\n",
    "\n",
    "\n",
    "for column in [\n",
    "    \"net_generation_mwh\",\n",
    "    \"fuel_consumed_mmbtu\",\n",
    "    \"fuel_consumed_for_electricity_mmbtu\",\n",
    "    \"co2_mass_lb\",\n",
    "    \"co2_mass_lb_adjusted\",\n",
    "]:\n",
    "    compare_cems_eia[f\"{column}_pctdiff\"] = (\n",
    "        (\n",
    "            compare_cems_eia[f\"{column}_cems\"].replace(0, 0.1)\n",
    "            - compare_cems_eia[f\"{column}_eia\"].replace(0, 0.1)\n",
    "        )\n",
    "        / compare_cems_eia[f\"{column}_eia\"].replace(0, 0.1)\n",
    "    ).round(3)\n",
    "\n",
    "compare_cems_eia = compare_cems_eia.set_index(\n",
    "    [\"plant_id_eia\", \"subplant_id\", \"report_date\"]\n",
    ")\n",
    "compare_cems_eia = compare_cems_eia.reindex(sorted(compare_cems_eia.columns), axis=1)"
   ]
  },
  {
   "cell_type": "code",
   "execution_count": null,
   "metadata": {},
   "outputs": [],
   "source": [
    "# identify where there are differences between reported CEMS and EIA values for the same subplant-month\n",
    "value = \"net_generation_mwh\"\n",
    "\n",
    "comparison = compare_cems_eia[[f\"{value}_cems\", f\"{value}_eia\", f\"{value}_pctdiff\"]]\n",
    "comparison[(~comparison[f\"{value}_pctdiff\"].between(-0.05, 0.05))]"
   ]
  },
  {
   "cell_type": "markdown",
   "metadata": {},
   "source": [
    "## Compare Our Results to eGRID"
   ]
  },
  {
   "cell_type": "code",
   "execution_count": null,
   "metadata": {},
   "outputs": [],
   "source": [
    "# filter the data for which we only have EIA data\n",
    "monthly_eia_data_to_distribute = eia923_allocated[\n",
    "    (eia923_allocated[\"hourly_data_source\"] == \"eia\")\n",
    "    & ~(eia923_allocated[\"fuel_consumed_mmbtu\"].isna())\n",
    "]\n",
    "\n",
    "# assign ba codes to the data\n",
    "monthly_eia_data_to_distribute = assign_ba_code_to_plant(\n",
    "    monthly_eia_data_to_distribute, year\n",
    ")\n",
    "cems = assign_ba_code_to_plant(cems, year)"
   ]
  },
  {
   "cell_type": "code",
   "execution_count": null,
   "metadata": {},
   "outputs": [],
   "source": [
    "# Aggregate total calculated values\n",
    "###################################\n",
    "\n",
    "# Aggregate cems and eia data by plant id, then combine\n",
    "cems_plant_annual = (\n",
    "    cems.groupby([\"ba_code\", \"state\", \"plant_id_eia\"], dropna=False)\n",
    "    .sum()[\n",
    "        [\n",
    "            \"net_generation_mwh\",\n",
    "            \"fuel_consumed_mmbtu\",\n",
    "            \"co2_mass_lb\",\n",
    "            \"co2_mass_lb_adjusted\",\n",
    "        ]\n",
    "    ]\n",
    "    .reset_index()\n",
    ")\n",
    "eia_plant_annual = (\n",
    "    monthly_eia_data_to_distribute.groupby(\n",
    "        [\"ba_code\", \"state\", \"plant_id_eia\"], dropna=False\n",
    "    )\n",
    "    .sum()[\n",
    "        [\n",
    "            \"net_generation_mwh\",\n",
    "            \"fuel_consumed_mmbtu\",\n",
    "            \"fuel_consumed_for_electricity_mmbtu\",\n",
    "            \"co2_mass_lb\",\n",
    "            \"co2_mass_lb_adjusted\",\n",
    "        ]\n",
    "    ]\n",
    "    .reset_index()\n",
    ")\n",
    "plant_annual_total = pd.concat([cems_plant_annual, eia_plant_annual], axis=0)\n",
    "# group any plants that have records from both datasets\n",
    "plant_annual_total = (\n",
    "    plant_annual_total.groupby([\"ba_code\", \"state\", \"plant_id_eia\"], dropna=False)\n",
    "    .sum()\n",
    "    .reset_index()\n",
    ")\n",
    "\n",
    "# add a egrid id\n",
    "plant_annual_total = validation.add_egrid_plant_id(\n",
    "    plant_annual_total, from_id=\"eia\", to_id=\"egrid\"\n",
    ")\n",
    "\n",
    "# Load the eGRID plant table\n",
    "egrid_plant = validation.load_egrid_plant_file(year)"
   ]
  },
  {
   "cell_type": "markdown",
   "metadata": {},
   "source": [
    "### Identify plants in eGRID missing from our results\n",
    "\n",
    "These plants seem to have retired before 2020"
   ]
  },
  {
   "cell_type": "code",
   "execution_count": null,
   "metadata": {},
   "outputs": [],
   "source": [
    "# identify any plants that are in egrid but not our totals, and any plants that are in our totals, but not egrid\n",
    "plant_not_in_calc = list(\n",
    "    set(egrid_plant[\"plant_id_eia\"].unique())\n",
    "    - set(plant_annual_total[\"plant_id_eia\"].unique())\n",
    ")\n",
    "\n",
    "# Which plants are included in eGRID but are missing from our calculations?\n",
    "missing_from_calc = egrid_plant[egrid_plant[\"plant_id_egrid\"].isin(plant_not_in_calc)]\n",
    "\n",
    "# see if any of these plants are retired\n",
    "generators_eia860 = load_data.load_pudl_table(\"generators_eia860\", year=year)\n",
    "missing_from_calc.merge(\n",
    "    generators_eia860.groupby(\"plant_id_eia\")[\"retirement_date\"].unique().reset_index(),\n",
    "    how=\"left\",\n",
    "    on=\"plant_id_eia\",\n",
    ")"
   ]
  },
  {
   "cell_type": "markdown",
   "metadata": {},
   "source": [
    "### Identify plants in our calculations that are missing from eGRID"
   ]
  },
  {
   "cell_type": "code",
   "execution_count": null,
   "metadata": {},
   "outputs": [],
   "source": [
    "# Which plants are in our calculations, but are missing from eGRID?\n",
    "plants_not_in_egrid = list(\n",
    "    set(plant_annual_total[\"plant_id_egrid\"].unique())\n",
    "    - set(egrid_plant[\"plant_id_egrid\"].unique())\n",
    ")\n",
    "\n",
    "plant_names = load_data.load_pudl_table(\"plants_entity_eia\")[\n",
    "    [\"plant_id_eia\", \"plant_name_eia\", \"sector_name_eia\"]\n",
    "]\n",
    "missing_from_egrid = plant_annual_total[\n",
    "    plant_annual_total[\"plant_id_egrid\"].isin(plants_not_in_egrid)\n",
    "].merge(plant_names, how=\"left\", on=\"plant_id_eia\")\n",
    "\n",
    "missing_from_egrid"
   ]
  },
  {
   "cell_type": "code",
   "execution_count": null,
   "metadata": {},
   "outputs": [],
   "source": [
    "# how many of the plants missing from egrid have non-zero data\n",
    "missing_from_egrid[missing_from_egrid[\"fuel_consumed_mmbtu\"] > 1].count()"
   ]
  },
  {
   "cell_type": "markdown",
   "metadata": {},
   "source": [
    "### Compare whether totals for plants with EPA IDs that differ from EIA IDs match"
   ]
  },
  {
   "cell_type": "code",
   "execution_count": null,
   "metadata": {},
   "outputs": [],
   "source": [
    "# identify where there is a single egrid plant id for multiple eia plant ids\n",
    "double_ids = plant_annual_total[\n",
    "    plant_annual_total[\"plant_id_egrid\"].duplicated(keep=False)\n",
    "]\n",
    "double_ids = (\n",
    "    double_ids.groupby(\"plant_id_egrid\").sum()[\"net_generation_mwh\"].reset_index()\n",
    ")  # focus on net generation for now\n",
    "# merge the egrid data\n",
    "double_ids = double_ids.merge(\n",
    "    egrid_plant[[\"plant_id_egrid\", \"net_generation_mwh\"]],\n",
    "    how=\"left\",\n",
    "    on=\"plant_id_egrid\",\n",
    "    suffixes=(\"_calc\", \"_egrid\"),\n",
    ")\n",
    "double_ids[\"percent_diff\"] = (\n",
    "    (double_ids[\"net_generation_mwh_calc\"] - double_ids[\"net_generation_mwh_egrid\"])\n",
    "    / double_ids[\"net_generation_mwh_egrid\"]\n",
    ").round(3)\n",
    "double_ids"
   ]
  },
  {
   "cell_type": "markdown",
   "metadata": {},
   "source": [
    "### Identify plants where our BA assignment does not match eGRID"
   ]
  },
  {
   "cell_type": "code",
   "execution_count": null,
   "metadata": {},
   "outputs": [],
   "source": [
    "ba_code_match = egrid_plant.set_index(\"plant_id_eia\")[[\"plant_name\", \"ba_code\"]].merge(\n",
    "    plant_annual_total.set_index(\"plant_id_eia\")[[\"ba_code\"]],\n",
    "    how=\"inner\",\n",
    "    left_index=True,\n",
    "    right_index=True,\n",
    "    suffixes=(\"_egrid\", \"_calc\"),\n",
    ")\n",
    "\n",
    "# plants with missing ba code\n",
    "ba_code_match[\n",
    "    (ba_code_match[\"ba_code_calc\"].isna()) & ~(ba_code_match[\"ba_code_egrid\"].isna())\n",
    "]"
   ]
  },
  {
   "cell_type": "code",
   "execution_count": null,
   "metadata": {},
   "outputs": [],
   "source": [
    "# plants with incorrect ba code\n",
    "ba_code_match[\n",
    "    (ba_code_match[\"ba_code_calc\"] != ba_code_match[\"ba_code_egrid\"])\n",
    "    & ~(ba_code_match[\"ba_code_calc\"].isna())\n",
    "]"
   ]
  },
  {
   "cell_type": "markdown",
   "metadata": {},
   "source": [
    "## Identify where eGRID might be missing data\n",
    "It seems that there are quite a few generators where fuel consumption data is missing"
   ]
  },
  {
   "cell_type": "code",
   "execution_count": null,
   "metadata": {},
   "outputs": [],
   "source": [
    "pudl_out = load_data.initialize_pudl_out(year)\n",
    "\n",
    "# load the EIA generator fuel data\n",
    "IDX_PM_ESC = [\"report_date\", \"plant_id_eia\", \"energy_source_code\", \"prime_mover_code\"]\n",
    "gf = pudl_out.gf_eia923().loc[\n",
    "    :,\n",
    "    IDX_PM_ESC\n",
    "    + [\n",
    "        \"net_generation_mwh\",\n",
    "        \"fuel_consumed_mmbtu\",\n",
    "        \"fuel_consumed_for_electricity_mmbtu\",\n",
    "    ],\n",
    "]\n",
    "\n",
    "# add egrid plant ids\n",
    "egrid_crosswalk = pd.read_csv(\n",
    "    \"../data/manual/egrid_static_tables/table_C5_crosswalk_of_EIA_ID_to_EPA_ID.csv\"\n",
    ")\n",
    "eia_to_egrid_id = dict(\n",
    "    zip(list(egrid_crosswalk[\"plant_id_eia\"]), list(egrid_crosswalk[\"plant_id_egrid\"]))\n",
    ")\n",
    "gf[\"plant_id_egrid\"] = gf[\"plant_id_eia\"]\n",
    "gf[\"plant_id_egrid\"].update(gf[\"plant_id_egrid\"].map(eia_to_egrid_id))\n",
    "\n",
    "# calculate an annual total for each plant\n",
    "gf_total = gf.groupby([\"plant_id_egrid\"]).sum().reset_index()\n",
    "\n",
    "# choose a metric to compare\n",
    "metric = \"fuel_consumed_mmbtu\"\n",
    "\n",
    "# merge the annual EIA-923 data into the egrid data\n",
    "egrid_eia_comparison = (\n",
    "    egrid_plant[\n",
    "        [\"plant_id_egrid\", \"plant_name\", \"ba_code\", \"energy_source_code\", metric]\n",
    "    ]\n",
    "    .merge(\n",
    "        gf_total[[\"plant_id_egrid\", metric]],\n",
    "        how=\"outer\",\n",
    "        on=\"plant_id_egrid\",\n",
    "        suffixes=(\"_egrid\", \"_eia923\"),\n",
    "        indicator=\"source\",\n",
    "    )\n",
    "    .round(0)\n",
    ")\n",
    "egrid_eia_comparison[f\"{metric}_egrid\"] = egrid_eia_comparison[\n",
    "    f\"{metric}_egrid\"\n",
    "].fillna(0)\n",
    "# calculate an absolute difference and percent difference between the two values\n",
    "egrid_eia_comparison[\"difference\"] = (\n",
    "    egrid_eia_comparison[f\"{metric}_egrid\"] - egrid_eia_comparison[f\"{metric}_eia923\"]\n",
    ")\n",
    "egrid_eia_comparison[\"percent_difference\"] = (\n",
    "    egrid_eia_comparison[f\"{metric}_egrid\"] - egrid_eia_comparison[f\"{metric}_eia923\"]\n",
    ") / egrid_eia_comparison[f\"{metric}_eia923\"]\n",
    "egrid_eia_comparison.loc[\n",
    "    egrid_eia_comparison[\"difference\"] == 0, \"percent_difference\"\n",
    "] = 0"
   ]
  },
  {
   "cell_type": "code",
   "execution_count": null,
   "metadata": {},
   "outputs": [],
   "source": [
    "# add cems data\n",
    "cems_total = cems.copy()[[\"plant_id_eia\", metric]]\n",
    "cems_total[\"plant_id_egrid\"] = cems_total[\"plant_id_eia\"]\n",
    "cems_total[\"plant_id_egrid\"].update(cems_total[\"plant_id_egrid\"].map(eia_to_egrid_id))\n",
    "cems_total = (\n",
    "    cems_total.groupby(\"plant_id_egrid\")\n",
    "    .sum()[metric]\n",
    "    .reset_index()\n",
    "    .rename(columns={metric: f\"{metric}_cems\"})\n",
    ")\n",
    "\n",
    "# merge cems data into egrid\n",
    "egrid_eia_comparison = egrid_eia_comparison.merge(\n",
    "    cems_total, how=\"outer\", on=\"plant_id_egrid\"\n",
    ")"
   ]
  },
  {
   "cell_type": "code",
   "execution_count": null,
   "metadata": {},
   "outputs": [],
   "source": [
    "egrid_eia_comparison"
   ]
  },
  {
   "cell_type": "code",
   "execution_count": null,
   "metadata": {},
   "outputs": [],
   "source": []
  },
  {
   "cell_type": "code",
   "execution_count": null,
   "metadata": {},
   "outputs": [],
   "source": [
    "egrid_eia_comparison[egrid_eia_comparison[\"source\"] == \"left_only\"]"
   ]
  },
  {
   "cell_type": "code",
   "execution_count": null,
   "metadata": {},
   "outputs": [],
   "source": [
    "# egrid seems to be missing fuel consumption data for most nuclear power plants\n",
    "missing_nuclear = egrid_eia_comparison[\n",
    "    egrid_eia_comparison[\"energy_source_code\"] == \"NUC\"\n",
    "]\n",
    "missing_nuclear.sum()"
   ]
  },
  {
   "cell_type": "code",
   "execution_count": null,
   "metadata": {},
   "outputs": [],
   "source": [
    "egrid_eia_comparison[(egrid_eia_comparison[\"percent_difference\"] < -0.01)]"
   ]
  },
  {
   "cell_type": "code",
   "execution_count": null,
   "metadata": {},
   "outputs": [],
   "source": [
    "# where is egrid missing data?\n",
    "egrid_eia_comparison[\n",
    "    (egrid_eia_comparison[\"percent_difference\"] < -0.01)\n",
    "    & (egrid_eia_comparison[\"energy_source_code\"] != \"NUC\")\n",
    "]  # .sort_values(by='percent_difference').head(20)"
   ]
  },
  {
   "cell_type": "code",
   "execution_count": null,
   "metadata": {},
   "outputs": [],
   "source": [
    "# how much emissions does this account for?\n",
    "# group by fuel code\n",
    "missing_emissions = (\n",
    "    egrid_eia_comparison[\n",
    "        (egrid_eia_comparison[\"percent_difference\"] < -0.01)\n",
    "        & (egrid_eia_comparison[\"energy_source_code\"] != \"NUC\")\n",
    "    ]\n",
    "    .groupby(\"energy_source_code\")\n",
    "    .sum()\n",
    "    .reset_index()\n",
    ")\n",
    "\n",
    "# get emission factors\n",
    "emission_factors = load_data.load_ghg_emission_factors()[\n",
    "    [\"energy_source_code\", \"co2_lb_per_mmbtu\"]\n",
    "]\n",
    "missing_emissions = missing_emissions.merge(\n",
    "    emission_factors, how=\"left\", on=\"energy_source_code\"\n",
    ")\n",
    "missing_emissions[\"co2_mass_lb\"] = (\n",
    "    missing_emissions[\"difference\"] * missing_emissions[\"co2_lb_per_mmbtu\"]\n",
    ")\n",
    "missing_emissions.sum()"
   ]
  },
  {
   "cell_type": "markdown",
   "metadata": {},
   "source": [
    "## Plant Metric"
   ]
  },
  {
   "cell_type": "code",
   "execution_count": null,
   "metadata": {},
   "outputs": [],
   "source": [
    "# standardize column names and index so that the two dfs can be divided\n",
    "calculated_to_compare = (\n",
    "    plant_annual_total.groupby(\"plant_id_egrid\").sum().drop(columns=[\"plant_id_eia\"])\n",
    ")\n",
    "\n",
    "# drop the plants that have no data in eGRID\n",
    "plants_with_no_data_in_egrid = list(\n",
    "    egrid_plant[\n",
    "        egrid_plant[\n",
    "            [\n",
    "                \"net_generation_mwh\",\n",
    "                \"fuel_consumed_mmbtu\",\n",
    "                \"fuel_consumed_for_electricity_mmbtu\",\n",
    "                \"co2_mass_lb\",\n",
    "                \"co2_mass_lb_adjusted\",\n",
    "            ]\n",
    "        ].sum(axis=1)\n",
    "        == 0\n",
    "    ][\"plant_id_egrid\"]\n",
    ")\n",
    "egrid_plant = egrid_plant[\n",
    "    ~egrid_plant[\"plant_id_eia\"].isin(plants_with_no_data_in_egrid)\n",
    "]\n",
    "\n",
    "egrid_to_compare = egrid_plant.set_index([\"plant_id_egrid\"]).drop(\n",
    "    columns=[\"ba_code\", \"state\", \"plant_name\", \"plant_id_eia\"]\n",
    ")\n",
    "\n",
    "# divide calculated value by egrid value\n",
    "compared = (\n",
    "    calculated_to_compare.div(egrid_to_compare)\n",
    "    .merge(\n",
    "        egrid_plant[[\"plant_id_egrid\", \"plant_name\", \"ba_code\", \"state\"]],\n",
    "        how=\"left\",\n",
    "        left_index=True,\n",
    "        right_on=\"plant_id_egrid\",\n",
    "    )\n",
    "    .set_index(\"plant_id_egrid\")\n",
    ")\n",
    "compared[\"plant_name\"] = compared[\"plant_name\"].fillna(\"unknown\")\n",
    "\n",
    "# create a dataframe that merges the two sources of data together\n",
    "compared_merged = calculated_to_compare.merge(\n",
    "    egrid_to_compare, how=\"outer\", on=\"plant_id_egrid\", suffixes=(\"_calc\", \"_egrid\")\n",
    ")\n",
    "\n",
    "# for each column, change missing values to zero if both values are zero (only nan b/c divide by zero)\n",
    "for col in [\n",
    "    \"net_generation_mwh\",\n",
    "    \"fuel_consumed_mmbtu\",\n",
    "    \"fuel_consumed_for_electricity_mmbtu\",\n",
    "    \"co2_mass_lb_adjusted\",\n",
    "    \"co2_mass_lb\",\n",
    "]:\n",
    "    # identify plants with zero values for both\n",
    "    plant_ids = list(\n",
    "        compared_merged[\n",
    "            (compared_merged[f\"{col}_calc\"] == 0)\n",
    "            & (compared_merged[f\"{col}_egrid\"] == 0)\n",
    "        ].index\n",
    "    )\n",
    "    compared.loc[compared.index.isin(plant_ids), col] = 1\n",
    "\n",
    "# for each column, categorize the data based on how far it is off from egrid\n",
    "for col in [\n",
    "    \"net_generation_mwh\",\n",
    "    \"fuel_consumed_mmbtu\",\n",
    "    \"fuel_consumed_for_electricity_mmbtu\",\n",
    "    \"co2_mass_lb_adjusted\",\n",
    "    \"co2_mass_lb\",\n",
    "]:\n",
    "    # add a new column\n",
    "    compared[f\"{col}_status\"] = pd.cut(\n",
    "        x=compared[col],\n",
    "        bins=[\n",
    "            -999999999,\n",
    "            0,\n",
    "            0.5,\n",
    "            0.9,\n",
    "            0.99,\n",
    "            0.9999,\n",
    "            1,\n",
    "            1.0001,\n",
    "            1.01,\n",
    "            1.1,\n",
    "            1.5,\n",
    "            999999999,\n",
    "        ],\n",
    "        labels=[\n",
    "            \"negative\",\n",
    "            \"<50%\",\n",
    "            \"+/-50%\",\n",
    "            \"+/-10%\",\n",
    "            \"+/-1%\",\n",
    "            \"!exact\",\n",
    "            \"!exact\",\n",
    "            \"+/-1%\",\n",
    "            \"+/-10%\",\n",
    "            \"+/-50%\",\n",
    "            \">50%\",\n",
    "        ],\n",
    "        ordered=False,\n",
    "    )\n",
    "    # replace any missing values with missing\n",
    "    compared[f\"{col}_status\"] = compared[f\"{col}_status\"].astype(str)\n",
    "    compared[f\"{col}_status\"] = compared[f\"{col}_status\"].fillna(\"missing\")\n",
    "    compared[f\"{col}_status\"] = compared[f\"{col}_status\"].replace(\"nan\", \"missing\")\n",
    "    compared.loc[(compared.index.isin(plants_not_in_egrid)), f\"{col}_status\"] = (\n",
    "        \"not_in_egrid\"\n",
    "    )\n",
    "\n",
    "# identify which plants are missing from egrid vs calculated values\n",
    "for col in [\n",
    "    \"net_generation_mwh\",\n",
    "    \"fuel_consumed_mmbtu\",\n",
    "    \"fuel_consumed_for_electricity_mmbtu\",\n",
    "    \"co2_mass_lb_adjusted\",\n",
    "    \"co2_mass_lb\",\n",
    "]:\n",
    "    # identify plants that are missing in egrid\n",
    "    plants_missing_egrid = list(\n",
    "        compared_merged[\n",
    "            (compared_merged[f\"{col}_calc\"] > 0)\n",
    "            & (compared_merged[f\"{col}_egrid\"].isna())\n",
    "        ].index\n",
    "    )\n",
    "    compared.loc[compared.index.isin(plants_missing_egrid), f\"{col}_status\"] = (\n",
    "        \"missing_in_egrid\"\n",
    "    )\n",
    "    # identify plants that are missing from our calculations\n",
    "    plants_missing_calc = list(\n",
    "        compared_merged[\n",
    "            (compared_merged[f\"{col}_calc\"].isna())\n",
    "            & (compared_merged[f\"{col}_egrid\"] > 0)\n",
    "        ].index\n",
    "    )\n",
    "    compared.loc[compared.index.isin(plants_missing_calc), f\"{col}_status\"] = (\n",
    "        \"missing_in_calc\"\n",
    "    )\n",
    "    # identify where our calculations are missing a zero value\n",
    "    plants_missing_zero_calc = list(\n",
    "        compared_merged[\n",
    "            (compared_merged[f\"{col}_calc\"].isna())\n",
    "            & (compared_merged[f\"{col}_egrid\"] == 0)\n",
    "        ].index\n",
    "    )\n",
    "    compared.loc[compared.index.isin(plants_missing_zero_calc), f\"{col}_status\"] = (\n",
    "        \"missing_zero_in_calc\"\n",
    "    )\n",
    "    # identify where egrid has a missing value instead of a zero\n",
    "    plants_missing_zero_egrid = list(\n",
    "        compared_merged[\n",
    "            (compared_merged[f\"{col}_calc\"] == 0)\n",
    "            & (compared_merged[f\"{col}_egrid\"].isna())\n",
    "        ].index\n",
    "    )\n",
    "    compared.loc[compared.index.isin(plants_missing_zero_egrid), f\"{col}_status\"] = (\n",
    "        \"missing_zero_in_egrid\"\n",
    "    )\n",
    "    # identify where egrid has a zero value where we have a positive value\n",
    "    plants_incorrect_zero_egrid = list(\n",
    "        compared_merged[\n",
    "            (compared_merged[f\"{col}_calc\"] > 0)\n",
    "            & (compared_merged[f\"{col}_egrid\"] == 0)\n",
    "        ].index\n",
    "    )\n",
    "    compared.loc[compared.index.isin(plants_incorrect_zero_egrid), f\"{col}_status\"] = (\n",
    "        \">50%\"\n",
    "    )\n",
    "\n",
    "# create a dataframe that counts how many plants are in each category\n",
    "comparison_count = []\n",
    "for col in [\n",
    "    \"net_generation_mwh\",\n",
    "    \"fuel_consumed_mmbtu\",\n",
    "    \"fuel_consumed_for_electricity_mmbtu\",\n",
    "    \"co2_mass_lb_adjusted\",\n",
    "    \"co2_mass_lb\",\n",
    "]:\n",
    "    count = (\n",
    "        compared.groupby(f\"{col}_status\", dropna=False)\n",
    "        .count()[\"plant_name\"]\n",
    "        .rename(col)\n",
    "    )\n",
    "    count.index = count.index.rename(\"status\")\n",
    "    comparison_count.append(count)\n",
    "\n",
    "comparison_count = pd.concat(comparison_count, axis=1).fillna(0).astype(int)\n",
    "comparison_count = pd.concat(\n",
    "    [comparison_count, pd.DataFrame(comparison_count.sum().rename(\"Total\")).T], axis=0\n",
    ")\n",
    "comparison_count"
   ]
  },
  {
   "cell_type": "code",
   "execution_count": null,
   "metadata": {},
   "outputs": [],
   "source": [
    "print(comparison_count.to_markdown())"
   ]
  },
  {
   "cell_type": "markdown",
   "metadata": {},
   "source": [
    "## BA Metric"
   ]
  },
  {
   "cell_type": "code",
   "execution_count": null,
   "metadata": {},
   "outputs": [],
   "source": [
    "# load egrid BA totals\n",
    "\"\"\"egrid_ba = pd.read_excel(f'../data/downloads/egrid/egrid{year}_data.xlsx', sheet_name=f'BA{str(year)[-2:]}', header=1, usecols=['BANAME','BACODE','BAHTIANT','BANGENAN','BACO2AN'])\n",
    "# rename the columns\n",
    "egrid_ba = egrid_ba.rename(columns={'BANAME':'ba_name',\n",
    "                                    'BACODE':'ba_code',\n",
    "                                    'BAHTIANT':'fuel_consumed_mmbtu',\n",
    "                                    'BANGENAN':'net_generation_mwh',\n",
    "                                    'BACO2AN':'co2_mass_lb'})\"\"\"\n",
    "\n",
    "data_columns = [\n",
    "    \"net_generation_mwh\",\n",
    "    \"fuel_consumed_mmbtu\",\n",
    "    \"fuel_consumed_for_electricity_mmbtu\",\n",
    "    \"co2_mass_lb\",\n",
    "    \"co2_mass_lb_adjusted\",\n",
    "]\n",
    "\n",
    "# aggregate the plant data up to the BA level\n",
    "egrid_ba = egrid_plant.groupby([\"ba_code\"]).sum()[data_columns].reset_index()\n",
    "\n",
    "# divide our calculation by the BA totals from eGRID\n",
    "# if there are 0 values, replace with 0.1, so that div by zero doesn't return missing value\n",
    "ba_metric = (\n",
    "    plant_annual_total.groupby(\"ba_code\", dropna=False)\n",
    "    .sum()\n",
    "    .drop(columns=\"plant_id_eia\")\n",
    "    .replace(0, 0.1)\n",
    "    .div(egrid_ba.set_index(\"ba_code\").replace(0, 0.1))\n",
    "    .sort_values(by=\"co2_mass_lb\")\n",
    "    .round(3)\n",
    ")\n",
    "\n",
    "total = pd.DataFrame(\n",
    "    plant_annual_total[data_columns]\n",
    "    .sum()\n",
    "    .div(egrid_ba[data_columns].sum())\n",
    "    .rename(\"Total\")\n",
    ").T\n",
    "\n",
    "# calculate the difference in the number of plants in each region\n",
    "plant_count = (\n",
    "    plant_annual_total.groupby(\"ba_code\", dropna=False).count()[\"plant_id_egrid\"]\n",
    "    - egrid_plant.groupby(\"ba_code\", dropna=False).count()[\"plant_id_egrid\"]\n",
    ").rename(\"num_plants\")\n",
    "ba_metric = (\n",
    "    ba_metric.merge(plant_count, how=\"left\", left_index=True, right_index=True)\n",
    "    .drop(columns=[\"plant_id_egrid\"])\n",
    "    .sort_index()\n",
    ")\n",
    "\n",
    "ba_metric = pd.concat([ba_metric, total], axis=0).round(2)\n",
    "\n",
    "ba_metric = ba_metric[data_columns + [\"num_plants\"]]\n",
    "\n",
    "columns_to_check = [\n",
    "    \"net_generation_mwh\",\n",
    "    \"fuel_consumed_mmbtu\",\n",
    "    \"fuel_consumed_for_electricity_mmbtu\",\n",
    "    \"co2_mass_lb\",\n",
    "]\n",
    "\n",
    "with pd.option_context(\"display.max_rows\", None, \"display.max_columns\", None):\n",
    "    display(ba_metric[~(ba_metric[columns_to_check] == 1).all(axis=1)])"
   ]
  },
  {
   "cell_type": "code",
   "execution_count": null,
   "metadata": {},
   "outputs": [],
   "source": [
    "# how much co2 comes from CEMS vs EIA\n",
    "data_source_by_ba = pd.pivot_table(\n",
    "    eia923_allocated,\n",
    "    values=\"co2_mass_lb\",\n",
    "    index=\"ba_code\",\n",
    "    columns=\"data_source\",\n",
    "    dropna=False,\n",
    "    aggfunc=np.sum,\n",
    ").replace(0, 0.001)\n",
    "data_source_by_ba = data_source_by_ba.div(data_source_by_ba.sum(axis=1), axis=0)\n",
    "with pd.option_context(\"display.max_rows\", None, \"display.max_columns\", None):\n",
    "    display(data_source_by_ba.round(3).fillna(0).sort_values(by=\"cems\"))"
   ]
  },
  {
   "cell_type": "code",
   "execution_count": null,
   "metadata": {},
   "outputs": [],
   "source": [
    "print(ba_metric.to_markdown())"
   ]
  },
  {
   "cell_type": "markdown",
   "metadata": {},
   "source": [
    "## Explore specific plants\n",
    "\n",
    "### Notes\n",
    "\n",
    "Net generation < 50%:\n",
    " - 2617 has negative net generation\n",
    " - 10444, 59395: some plants are hybrid fossil / solar plants, but the primary energy source code is getting listed as PV for certain generators, which is causing an issue\n",
    "\n",
    "Net generation > 50%:\n",
    " - 335 has two extra units (CT1 and CT2) that report to CEMS but not EIA. Likely correct\n",
    " - 7288 reports DFO to CEMS, but NG to EIA - there's probably some generators not reporting\n",
    " - 60698 double counting generation from cEMS because of 90% heat threhshold in a month - might be fixed once we tackle heat input\n",
    " - 58256 is a solar/hybrid and in generators_entity_eia the battery portion is associated with a separate generator id (should only be 1)\n",
    "\n",
    "\n",
    "Other:\n",
    " - plant 3754 has heat input in cems and eia that don't match\n",
    " - 2401 has generation in both cems and eia\n",
    " - 50933 might have allocation issue (doesn't appear in CEMS)\n",
    "\n",
    "To check\n",
    " - 1404 reports generation to CEMS in December, but not to EIA. This is likely correct\n",
    " - plant 2504 has three units (120, 121, 122) that don't appear in EIA, and in CEMS only report steam. \n",
    "\n",
    "Fuel > 50%\n",
    " - Plant 3116 reports much more heat input to CEMS during ozone months than to EIA\n",
    "\n",
    "BA Totals\n",
    " - TEPC and SRP are off because the Gila River Generator is shared between SRP and TEPC, and eGRID reports all generation from this project belonging to TEPC\n"
   ]
  },
  {
   "cell_type": "code",
   "execution_count": null,
   "metadata": {},
   "outputs": [],
   "source": [
    "# examine specific plants in a category\n",
    "value = \"fuel_consumed_mmbtu\"\n",
    "status = \">50%\"\n",
    "\n",
    "# compared_merged.loc[64877,:]\n",
    "\n",
    "compared[compared[f\"{value}_status\"] == status].sort_values(by=value)"
   ]
  },
  {
   "cell_type": "code",
   "execution_count": null,
   "metadata": {},
   "outputs": [],
   "source": [
    "compared[compared[f\"{value}_status\"] == status].sort_values(by=value).sample(10)"
   ]
  },
  {
   "cell_type": "code",
   "execution_count": null,
   "metadata": {},
   "outputs": [],
   "source": [
    "plant_to_explore = 58380"
   ]
  },
  {
   "cell_type": "code",
   "execution_count": null,
   "metadata": {},
   "outputs": [],
   "source": [
    "egrid_plant[egrid_plant[\"plant_id_eia\"] == plant_to_explore]"
   ]
  },
  {
   "cell_type": "code",
   "execution_count": null,
   "metadata": {},
   "outputs": [],
   "source": [
    "plant_annual_total[plant_annual_total[\"plant_id_eia\"] == plant_to_explore]"
   ]
  },
  {
   "cell_type": "code",
   "execution_count": null,
   "metadata": {},
   "outputs": [],
   "source": [
    "eia923_allocated[eia923_allocated[\"plant_id_eia\"] == plant_to_explore].sum()"
   ]
  },
  {
   "cell_type": "code",
   "execution_count": null,
   "metadata": {},
   "outputs": [],
   "source": [
    "cems_unit_monthly = (\n",
    "    cems.groupby([\"plant_id_eia\", \"emissions_unit_id_epa\", \"report_date\"])\n",
    "    .sum()\n",
    "    .reset_index()\n",
    ")"
   ]
  },
  {
   "cell_type": "code",
   "execution_count": null,
   "metadata": {},
   "outputs": [],
   "source": [
    "cems_unit_monthly[cems_unit_monthly[\"plant_id_eia\"] == plant_to_explore].sum()"
   ]
  },
  {
   "cell_type": "code",
   "execution_count": null,
   "metadata": {},
   "outputs": [],
   "source": [
    "cems[(cems[\"plant_id_eia\"] == plant_to_explore) & (cems[\"operating_time_hours\"] > 0)]"
   ]
  },
  {
   "cell_type": "code",
   "execution_count": null,
   "metadata": {},
   "outputs": [],
   "source": [
    "cems_plant_annual[cems_plant_annual[\"plant_id_eia\"] == plant_to_explore]"
   ]
  },
  {
   "cell_type": "code",
   "execution_count": null,
   "metadata": {},
   "outputs": [],
   "source": [
    "# there are some plants that report heat input and co2 in CEMS, but are missing net generation data\n",
    "# TODO: we should maybe try and fill net generation data using EIA-923?\n",
    "cems_plant_annual[cems_plant_annual[\"net_generation_mwh\"] == 0]"
   ]
  },
  {
   "cell_type": "markdown",
   "metadata": {},
   "source": [
    "## Explore BA Matching\n",
    "### Notes\n",
    "TEPC and SRP are off because the Gila River Generator is shared between SRP and TEPC, and eGRID reports all generation from this project belonging to TEPC"
   ]
  },
  {
   "cell_type": "code",
   "execution_count": null,
   "metadata": {},
   "outputs": [],
   "source": [
    "ba_plant_match = plant_annual_total[plant_annual_total[\"ba_code\"].isna()].merge(\n",
    "    egrid_plant[egrid_plant[\"ba_code\"].isna()],\n",
    "    how=\"left\",\n",
    "    on=\"plant_id_egrid\",\n",
    "    suffixes=(\"_calc\", \"_egrid\"),\n",
    ")\n",
    "ba_plant_match[\n",
    "    ba_plant_match[\"net_generation_mwh_calc\"].round(0)\n",
    "    != ba_plant_match[\"net_generation_mwh_egrid\"].round(0)\n",
    "]"
   ]
  },
  {
   "cell_type": "code",
   "execution_count": null,
   "metadata": {},
   "outputs": [],
   "source": [
    "egrid_plant[egrid_plant[\"ba_code\"] == \"CPLE\"]"
   ]
  },
  {
   "cell_type": "code",
   "execution_count": null,
   "metadata": {},
   "outputs": [],
   "source": [
    "compare_plants_in_ba = egrid_plant.merge(\n",
    "    plant_annual_total, how=\"outer\", on=\"plant_id_egrid\", suffixes=(\"_egrid\", \"_calc\")\n",
    ")"
   ]
  },
  {
   "cell_type": "code",
   "execution_count": null,
   "metadata": {},
   "outputs": [],
   "source": [
    "ba = \"CPLE\"\n",
    "metric = \"fuel_consumed_mmbtu\"\n",
    "\n",
    "compare_plants_in_ba[\n",
    "    (\n",
    "        (compare_plants_in_ba[\"ba_code_egrid\"] == ba)\n",
    "        | (compare_plants_in_ba[\"ba_code_calc\"] == ba)\n",
    "    )\n",
    "    & (\n",
    "        compare_plants_in_ba[f\"{metric}_egrid\"].round(0)\n",
    "        != compare_plants_in_ba[f\"{metric}_calc\"].round(0)\n",
    "    )\n",
    "]"
   ]
  },
  {
   "cell_type": "code",
   "execution_count": null,
   "metadata": {},
   "outputs": [],
   "source": [
    "plant_annual_total[plant_annual_total[\"ba_code\"] == \"AMPL\"]"
   ]
  }
 ],
 "metadata": {
  "interpreter": {
   "hash": "4103f3cd497821eca917ea303dbe10c590d787eb7d2dc3fd4e15dec0356e7931"
  },
  "kernelspec": {
   "display_name": "Python 3.9.12 ('hourly_egrid')",
   "language": "python",
   "name": "python3"
  },
  "language_info": {
   "codemirror_mode": {
    "name": "ipython",
    "version": 3
   },
   "file_extension": ".py",
   "mimetype": "text/x-python",
   "name": "python",
   "nbconvert_exporter": "python",
   "pygments_lexer": "ipython3",
   "version": "3.11.2"
  }
 },
 "nbformat": 4,
 "nbformat_minor": 2
}
