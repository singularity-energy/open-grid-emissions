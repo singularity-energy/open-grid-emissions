{
 "cells": [
  {
   "cell_type": "markdown",
   "metadata": {},
   "source": [
    "# Compare Subplant Crosswalk Across Years "
   ]
  },
  {
   "cell_type": "code",
   "execution_count": null,
   "metadata": {},
   "outputs": [],
   "source": [
    "import os\n",
    "import pandas as pd\n",
    "\n",
    "from oge.filepaths import outputs_folder"
   ]
  },
  {
   "cell_type": "markdown",
   "metadata": {},
   "source": [
    "## Load Data from S3\n",
    "Drop NAs in `subplan_id`, `plant_id_eia` and`generator_id` in order to compare `subplan_id` across years for same (`plant_id_eia`, `generator_id`) combination"
   ]
  },
  {
   "cell_type": "code",
   "execution_count": null,
   "metadata": {},
   "outputs": [],
   "source": [
    "os.environ[\"OGE_DATA_STORE\"] = \"s3\"\n",
    "subplant = {\n",
    "    y: pd.read_csv(outputs_folder(f\"{y}/subplant_crosswalk_{y}.csv\"))\n",
    "    .dropna(axis=0, subset=[\"plant_id_eia\", \"generator_id\", \"subplant_id\"])\n",
    "    .set_index([\"plant_id_eia\", \"generator_id\"])[\"subplant_id\"]\n",
    "    for y in range(2019, 2023)\n",
    "}"
   ]
  },
  {
   "cell_type": "markdown",
   "metadata": {},
   "source": [
    "Look at length of series. It should be different from year to year as generators come online or are retired. It seems to increase from one year to the next."
   ]
  },
  {
   "cell_type": "code",
   "execution_count": null,
   "metadata": {},
   "outputs": [],
   "source": [
    "[len(df) for df in subplant.values()]"
   ]
  },
  {
   "cell_type": "markdown",
   "metadata": {},
   "source": [
    "## Look at Difference"
   ]
  },
  {
   "cell_type": "code",
   "execution_count": null,
   "metadata": {},
   "outputs": [],
   "source": [
    "mismatch = {\n",
    "    f\"{i}-{j}\": subplant[i]\n",
    "    .reset_index()\n",
    "    .merge(\n",
    "        subplant[j].reset_index(),\n",
    "        on=[\"plant_id_eia\", \"generator_id\"],\n",
    "        how=\"inner\",\n",
    "        suffixes=[f\"_{i}\", f\"_{j}\"],\n",
    "    )\n",
    "    .query(f\"subplant_id_{i} - subplant_id_{j} != 0\")\n",
    "    .set_index([\"plant_id_eia\", \"generator_id\"])\n",
    "    for i in range(2019, 2022)\n",
    "    for j in range(i + 1, 2023)\n",
    "}"
   ]
  },
  {
   "cell_type": "code",
   "execution_count": null,
   "metadata": {},
   "outputs": [],
   "source": [
    "print(\n",
    "    \"Number of difference in subplant_id for same (plant_id_eia, generator_id) combination\"\n",
    ")\n",
    "for k, v in mismatch.items():\n",
    "    print(f\"{k}: {len(v)}\")"
   ]
  },
  {
   "cell_type": "code",
   "execution_count": null,
   "metadata": {},
   "outputs": [],
   "source": [
    "mismatch[\"2021-2022\"]"
   ]
  }
 ],
 "metadata": {
  "kernelspec": {
   "display_name": "open-grid-emissions-zm3GQQDc",
   "language": "python",
   "name": "python3"
  },
  "language_info": {
   "codemirror_mode": {
    "name": "ipython",
    "version": 3
   },
   "file_extension": ".py",
   "mimetype": "text/x-python",
   "name": "python",
   "nbconvert_exporter": "python",
   "pygments_lexer": "ipython3",
   "version": "3.11.2"
  }
 },
 "nbformat": 4,
 "nbformat_minor": 2
}
