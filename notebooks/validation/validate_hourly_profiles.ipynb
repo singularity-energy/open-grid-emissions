{
 "cells": [
  {
   "cell_type": "code",
   "execution_count": null,
   "metadata": {},
   "outputs": [],
   "source": [
    "import pandas as pd\n",
    "import sys\n",
    "import plotly.express as px\n",
    "\n",
    "sys.path.append(\"../../../open-grid-emissions/\")\n",
    "%reload_ext autoreload\n",
    "%autoreload 2\n",
    "from src.column_checks import get_dtypes, apply_dtypes\n",
    "import src.impute_hourly_profiles as impute_hourly_profiles\n",
    "import src.data_cleaning as data_cleaning\n",
    "import src.load_data as load_data\n",
    "import src.validation as validation\n",
    "import src.eia930 as eia930\n",
    "import numpy as np\n",
    "\n",
    "# load data from csv\n",
    "year = 2020\n",
    "path_prefix = \"\"\n",
    "\n",
    "path_prefix = f\"{path_prefix}{year}\""
   ]
  },
  {
   "cell_type": "markdown",
   "metadata": {},
   "source": [
    "# About \n",
    "The purpose of this notebook is to validate the methods that we use for imputing missing wind and solar generation profiles when data is not available from EIA-930. \n",
    "\n",
    "Our current method uses two approaches:\n",
    "1. Take the average profile from that resource in all of the directly interconnected balancing authorities located in the same time zone\n",
    "2. Take the average of all profiles nationally, in the local time."
   ]
  },
  {
   "cell_type": "markdown",
   "metadata": {},
   "source": [
    "# Which version of the EIA-930 data should we use?"
   ]
  },
  {
   "cell_type": "code",
   "execution_count": null,
   "metadata": {},
   "outputs": [],
   "source": [
    "eia930_data_raw = (\n",
    "    eia930.load_chalendar_for_pipeline(\n",
    "        f\"../data/outputs/{path_prefix}/eia930/eia930_raw.csv\", year=year\n",
    "    )\n",
    "    .pipe(eia930.remove_imputed_ones)\n",
    "    .pipe(eia930.remove_months_with_zero_data)\n",
    ")\n",
    "eia930_data_roll = (\n",
    "    eia930.load_chalendar_for_pipeline(\n",
    "        f\"../data/outputs/{path_prefix}/eia930/eia930_rolling.csv\", year=year\n",
    "    )\n",
    "    .pipe(eia930.remove_imputed_ones)\n",
    "    .pipe(eia930.remove_months_with_zero_data)\n",
    ")\n",
    "eia930_data_cleaned = (\n",
    "    eia930.load_chalendar_for_pipeline(\n",
    "        f\"../data/outputs/{path_prefix}/eia930/eia930_elec.csv\", year=year\n",
    "    )\n",
    "    .pipe(eia930.remove_imputed_ones)\n",
    "    .pipe(eia930.remove_months_with_zero_data)\n",
    ")"
   ]
  },
  {
   "cell_type": "code",
   "execution_count": null,
   "metadata": {},
   "outputs": [],
   "source": [
    "cems = pd.read_csv(\n",
    "    f\"../data/outputs/{path_prefix}/cems_subplant_{year}.csv\",\n",
    "    dtype=get_dtypes(),\n",
    "    parse_dates=[\"datetime_utc\", \"report_date\"],\n",
    ")\n",
    "partial_cems_scaled = pd.read_csv(\n",
    "    f\"../data/outputs/{path_prefix}/partial_cems_scaled_{year}.csv\",\n",
    "    dtype=get_dtypes(),\n",
    "    parse_dates=[\"datetime_utc\", \"report_date\"],\n",
    ")\n",
    "eia923_allocated = pd.read_csv(\n",
    "    f\"../data/outputs/{path_prefix}/eia923_allocated_{year}.csv\",\n",
    "    dtype=get_dtypes(),\n",
    "    parse_dates=[\"report_date\"],\n",
    ")\n",
    "plant_attributes = pd.read_csv(\n",
    "    f\"../data/outputs/{path_prefix}/plant_static_attributes_{year}.csv\"\n",
    ")\n",
    "primary_fuel_table = plant_attributes.drop_duplicates(subset=\"plant_id_eia\")[\n",
    "    [\"plant_id_eia\", \"plant_primary_fuel\"]\n",
    "]\n",
    "\n",
    "# aggregate cems data to subplant level\n",
    "cems = data_cleaning.aggregate_cems_to_subplant(cems)\n",
    "\n",
    "# drop data from cems that is now in partial_cems\n",
    "cems = data_cleaning.filter_unique_cems_data(cems, partial_cems_scaled)\n",
    "\n",
    "# create a separate dataframe containing only the EIA data that is missing from cems\n",
    "monthly_eia_data_to_shape = eia923_allocated[\n",
    "    (eia923_allocated[\"hourly_data_source\"] == \"eia\")\n",
    "    & ~(eia923_allocated[\"fuel_consumed_mmbtu\"].isna())\n",
    "]"
   ]
  },
  {
   "cell_type": "code",
   "execution_count": null,
   "metadata": {},
   "outputs": [],
   "source": [
    "data_to_graph = eia930_data_roll[\n",
    "    (eia930_data_roll[\"fuel_category_eia930\"] == \"solar\")\n",
    "    & (eia930_data_roll[\"report_date\"] == \"2020-07-01\")\n",
    "]\n",
    "\n",
    "px.line(data_to_graph, x=\"datetime_local\", y=\"net_generation_mwh_930\", color=\"ba_code\")"
   ]
  },
  {
   "cell_type": "code",
   "execution_count": null,
   "metadata": {},
   "outputs": [],
   "source": [
    "hourly_profiles_raw = impute_hourly_profiles.calculate_hourly_profiles(\n",
    "    cems,\n",
    "    eia930_data_raw,\n",
    "    plant_attributes,\n",
    "    monthly_eia_data_to_shape,\n",
    "    year,\n",
    "    transmission_only=False,\n",
    "    ba_column_name=\"ba_code\",\n",
    ")\n",
    "\n",
    "hourly_profiles_roll = impute_hourly_profiles.calculate_hourly_profiles(\n",
    "    cems,\n",
    "    eia930_data_roll,\n",
    "    plant_attributes,\n",
    "    monthly_eia_data_to_shape,\n",
    "    year,\n",
    "    transmission_only=False,\n",
    "    ba_column_name=\"ba_code\",\n",
    ")\n",
    "\n",
    "hourly_profiles_cleaned = impute_hourly_profiles.calculate_hourly_profiles(\n",
    "    cems,\n",
    "    eia930_data_cleaned,\n",
    "    plant_attributes,\n",
    "    monthly_eia_data_to_shape,\n",
    "    year,\n",
    "    transmission_only=False,\n",
    "    ba_column_name=\"ba_code\",\n",
    ")"
   ]
  },
  {
   "cell_type": "markdown",
   "metadata": {},
   "source": [
    "### Examine raw data"
   ]
  },
  {
   "cell_type": "code",
   "execution_count": null,
   "metadata": {},
   "outputs": [],
   "source": [
    "hourly_profiles_raw[\n",
    "    [\"ba_code\", \"fuel_category\", \"report_date\", \"profile_method\"]\n",
    "].drop_duplicates().drop(columns=[\"ba_code\"]).pivot_table(\n",
    "    index=\"fuel_category\", columns=\"profile_method\", aggfunc=\"count\"\n",
    ").fillna(0).astype(int)"
   ]
  },
  {
   "cell_type": "code",
   "execution_count": null,
   "metadata": {},
   "outputs": [],
   "source": [
    "diba_validation = validation.validate_diba_imputation_method(hourly_profiles_raw, year)\n",
    "diba_validation.groupby([\"fuel_category\"]).mean()[\"imputed_profile\"]"
   ]
  },
  {
   "cell_type": "code",
   "execution_count": null,
   "metadata": {},
   "outputs": [],
   "source": [
    "national_validation = validation.validate_national_imputation_method(\n",
    "    hourly_profiles_raw, year\n",
    ")\n",
    "national_validation.groupby([\"fuel_category\"]).mean()[\"imputed_profile\"]"
   ]
  },
  {
   "cell_type": "markdown",
   "metadata": {},
   "source": [
    "### Examine Rolling Data"
   ]
  },
  {
   "cell_type": "code",
   "execution_count": null,
   "metadata": {},
   "outputs": [],
   "source": [
    "hourly_profiles_roll[\n",
    "    [\"ba_code\", \"fuel_category\", \"report_date\", \"profile_method\"]\n",
    "].drop_duplicates().drop(columns=[\"ba_code\"]).pivot_table(\n",
    "    index=\"fuel_category\", columns=\"profile_method\", aggfunc=\"count\"\n",
    ").fillna(0).astype(int)"
   ]
  },
  {
   "cell_type": "code",
   "execution_count": null,
   "metadata": {},
   "outputs": [],
   "source": [
    "diba_validation = validation.validate_diba_imputation_method(hourly_profiles_roll, year)\n",
    "diba_validation.groupby([\"fuel_category\"]).mean()[\"imputed_profile\"]"
   ]
  },
  {
   "cell_type": "code",
   "execution_count": null,
   "metadata": {},
   "outputs": [],
   "source": [
    "national_validation = validation.validate_national_imputation_method(\n",
    "    hourly_profiles_roll, year\n",
    ")\n",
    "national_validation.groupby([\"fuel_category\"]).mean()[\"imputed_profile\"]"
   ]
  },
  {
   "cell_type": "markdown",
   "metadata": {},
   "source": [
    "### Examine Cleaned Data"
   ]
  },
  {
   "cell_type": "code",
   "execution_count": null,
   "metadata": {},
   "outputs": [],
   "source": [
    "hourly_profiles_cleaned[\n",
    "    [\"ba_code\", \"fuel_category\", \"report_date\", \"profile_method\"]\n",
    "].drop_duplicates().drop(columns=[\"ba_code\"]).pivot_table(\n",
    "    index=\"fuel_category\", columns=\"profile_method\", aggfunc=\"count\"\n",
    ").fillna(0).astype(int)"
   ]
  },
  {
   "cell_type": "code",
   "execution_count": null,
   "metadata": {},
   "outputs": [],
   "source": [
    "diba_validation = validation.validate_diba_imputation_method(\n",
    "    hourly_profiles_cleaned, year\n",
    ")\n",
    "diba_validation.groupby([\"fuel_category\"]).mean()[\"imputed_profile\"]"
   ]
  },
  {
   "cell_type": "code",
   "execution_count": null,
   "metadata": {},
   "outputs": [],
   "source": [
    "national_validation = validation.validate_national_imputation_method(\n",
    "    hourly_profiles_cleaned, year\n",
    ")\n",
    "national_validation.groupby([\"fuel_category\"]).mean()[\"imputed_profile\"]"
   ]
  },
  {
   "cell_type": "markdown",
   "metadata": {},
   "source": [
    "# Validate the data from the pipeline"
   ]
  },
  {
   "cell_type": "code",
   "execution_count": null,
   "metadata": {},
   "outputs": [],
   "source": [
    "hourly_profiles = pd.read_csv(\n",
    "    f\"../data/outputs/{path_prefix}/hourly_profiles_{year}.csv\"\n",
    ")\n",
    "shaped_eia923_data = pd.read_csv(\n",
    "    f\"../data/outputs/{path_prefix}/shaped_eia923_data_{year}.csv\", dtype=get_dtypes()\n",
    ")"
   ]
  },
  {
   "cell_type": "code",
   "execution_count": null,
   "metadata": {},
   "outputs": [],
   "source": [
    "data_to_graph[data_to_graph[\"report_date\"] == \"2020-04-01\"]"
   ]
  },
  {
   "cell_type": "code",
   "execution_count": null,
   "metadata": {},
   "outputs": [],
   "source": [
    "data_to_graph = hourly_profiles[\n",
    "    (hourly_profiles[\"fuel_category\"] == \"natural_gas\")\n",
    "    & (hourly_profiles[\"ba_code\"] == \"ERCO\")\n",
    "]\n",
    "\n",
    "px.line(\n",
    "    data_to_graph,\n",
    "    x=\"datetime_local\",\n",
    "    y=[\"eia930_profile\", \"cems_profile\", \"residual_profile\", \"scaled_residual_profile\"],\n",
    ")"
   ]
  },
  {
   "cell_type": "code",
   "execution_count": null,
   "metadata": {},
   "outputs": [],
   "source": [
    "data_to_graph = shaped_eia923_data[\n",
    "    (shaped_eia923_data[\"fuel_category\"] == \"natural_gas\")\n",
    "    & (shaped_eia923_data[\"ba_code\"] == \"ERCO\")\n",
    "]\n",
    "\n",
    "px.line(data_to_graph, x=\"datetime_utc\", y=[\"net_generation_mwh\"])"
   ]
  },
  {
   "cell_type": "code",
   "execution_count": null,
   "metadata": {},
   "outputs": [],
   "source": [
    "diba_validation = validation.validate_diba_imputation_method(hourly_profiles, year)\n",
    "diba_validation.groupby([\"fuel_category\"]).mean()[\"imputed_profile\"]"
   ]
  },
  {
   "cell_type": "code",
   "execution_count": null,
   "metadata": {},
   "outputs": [],
   "source": [
    "national_validation = validation.validate_national_imputation_method(\n",
    "    hourly_profiles, year\n",
    ")\n",
    "national_validation.groupby([\"fuel_category\"]).mean()[\"imputed_profile\"]"
   ]
  },
  {
   "cell_type": "code",
   "execution_count": null,
   "metadata": {},
   "outputs": [],
   "source": [
    "# how often are these methods used?\n",
    "hourly_profiles[\n",
    "    [\"ba_code\", \"fuel_category\", \"report_date\", \"profile_method\"]\n",
    "].drop_duplicates().drop(columns=[\"ba_code\"]).pivot_table(\n",
    "    index=\"fuel_category\", columns=\"profile_method\", aggfunc=\"count\"\n",
    ").fillna(0).astype(int)"
   ]
  }
 ],
 "metadata": {
  "kernelspec": {
   "display_name": "Python 3.9.12 ('hourly_egrid')",
   "language": "python",
   "name": "python3"
  },
  "language_info": {
   "codemirror_mode": {
    "name": "ipython",
    "version": 3
   },
   "file_extension": ".py",
   "mimetype": "text/x-python",
   "name": "python",
   "nbconvert_exporter": "python",
   "pygments_lexer": "ipython3",
   "version": "3.10.5"
  },
  "orig_nbformat": 4,
  "vscode": {
   "interpreter": {
    "hash": "4103f3cd497821eca917ea303dbe10c590d787eb7d2dc3fd4e15dec0356e7931"
   }
  }
 },
 "nbformat": 4,
 "nbformat_minor": 2
}
