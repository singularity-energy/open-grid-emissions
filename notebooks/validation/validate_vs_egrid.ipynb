{
 "cells": [
  {
   "cell_type": "code",
   "execution_count": null,
   "metadata": {},
   "outputs": [],
   "source": [
    "# import packages\n",
    "import numpy as np\n",
    "import pandas as pd\n",
    "import os\n",
    "import plotly.express as px\n",
    "from IPython.display import display\n",
    "\n",
    "%reload_ext autoreload\n",
    "%autoreload 2\n",
    "\n",
    "# Tell python where to look for modules. \n",
    "import sys\n",
    "sys.path.append('../../../open-grid-emissions/src/')\n",
    "\n",
    "# import local modules\n",
    "import load_data\n",
    "import validate_egrid\n",
    "from filepaths import *\n",
    "\n",
    "#from column_checks import get_dtypes"
   ]
  },
  {
   "cell_type": "markdown",
   "metadata": {},
   "source": [
    "# Specify the year for validation"
   ]
  },
  {
   "cell_type": "code",
   "execution_count": null,
   "metadata": {},
   "outputs": [],
   "source": [
    "year = 2021"
   ]
  },
  {
   "cell_type": "markdown",
   "metadata": {},
   "source": [
    "## Compare Our Results to eGRID"
   ]
  },
  {
   "cell_type": "code",
   "execution_count": null,
   "metadata": {},
   "outputs": [],
   "source": [
    "# load our annual plant level data\n",
    "oge_plant = validate_egrid.load_oge_plant_data(year)\n",
    "\n",
    "# Load the eGRID plant table\n",
    "egrid_plant = validate_egrid.load_egrid_plant_file(year)\n"
   ]
  },
  {
   "cell_type": "markdown",
   "metadata": {},
   "source": [
    "### Identify plants missing from our results that exist in eGRID\n"
   ]
  },
  {
   "cell_type": "code",
   "execution_count": null,
   "metadata": {},
   "outputs": [],
   "source": [
    "(\n",
    "    missing_from_calc,\n",
    "    PLANTS_MISSING_FROM_CALCULATION,\n",
    ") = validate_egrid.identify_plants_missing_from_oge(\n",
    "    egrid_plant, oge_plant, year\n",
    ")\n",
    "missing_from_calc\n"
   ]
  },
  {
   "cell_type": "markdown",
   "metadata": {},
   "source": [
    "### Identify plants missing from eGRID that are in our calculations"
   ]
  },
  {
   "cell_type": "code",
   "execution_count": null,
   "metadata": {},
   "outputs": [],
   "source": [
    "(\n",
    "    missing_from_egrid,\n",
    "    PLANTS_MISSING_FROM_EGRID,\n",
    ") = validate_egrid.identify_plants_missing_from_egrid(egrid_plant, oge_plant, year)\n",
    "\n",
    "\n",
    "missing_from_egrid"
   ]
  },
  {
   "cell_type": "markdown",
   "metadata": {},
   "source": [
    "### Compare whether totals for plants with EPA IDs that differ from EIA IDs match"
   ]
  },
  {
   "cell_type": "code",
   "execution_count": null,
   "metadata": {},
   "outputs": [],
   "source": [
    "validate_egrid.check_plants_with_different_egrid_eia_plant_ids(oge_plant, egrid_plant)\n"
   ]
  },
  {
   "cell_type": "markdown",
   "metadata": {},
   "source": [
    "### Identify plants where our BA assignment does not match eGRID"
   ]
  },
  {
   "cell_type": "code",
   "execution_count": null,
   "metadata": {},
   "outputs": [],
   "source": [
    "validate_egrid.check_ba_code_assignment(oge_plant, egrid_plant)"
   ]
  },
  {
   "cell_type": "markdown",
   "metadata": {},
   "source": [
    "### Identify whether the fuel codes of each plant match"
   ]
  },
  {
   "cell_type": "code",
   "execution_count": null,
   "metadata": {},
   "outputs": [],
   "source": [
    "validate_egrid.check_primary_fuel_assignment(oge_plant, egrid_plant)"
   ]
  },
  {
   "attachments": {},
   "cell_type": "markdown",
   "metadata": {},
   "source": [
    "# Evaluate Plant-level discrepencies"
   ]
  },
  {
   "cell_type": "code",
   "execution_count": null,
   "metadata": {},
   "outputs": [],
   "source": [
    "# evaluate all plants\n",
    "comparison_count, compared = validate_egrid.compare_plant_level_results_to_egrid(\n",
    "    annual_plant_results, egrid_plant, PLANTS_MISSING_FROM_EGRID\n",
    ")\n",
    "comparison_count"
   ]
  },
  {
   "cell_type": "code",
   "execution_count": null,
   "metadata": {},
   "outputs": [],
   "source": [
    "compared[(compared[\"ba_code\"] == \"SOCO\") & (compared[\"co2_mass_lb_status\"] != \"!exact\")]"
   ]
  },
  {
   "cell_type": "markdown",
   "metadata": {},
   "source": [
    "# Split data into different groups based on known discrepencies\n",
    "\n",
    "There are certain classes of plants where there are known issues that we know will prevent the totals from matching:\n",
    "- There are certain power plants that are missing altogether from eGRID\n",
    "- Geothermal power plants: EGRID sometimes has incorrect geotypes that may lead to different emissions estimates\n",
    "- Nuclear power plants: eGRID is generally missing fuel consumption data\n",
    "- Fuel cells are assumed by eGRID to have zero emissions\n",
    "- Plants that only report CEMS data for part of the year are sometimes missing data for the rest of the year in eGRID\n",
    "- CHP plants use a slightly different methodology\n",
    "- plants that report data to the bf table or gen table in EIA-923 may be missing data from teh generation and fuel table.\n",
    "- \"proposed\" plants sometimes report data before they are officially online and egrid doesn't always reflect that.\n",
    "\n",
    "\n",
    "We could identify plants where the total fuel doesn't match EIA-923, but matches the total fuel for a subset of prime movers"
   ]
  },
  {
   "cell_type": "code",
   "execution_count": null,
   "metadata": {},
   "outputs": [],
   "source": [
    "pudl_out = load_data.initialize_pudl_out(year)\n",
    "eia923_allocated = pd.read_csv(\n",
    "    outputs_folder(f\"{year}/eia923_allocated_{year}.csv\"),\n",
    "    dtype=get_dtypes(),\n",
    "    parse_dates=[\"report_date\"],\n",
    ")\n",
    "\n",
    "annual_plant_results_segmented = validate_egrid.segment_plants_by_known_issues(\n",
    "    annual_plant_results,\n",
    "    egrid_plant,\n",
    "    eia923_allocated,\n",
    "    pudl_out,\n",
    "    PLANTS_MISSING_FROM_EGRID,\n",
    ")\n"
   ]
  },
  {
   "cell_type": "markdown",
   "metadata": {},
   "source": [
    "## Plant Metric"
   ]
  },
  {
   "cell_type": "code",
   "execution_count": null,
   "metadata": {},
   "outputs": [],
   "source": [
    "flag_columns = [\n",
    "    \"flag_missing_egrid\",\n",
    "    \"flag_geothermal\",\n",
    "    \"flag_nuclear\",\n",
    "    \"flag_fuel_cell\",\n",
    "    \"flag_partial_year\",\n",
    "    \"flag_chp\",\n",
    "    \"flag_bf_gen_reporter\",\n",
    "    \"flag_plant_w_proposed_gen\",\n",
    "    \"flag_proposed_plant\",\n",
    "]\n",
    "\n",
    "# all data without known issues\n",
    "segment_to_compare = annual_plant_results_segmented[\n",
    "    annual_plant_results_segmented[flag_columns].sum(axis=1) == 0\n",
    "]\n",
    "\n",
    "comparison_count, compared = validate_egrid.compare_plant_level_results_to_egrid(\n",
    "    segment_to_compare, egrid_plant, PLANTS_MISSING_FROM_EGRID\n",
    ")\n",
    "comparison_count\n"
   ]
  },
  {
   "cell_type": "code",
   "execution_count": null,
   "metadata": {},
   "outputs": [],
   "source": [
    "validate_egrid.compare_egrid_fuel_total(segment_to_compare, egrid_plant).sum()\n"
   ]
  },
  {
   "cell_type": "code",
   "execution_count": null,
   "metadata": {},
   "outputs": [],
   "source": [
    "# examine results for a specific data flag\n",
    "flag = \"flag_proposed_plant\"\n",
    "\n",
    "# all data without known issues\n",
    "segment_to_compare = annual_plant_results_segmented[\n",
    "    annual_plant_results_segmented[flag] == 1\n",
    "]\n",
    "\n",
    "comparison_count, compared = validate_egrid.compare_plant_level_results_to_egrid(\n",
    "    segment_to_compare, egrid_plant, PLANTS_MISSING_FROM_EGRID\n",
    ")\n",
    "comparison_count\n"
   ]
  },
  {
   "cell_type": "code",
   "execution_count": null,
   "metadata": {},
   "outputs": [],
   "source": [
    "# evaluate all plants\n",
    "comparison_count, compared = validate_egrid.compare_plant_level_results_to_egrid(\n",
    "    oge_plant, egrid_plant, PLANTS_MISSING_FROM_EGRID\n",
    ")\n",
    "comparison_count"
   ]
  },
  {
   "cell_type": "code",
   "execution_count": null,
   "metadata": {},
   "outputs": [],
   "source": [
    "compared"
   ]
  },
  {
   "cell_type": "markdown",
   "metadata": {},
   "source": [
    "### Explore a specific set of plants"
   ]
  },
  {
   "cell_type": "code",
   "execution_count": null,
   "metadata": {},
   "outputs": [],
   "source": [
    "# specify the dataframe, metric, and status to explore\n",
    "comparison_df = compared\n",
    "metric = \"so2_mass_lb\"\n",
    "status = \"<50%\"\n",
    "\n",
    "comparison_df = comparison_df.merge(egrid_plant.set_index(\"plant_id_egrid\")[[metric]], how=\"left\", left_index=True, right_index=True, suffixes=(None,\"_egrid\"))\n",
    "comparison_df = comparison_df.merge(annual_plant_results.set_index(\"plant_id_egrid\")[[metric]], how=\"left\", left_index=True, right_index=True, suffixes=(None,\"_calc\"))\n",
    "\n",
    "# show the data\n",
    "columns_to_show = [\"plant_name_eia\", \"ba_code\", \"state\", metric, f\"{metric}_status\", f\"{metric}_egrid\", f\"{metric}_calc\"]\n",
    "comparison_df.loc[(comparison_df[f\"{metric}_status\"] == status), columns_to_show]\n"
   ]
  },
  {
   "cell_type": "markdown",
   "metadata": {},
   "source": [
    "## Compare Annual BA values to eGRID BA file"
   ]
  },
  {
   "cell_type": "code",
   "execution_count": null,
   "metadata": {},
   "outputs": [],
   "source": [
    "year = 2021\n",
    "path_prefix = year\n",
    "\n",
    "DATA_COLUMNS = [\n",
    "    \"net_generation_mwh\",\n",
    "    \"fuel_consumed_mmbtu\",\n",
    "    #\"fuel_consumed_for_electricity_mmbtu\",\n",
    "    \"co2_mass_lb\",\n",
    "]"
   ]
  },
  {
   "cell_type": "code",
   "execution_count": null,
   "metadata": {},
   "outputs": [],
   "source": [
    "# Load the eGRID plant table\n",
    "egrid_plant = validate_egrid.load_egrid_plant_file(year)\n",
    "\n",
    "egrid_ba = validate_egrid.load_egrid_ba_file(year)\n",
    "\n",
    "# aggregate the plant data up to the BA level\n",
    "egrid_plant_ba_agg = egrid_plant.groupby([\"ba_code\"]).sum()[DATA_COLUMNS].reset_index()\n",
    "\n",
    "egrid_plant_ba_agg[\"generated_co2_rate_lb_per_mwh\"] = egrid_plant_ba_agg[\"co2_mass_lb\"] / egrid_plant_ba_agg[\"net_generation_mwh\"]"
   ]
  },
  {
   "cell_type": "code",
   "execution_count": null,
   "metadata": {},
   "outputs": [],
   "source": [
    "# load our annual ba data\n",
    "oge_ba = []\n",
    "\n",
    "for filename in os.listdir(\n",
    "    results_folder(f\"{path_prefix}/power_sector_data/annual/us_units/\")\n",
    "):\n",
    "    ba = filename.split(\".\")[0]\n",
    "    ba_data = pd.read_csv(\n",
    "        results_folder(f\"{path_prefix}/power_sector_data/annual/us_units/{filename}\"),\n",
    "        usecols=([\"fuel_category\"] + DATA_COLUMNS),\n",
    "    )\n",
    "    ba_data = ba_data[ba_data[\"fuel_category\"] == \"total\"].drop(\n",
    "        columns=[\"fuel_category\"]\n",
    "    )\n",
    "    ba_data[\"ba_code\"] = ba\n",
    "    ba_data = ba_data[[\"ba_code\"] + DATA_COLUMNS]\n",
    "    oge_ba.append(ba_data)\n",
    "\n",
    "oge_ba = pd.concat(oge_ba, axis=0)\n",
    "\n",
    "oge_ba[\"generated_co2_rate_lb_per_mwh\"] = oge_ba[\"co2_mass_lb\"] / oge_ba[\"net_generation_mwh\"]\n"
   ]
  },
  {
   "cell_type": "code",
   "execution_count": null,
   "metadata": {},
   "outputs": [],
   "source": [
    "percent_diff_from_egrid = (\n",
    "    (\n",
    "        oge_ba.set_index(\"ba_code\").replace(0, 0.1)\n",
    "        - egrid_plant_ba_agg.set_index(\"ba_code\").replace(0, 0.1)\n",
    "    )\n",
    "    / egrid_plant_ba_agg.set_index(\"ba_code\").replace(0, 0.1)\n",
    ").round(2)\n"
   ]
  },
  {
   "cell_type": "code",
   "execution_count": null,
   "metadata": {},
   "outputs": [],
   "source": [
    "# divide our calculation by the BA totals from eGRID\n",
    "# if there are 0 values, replace with 0.1, so that div by zero doesn't return missing value\n",
    "ba_metric = (\n",
    "    oge_ba.replace(0, 0.1)\n",
    "    .set_index(\"ba_code\")\n",
    "    .div(egrid_plant_ba_agg.set_index(\"ba_code\").replace(0, 0.1))\n",
    "    .sort_values(by=\"co2_mass_lb\")\n",
    "    .round(3)\n",
    ")\n",
    "ba_metric = ba_metric - 1\n",
    "\n",
    "total = pd.DataFrame(\n",
    "    oge_ba[DATA_COLUMNS + [\"generated_co2_rate_lb_per_mwh\"]]\n",
    "    .sum()\n",
    "    .div(egrid_plant_ba_agg[DATA_COLUMNS + [\"generated_co2_rate_lb_per_mwh\"]].sum())\n",
    "    .rename(\"Total\")\n",
    ").T\n",
    "total = total - 1\n",
    "\n",
    "# calculate the difference in the number of plants in each region\n",
    "oge_plant_count = oge_plant[\n",
    "    ~(\n",
    "        oge_plant[\n",
    "            [\n",
    "                \"net_generation_mwh\",\n",
    "                \"fuel_consumed_mmbtu\",\n",
    "                \"fuel_consumed_for_electricity_mmbtu\",\n",
    "                \"co2_mass_lb\",\n",
    "            ]\n",
    "        ].sum(axis=1)\n",
    "        == 0\n",
    "    )\n",
    "].groupby(\"ba_code\", dropna=False)[\"plant_id_eia\"].nunique().rename(\"num_plants_oge\")\n",
    "\n",
    "egrid_plant_count = egrid_plant[\n",
    "        ~(\n",
    "            egrid_plant[\n",
    "                [\n",
    "                    \"net_generation_mwh\",\n",
    "                    \"fuel_consumed_mmbtu\",\n",
    "                    \"fuel_consumed_for_electricity_mmbtu\",\n",
    "                    \"co2_mass_lb\",\n",
    "                ]\n",
    "            ].sum(axis=1)\n",
    "            == 0\n",
    "        )\n",
    "    ].groupby(\"ba_code\", dropna=False)[\"plant_id_eia\"].nunique().rename(\"num_plants_egrid\")\n",
    "\n",
    "ba_metric = ba_metric.merge(\n",
    "    oge_plant_count, how=\"left\", left_index=True, right_index=True\n",
    ").sort_index()\n",
    "\n",
    "ba_metric = ba_metric.merge(\n",
    "    egrid_plant_count, how=\"left\", left_index=True, right_index=True\n",
    ").sort_index()\n",
    "\n",
    "ba_metric = ba_metric.sort_values(by=[\"generated_co2_rate_lb_per_mwh\"], ascending=True)\n",
    "\n",
    "ba_metric = pd.concat([ba_metric, total], axis=0).round(3)\n",
    "\n",
    "ba_metric = ba_metric[DATA_COLUMNS + [\"generated_co2_rate_lb_per_mwh\", \"num_plants_oge\",\"num_plants_egrid\"]]\n",
    "\n",
    "columns_to_check = [\n",
    "    \"net_generation_mwh\",\n",
    "    \"fuel_consumed_mmbtu\",\n",
    "    #\"fuel_consumed_for_electricity_mmbtu\",\n",
    "    \"co2_mass_lb\",\n",
    "    \"generated_co2_rate_lb_per_mwh\"\n",
    "]\n",
    "\n",
    "ba_metric[columns_to_check] = ba_metric[columns_to_check] * 100\n",
    "\n",
    "# ignore miscellaneous BAs\n",
    "ba_metric = ba_metric[~ba_metric.index.str.contains(\"MS\")]\n",
    "\n",
    "ba_metric = ba_metric[~np.isclose(ba_metric[columns_to_check], 0, atol=0.5).all(axis=1)]\n",
    "\n",
    "with pd.option_context(\"display.max_rows\", None, \"display.max_columns\", None):\n",
    "    display(ba_metric)\n"
   ]
  },
  {
   "cell_type": "code",
   "execution_count": null,
   "metadata": {},
   "outputs": [],
   "source": [
    "plant_cause = compared[compared[\"ba_code\"].isin(ba_metric.index)]\n",
    "plant_cause = plant_cause.loc[\n",
    "    (\n",
    "        ~plant_cause[\n",
    "            [\n",
    "                \"net_generation_mwh_status\",\n",
    "                \"fuel_consumed_mmbtu_status\",\n",
    "                \"co2_mass_lb_status\",\n",
    "            ]\n",
    "        ].isin([\"!exact\", \"+/-1%\", \"egrid_missing_zero_value_from_oge\"])\n",
    "    ).any(axis=1),\n",
    "    [\n",
    "        \"plant_name_eia\",\n",
    "        \"ba_code\",\n",
    "        \"state\",\n",
    "        \"net_generation_mwh_status\",\n",
    "        \"net_generation_mwh_oge\",\n",
    "        \"net_generation_mwh_egrid\",\n",
    "        \"fuel_consumed_mmbtu_status\",\n",
    "        \"fuel_consumed_mmbtu_oge\",\n",
    "        \"fuel_consumed_mmbtu_egrid\",\n",
    "        \"co2_mass_lb_status\",\n",
    "        \"co2_mass_lb_oge\",\n",
    "        \"co2_mass_lb_egrid\",\n",
    "    ],\n",
    "]\n",
    "\n",
    "eia_gf = load_data.load_pudl_table(\"generation_fuel_eia923\", year=year)\n",
    "eia_esc = eia_gf[eia_gf[\"fuel_consumed_mmbtu\"] > 0].groupby(\"plant_id_eia\")[[\"energy_source_code\"]].agg([\"unique\"]).droplevel(level=1, axis=1).add_suffix(\"_eia923\")\n",
    "eia_gf = eia_gf.groupby(\"plant_id_eia\")[[\"net_generation_mwh\",\"fuel_consumed_mmbtu\"]].sum().add_suffix(\"_eia923\")\n",
    "\n",
    "\n",
    "egrid_unit_fuel = pd.read_excel(\n",
    "    downloads_folder(f\"egrid/egrid{year}_data.xlsx\"),\n",
    "    sheet_name=f\"UNT{str(year)[-2:]}\",\n",
    "    header=1,\n",
    "    usecols=[\"ORISPL\",\"FUELU1\"],\n",
    ").rename(columns={\"ORISPL\":\"plant_id_egrid\",\"FUELU1\":\"energy_source_code_egrid\"})\n",
    "egrid_unit_fuel = egrid_unit_fuel.groupby(\"plant_id_egrid\")[[\"energy_source_code_egrid\"]].agg([\"unique\"]).droplevel(level=1, axis=1)\n",
    "\n",
    "plant_cause = plant_cause.merge(eia_gf, how=\"left\", left_index=True, right_index=True)\n",
    "plant_cause = plant_cause.merge(eia_esc, how=\"left\", left_index=True, right_index=True)\n",
    "plant_cause = plant_cause.merge(egrid_unit_fuel, how=\"left\", left_index=True, right_index=True)\n",
    "plant_cause = plant_cause.merge(egrid_plant[[\"plant_id_egrid\", \"fuel_data_source_annual\",\"fuel_data_source_ozone\"]].set_index(\"plant_id_egrid\"), how=\"left\", left_index=True, right_index=True)\n",
    "\n",
    "# add oge data source\n",
    "plant_metadata = pd.read_csv(results_folder(f\"{year}/plant_data/plant_metadata.csv\"))\n",
    "plant_metadata = plant_metadata.groupby(\"plant_id_eia\")[[\"data_source\"]].agg([\"unique\"]).droplevel(level=1, axis=1).add_suffix(\"_oge\")\n",
    "plant_metadata['data_source_oge'] = [','.join(map(str, l)) for l in plant_metadata['data_source_oge']]\n",
    "\n",
    "plant_cause = plant_cause.merge(plant_metadata, how=\"left\", left_index=True, right_index=True)\n",
    "\n",
    "plant_cause  = plant_cause[[\n",
    "        \"plant_name_eia\",\n",
    "        \"ba_code\",\n",
    "        \"state\",\n",
    "        \"net_generation_mwh_status\",\n",
    "        \"net_generation_mwh_oge\",\n",
    "        \"net_generation_mwh_egrid\",\n",
    "        \"net_generation_mwh_eia923\",\n",
    "        \"fuel_consumed_mmbtu_status\",\n",
    "        \"fuel_consumed_mmbtu_oge\",\n",
    "        \"fuel_consumed_mmbtu_egrid\",\n",
    "        \"fuel_consumed_mmbtu_eia923\",\n",
    "        \"data_source_oge\",\n",
    "        \"fuel_data_source_annual\",\n",
    "        \"fuel_data_source_ozone\",\n",
    "        \"co2_mass_lb_status\",\n",
    "        \"co2_mass_lb_oge\",\n",
    "        \"co2_mass_lb_egrid\",\n",
    "        \"energy_source_code_eia923\",\n",
    "        \"energy_source_code_egrid\"\n",
    "    ]]\n"
   ]
  },
  {
   "cell_type": "code",
   "execution_count": null,
   "metadata": {},
   "outputs": [],
   "source": [
    "from itertools import product\n",
    "import validation\n",
    "\n",
    "plants_with_missing_months = load_data.load_pudl_table(\"generation_fuel_eia923\", year=year)\n",
    "# drop plants that only report annually\n",
    "plants_with_missing_months = validation.identify_reporting_frequency(plants_with_missing_months, year)\n",
    "plants_with_missing_months = plants_with_missing_months[plants_with_missing_months[\"eia_data_resolution\"] == \"monthly\"]\n",
    "# create a dataframe with a complete set of months for each plant\n",
    "complete_months = pd.DataFrame(list(product(plants_with_missing_months.plant_id_eia.unique(), plants_with_missing_months.report_date.unique())), columns=[\"plant_id_eia\",\"report_date\"])\n",
    "plants_with_missing_months = complete_months.merge(plants_with_missing_months, how=\"outer\", on=[\"plant_id_eia\",\"report_date\"])\n",
    "# identify plants that have all missing data for a complete month\n",
    "plants_with_missing_months = plants_with_missing_months.groupby([\"plant_id_eia\",\"report_date\"], dropna=False)[[\"net_generation_mwh\"]].sum(min_count=1).reset_index()\n",
    "plants_with_missing_months = plants_with_missing_months.loc[plants_with_missing_months[\"net_generation_mwh\"].isna(), \"plant_id_eia\"].unique()\n",
    "plants_with_missing_months"
   ]
  },
  {
   "attachments": {},
   "cell_type": "markdown",
   "metadata": {},
   "source": [
    "## TODO\n",
    "- [ ] Add flags for when plants are in incorrect BA vs proposed/retired plants\n",
    "- [ ] streamline code and split into separate functions"
   ]
  },
  {
   "cell_type": "code",
   "execution_count": null,
   "metadata": {},
   "outputs": [],
   "source": [
    "for ba_code in ba_metric.index:\n",
    "#for ba_code in [\"TEPC\"]:\n",
    "    print(f\"Likely issues in {ba_code}:\")\n",
    "    for col in [\"net_generation_mwh\", \"fuel_consumed_mmbtu\", \"co2_mass_lb\"]:\n",
    "        pct_diff = ba_metric.loc[ba_code, col]\n",
    "        if (pct_diff < 0.5) & (pct_diff > -0.5):\n",
    "            pass\n",
    "        else:\n",
    "            plant_cause_ba = plant_cause[plant_cause[\"ba_code\"] == ba_code]\n",
    "            print(f\"     {col}: {pct_diff.round(3)}% diff from eGRID\")\n",
    "            # check if it could be affected by the number of plants\n",
    "            if (pct_diff < -0.5) & (\n",
    "                ba_metric.loc[ba_code, \"num_plants_oge\"]\n",
    "                < ba_metric.loc[ba_code, \"num_plants_egrid\"]\n",
    "            ):\n",
    "                print(\"          fewer plants assigned to this BA in OGE\")\n",
    "            if (pct_diff > 0.5) & (\n",
    "                ba_metric.loc[ba_code, \"num_plants_oge\"]\n",
    "                > ba_metric.loc[ba_code, \"num_plants_egrid\"]\n",
    "            ):\n",
    "                print(\"          more plants assigned to this BA in OGE\")\n",
    "            if col != \"co2_mass_lb\":\n",
    "                if (\n",
    "                    len(\n",
    "                        plant_cause_ba[\n",
    "                            ~plant_cause_ba[f\"{col}_status\"].isin(\n",
    "                                [\"!exact\", \"+/-1%\", \"egrid_missing_zero_value_from_oge\"]\n",
    "                            )\n",
    "                            & (plant_cause_ba[\"fuel_data_source_annual\"] == \"EPA/CAMD\")\n",
    "                            & (plant_cause_ba[\"fuel_data_source_ozone\"] == \"EPA/CAMD\")\n",
    "                            & (plant_cause_ba[\"data_source_oge\"].str.contains(\"EIA\"))\n",
    "                            & (\n",
    "                                plant_cause_ba[f\"{col}_egrid\"]\n",
    "                                < plant_cause_ba[f\"{col}_oge\"]\n",
    "                            )\n",
    "                        ]\n",
    "                    )\n",
    "                    > 0\n",
    "                ):\n",
    "                    print(\"          eGRID not filling missing CEMS data with EIA\")\n",
    "                # check if rounding error in EIA gf allocation\n",
    "                if (\n",
    "                    len(\n",
    "                        plant_cause_ba[\n",
    "                            plant_cause_ba[f\"{col}_status\"].isin([\"+/-1%\"])\n",
    "                            & (\n",
    "                                plant_cause_ba[f\"{col}_egrid\"].round(0)\n",
    "                                == plant_cause_ba[f\"{col}_eia923\"].round(0)\n",
    "                            )\n",
    "                            & (\n",
    "                                plant_cause_ba[f\"{col}_oge\"].round(0)\n",
    "                                != plant_cause_ba[f\"{col}_eia923\"].round(0)\n",
    "                            )\n",
    "                        ]\n",
    "                    )\n",
    "                    > 0\n",
    "                ):\n",
    "                    print(\"          small error in OGE EIA-923 allocation\")\n",
    "            if col == \"net_generation_mwh\":\n",
    "                if (\n",
    "                    len(\n",
    "                        plant_cause_ba[\n",
    "                            ~plant_cause_ba[f\"{col}_status\"].isin(\n",
    "                                [\"!exact\", \"+/-1%\", \"egrid_missing_zero_value_from_oge\"]\n",
    "                            )\n",
    "                            & ~plant_cause_ba[f\"fuel_consumed_mmbtu_status\"].isin(\n",
    "                                [\"!exact\", \"+/-1%\", \"egrid_missing_zero_value_from_oge\"]\n",
    "                            )\n",
    "                            & np.isclose(\n",
    "                                plant_cause_ba[f\"{col}_egrid\"],\n",
    "                                plant_cause_ba[f\"{col}_eia923\"],\n",
    "                                atol=1,\n",
    "                            )\n",
    "                            & (\n",
    "                                plant_cause_ba[f\"{col}_egrid\"]\n",
    "                                < plant_cause_ba[f\"{col}_oge\"]\n",
    "                            )\n",
    "                        ]\n",
    "                    )\n",
    "                    > 0\n",
    "                ):\n",
    "                    print(\"          OGE potentially double-counting data\")\n",
    "                elif (\n",
    "                    len(\n",
    "                        plant_cause_ba[\n",
    "                            ~plant_cause_ba[f\"{col}_status\"].isin(\n",
    "                                [\"!exact\", \"+/-1%\", \"egrid_missing_zero_value_from_oge\"]\n",
    "                            )\n",
    "                            & plant_cause_ba[f\"fuel_consumed_mmbtu_status\"].isin(\n",
    "                                [\"!exact\", \"+/-1%\", \"egrid_missing_zero_value_from_oge\"]\n",
    "                            )\n",
    "                            & np.isclose(\n",
    "                                plant_cause_ba[f\"{col}_egrid\"],\n",
    "                                plant_cause_ba[f\"{col}_eia923\"],\n",
    "                                atol=1,\n",
    "                            )\n",
    "                            & (\n",
    "                                plant_cause_ba[f\"{col}_egrid\"]\n",
    "                                < plant_cause_ba[f\"{col}_oge\"]\n",
    "                            )\n",
    "                            & plant_cause_ba.index.isin(plants_with_missing_months)\n",
    "                        ]\n",
    "                    )\n",
    "                    > 0\n",
    "                ):\n",
    "                    print(\n",
    "                        \"          Missing net generation data from EIA-923 not filled with CEMS in eGRID\"\n",
    "                    )\n",
    "            if col == \"fuel_consumed_mmbtu\":\n",
    "                # if (ba_metric.loc[ba_code, col] > 0.5) & (ba_metric.loc[ba_code, \"net_generation_mwh\"] == 0):\n",
    "                # check if eGRID is only using CEMS data\n",
    "                if (\n",
    "                    len(\n",
    "                        plant_cause_ba[\n",
    "                            ~plant_cause_ba[f\"{col}_status\"].isin(\n",
    "                                [\"!exact\", \"+/-1%\", \"egrid_missing_zero_value_from_oge\"]\n",
    "                            )\n",
    "                            & np.isclose(\n",
    "                                plant_cause_ba[f\"{col}_egrid\"],\n",
    "                                plant_cause_ba[f\"{col}_eia923\"],\n",
    "                                atol=1,\n",
    "                            )\n",
    "                            & (\n",
    "                                plant_cause_ba[f\"{col}_egrid\"]\n",
    "                                < plant_cause_ba[f\"{col}_oge\"]\n",
    "                            )\n",
    "                        ]\n",
    "                    )\n",
    "                    > 0\n",
    "                ):\n",
    "                    print(\"          OGE potentially double-counting data\")\n",
    "                # in cases where EIA data is used in both eGRID and OGE, and OGE matches EIA923 but eGRID doesn't\n",
    "                if (\n",
    "                    len(\n",
    "                        plant_cause_ba[\n",
    "                            ~plant_cause_ba[f\"{col}_status\"].isin(\n",
    "                                [\"!exact\", \"+/-1%\", \"egrid_missing_zero_value_from_oge\"]\n",
    "                            )\n",
    "                            & (\n",
    "                                plant_cause_ba[\"fuel_data_source_annual\"].str.contains(\n",
    "                                    \"EIA\"\n",
    "                                )\n",
    "                            )\n",
    "                            & (plant_cause_ba[\"data_source_oge\"].str.contains(\"EIA\"))\n",
    "                            & np.isclose(\n",
    "                                plant_cause_ba[f\"{col}_oge\"],\n",
    "                                plant_cause_ba[f\"{col}_eia923\"],\n",
    "                                atol=1,\n",
    "                            )\n",
    "                            & (\n",
    "                                plant_cause_ba[f\"{col}_egrid\"]\n",
    "                                < plant_cause_ba[f\"{col}_oge\"]\n",
    "                            )\n",
    "                        ]\n",
    "                    )\n",
    "                    > 0\n",
    "                ):\n",
    "                    print(\"          eGRID missing fuel consumption from EIA-923 GF\")\n",
    "            if col == \"co2_mass_lb\":\n",
    "                if (\n",
    "                    len(\n",
    "                        plant_cause_ba[\n",
    "                            (\n",
    "                                plant_cause_ba[\"energy_source_code_eia923\"].dropna().apply(set)\n",
    "                                - plant_cause_ba[\"energy_source_code_egrid\"].dropna().apply(set)\n",
    "                            ).astype(bool)\n",
    "                            & ~plant_cause_ba[f\"{col}_status\"].isin(\n",
    "                                [\"!exact\", \"+/-1%\", \"egrid_missing_zero_value_from_oge\"]\n",
    "                            )\n",
    "                            & plant_cause_ba[f\"fuel_consumed_mmbtu_status\"].isin(\n",
    "                                [\"!exact\", \"+/-1%\", \"egrid_missing_zero_value_from_oge\"]\n",
    "                            )\n",
    "                        ]\n",
    "                    )\n",
    "                    > 0\n",
    "                ):\n",
    "                    print(\n",
    "                        \"          Incorrect fuel type assigned to fuel consumption in eGRID\"\n",
    "                    )\n",
    "                elif (\n",
    "                    len(\n",
    "                        plant_cause_ba[\n",
    "                            ~plant_cause_ba[f\"{col}_status\"].isin(\n",
    "                                [\"!exact\", \"+/-1%\", \"egrid_missing_zero_value_from_oge\"]\n",
    "                            )\n",
    "                            & plant_cause_ba[f\"fuel_consumed_mmbtu_status\"].isin(\n",
    "                                [\"!exact\", \"+/-1%\", \"egrid_missing_zero_value_from_oge\"]\n",
    "                            )\n",
    "                        ]\n",
    "                    )\n",
    "                    > 0\n",
    "                ):\n",
    "                    print(\"          Incorrect EF possibly being used\")\n"
   ]
  },
  {
   "cell_type": "code",
   "execution_count": null,
   "metadata": {},
   "outputs": [],
   "source": [
    "col = \"co2_mass_lb\"\n",
    "\n",
    "plant_cause_ba[\n",
    "                            ~plant_cause_ba[f\"{col}_status\"].isin(\n",
    "                                [\"!exact\", \"+/-1%\", \"egrid_missing_zero_value_from_oge\"]\n",
    "                            )\n",
    "                            & plant_cause_ba[f\"fuel_consumed_mmbtu_status\"].isin(\n",
    "                                [\"!exact\", \"+/-1%\", \"egrid_missing_zero_value_from_oge\"]\n",
    "                            )\n",
    "                        ]"
   ]
  },
  {
   "cell_type": "code",
   "execution_count": null,
   "metadata": {},
   "outputs": [],
   "source": [
    "plant_metadata = pd.read_csv(results_folder(f\"{year}/plant_data/plant_metadata.csv\"))\n",
    "plant_metadata = plant_metadata.groupby(\"plant_id_eia\")[[\"data_source\"]].agg([\"unique\"]).droplevel(level=1, axis=1).add_suffix(\"_oge\")\n",
    "plant_metadata['data_source_oge'] = [','.join(map(str, l)) for l in plant_metadata['data_source_oge']]\n",
    "plant_metadata"
   ]
  },
  {
   "cell_type": "code",
   "execution_count": null,
   "metadata": {},
   "outputs": [],
   "source": []
  },
  {
   "attachments": {},
   "cell_type": "markdown",
   "metadata": {},
   "source": [
    "## Explore specific plants\n"
   ]
  },
  {
   "cell_type": "code",
   "execution_count": null,
   "metadata": {},
   "outputs": [],
   "source": [
    "plant_to_explore = 58223\n"
   ]
  },
  {
   "cell_type": "code",
   "execution_count": null,
   "metadata": {},
   "outputs": [],
   "source": [
    "egrid_plant[egrid_plant[\"plant_id_eia\"] == plant_to_explore]\n"
   ]
  },
  {
   "cell_type": "code",
   "execution_count": null,
   "metadata": {},
   "outputs": [],
   "source": [
    "annual_plant_results[annual_plant_results[\"plant_id_eia\"] == plant_to_explore]\n"
   ]
  },
  {
   "cell_type": "code",
   "execution_count": null,
   "metadata": {},
   "outputs": [],
   "source": [
    "eia923_allocated[eia923_allocated[\"plant_id_eia\"] == plant_to_explore]\n"
   ]
  },
  {
   "cell_type": "code",
   "execution_count": null,
   "metadata": {},
   "outputs": [],
   "source": [
    "eia923_allocated.loc[\n",
    "    eia923_allocated[\"plant_id_eia\"] == plant_to_explore,\n",
    "    [\"generator_id\", \"subplant_id\"],\n",
    "].drop_duplicates()\n"
   ]
  }
 ],
 "metadata": {
  "kernelspec": {
   "display_name": "open_grid_emissions",
   "language": "python",
   "name": "python3"
  },
  "language_info": {
   "codemirror_mode": {
    "name": "ipython",
    "version": 3
   },
   "file_extension": ".py",
   "mimetype": "text/x-python",
   "name": "python",
   "nbconvert_exporter": "python",
   "pygments_lexer": "ipython3",
   "version": "3.10.9"
  },
  "vscode": {
   "interpreter": {
    "hash": "25e36f192ecdbe5da57d9bea009812e7b11ef0e0053366a845a2802aae1b29d2"
   }
  }
 },
 "nbformat": 4,
 "nbformat_minor": 2
}
