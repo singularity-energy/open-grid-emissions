{
 "cells": [
  {
   "cell_type": "code",
   "execution_count": 1,
   "metadata": {},
   "outputs": [],
   "source": [
    "# import packages\n",
    "import numpy as np\n",
    "import pandas as pd\n",
    "import os\n",
    "import plotly.express as px\n",
    "from IPython.display import display\n",
    "\n",
    "%reload_ext autoreload\n",
    "%autoreload 2\n",
    "\n",
    "# Tell python where to look for modules.\n",
    "import sys\n",
    "\n",
    "sys.path.append(\"../../src\")\n",
    "\n",
    "# import local modules\n",
    "import oge.load_data as load_data\n",
    "import oge.validation as validation\n",
    "from oge.filepaths import *\n",
    "\n",
    "from oge.column_checks import get_dtypes"
   ]
  },
  {
   "cell_type": "markdown",
   "metadata": {},
   "source": [
    "# Specify the year for validation"
   ]
  },
  {
   "cell_type": "code",
   "execution_count": null,
   "metadata": {},
   "outputs": [],
   "source": [
    "year = 2021"
   ]
  },
  {
   "cell_type": "markdown",
   "metadata": {},
   "source": [
    "## Compare Our Results to eGRID"
   ]
  },
  {
   "cell_type": "code",
   "execution_count": null,
   "metadata": {},
   "outputs": [],
   "source": [
    "# load our annual plant level data\n",
    "annual_plant_results = pd.read_csv(\n",
    "    results_folder(f\"{year}/plant_data/annual/us_units/plant_data.csv\"),\n",
    "    dtype=get_dtypes(),\n",
    ")\n",
    "plant_attributes = pd.read_csv(\n",
    "    outputs_folder(f\"{year}/plant_static_attributes_{year}.csv\"), dtype=get_dtypes()\n",
    ")\n",
    "annual_plant_results = annual_plant_results.merge(\n",
    "    plant_attributes, how=\"left\", on=\"plant_id_eia\"\n",
    ")\n",
    "\n",
    "# add a egrid id\n",
    "annual_plant_results = validation.add_egrid_plant_id(\n",
    "    annual_plant_results, from_id=\"eia\", to_id=\"egrid\"\n",
    ")\n",
    "\n",
    "# Load the eGRID plant table\n",
    "egrid_plant = validation.load_egrid_plant_file(year)"
   ]
  },
  {
   "cell_type": "markdown",
   "metadata": {},
   "source": [
    "### Identify plants missing from our results that exist in eGRID\n"
   ]
  },
  {
   "cell_type": "code",
   "execution_count": null,
   "metadata": {},
   "outputs": [],
   "source": [
    "(\n",
    "    missing_from_calc,\n",
    "    PLANTS_MISSING_FROM_CALCULATION,\n",
    ") = validation.identify_plants_missing_from_our_calculations(\n",
    "    egrid_plant, annual_plant_results, year\n",
    ")\n",
    "missing_from_calc"
   ]
  },
  {
   "cell_type": "markdown",
   "metadata": {},
   "source": [
    "### Identify plants missing from eGRID that are in our calculations"
   ]
  },
  {
   "cell_type": "code",
   "execution_count": null,
   "metadata": {},
   "outputs": [],
   "source": [
    "(\n",
    "    missing_from_egrid,\n",
    "    PLANTS_MISSING_FROM_EGRID,\n",
    ") = validation.identify_plants_missing_from_egrid(egrid_plant, annual_plant_results)\n",
    "\n",
    "# how many of the plants missing from egrid have non-zero data\n",
    "missing_from_egrid.loc[\n",
    "    missing_from_egrid[\"fuel_consumed_mmbtu\"] != 0,\n",
    "    [\n",
    "        \"plant_id_eia\",\n",
    "        \"plant_name_eia\",\n",
    "        \"plant_primary_fuel\",\n",
    "        \"net_generation_mwh\",\n",
    "        \"fuel_consumed_for_electricity_mmbtu\",\n",
    "        \"fuel_consumed_mmbtu\",\n",
    "    ],\n",
    "]"
   ]
  },
  {
   "cell_type": "markdown",
   "metadata": {},
   "source": [
    "### Compare whether totals for plants with EPA IDs that differ from EIA IDs match"
   ]
  },
  {
   "cell_type": "code",
   "execution_count": null,
   "metadata": {},
   "outputs": [],
   "source": [
    "# identify where there is a single egrid plant id for multiple eia plant ids\n",
    "double_ids = annual_plant_results[\n",
    "    annual_plant_results[\"plant_id_egrid\"].duplicated(keep=False)\n",
    "]\n",
    "double_ids = (\n",
    "    double_ids.groupby(\"plant_id_egrid\").sum()[\"net_generation_mwh\"].reset_index()\n",
    ")  # focus on net generation for now\n",
    "# merge the egrid data\n",
    "double_ids = double_ids.merge(\n",
    "    egrid_plant[[\"plant_id_egrid\", \"net_generation_mwh\"]],\n",
    "    how=\"left\",\n",
    "    on=\"plant_id_egrid\",\n",
    "    suffixes=(\"_calc\", \"_egrid\"),\n",
    ")\n",
    "double_ids[\"percent_diff\"] = (\n",
    "    (double_ids[\"net_generation_mwh_calc\"] - double_ids[\"net_generation_mwh_egrid\"])\n",
    "    / double_ids[\"net_generation_mwh_egrid\"]\n",
    ").round(3)\n",
    "double_ids"
   ]
  },
  {
   "cell_type": "code",
   "execution_count": null,
   "metadata": {},
   "outputs": [],
   "source": [
    "# compare egrid vs eia plant ids\n",
    "annual_plant_results[\n",
    "    annual_plant_results[\"plant_id_egrid\"].duplicated(keep=False)\n",
    "].groupby([\"plant_id_egrid\", \"plant_id_eia\"]).sum()"
   ]
  },
  {
   "cell_type": "markdown",
   "metadata": {},
   "source": [
    "### Identify plants where our BA assignment does not match eGRID"
   ]
  },
  {
   "cell_type": "code",
   "execution_count": null,
   "metadata": {},
   "outputs": [],
   "source": [
    "ba_code_match = egrid_plant.set_index(\"plant_id_eia\")[\n",
    "    [\"plant_name_eia\", \"ba_code\"]\n",
    "].merge(\n",
    "    annual_plant_results.set_index(\"plant_id_eia\")[[\"ba_code\"]],\n",
    "    how=\"inner\",\n",
    "    left_index=True,\n",
    "    right_index=True,\n",
    "    suffixes=(\"_egrid\", \"_calc\"),\n",
    ")\n",
    "\n",
    "# plants with missing ba code\n",
    "# ba_code_match[(ba_code_match['ba_code_calc'].isna()) & ~(ba_code_match['ba_code_egrid'].isna())]\n",
    "ba_code_match[ba_code_match[\"ba_code_calc\"] != ba_code_match[\"ba_code_egrid\"]]"
   ]
  },
  {
   "cell_type": "code",
   "execution_count": null,
   "metadata": {},
   "outputs": [],
   "source": [
    "# how many of these mismatches are for non-missing bas\n",
    "ba_code_match[\n",
    "    (ba_code_match[\"ba_code_calc\"] != ba_code_match[\"ba_code_egrid\"])\n",
    "    & ~(ba_code_match[\"ba_code_egrid\"].isna())\n",
    "]"
   ]
  },
  {
   "cell_type": "markdown",
   "metadata": {},
   "source": [
    "### Identify whether the fuel codes of each plant match"
   ]
  },
  {
   "cell_type": "code",
   "execution_count": null,
   "metadata": {},
   "outputs": [],
   "source": [
    "fuel_match = egrid_plant.set_index(\"plant_id_eia\")[\n",
    "    [\"plant_name_eia\", \"plant_primary_fuel\"]\n",
    "].merge(\n",
    "    annual_plant_results.set_index(\"plant_id_eia\")[[\"plant_primary_fuel\"]],\n",
    "    how=\"inner\",\n",
    "    left_index=True,\n",
    "    right_index=True,\n",
    "    suffixes=(\"_egrid\", \"_calc\"),\n",
    ")\n",
    "\n",
    "fuel_match[\n",
    "    fuel_match[\"plant_primary_fuel_egrid\"] != fuel_match[\"plant_primary_fuel_calc\"]\n",
    "]"
   ]
  },
  {
   "attachments": {},
   "cell_type": "markdown",
   "metadata": {},
   "source": [
    "# Evaluate Plant-level discrepencies"
   ]
  },
  {
   "cell_type": "code",
   "execution_count": null,
   "metadata": {},
   "outputs": [],
   "source": [
    "# evaluate all plants\n",
    "comparison_count, compared = validation.compare_plant_level_results_to_egrid(\n",
    "    annual_plant_results, egrid_plant, PLANTS_MISSING_FROM_EGRID\n",
    ")\n",
    "comparison_count"
   ]
  },
  {
   "cell_type": "code",
   "execution_count": null,
   "metadata": {},
   "outputs": [],
   "source": [
    "compared[(compared[\"ba_code\"] == \"SOCO\") & (compared[\"co2_mass_lb_status\"] != \"!exact\")]"
   ]
  },
  {
   "cell_type": "markdown",
   "metadata": {},
   "source": [
    "# Split data into different groups based on known discrepencies\n",
    "\n",
    "There are certain classes of plants where there are known issues that we know will prevent the totals from matching:\n",
    "- There are certain power plants that are missing altogether from eGRID\n",
    "- Geothermal power plants: EGRID sometimes has incorrect geotypes that may lead to different emissions estimates\n",
    "- Nuclear power plants: eGRID is generally missing fuel consumption data\n",
    "- Fuel cells are assumed by eGRID to have zero emissions\n",
    "- Plants that only report CEMS data for part of the year are sometimes missing data for the rest of the year in eGRID\n",
    "- CHP plants use a slightly different methodology\n",
    "- plants that report data to the bf table or gen table in EIA-923 may be missing data from teh generation and fuel table.\n",
    "- \"proposed\" plants sometimes report data before they are officially online and egrid doesn't always reflect that.\n",
    "\n",
    "\n",
    "We could identify plants where the total fuel doesn't match EIA-923, but matches the total fuel for a subset of prime movers"
   ]
  },
  {
   "cell_type": "code",
   "execution_count": null,
   "metadata": {},
   "outputs": [],
   "source": [
    "pudl_out = load_data.initialize_pudl_out(year)\n",
    "eia923_allocated = pd.read_csv(\n",
    "    outputs_folder(f\"{year}/eia923_allocated_{year}.csv\"),\n",
    "    dtype=get_dtypes(),\n",
    "    parse_dates=[\"report_date\"],\n",
    ")\n",
    "\n",
    "annual_plant_results_segmented = validation.segment_plants_by_known_issues(\n",
    "    annual_plant_results,\n",
    "    egrid_plant,\n",
    "    eia923_allocated,\n",
    "    pudl_out,\n",
    "    PLANTS_MISSING_FROM_EGRID,\n",
    ")"
   ]
  },
  {
   "cell_type": "markdown",
   "metadata": {},
   "source": [
    "## Plant Metric"
   ]
  },
  {
   "cell_type": "code",
   "execution_count": null,
   "metadata": {},
   "outputs": [],
   "source": [
    "flag_columns = [\n",
    "    \"flag_missing_egrid\",\n",
    "    \"flag_geothermal\",\n",
    "    \"flag_nuclear\",\n",
    "    \"flag_fuel_cell\",\n",
    "    \"flag_partial_year\",\n",
    "    \"flag_chp\",\n",
    "    \"flag_bf_gen_reporter\",\n",
    "    \"flag_plant_w_proposed_gen\",\n",
    "    \"flag_proposed_plant\",\n",
    "]\n",
    "\n",
    "# all data without known issues\n",
    "segment_to_compare = annual_plant_results_segmented[\n",
    "    annual_plant_results_segmented[flag_columns].sum(axis=1) == 0\n",
    "]\n",
    "\n",
    "comparison_count, compared = validation.compare_plant_level_results_to_egrid(\n",
    "    segment_to_compare, egrid_plant, PLANTS_MISSING_FROM_EGRID\n",
    ")\n",
    "comparison_count"
   ]
  },
  {
   "cell_type": "code",
   "execution_count": null,
   "metadata": {},
   "outputs": [],
   "source": [
    "validation.compare_egrid_fuel_total(segment_to_compare, egrid_plant).sum()"
   ]
  },
  {
   "cell_type": "code",
   "execution_count": null,
   "metadata": {},
   "outputs": [],
   "source": [
    "# examine results for a specific data flag\n",
    "flag = \"flag_proposed_plant\"\n",
    "\n",
    "# all data without known issues\n",
    "segment_to_compare = annual_plant_results_segmented[\n",
    "    annual_plant_results_segmented[flag] == 1\n",
    "]\n",
    "\n",
    "comparison_count, compared = validation.compare_plant_level_results_to_egrid(\n",
    "    segment_to_compare, egrid_plant, PLANTS_MISSING_FROM_EGRID\n",
    ")\n",
    "comparison_count"
   ]
  },
  {
   "cell_type": "code",
   "execution_count": null,
   "metadata": {},
   "outputs": [],
   "source": [
    "# evaluate all plants\n",
    "comparison_count, compared = validation.compare_plant_level_results_to_egrid(\n",
    "    annual_plant_results, egrid_plant, PLANTS_MISSING_FROM_EGRID\n",
    ")\n",
    "comparison_count"
   ]
  },
  {
   "cell_type": "markdown",
   "metadata": {},
   "source": [
    "### Explore a specific set of plants"
   ]
  },
  {
   "cell_type": "code",
   "execution_count": null,
   "metadata": {},
   "outputs": [],
   "source": [
    "# specify the dataframe, metric, and status to explore\n",
    "comparison_df = compared\n",
    "metric = \"so2_mass_lb\"\n",
    "status = \"<50%\"\n",
    "\n",
    "comparison_df = comparison_df.merge(\n",
    "    egrid_plant.set_index(\"plant_id_egrid\")[[metric]],\n",
    "    how=\"left\",\n",
    "    left_index=True,\n",
    "    right_index=True,\n",
    "    suffixes=(None, \"_egrid\"),\n",
    ")\n",
    "comparison_df = comparison_df.merge(\n",
    "    annual_plant_results.set_index(\"plant_id_egrid\")[[metric]],\n",
    "    how=\"left\",\n",
    "    left_index=True,\n",
    "    right_index=True,\n",
    "    suffixes=(None, \"_calc\"),\n",
    ")\n",
    "\n",
    "# show the data\n",
    "columns_to_show = [\n",
    "    \"plant_name_eia\",\n",
    "    \"ba_code\",\n",
    "    \"state\",\n",
    "    metric,\n",
    "    f\"{metric}_status\",\n",
    "    f\"{metric}_egrid\",\n",
    "    f\"{metric}_calc\",\n",
    "]\n",
    "comparison_df.loc[(comparison_df[f\"{metric}_status\"] == status), columns_to_show]"
   ]
  },
  {
   "cell_type": "markdown",
   "metadata": {},
   "source": [
    "## Compare Annual BA values to eGRID BA file"
   ]
  },
  {
   "cell_type": "code",
   "execution_count": null,
   "metadata": {},
   "outputs": [],
   "source": [
    "year = 2021\n",
    "path_prefix = year\n",
    "\n",
    "DATA_COLUMNS = [\n",
    "    \"net_generation_mwh\",\n",
    "    \"fuel_consumed_mmbtu\",\n",
    "    \"fuel_consumed_for_electricity_mmbtu\",\n",
    "    \"co2_mass_lb\",\n",
    "]"
   ]
  },
  {
   "cell_type": "code",
   "execution_count": null,
   "metadata": {},
   "outputs": [],
   "source": [
    "# Load the eGRID plant table\n",
    "egrid_plant = validation.load_egrid_plant_file(year)\n",
    "\n",
    "egrid_ba = validation.load_egrid_ba_file(year)\n",
    "\n",
    "# aggregate the plant data up to the BA level\n",
    "egrid_plant_ba_agg = egrid_plant.groupby([\"ba_code\"]).sum()[DATA_COLUMNS].reset_index()\n",
    "\n",
    "egrid_plant_ba_agg[\"generated_co2_rate_lb_per_mwh\"] = (\n",
    "    egrid_plant_ba_agg[\"co2_mass_lb\"] / egrid_plant_ba_agg[\"net_generation_mwh\"]\n",
    ")"
   ]
  },
  {
   "cell_type": "code",
   "execution_count": null,
   "metadata": {},
   "outputs": [],
   "source": [
    "# load our annual ba data\n",
    "calculated_ba = []\n",
    "\n",
    "for filename in os.listdir(\n",
    "    results_folder(f\"{path_prefix}/power_sector_data/annual/us_units/\")\n",
    "):\n",
    "    ba = filename.split(\".\")[0]\n",
    "    ba_data = pd.read_csv(\n",
    "        results_folder(f\"{path_prefix}/power_sector_data/annual/us_units/{filename}\"),\n",
    "        usecols=([\"fuel_category\"] + DATA_COLUMNS),\n",
    "    )\n",
    "    ba_data = ba_data[ba_data[\"fuel_category\"] == \"total\"].drop(\n",
    "        columns=[\"fuel_category\"]\n",
    "    )\n",
    "    ba_data[\"ba_code\"] = ba\n",
    "    ba_data = ba_data[[\"ba_code\"] + DATA_COLUMNS]\n",
    "    calculated_ba.append(ba_data)\n",
    "\n",
    "calculated_ba = pd.concat(calculated_ba, axis=0)\n",
    "\n",
    "calculated_ba[\"generated_co2_rate_lb_per_mwh\"] = (\n",
    "    calculated_ba[\"co2_mass_lb\"] / calculated_ba[\"net_generation_mwh\"]\n",
    ")"
   ]
  },
  {
   "cell_type": "code",
   "execution_count": null,
   "metadata": {},
   "outputs": [],
   "source": [
    "percent_diff_from_egrid = (\n",
    "    (\n",
    "        calculated_ba.set_index(\"ba_code\").replace(0, 0.1)\n",
    "        - egrid_plant_ba_agg.set_index(\"ba_code\").replace(0, 0.1)\n",
    "    )\n",
    "    / egrid_plant_ba_agg.set_index(\"ba_code\").replace(0, 0.1)\n",
    ").round(2)"
   ]
  },
  {
   "cell_type": "code",
   "execution_count": null,
   "metadata": {},
   "outputs": [],
   "source": [
    "# divide our calculation by the BA totals from eGRID\n",
    "# if there are 0 values, replace with 0.1, so that div by zero doesn't return missing value\n",
    "ba_metric = (\n",
    "    calculated_ba.replace(0, 0.1)\n",
    "    .set_index(\"ba_code\")\n",
    "    .div(egrid_plant_ba_agg.set_index(\"ba_code\").replace(0, 0.1))\n",
    "    .sort_values(by=\"co2_mass_lb\")\n",
    "    .round(3)\n",
    ")\n",
    "ba_metric = ba_metric - 1\n",
    "\n",
    "total = pd.DataFrame(\n",
    "    calculated_ba[DATA_COLUMNS + [\"generated_co2_rate_lb_per_mwh\"]]\n",
    "    .sum()\n",
    "    .div(egrid_plant_ba_agg[DATA_COLUMNS + [\"generated_co2_rate_lb_per_mwh\"]].sum())\n",
    "    .rename(\"Total\")\n",
    ").T\n",
    "total = total - 1\n",
    "\n",
    "# calculate the difference in the number of plants in each region\n",
    "plant_count = (\n",
    "    annual_plant_results[\n",
    "        ~(\n",
    "            annual_plant_results[\n",
    "                [\n",
    "                    \"net_generation_mwh\",\n",
    "                    \"fuel_consumed_mmbtu\",\n",
    "                    \"fuel_consumed_for_electricity_mmbtu\",\n",
    "                    \"co2_mass_lb\",\n",
    "                ]\n",
    "            ].sum(axis=1)\n",
    "            == 0\n",
    "        )\n",
    "    ]\n",
    "    .groupby(\"ba_code\", dropna=False)[\"plant_id_eia\"]\n",
    "    .nunique()\n",
    "    - egrid_plant[\n",
    "        ~(\n",
    "            egrid_plant[\n",
    "                [\n",
    "                    \"net_generation_mwh\",\n",
    "                    \"fuel_consumed_mmbtu\",\n",
    "                    \"fuel_consumed_for_electricity_mmbtu\",\n",
    "                    \"co2_mass_lb\",\n",
    "                ]\n",
    "            ].sum(axis=1)\n",
    "            == 0\n",
    "        )\n",
    "    ]\n",
    "    .groupby(\"ba_code\", dropna=False)[\"plant_id_eia\"]\n",
    "    .nunique()\n",
    ").rename(\"num_plants\")\n",
    "\n",
    "ba_metric = ba_metric.merge(\n",
    "    plant_count, how=\"left\", left_index=True, right_index=True\n",
    ").sort_index()\n",
    "\n",
    "ba_metric = ba_metric.sort_values(by=[\"generated_co2_rate_lb_per_mwh\"], ascending=True)\n",
    "\n",
    "ba_metric = pd.concat([ba_metric, total], axis=0).round(2)\n",
    "\n",
    "ba_metric = ba_metric[DATA_COLUMNS + [\"generated_co2_rate_lb_per_mwh\", \"num_plants\"]]\n",
    "\n",
    "columns_to_check = [\n",
    "    \"net_generation_mwh\",\n",
    "    \"fuel_consumed_mmbtu\",\n",
    "    \"fuel_consumed_for_electricity_mmbtu\",\n",
    "    \"co2_mass_lb\",\n",
    "]\n",
    "\n",
    "with pd.option_context(\"display.max_rows\", None, \"display.max_columns\", None):\n",
    "    display(ba_metric[~(ba_metric[columns_to_check] == 0).all(axis=1)])"
   ]
  },
  {
   "attachments": {},
   "cell_type": "markdown",
   "metadata": {},
   "source": [
    "## Explore specific plants\n"
   ]
  },
  {
   "cell_type": "code",
   "execution_count": null,
   "metadata": {},
   "outputs": [],
   "source": [
    "plant_to_explore = 58223"
   ]
  },
  {
   "cell_type": "code",
   "execution_count": null,
   "metadata": {},
   "outputs": [],
   "source": [
    "egrid_plant[egrid_plant[\"plant_id_eia\"] == plant_to_explore]"
   ]
  },
  {
   "cell_type": "code",
   "execution_count": null,
   "metadata": {},
   "outputs": [],
   "source": [
    "annual_plant_results[annual_plant_results[\"plant_id_eia\"] == plant_to_explore]"
   ]
  },
  {
   "cell_type": "code",
   "execution_count": null,
   "metadata": {},
   "outputs": [],
   "source": [
    "eia923_allocated[eia923_allocated[\"plant_id_eia\"] == plant_to_explore]"
   ]
  },
  {
   "cell_type": "code",
   "execution_count": null,
   "metadata": {},
   "outputs": [],
   "source": [
    "eia923_allocated.loc[\n",
    "    eia923_allocated[\"plant_id_eia\"] == plant_to_explore,\n",
    "    [\"generator_id\", \"subplant_id\"],\n",
    "].drop_duplicates()"
   ]
  }
 ],
 "metadata": {
  "kernelspec": {
   "display_name": "open_grid_emissions",
   "language": "python",
   "name": "python3"
  },
  "language_info": {
   "codemirror_mode": {
    "name": "ipython",
    "version": 3
   },
   "file_extension": ".py",
   "mimetype": "text/x-python",
   "name": "python",
   "nbconvert_exporter": "python",
   "pygments_lexer": "ipython3",
   "version": "3.11.2"
  },
  "vscode": {
   "interpreter": {
    "hash": "25e36f192ecdbe5da57d9bea009812e7b11ef0e0053366a845a2802aae1b29d2"
   }
  }
 },
 "nbformat": 4,
 "nbformat_minor": 2
}
