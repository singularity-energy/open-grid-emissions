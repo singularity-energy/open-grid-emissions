{
 "cells": [
  {
   "cell_type": "code",
   "execution_count": 1,
   "metadata": {},
   "outputs": [],
   "source": [
    "# import packages\n",
    "import numpy as np\n",
    "import pandas as pd\n",
    "import plotly.express as px\n",
    "\n",
    "%reload_ext autoreload\n",
    "%autoreload 2\n",
    "\n",
    "# # Tell python where to look for modules.\n",
    "import sys\n",
    "\n",
    "sys.path.append(\"../../src\")\n",
    "\n",
    "# import local modules\n",
    "import oge.load_data as load_data\n",
    "import oge.data_cleaning as data_cleaning\n",
    "import oge.gross_to_net_generation as gross_to_net_generation\n",
    "import oge.impute_hourly_profiles as impute_hourly_profiles\n",
    "\n",
    "\n",
    "from oge.column_checks import get_dtypes, apply_dtypes\n",
    "\n",
    "year = 2020"
   ]
  },
  {
   "cell_type": "code",
   "execution_count": null,
   "metadata": {},
   "outputs": [],
   "source": [
    "# load data from csv\n",
    "year = 2020\n",
    "path_prefix = \"\"\n",
    "\n",
    "cems = pd.read_csv(\n",
    "    f\"../data/outputs/{path_prefix}{year}/cems_{year}.csv\",\n",
    "    dtype=get_dtypes(),\n",
    "    parse_dates=[\"datetime_utc\", \"report_date\"],\n",
    ")\n",
    "partial_cems_scaled = pd.read_csv(\n",
    "    f\"../data/outputs/{path_prefix}{year}/partial_cems_scaled_{year}.csv\",\n",
    "    dtype=get_dtypes(),\n",
    "    parse_dates=[\"datetime_utc\", \"report_date\"],\n",
    ")\n",
    "eia923_allocated = pd.read_csv(\n",
    "    f\"../data/outputs/{path_prefix}{year}/eia923_allocated_{year}.csv\",\n",
    "    dtype=get_dtypes(),\n",
    "    parse_dates=[\"report_date\"],\n",
    ")\n",
    "plant_attributes = pd.read_csv(\n",
    "    f\"../data/outputs/{path_prefix}{year}/plant_static_attributes_{year}.csv\"\n",
    ")"
   ]
  },
  {
   "cell_type": "markdown",
   "metadata": {},
   "source": [
    "# Validate that CEMS calculated net generation matches the net generation reported in EIA-923\n",
    "It will only match for subplants where there is an overlap in the two data sources"
   ]
  },
  {
   "cell_type": "code",
   "execution_count": null,
   "metadata": {},
   "outputs": [],
   "source": [
    "# validate method\n",
    "\n",
    "# merge together monthly subplant totals from EIA and calculated from CEMS\n",
    "eia_netgen = (\n",
    "    eia923_allocated.groupby(\n",
    "        [\"plant_id_eia\", \"subplant_id\", \"report_date\"], dropna=False\n",
    "    )\n",
    "    .sum(min_count=1)[\"net_generation_mwh\"]\n",
    "    .reset_index()\n",
    "    .dropna(subset=\"net_generation_mwh\")\n",
    ")\n",
    "calculated_netgen = (\n",
    "    cems.groupby([\"plant_id_eia\", \"subplant_id\", \"report_date\"], dropna=False)\n",
    "    .sum()[\"net_generation_mwh\"]\n",
    "    .reset_index()\n",
    ")\n",
    "validated_ng = eia_netgen.merge(\n",
    "    calculated_netgen,\n",
    "    how=\"inner\",\n",
    "    on=[\"plant_id_eia\", \"subplant_id\", \"report_date\"],\n",
    "    suffixes=(\"_eia\", \"_calc\"),\n",
    ")\n",
    "\n",
    "validated_ng = (\n",
    "    validated_ng.groupby(\"plant_id_eia\")\n",
    "    .sum()\n",
    "    .reset_index()\n",
    "    .drop(columns=[\"subplant_id\"])\n",
    ")\n",
    "\n",
    "validated_ng = validated_ng.round(3)\n",
    "validated_ng = validated_ng[\n",
    "    validated_ng[[\"net_generation_mwh_eia\", \"net_generation_mwh_calc\"]].sum(axis=1) != 0\n",
    "]\n",
    "\n",
    "validated_ng[\"pct_error\"] = (\n",
    "    validated_ng[\"net_generation_mwh_calc\"] - validated_ng[\"net_generation_mwh_eia\"]\n",
    ") / validated_ng[\"net_generation_mwh_eia\"]\n",
    "validated_ng.sort_values(by=\"pct_error\")"
   ]
  },
  {
   "cell_type": "markdown",
   "metadata": {},
   "source": [
    "# What is the most negative generation that a generator reports on average in a month?"
   ]
  },
  {
   "cell_type": "code",
   "execution_count": null,
   "metadata": {},
   "outputs": [],
   "source": [
    "# what is the most negative\n",
    "negative_hourly = eia923_allocated.copy()[\n",
    "    [\"plant_id_eia\", \"generator_id\", \"report_date\", \"net_generation_mwh\"]\n",
    "].dropna()\n",
    "negative_hourly[\"hours\"] = negative_hourly.report_date.dt.daysinmonth * 24\n",
    "negative_hourly[\"avg_generation_mw\"] = (\n",
    "    negative_hourly[\"net_generation_mwh\"] / negative_hourly[\"hours\"]\n",
    ")\n",
    "negative_hourly.sort_values(by=\"avg_generation_mw\")"
   ]
  },
  {
   "cell_type": "code",
   "execution_count": null,
   "metadata": {},
   "outputs": [],
   "source": [
    "plant_to_test = 1391\n",
    "\n",
    "cems_test = cems[cems[\"plant_id_eia\"] == plant_to_test]\n",
    "eia_test = eia923_allocated[eia923_allocated[\"plant_id_eia\"] == plant_to_test]"
   ]
  },
  {
   "cell_type": "code",
   "execution_count": null,
   "metadata": {},
   "outputs": [],
   "source": [
    "# identify data source\n",
    "all_data = eia_test.copy()\n",
    "\n",
    "# create a binary column indicating whether data was reported in 923\n",
    "columns_to_test = [\n",
    "    \"net_generation_mwh\",\n",
    "    \"fuel_consumed_mmbtu\",\n",
    "    \"fuel_consumed_for_electricity_mmbtu\",\n",
    "    \"co2_mass_lb\",\n",
    "    \"co2_mass_lb_adjusted\",\n",
    "]\n",
    "all_data = all_data.assign(\n",
    "    reported_eia923=lambda x: np.where(x[columns_to_test].notnull().all(axis=1), 1, 0)\n",
    ")\n",
    "\n",
    "cems_monthly = (\n",
    "    cems_test.groupby([\"plant_id_eia\", \"subplant_id\", \"report_date\"], dropna=False)\n",
    "    .count()[\"datetime_utc\"]\n",
    "    .reset_index()\n",
    ")\n",
    "\n",
    "cems_monthly[\"hourly_data_source\"] = \"cems\"\n",
    "\n",
    "# merge in the data source column from CEMS\n",
    "all_data = all_data.merge(\n",
    "    cems_monthly[[\"plant_id_eia\", \"subplant_id\", \"report_date\", \"hourly_data_source\"]],\n",
    "    how=\"left\",\n",
    "    on=[\"plant_id_eia\", \"subplant_id\", \"report_date\"],\n",
    "    validate=\"m:1\",\n",
    ")\n",
    "\n",
    "# for the remaining plants, identify the hourly data source as EIA\n",
    "all_data[\"hourly_data_source\"] = all_data[\"hourly_data_source\"].fillna(\"eia\")\n",
    "\n",
    "all_data.loc[\n",
    "    (all_data[\"hourly_data_source\"] == \"cems\")\n",
    "    & (~all_data[\"net_generation_mwh\"].isna()),\n",
    "    \"hourly_data_source\",\n",
    "] = \"both\"\n",
    "\n",
    "all_data"
   ]
  },
  {
   "cell_type": "code",
   "execution_count": null,
   "metadata": {},
   "outputs": [],
   "source": [
    "gtn_conversions = gross_to_net_generation.calculate_gross_to_net_conversion_factors(\n",
    "    cems_test, eia_test, plant_attributes, year\n",
    ")\n",
    "\n",
    "factors_to_use = gross_to_net_generation.filter_gtn_conversion_factors(gtn_conversions)\n",
    "\n",
    "# merge the conversion factors we want to use into the cems_test data\n",
    "cems_test = cems_test.merge(\n",
    "    factors_to_use[\n",
    "        [\n",
    "            \"plant_id_eia\",\n",
    "            \"subplant_id\",\n",
    "            \"report_date\",\n",
    "            \"data_source\",\n",
    "            \"annual_subplant_shift_mw\",\n",
    "            \"annual_plant_shift_mw\",\n",
    "            \"annual_subplant_ratio\",\n",
    "            \"annual_plant_ratio\",\n",
    "            \"annual_fleet_ratio\",\n",
    "        ]\n",
    "    ],\n",
    "    how=\"left\",\n",
    "    on=[\"plant_id_eia\", \"subplant_id\", \"report_date\"],\n",
    ")\n",
    "\n",
    "\"\"\"units_in_subplant = count_cems_test_units_in_subplant(cems_test)\n",
    "cems_test = cems_test.merge(\n",
    "    units_in_subplant, how=\"left\", on=[\"plant_id_eia\", \"subplant_id\", \"report_date\"]\n",
    ")\"\"\"\n",
    "\n",
    "cems_test[\"gtn_method\"] = \"1_annual_subplant_shift_factor\"\n",
    "cems_test[\"net_generation_mwh\"] = (\n",
    "    cems_test[\"gross_generation_mwh\"] + cems_test[\"annual_subplant_shift_mw\"]\n",
    ")\n",
    "\n",
    "cems_test.loc[cems_test[\"net_generation_mwh\"].isna(), \"gtn_method\"] = (\n",
    "    \"2_annual_subplant_ratio\"\n",
    ")\n",
    "cems_test[\"net_generation_mwh\"] = cems_test[\"net_generation_mwh\"].fillna(\n",
    "    cems_test[\"gross_generation_mwh\"] * cems_test[\"annual_subplant_ratio\"]\n",
    ")\n",
    "\n",
    "cems_test.loc[cems_test[\"net_generation_mwh\"].isna(), \"gtn_method\"] = (\n",
    "    \"3_annual_plant_shift_factor\"\n",
    ")\n",
    "cems_test[\"net_generation_mwh\"] = cems_test[\"net_generation_mwh\"].fillna(\n",
    "    cems_test[\"gross_generation_mwh\"] + cems_test[\"annual_plant_shift_mw\"]\n",
    ")\n",
    "\n",
    "cems_test.loc[cems_test[\"net_generation_mwh\"].isna(), \"gtn_method\"] = (\n",
    "    \"4_annual_plant_ratio\"\n",
    ")\n",
    "cems_test[\"net_generation_mwh\"] = cems_test[\"net_generation_mwh\"].fillna(\n",
    "    cems_test[\"gross_generation_mwh\"] * cems_test[\"annual_plant_ratio\"]\n",
    ")\n",
    "\n",
    "cems_test.loc[cems_test[\"net_generation_mwh\"].isna(), \"gtn_method\"] = (\n",
    "    \"5_annual_fleet_ratio\"\n",
    ")\n",
    "cems_test[\"net_generation_mwh\"] = cems_test[\"net_generation_mwh\"].fillna(\n",
    "    cems_test[\"gross_generation_mwh\"] * cems_test[\"annual_fleet_ratio\"]\n",
    ")\n",
    "\n",
    "cems_test.loc[cems_test[\"net_generation_mwh\"].isna(), \"gtn_method\"] = (\n",
    "    \"6_gross_equals_net\"\n",
    ")\n",
    "cems_test[\"net_generation_mwh\"] = cems_test[\"net_generation_mwh\"].fillna(\n",
    "    cems_test[\"gross_generation_mwh\"]\n",
    ")\n",
    "\n",
    "# drop intermediate columns\n",
    "cems_test = cems_test.drop(\n",
    "    columns=[\n",
    "        # \"data_source\",\n",
    "        \"annual_subplant_shift_mw\",\n",
    "        \"annual_plant_shift_mw\",\n",
    "        \"annual_subplant_ratio\",\n",
    "        \"annual_plant_ratio\",\n",
    "        \"annual_fleet_ratio\",\n",
    "    ]\n",
    ")"
   ]
  },
  {
   "cell_type": "code",
   "execution_count": null,
   "metadata": {},
   "outputs": [],
   "source": [
    "factors_to_use"
   ]
  },
  {
   "cell_type": "code",
   "execution_count": null,
   "metadata": {},
   "outputs": [],
   "source": [
    "cems_test.groupby([\"data_source\", \"subplant_id\"], dropna=False).sum()[\n",
    "    [\"gross_generation_mwh\", \"net_generation_mwh\"]\n",
    "].reset_index()"
   ]
  },
  {
   "cell_type": "code",
   "execution_count": null,
   "metadata": {},
   "outputs": [],
   "source": [
    "eia_test.groupby([\"hourly_data_source\", \"subplant_id\"], dropna=False).sum()[\n",
    "    \"net_generation_mwh\"\n",
    "].reset_index()"
   ]
  },
  {
   "cell_type": "code",
   "execution_count": null,
   "metadata": {},
   "outputs": [],
   "source": [
    "factors_to_use.groupby([\"data_source\", \"subplant_id\"], dropna=False).sum()[\n",
    "    \"net_generation_mwh\"\n",
    "].reset_index()"
   ]
  },
  {
   "cell_type": "markdown",
   "metadata": {},
   "source": [
    "# Examine hourly profiles"
   ]
  },
  {
   "cell_type": "code",
   "execution_count": null,
   "metadata": {},
   "outputs": [],
   "source": [
    "hourly_profiles = pd.read_csv(f\"../data/outputs/{year}/hourly_profiles_{year}.csv\")"
   ]
  },
  {
   "cell_type": "code",
   "execution_count": null,
   "metadata": {},
   "outputs": [],
   "source": [
    "data_to_graph = hourly_profiles[\n",
    "    (hourly_profiles[\"fuel_category\"] == \"coal\")\n",
    "    & (hourly_profiles[\"ba_code\"] == \"MISO\")\n",
    "]\n",
    "\n",
    "px.line(\n",
    "    data_to_graph,\n",
    "    x=\"datetime_utc\",\n",
    "    y=[\n",
    "        \"eia930_profile\",\n",
    "        \"cems_profile\",\n",
    "        \"residual_profile\",\n",
    "        \"scaled_residual_profile\",\n",
    "        \"shifted_residual_profile\",\n",
    "        \"imputed_profile\",\n",
    "        \"profile\",\n",
    "    ],\n",
    ")"
   ]
  },
  {
   "cell_type": "code",
   "execution_count": null,
   "metadata": {},
   "outputs": [],
   "source": [
    "plant_to_test = 3399\n",
    "subplant = 1\n",
    "\n",
    "cems_to_graph = cems[\n",
    "    (cems[\"plant_id_eia\"] == plant_to_test) & (cems[\"subplant_id\"] == subplant)\n",
    "]\n",
    "\n",
    "px.line(\n",
    "    cems_to_graph, x=\"datetime_utc\", y=[\"gross_generation_mwh\", \"net_generation_mwh\"]\n",
    ")"
   ]
  }
 ],
 "metadata": {
  "kernelspec": {
   "display_name": "oge_update",
   "language": "python",
   "name": "python3"
  },
  "language_info": {
   "codemirror_mode": {
    "name": "ipython",
    "version": 3
   },
   "file_extension": ".py",
   "mimetype": "text/x-python",
   "name": "python",
   "nbconvert_exporter": "python",
   "pygments_lexer": "ipython3",
   "version": "3.11.2"
  },
  "orig_nbformat": 4,
  "vscode": {
   "interpreter": {
    "hash": "a6b598b31fc646bdc0acd5c2004810e407b47ff3b1550e1d461e8498c70ba381"
   }
  }
 },
 "nbformat": 4,
 "nbformat_minor": 2
}
