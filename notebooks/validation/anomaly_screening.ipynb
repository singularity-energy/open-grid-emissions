{
 "cells": [
  {
   "cell_type": "markdown",
   "metadata": {},
   "source": [
    "# Screen Anomalies in CEMS Data "
   ]
  },
  {
   "cell_type": "code",
   "execution_count": null,
   "metadata": {},
   "outputs": [],
   "source": [
    "import numpy as np\n",
    "import pandas as pd\n",
    "\n",
    "import matplotlib.pyplot as plt\n",
    "\n",
    "from oge.load_data import load_cems_data\n",
    "from oge.helpers import create_plant_ba_table\n",
    "from oge.anomaly_screening import AnomalyScreeningFirstStep"
   ]
  },
  {
   "cell_type": "markdown",
   "metadata": {},
   "source": [
    "## Load CEMS Data"
   ]
  },
  {
   "cell_type": "code",
   "execution_count": null,
   "metadata": {},
   "outputs": [],
   "source": [
    "year = 2022\n",
    "cems = load_cems_data(year)"
   ]
  },
  {
   "cell_type": "markdown",
   "metadata": {},
   "source": [
    "## Map Plant to BA"
   ]
  },
  {
   "cell_type": "code",
   "execution_count": null,
   "metadata": {},
   "outputs": [],
   "source": [
    "plant2ba = create_plant_ba_table(year).set_index(\"plant_id_eia\")[\"ba_code\"].to_dict()\n",
    "\n",
    "\n",
    "def get_ba(plant):\n",
    "    try:\n",
    "        return plant2ba[plant]\n",
    "    except KeyError:\n",
    "        return np.NaN"
   ]
  },
  {
   "cell_type": "markdown",
   "metadata": {},
   "source": [
    "## Flag Extreme Values"
   ]
  },
  {
   "cell_type": "code",
   "execution_count": null,
   "metadata": {},
   "outputs": [],
   "source": [
    "def screening(field, global_cut_multiplier=10):\n",
    "    screening = []\n",
    "    for i, ts in enumerate(cems.groupby([\"plant_id_eia\", \"emissions_unit_id_epa\"])):\n",
    "        if i % 500 == 0:\n",
    "            print(i)\n",
    "        AS = AnomalyScreeningFirstStep(\n",
    "            ts[1][[\"plant_id_eia\", \"emissions_unit_id_epa\", field]],\n",
    "            field,\n",
    "            global_cut_multiplier=global_cut_multiplier,\n",
    "        )\n",
    "        AS.flag_negative_values()\n",
    "        AS.flag_zero_values()\n",
    "        if (\n",
    "            len(\n",
    "                AS.get_filtered_df().query(\n",
    "                    \"category != 'MISSING' and category != 'ZERO'\"\n",
    "                )\n",
    "            )\n",
    "            > 0\n",
    "        ):\n",
    "            AS.flag_global_extreme_values()\n",
    "            df = AS.get_filtered_df()\n",
    "            if len(df.query(\"category == 'GLOBAL_EXTREME'\")) > 0:\n",
    "                global_extreme_id = df.query(\"category == 'GLOBAL_EXTREME'\")[\"index\"]\n",
    "                median = cems.loc[df[\"index\"]].query(f\"{field} > 0\")[field].median()\n",
    "                screening.append(\n",
    "                    pd.concat(\n",
    "                        [\n",
    "                            pd.DataFrame(\n",
    "                                df.groupby(\"category\").size().to_dict(),\n",
    "                                index=pd.MultiIndex.from_tuples([ts[0]]),\n",
    "                            ),\n",
    "                            pd.DataFrame(\n",
    "                                {\n",
    "                                    \"MEAN_DEVIATION_OF_GLOBAL_EXTREME_FROM_MEDIAN\": [\n",
    "                                        (cems.loc[global_extreme_id][field] / median)\n",
    "                                        .mean()\n",
    "                                        .round(1)\n",
    "                                    ]\n",
    "                                },\n",
    "                                index=pd.MultiIndex.from_tuples([ts[0]]),\n",
    "                            ),\n",
    "                        ],\n",
    "                        axis=1,\n",
    "                    )\n",
    "                )\n",
    "\n",
    "    global_extreme = (\n",
    "        pd.concat(screening)\n",
    "        .fillna(0)\n",
    "        .astype(\n",
    "            {\n",
    "                \"MISSING\": \"int\",\n",
    "                \"OKAY\": \"int\",\n",
    "                \"ZERO\": \"int\",\n",
    "                \"GLOBAL_EXTREME\": \"int\",\n",
    "                \"MEAN_DEVIATION_OF_GLOBAL_EXTREME_FROM_MEDIAN\": \"float\",\n",
    "            }\n",
    "        )\n",
    "    )\n",
    "    global_extreme.index.set_names(\n",
    "        [\"plant_id_eia\", \"emissions_unit_id_epa\"], inplace=True\n",
    "    )\n",
    "    return global_extreme"
   ]
  },
  {
   "cell_type": "markdown",
   "metadata": {},
   "source": [
    "### Generation"
   ]
  },
  {
   "cell_type": "code",
   "execution_count": null,
   "metadata": {},
   "outputs": [],
   "source": [
    "generation_screening = screening(\"gross_generation_mwh\")\n",
    "generation_screening.assign(\n",
    "    BA=[get_ba(i) for i in generation_screening.index.get_level_values(0)]\n",
    ")"
   ]
  },
  {
   "cell_type": "code",
   "execution_count": null,
   "metadata": {},
   "outputs": [],
   "source": [
    "check_generation = cems.query(\n",
    "    \"plant_id_eia == 6824 and emissions_unit_id_epa == '2'\"\n",
    ").set_index(\"datetime_utc\")[\"gross_generation_mwh\"]\n",
    "ax = check_generation.plot()\n",
    "ax.set_xlabel(\"\")\n",
    "ax.set_ylabel(\"Gross Generation (MWh)\")\n",
    "plt.show()"
   ]
  },
  {
   "cell_type": "markdown",
   "metadata": {},
   "source": [
    "### Fuel Consumed"
   ]
  },
  {
   "cell_type": "code",
   "execution_count": null,
   "metadata": {},
   "outputs": [],
   "source": [
    "fuel_consumed_screening = screening(\"fuel_consumed_mmbtu\")\n",
    "fuel_consumed_screening.assign(\n",
    "    BA=[get_ba(i) for i in fuel_consumed_screening.index.get_level_values(0)]\n",
    ")"
   ]
  },
  {
   "cell_type": "code",
   "execution_count": null,
   "metadata": {},
   "outputs": [],
   "source": [
    "check_fuel_consumed = cems.query(\n",
    "    \"plant_id_eia == 50732 and emissions_unit_id_epa == 'ETBLR2'\"\n",
    ").set_index(\"datetime_utc\")[\"fuel_consumed_mmbtu\"]\n",
    "ax = check_fuel_consumed.plot()\n",
    "ax.set_xlabel(\"\")\n",
    "ax.set_ylabel(\"Fuel Consumed (MMBtu)\")\n",
    "plt.show()"
   ]
  },
  {
   "cell_type": "markdown",
   "metadata": {},
   "source": [
    "### CO2 Emission"
   ]
  },
  {
   "cell_type": "code",
   "execution_count": null,
   "metadata": {},
   "outputs": [],
   "source": [
    "co2_emission_screening = screening(\"co2_mass_lb\")\n",
    "co2_emission_screening.assign(\n",
    "    BA=[get_ba(i) for i in co2_emission_screening.index.get_level_values(0)]\n",
    ")"
   ]
  },
  {
   "cell_type": "code",
   "execution_count": null,
   "metadata": {},
   "outputs": [],
   "source": [
    "check_co2_emission = cems.query(\n",
    "    \"plant_id_eia == 55419 and emissions_unit_id_epa == '700'\"\n",
    ").set_index(\"datetime_utc\")[\"co2_mass_lb\"]\n",
    "ax = check_co2_emission.plot(ylim=(1000, 500000))\n",
    "ax.set_xlabel(\"\")\n",
    "ax.set_ylabel(\"CO2 Emission (LB)\")\n",
    "plt.show()"
   ]
  },
  {
   "cell_type": "markdown",
   "metadata": {},
   "source": [
    "### NOx Emission"
   ]
  },
  {
   "cell_type": "code",
   "execution_count": null,
   "metadata": {},
   "outputs": [],
   "source": [
    "nox_emission_screening = screening(\"nox_mass_lb\", global_cut_multiplier=10)\n",
    "nox_emission_screening.assign(\n",
    "    BA=[get_ba(i) for i in nox_emission_screening.index.get_level_values(0)]\n",
    ")"
   ]
  },
  {
   "cell_type": "code",
   "execution_count": null,
   "metadata": {},
   "outputs": [],
   "source": [
    "check_nox_emission = cems.query(\n",
    "    \"plant_id_eia == 880067 and emissions_unit_id_epa == 'BLR19'\"\n",
    ").set_index(\"datetime_utc\")[\"nox_mass_lb\"]\n",
    "ax = check_nox_emission.plot()\n",
    "ax.set_xlabel(\"\")\n",
    "ax.set_ylabel(\"NOx Emission (LB)\")\n",
    "plt.show()"
   ]
  },
  {
   "cell_type": "markdown",
   "metadata": {},
   "source": [
    "### SO2 Emission"
   ]
  },
  {
   "cell_type": "code",
   "execution_count": null,
   "metadata": {},
   "outputs": [],
   "source": [
    "so2_emission_screening = screening(\"so2_mass_lb\", global_cut_multiplier=10)\n",
    "so2_emission_screening.assign(\n",
    "    BA=[get_ba(i) for i in so2_emission_screening.index.get_level_values(0)]\n",
    ")"
   ]
  },
  {
   "cell_type": "code",
   "execution_count": null,
   "metadata": {},
   "outputs": [],
   "source": [
    "check_so2_emission = cems.query(\n",
    "    \"plant_id_eia == 60340 and emissions_unit_id_epa == 'B0004'\"\n",
    ").set_index(\"datetime_utc\")[\"so2_mass_lb\"]\n",
    "ax = check_so2_emission.plot()\n",
    "ax.set_xlabel(\"\")\n",
    "ax.set_ylabel(\"SO2 Emission (LB)\")\n",
    "plt.show()"
   ]
  }
 ],
 "metadata": {
  "kernelspec": {
   "display_name": "open-grid-emissions-zm3GQQDc",
   "language": "python",
   "name": "python3"
  },
  "language_info": {
   "codemirror_mode": {
    "name": "ipython",
    "version": 3
   },
   "file_extension": ".py",
   "mimetype": "text/x-python",
   "name": "python",
   "nbconvert_exporter": "python",
   "pygments_lexer": "ipython3",
   "version": "3.11.2"
  }
 },
 "nbformat": 4,
 "nbformat_minor": 2
}
