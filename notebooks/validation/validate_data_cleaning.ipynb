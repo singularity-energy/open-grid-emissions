{
 "cells": [
  {
   "cell_type": "code",
   "execution_count": null,
   "metadata": {},
   "outputs": [],
   "source": [
    "# import packages\n",
    "import pandas as pd\n",
    "\n",
    "%reload_ext autoreload\n",
    "%autoreload 2\n",
    "\n",
    "# Tell python where to look for modules.\n",
    "import sys\n",
    "\n",
    "sys.path.append(\"../../../open-grid-emissions/\")\n",
    "\n",
    "# import local modules\n",
    "import src.validation as validation\n",
    "\n",
    "from src.column_checks import get_dtypes\n",
    "\n",
    "year = 2020\n",
    "path_prefix = \"\"\n",
    "path_prefix = f\"{path_prefix}{year}\""
   ]
  },
  {
   "cell_type": "markdown",
   "metadata": {},
   "source": [
    "# Validate Cleaned EIA-923 Data\n",
    "Notes:\n",
    "- When net generation is positive but no fuel consumption is reported, this could be due to several reasons:\n",
    "    - The generator uses a clean fuel, like WAT, and reports 0 mmbtu per physical unit fuel consumed\n",
    "    - The generator is part of a combined cycle unit and all of the fuel is reported on the other cycle\n",
    "- Records where all data is zero could just mean that the generator didn't operate in that month"
   ]
  },
  {
   "cell_type": "code",
   "execution_count": null,
   "metadata": {},
   "outputs": [],
   "source": [
    "eia923_allocated = pd.read_csv(\n",
    "    f\"../data/outputs/{path_prefix}/eia923_allocated_{year}.csv\",\n",
    "    dtype=get_dtypes(),\n",
    "    parse_dates=[\"report_date\"],\n",
    ")"
   ]
  },
  {
   "cell_type": "code",
   "execution_count": null,
   "metadata": {},
   "outputs": [],
   "source": [
    "# perform checks on allocated data\n",
    "# fuel consumption and co2 emissions should be positive\n",
    "negative_test = validation.test_for_negative_values(\n",
    "    eia923_allocated,\n",
    "    [\n",
    "        \"fuel_consumed_mmbtu\",\n",
    "        \"fuel_consumed_for_electricity_mmbtu\",\n",
    "        \"co2_mass_lb\",\n",
    "        \"co2_mass_lb_for_electricity\",\n",
    "        \"co2_mass_lb_adjusted\",\n",
    "    ],\n",
    ")\n",
    "\n",
    "# if net generation is positive, fuel consumption should be non zero\n",
    "missing_fuel_test = validation.test_for_missing_fuel(\n",
    "    eia923_allocated, \"net_generation_mwh\"\n",
    ")\n",
    "\n",
    "# fuel consumed for electricity should be less than fuel consumed\n",
    "chp_allocation_test = validation.test_chp_allocation(eia923_allocated)\n",
    "\n",
    "# check for missing co2 data\n",
    "missing_co2_test = validation.test_for_missing_co2(eia923_allocated)\n",
    "\n",
    "# check for generators with no data\n",
    "missing_data_test = validation.test_for_missing_data(\n",
    "    eia923_allocated,\n",
    "    [\n",
    "        \"net_generation_mwh\",\n",
    "        \"fuel_consumed_mmbtu\",\n",
    "        \"fuel_consumed_for_electricity_mmbtu\",\n",
    "        \"co2_mass_lb\",\n",
    "        \"co2_mass_lb_for_electricity\",\n",
    "        \"co2_mass_lb_adjusted\",\n",
    "    ],\n",
    ")\n",
    "\n",
    "# check for generators with all data = 0\n",
    "zero_data_test = validation.test_for_zero_data(\n",
    "    eia923_allocated,\n",
    "    [\n",
    "        \"net_generation_mwh\",\n",
    "        \"fuel_consumed_mmbtu\",\n",
    "        \"fuel_consumed_for_electricity_mmbtu\",\n",
    "        \"co2_mass_lb\",\n",
    "        \"co2_mass_lb_for_electricity\",\n",
    "        \"co2_mass_lb_adjusted\",\n",
    "    ],\n",
    ")\n",
    "\n",
    "# check for missing energy source code\n",
    "missing_esc_test = validation.test_for_missing_energy_source_code(eia923_allocated)\n",
    "\n",
    "# check for missing and incorrect prime movers\n",
    "incorrect_pm_test, missing_pm_test = validation.test_for_missing_incorrect_prime_movers(\n",
    "    eia923_allocated, year\n",
    ")\n",
    "\n",
    "# check for missing subplant ids\n",
    "eia_missing_subplant_test = validation.test_for_missing_subplant_id(eia923_allocated)"
   ]
  },
  {
   "cell_type": "code",
   "execution_count": null,
   "metadata": {},
   "outputs": [],
   "source": [
    "missing_data_test"
   ]
  },
  {
   "cell_type": "code",
   "execution_count": null,
   "metadata": {},
   "outputs": [],
   "source": [
    "# check heat rates\n",
    "heat_rate_test = validation.test_for_outlier_heat_rates(eia923_allocated)"
   ]
  },
  {
   "cell_type": "code",
   "execution_count": null,
   "metadata": {},
   "outputs": [],
   "source": [
    "# what percent of emissions is reported in CEMS vs EIA\n",
    "# NOTE: This does not include emissions only reported by CEMS, so the % may be higher\n",
    "(\n",
    "    eia923_allocated.groupby(\"hourly_data_source\")[\n",
    "        [\n",
    "            \"net_generation_mwh\",\n",
    "            \"fuel_consumed_mmbtu\",\n",
    "            \"co2_mass_lb\",\n",
    "            \"co2_mass_lb_for_electricity\",\n",
    "        ]\n",
    "    ].sum()\n",
    "    / eia923_allocated.groupby(\"hourly_data_source\")[\n",
    "        [\n",
    "            \"net_generation_mwh\",\n",
    "            \"fuel_consumed_mmbtu\",\n",
    "            \"co2_mass_lb\",\n",
    "            \"co2_mass_lb_for_electricity\",\n",
    "        ]\n",
    "    ]\n",
    "    .sum()\n",
    "    .sum(axis=0)\n",
    ").round(3)"
   ]
  },
  {
   "cell_type": "markdown",
   "metadata": {},
   "source": [
    "### Run Validation tests on cleaned CEMS data"
   ]
  },
  {
   "cell_type": "code",
   "execution_count": null,
   "metadata": {},
   "outputs": [],
   "source": [
    "cems = pd.read_csv(\n",
    "    f\"../data/outputs/{path_prefix}/cems_subplant_{year}.csv\",\n",
    "    dtype=get_dtypes(),\n",
    "    parse_dates=[\"report_date\"],\n",
    ")"
   ]
  },
  {
   "cell_type": "code",
   "execution_count": null,
   "metadata": {},
   "outputs": [],
   "source": [
    "# fuel consumption and co2 emissions should be positive\n",
    "cems_negative_test = validation.test_for_negative_values(cems)\n",
    "\n",
    "# if net generation is positive, fuel consumption should be non zero\n",
    "cems_missing_fuel_test = validation.test_for_missing_fuel(cems, \"gross_generation_mwh\")\n",
    "\n",
    "# fuel consumed for electricity should be less than fuel consumed\n",
    "cems_chp_allocation_test = validation.test_chp_allocation(cems)\n",
    "\n",
    "# check for missing co2 data\n",
    "cems_missing_co2_test = validation.test_for_missing_co2(cems)\n",
    "\n",
    "# check for missing energy source code\n",
    "# cems_missing_esc_test = validation.test_for_missing_energy_source_code(cems)\n",
    "\n",
    "# test to make sure that there is a complete subplant mapping\n",
    "cems_missing_subplant_test = validation.test_for_missing_subplant_id(cems)\n",
    "\n",
    "# test to see if there are any net generation values greater than gross generation\n",
    "gtn_test = validation.test_gtn_results(cems)"
   ]
  },
  {
   "cell_type": "markdown",
   "metadata": {},
   "source": [
    "# Make sure that each subplant has been identified from a unique source"
   ]
  }
 ],
 "metadata": {
  "interpreter": {
   "hash": "4103f3cd497821eca917ea303dbe10c590d787eb7d2dc3fd4e15dec0356e7931"
  },
  "kernelspec": {
   "display_name": "Python 3.9.12 ('hourly_egrid')",
   "language": "python",
   "name": "python3"
  },
  "language_info": {
   "codemirror_mode": {
    "name": "ipython",
    "version": 3
   },
   "file_extension": ".py",
   "mimetype": "text/x-python",
   "name": "python",
   "nbconvert_exporter": "python",
   "pygments_lexer": "ipython3",
   "version": "3.10.5"
  }
 },
 "nbformat": 4,
 "nbformat_minor": 2
}
