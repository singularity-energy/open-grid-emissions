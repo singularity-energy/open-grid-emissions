{
 "cells": [
  {
   "cell_type": "markdown",
   "metadata": {},
   "source": [
    "# Validate EIA-930 data against net generation outputs"
   ]
  },
  {
   "cell_type": "code",
   "execution_count": null,
   "metadata": {},
   "outputs": [],
   "source": [
    "import pandas as pd\n",
    "import numpy as np\n",
    "import os\n",
    "\n",
    "import plotly.express as px\n",
    "import plotly.io as pio\n",
    "import plotly.graph_objects as go\n",
    "from datetime import datetime\n",
    "from dateutil.parser import parse as parse_dt\n",
    "from datetime import timedelta\n",
    "import json\n",
    "\n",
    "import requests"
   ]
  },
  {
   "cell_type": "code",
   "execution_count": null,
   "metadata": {},
   "outputs": [],
   "source": [
    "import sys\n",
    "\n",
    "sys.path.append(\"../../src\")\n",
    "\n",
    "import filepaths"
   ]
  },
  {
   "cell_type": "code",
   "execution_count": null,
   "metadata": {},
   "outputs": [],
   "source": [
    "year = 2020"
   ]
  },
  {
   "cell_type": "code",
   "execution_count": null,
   "metadata": {},
   "outputs": [],
   "source": [
    "# EIA-930 data after timestamp adjustments but no cleaning\n",
    "raw = pd.read_csv(\n",
    "    f\"{filepaths.data_folder()}/outputs/2020/eia930/eia930_raw.csv\",\n",
    "    index_col=0,\n",
    "    parse_dates=True,\n",
    ")"
   ]
  },
  {
   "cell_type": "code",
   "execution_count": null,
   "metadata": {},
   "outputs": [],
   "source": [
    "GEN_ID = \"EBA.{}-ALL.NG.H\"\n",
    "path = f\"{filepaths.data_folder()}/results/{year}/power_sector_data/hourly/us_units/\"\n",
    "cors = {}\n",
    "percent_difs = {}\n",
    "annual_gen = {}\n",
    "for ba_f in os.listdir(path):\n",
    "    ba = ba_f.replace(\".csv\", \"\")\n",
    "    print(ba, end=\"...\")\n",
    "    col_name = GEN_ID.format(ba)\n",
    "    if col_name not in raw.columns:\n",
    "        continue\n",
    "    else:\n",
    "        dat = pd.read_csv(path + ba_f, parse_dates=[\"datetime_utc\"])\n",
    "        dat = dat[dat.fuel_category == \"total\"]\n",
    "        dat = dat.merge(raw[col_name], left_on=\"datetime_utc\", right_index=True)\n",
    "        c = dat[[\"net_generation_mwh\", col_name]].corr().to_numpy()[0, 1]\n",
    "        cors[ba] = c\n",
    "        difs = (dat[col_name] - dat[\"net_generation_mwh\"]) / dat[\"net_generation_mwh\"]\n",
    "        difs = difs.replace(np.inf, np.nan)\n",
    "        percent_difs[ba] = difs.median()\n",
    "        annual_gen[ba] = dat[\"net_generation_mwh\"].sum()"
   ]
  },
  {
   "cell_type": "code",
   "execution_count": null,
   "metadata": {},
   "outputs": [],
   "source": [
    "os.makedirs(\n",
    "    f\"{filepaths.data_folder()}/outputs/{year}/validation_metrics/us_units\",\n",
    "    exist_ok=True,\n",
    ")\n",
    "\n",
    "out = pd.DataFrame(\n",
    "    data={\n",
    "        \"Difference as percent of hourly-egrid\": percent_difs,\n",
    "        \"Correlation\": cors,\n",
    "        \"Annual BA generation\": annual_gen,\n",
    "    }\n",
    ")\n",
    "out = out.sort_values(\"Annual BA generation\", ascending=False)\n",
    "out.to_csv(\n",
    "    f\"{filepaths.data_folder()}/outputs/{year}/validation_metrics/us_units/compare_930_hourlyegrid.csv\"\n",
    ")"
   ]
  },
  {
   "cell_type": "markdown",
   "metadata": {},
   "source": [
    "# Visualize BA of interest"
   ]
  },
  {
   "cell_type": "code",
   "execution_count": null,
   "metadata": {},
   "outputs": [],
   "source": [
    "ba = \"NYIS\"\n",
    "col_name = GEN_ID.format(ba)\n",
    "dat = pd.read_csv(path + ba + \".csv\", parse_dates=[\"datetime_utc\"])\n",
    "dat = dat[dat.fuel_category == \"total\"]\n",
    "dat = dat.merge(raw[col_name], left_on=\"datetime_utc\", right_index=True)\n",
    "\n",
    "px.line(dat, x=\"datetime_utc\", y=[\"net_generation_mwh\", col_name])"
   ]
  },
  {
   "cell_type": "markdown",
   "metadata": {},
   "source": [
    "# Calculate real-time-rates from 930 + eGRID"
   ]
  },
  {
   "cell_type": "code",
   "execution_count": null,
   "metadata": {},
   "outputs": [],
   "source": [
    "eia930 = pd.read_csv(\n",
    "    f\"{filepaths.data_folder()}/outputs/{year}/eia930/eia930_rolling.csv\",\n",
    "    parse_dates=True,\n",
    "    index_col=0,\n",
    ")"
   ]
  },
  {
   "cell_type": "code",
   "execution_count": null,
   "metadata": {},
   "outputs": [],
   "source": [
    "## Load factors from Singularity API\n",
    "\n",
    "# Use last year's egrid because that's all we have in real time\n",
    "# TODO: could expand to other pollutants if we use eGRID download\n",
    "url = f\"https://api.singularity.energy/v1/emissions/\"\n",
    "egrid_year = str(year - 1)  # use last year as eGRID year\n",
    "\n",
    "headers = {\n",
    "    \"X-Api-Key\": os.environ[\"SINGULARITY_API_KEY\"],\n",
    "}\n",
    "\n",
    "factors = {}\n",
    "\n",
    "for adjustment in [\"adjusted\", \"unadjusted\"]:\n",
    "    adjusted = adjustment == \"adjusted\"\n",
    "    key = f\"EGRID_{egrid_year}\" if adjusted else f\"EGRID_u{egrid_year}\"\n",
    "    response = requests.request(\"GET\", url + key, headers=headers)\n",
    "    factors[adjustment] = json.loads(response.content)[\"data\"]"
   ]
  },
  {
   "cell_type": "code",
   "execution_count": null,
   "metadata": {},
   "outputs": [],
   "source": [
    "# Default factors: coal factor is missing in FPC, PACW; so need national factor\n",
    "default_factors = {}\n",
    "default_factors[\"adjusted\"] = {}\n",
    "default_factors[\"unadjusted\"] = {}\n",
    "default_factors[\"adjusted\"][\"coal\"] = 2168.237\n",
    "default_factors[\"unadjusted\"][\"coal\"] = 2168.237"
   ]
  },
  {
   "cell_type": "code",
   "execution_count": null,
   "metadata": {},
   "outputs": [],
   "source": [
    "factors[\"adjusted\"][\"HST\"]"
   ]
  },
  {
   "cell_type": "code",
   "execution_count": null,
   "metadata": {},
   "outputs": [],
   "source": [
    "EIA_REGIONS = {\n",
    "    \"BPAT\",\n",
    "    \"CISO\",\n",
    "    \"ISNE\",\n",
    "    \"MISO\",\n",
    "    \"NYIS\",\n",
    "    \"PJM\",\n",
    "    \"SWPP\",\n",
    "}"
   ]
  },
  {
   "cell_type": "code",
   "execution_count": null,
   "metadata": {},
   "outputs": [],
   "source": [
    "## For each BA, use singularity factors to calculate emission rate\n",
    "bas_to_calc = [\n",
    "    ba.replace(\".csv\", \"\")\n",
    "    for ba in os.listdir(\n",
    "        f\"{filepaths.results_folder()}/2020/power_sector_data/hourly/us_units/\"\n",
    "    )\n",
    "]\n",
    "\n",
    "fuel_categories = {\n",
    "    \"coal\": \"COL\",\n",
    "    \"natural_gas\": \"NG\",\n",
    "    \"other\": \"OTH\",\n",
    "    \"hydro\": \"WAT\",\n",
    "    \"wind\": \"WND\",\n",
    "    \"solar\": \"SUN\",\n",
    "    \"nuclear\": \"NUC\",\n",
    "    \"petroleum\": \"OIL\",\n",
    "}\n",
    "\n",
    "for ba in bas_to_calc:\n",
    "    singularity_ba = \"EIA.\" + ba if ba in EIA_REGIONS else ba\n",
    "    if singularity_ba not in factors[adjustment].keys():\n",
    "        print(f\"missing ba {singularity_ba}\")\n",
    "        continue\n",
    "\n",
    "    out = pd.DataFrame(\n",
    "        index=eia930.index,\n",
    "        columns=[\n",
    "            \"adjusted_carbon\",\n",
    "            \"unajusted_carbon\",\n",
    "            \"adjusted_rate\",\n",
    "            \"unadjusted_rate\",\n",
    "        ],\n",
    "    )\n",
    "\n",
    "    for adjustment in [\"adjusted\", \"unadjusted\"]:\n",
    "        s_fuels = list(factors[adjustment][singularity_ba].keys())\n",
    "        s_factors = [factors[adjustment][singularity_ba][f][\"value\"] for f in s_fuels]\n",
    "        # Add default factors for missing fuel types\n",
    "        for f in default_factors[adjustment].keys():\n",
    "            if f not in s_fuels:\n",
    "                s_fuels.append(f)\n",
    "                s_factors.append(default_factors[adjustment][f])\n",
    "        fuels = [fuel_categories[f] for f in s_fuels]\n",
    "        generation_labels = [f\"EBA.{ba}-ALL.NG.{f}.H\" for f in fuels]\n",
    "\n",
    "        out.loc[:, f\"{adjustment}_carbon\"] = (\n",
    "            eia930[generation_labels].mul(s_factors, axis=\"columns\").sum(axis=\"columns\")\n",
    "        )\n",
    "        out.loc[:, f\"{adjustment}_rate\"] = (\n",
    "            out.loc[:, f\"{adjustment}_carbon\"] / eia930.loc[:, f\"EBA.{ba}-ALL.NG.H\"]\n",
    "        )\n",
    "\n",
    "    os.makedirs(\n",
    "        f\"{filepaths.data_folder()}/outputs/{year}/validation/real_time_rate/\",\n",
    "        exist_ok=True,\n",
    "    )\n",
    "    out.to_csv(\n",
    "        f\"{filepaths.data_folder()}/outputs/{year}/validation/real_time_rate/{ba}.csv\"\n",
    "    )"
   ]
  },
  {
   "cell_type": "markdown",
   "metadata": {},
   "source": [
    "# Rate: correlations and percent differences\n",
    "\n",
    "Evaluation of rates"
   ]
  },
  {
   "cell_type": "code",
   "execution_count": null,
   "metadata": {},
   "outputs": [],
   "source": [
    "gen_path = (\n",
    "    f\"{filepaths.data_folder()}/results/{year}/power_sector_data/hourly/us_units/\"\n",
    ")\n",
    "consumed_path = (\n",
    "    f\"{filepaths.data_folder()}/results/{year}/carbon_accounting/hourly/us_units/\"\n",
    ")"
   ]
  },
  {
   "cell_type": "code",
   "execution_count": null,
   "metadata": {},
   "outputs": [],
   "source": [
    "year = 2020"
   ]
  },
  {
   "cell_type": "code",
   "execution_count": null,
   "metadata": {},
   "outputs": [],
   "source": [
    "percent_difs = {}\n",
    "abs_difs = {}\n",
    "med_rate = {}\n",
    "cors = {}\n",
    "max_difs = {}\n",
    "for ba in os.listdir(\n",
    "    f\"{filepaths.data_folder()}/outputs/{year}/validation/real_time_rate/\"\n",
    "):\n",
    "    if ba == \".DS_Store\":  # just some os stuff\n",
    "        continue\n",
    "    ba = ba.replace(\".csv\", \"\")\n",
    "    singularity_dat = pd.read_csv(\n",
    "        f\"{filepaths.data_folder()}/outputs/{year}/validation/real_time_rate/{ba}.csv\",\n",
    "        index_col=0,\n",
    "        parse_dates=True,\n",
    "    )\n",
    "    # hourly_consumed = pd.read_csv(consumed_path+ba+\".csv\",\n",
    "    #     usecols=[\"datetime_utc\", \"consumed_co2_rate_lb_per_mwh_for_electricity\", \"consumed_co2_rate_lb_per_mwh_adjusted\"],\n",
    "    #     index_col=\"datetime_utc\", parse_dates=True)\n",
    "    hourly_generated = pd.read_csv(\n",
    "        gen_path + ba + \".csv\",\n",
    "        usecols=[\n",
    "            \"datetime_utc\",\n",
    "            \"generated_co2_rate_lb_per_mwh_for_electricity\",\n",
    "            \"generated_co2_rate_lb_per_mwh_for_electricity_adjusted\",\n",
    "            \"co2_mass_lb\",\n",
    "            \"fuel_category\",\n",
    "        ],\n",
    "        index_col=\"datetime_utc\",\n",
    "        parse_dates=True,\n",
    "    )\n",
    "    hourly_generated = hourly_generated.loc[hourly_generated.fuel_category == \"total\"]\n",
    "    hourly_generated = hourly_generated.sort_index()\n",
    "    all_dat = pd.concat([singularity_dat, hourly_generated], axis=\"columns\")\n",
    "\n",
    "    dat_key = \"generated_co2_rate_lb_per_mwh_for_electricity_adjusted\"\n",
    "\n",
    "    # Patch fix for PJM, see https://github.com/singularity-energy/open-grid-emissions/issues/230\n",
    "    if ba == \"PJM\":\n",
    "        all_dat.loc[all_dat[dat_key] < 100, dat_key] = np.nan\n",
    "        all_dat = all_dat[\"2020-02-01T00:00\":]\n",
    "\n",
    "    # Patch fix for FPL real-time issue not caught by rolling filter\n",
    "    if ba == \"FPL\":\n",
    "        all_dat.loc[all_dat[\"adjusted_rate\"] > 5000, \"adjusted_rate\"] = np.nan\n",
    "\n",
    "    all_dat = all_dat.sort_index()\n",
    "    cors[ba] = all_dat[[dat_key, \"adjusted_rate\"]].corr().to_numpy()[0, 1]\n",
    "    percent_difs[ba] = (\n",
    "        (all_dat[\"adjusted_rate\"] - all_dat[dat_key]) / all_dat[dat_key]\n",
    "    ).median()\n",
    "    max_difs[ba] = (\n",
    "        ((all_dat[\"adjusted_rate\"] - all_dat[dat_key]) / all_dat[dat_key])\n",
    "        .abs()\n",
    "        .replace(1.0, np.nan)\n",
    "        .max()\n",
    "    )\n",
    "    abs_difs[ba] = (all_dat[\"adjusted_rate\"] - all_dat[dat_key]).median()\n",
    "    med_rate[ba] = all_dat[\"adjusted_rate\"].median()"
   ]
  },
  {
   "cell_type": "code",
   "execution_count": null,
   "metadata": {},
   "outputs": [],
   "source": [
    "out = pd.DataFrame(\n",
    "    data={\n",
    "        \"Median rate difference\": abs_difs,\n",
    "        \"Difference as percent of OGE\": percent_difs,\n",
    "        \"Correlation\": cors,\n",
    "        \"Annual BA generation\": annual_gen,\n",
    "        \"Median rate\": med_rate,\n",
    "    }\n",
    ")\n",
    "out = out.sort_values(\"Annual BA generation\", ascending=False)\n",
    "\n",
    "# Exclude BAs for which we couldn't calculate a real-time rate\n",
    "todrop = [\n",
    "    b\n",
    "    for b in out.index\n",
    "    if (b not in factors[\"adjusted\"].keys())\n",
    "    and (\"EIA.\" + b not in factors[\"adjusted\"].keys())\n",
    "]\n",
    "print(\n",
    "    f\"dropping {todrop} because they aren't included in Singularity's emission rate API\"\n",
    ")\n",
    "out = out.drop(labels=todrop)\n",
    "# exclude BAs for which rate is always zero (Hydro-only BAs)\n",
    "zero_rates = []\n",
    "for ba in out.index:\n",
    "    if (out.loc[ba, \"Median rate\"] == 0) and (\n",
    "        out.loc[ba, \"Median rate difference\"] == 0\n",
    "    ):\n",
    "        zero_rates.append(ba)\n",
    "print(f\"Note {zero_rates} have zero rates in OGE data\")\n",
    "# out = out.drop(labels=todrop)\n",
    "# exclude BAs with zero net gen according to our data\n",
    "zero_gen = []\n",
    "for ba in out.index:\n",
    "    if out.loc[ba, \"Annual BA generation\"] == 0:\n",
    "        zero_gen.append(ba)\n",
    "print(f\"Dropping {zero_gen} because they have zero generation in OGE data\")\n",
    "out = out.drop(labels=zero_gen)\n",
    "\n",
    "out.to_csv(\n",
    "    f\"{filepaths.data_folder()}/outputs/{year}/validation_metrics/us_units/compare_real_time_rates.csv\"\n",
    ")"
   ]
  },
  {
   "cell_type": "code",
   "execution_count": null,
   "metadata": {},
   "outputs": [],
   "source": [
    "out.head()"
   ]
  },
  {
   "cell_type": "code",
   "execution_count": null,
   "metadata": {},
   "outputs": [],
   "source": [
    "out_tbl = out.copy()  # .round(2)\n",
    "out_tbl[\"Annual BA generation\"] = (\n",
    "    out_tbl[\"Annual BA generation\"] / 1000000\n",
    ")  # convert to millions\n",
    "out_tbl[\"Difference as percent of OGE\"] = (\n",
    "    out_tbl[\"Difference as percent of OGE\"] * 100\n",
    ")  # convert to %\n",
    "out_tbl = out_tbl.round(2)\n",
    "for line in out_tbl.to_markdown().split(\"/n\"):\n",
    "    print(line)"
   ]
  },
  {
   "cell_type": "code",
   "execution_count": null,
   "metadata": {},
   "outputs": [],
   "source": [
    "out.loc[\"FPC\"]"
   ]
  },
  {
   "cell_type": "markdown",
   "metadata": {},
   "source": [
    "# Visualize emission rate differences"
   ]
  },
  {
   "cell_type": "code",
   "execution_count": null,
   "metadata": {},
   "outputs": [],
   "source": [
    "# For one-off interactive plotting\n",
    "ba_of_interest = \"BPAT\"\n",
    "\n",
    "\n",
    "real_time = pd.read_csv(\n",
    "    f\"{filepaths.data_folder()}/outputs/{year}/validation/real_time_rate/{ba_of_interest}.csv\",\n",
    "    index_col=0,\n",
    "    parse_dates=True,\n",
    ")\n",
    "real_time = real_time[\"2020-01-01T00:00\":]\n",
    "if ba_of_interest == \"NYIS\":\n",
    "    # NYIS has a hole in the EIA data that's not there in ISO data: fill it\n",
    "    nyis_hole = pd.Series(\n",
    "        data=[313, 287.79, 262.215],\n",
    "        index=[\"2020-03-30T01:00+00\", \"2020-03-30T02:00+00\", \"2020-03-30T03:00+00\"],\n",
    "    )\n",
    "    real_time.loc[nyis_hole.index, \"adjusted_rate\"] = nyis_hole\n",
    "\n",
    "hourly_consumed = pd.read_csv(\n",
    "    consumed_path + ba_of_interest + \".csv\",\n",
    "    usecols=[\n",
    "        \"datetime_utc\",\n",
    "        \"consumed_co2_rate_lb_per_mwh_for_electricity\",\n",
    "        \"consumed_co2_rate_lb_per_mwh_for_electricity_adjusted\",\n",
    "    ],\n",
    "    index_col=\"datetime_utc\",\n",
    "    parse_dates=True,\n",
    ")\n",
    "hourly_generated = pd.read_csv(\n",
    "    gen_path + ba_of_interest + \".csv\",\n",
    "    usecols=[\n",
    "        \"datetime_utc\",\n",
    "        \"generated_co2_rate_lb_per_mwh_for_electricity\",\n",
    "        \"generated_co2_rate_lb_per_mwh_for_electricity_adjusted\",\n",
    "        \"co2_mass_lb\",\n",
    "        \"fuel_category\",\n",
    "    ],\n",
    "    index_col=\"datetime_utc\",\n",
    "    parse_dates=True,\n",
    ")\n",
    "\n",
    "all_dat = pd.concat(\n",
    "    [\n",
    "        real_time,\n",
    "        hourly_consumed,\n",
    "        hourly_generated.loc[hourly_generated.fuel_category == \"total\"],\n",
    "    ],\n",
    "    axis=\"columns\",\n",
    ")\n",
    "all_dat = all_dat.sort_index()\n",
    "\n",
    "all_dat[\"percent_difs\"] = (\n",
    "    all_dat[\"adjusted_rate\"]\n",
    "    - all_dat[\"generated_co2_rate_lb_per_mwh_for_electricity_adjusted\"]\n",
    ") / all_dat[\"generated_co2_rate_lb_per_mwh_for_electricity_adjusted\"]\n",
    "\n",
    "# all_dat = all_dat.loc[parse_dt(\"2020-07-19T00:00+00\"):parse_dt(\"2020-08-06T00:00+00\")]\n",
    "# all_dat = all_dat.loc[parse_dt(\"2020-02-10T00:00+00\"):parse_dt(\"2020-02-28T00:00+00\")]\n",
    "\n",
    "fig = px.line(\n",
    "    all_dat,\n",
    "    x=all_dat.index,\n",
    "    y=[\"generated_co2_rate_lb_per_mwh_for_electricity_adjusted\", \"adjusted_rate\"],\n",
    "    title=f\"Real time accuracy in {ba_of_interest}\",\n",
    "    labels={\"value\": \"CO2 emission rate (lb/mwh)\", \"index\": \"Hour (UTC)\"},\n",
    "    template=\"plotly_white\",\n",
    ")\n",
    "\n",
    "newnames = {\n",
    "    \"generated_co2_rate_lb_per_mwh_for_electricity_adjusted\": \"Historical benchmark\",\n",
    "    \"adjusted_rate\": \"Real-time data\",\n",
    "}\n",
    "fig.for_each_trace(lambda t: t.update(name=newnames[t.name]))\n",
    "fig.update_layout(legend_title_text=\"\")\n",
    "fig.show()\n",
    "\n",
    "os.makedirs(f\"{filepaths.data_folder()}/outputs/viz/\", exist_ok=True)\n",
    "# pio.write_image(fig, f\"{filepaths.data_folder()}/outputs/viz/{ba_of_interest}_aug_sm.jpg\", width=1000*(2/3), height=500*(2/3), scale=3)"
   ]
  },
  {
   "cell_type": "code",
   "execution_count": null,
   "metadata": {},
   "outputs": [],
   "source": [
    "factors[\"adjusted\"][\"EIA.NYIS\"]"
   ]
  },
  {
   "cell_type": "code",
   "execution_count": null,
   "metadata": {},
   "outputs": [],
   "source": [
    "### Plot natural gas emission rate: does this explain larger gap in summer?\n",
    "\n",
    "hourly_rate = pd.read_csv(\n",
    "    gen_path + ba_of_interest + \".csv\",\n",
    "    usecols=[\n",
    "        \"datetime_utc\",\n",
    "        \"generated_co2_rate_lb_per_mwh_for_electricity\",\n",
    "        \"generated_co2_rate_lb_per_mwh_for_electricity_adjusted\",\n",
    "        \"co2_mass_lb\",\n",
    "        \"fuel_category\",\n",
    "    ],\n",
    "    index_col=\"datetime_utc\",\n",
    "    parse_dates=True,\n",
    ")\n",
    "hourly_rate = hourly_rate[hourly_rate.fuel_category == \"natural_gas\"]\n",
    "\n",
    "fig = go.Figure()\n",
    "fig.add_trace(\n",
    "    go.Scatter(\n",
    "        x=hourly_rate.index,\n",
    "        y=hourly_rate[\"generated_co2_rate_lb_per_mwh_for_electricity_adjusted\"],\n",
    "        name=\"Hourly emission rate\",\n",
    "    )\n",
    ")\n",
    "fig.add_trace(\n",
    "    go.Scatter(\n",
    "        x=[parse_dt(\"2020-01-01T00:00\"), parse_dt(\"2021-01-01T00:00\")],\n",
    "        y=[\n",
    "            factors[\"adjusted\"][\"EIA.\" + ba_of_interest][\"natural_gas\"][\"value\"],\n",
    "            factors[\"adjusted\"][\"EIA.\" + ba_of_interest][\"natural_gas\"][\"value\"],\n",
    "        ],\n",
    "        name=\"eGRID annual emission rate\",\n",
    "        mode=\"lines\",\n",
    "    )\n",
    ")\n",
    "\n",
    "fig.update_xaxes(range=(parse_dt(\"2020-01-01T00:00\"), parse_dt(\"2021-01-01T00:00\")))\n",
    "fig.update_layout(\n",
    "    template=\"plotly_white\",\n",
    "    title=f\"Natural gas emission rates in {ba_of_interest}O\",\n",
    "    legend=dict(yanchor=\"top\", y=0.99, xanchor=\"left\", x=0.01),\n",
    ")\n",
    "\n",
    "fig.update_yaxes(title_text=\"Natural gas emission rate<br>(lb CO2/MWh)\")\n",
    "\n",
    "fig.show()\n",
    "\n",
    "pio.write_image(\n",
    "    fig,\n",
    "    f\"{filepaths.data_folder()}/outputs/viz/gas_rate_{ba_of_interest}.jpg\",\n",
    "    width=1000 * (4 / 5),\n",
    "    height=500 * (4 / 5),\n",
    "    scale=3,\n",
    ")"
   ]
  },
  {
   "cell_type": "code",
   "execution_count": null,
   "metadata": {},
   "outputs": [],
   "source": [
    "oge_generation = pd.read_csv(\n",
    "    gen_path + ba_of_interest + \".csv\",\n",
    "    usecols=[\"datetime_utc\", \"fuel_category\", \"net_generation_mwh\"],\n",
    "    index_col=\"datetime_utc\",\n",
    "    parse_dates=True,\n",
    ")\n",
    "oge_generation = oge_generation.pivot(\n",
    "    columns=\"fuel_category\", values=\"net_generation_mwh\"\n",
    ")\n",
    "\n",
    "# plot real-time and OGE per-fuel generation in FPC to identify source of neg correlation\n",
    "eiacols = [\n",
    "    f\"EBA.{ba_of_interest}-ALL.NG.COL.H\",\n",
    "    f\"EBA.{ba_of_interest}-ALL.NG.NG.H\",\n",
    "    f\"EBA.{ba_of_interest}-ALL.NG.NUC.H\",\n",
    "    f\"EBA.{ba_of_interest}-ALL.NG.OIL.H\",\n",
    "    f\"EBA.{ba_of_interest}-ALL.NG.OTH.H\",\n",
    "    f\"EBA.{ba_of_interest}-ALL.NG.SUN.H\",\n",
    "    f\"EBA.{ba_of_interest}-ALL.NG.UNK.H\",\n",
    "    f\"EBA.{ba_of_interest}-ALL.NG.WAT.H\",\n",
    "    f\"EBA.{ba_of_interest}-ALL.NG.WND.H\",\n",
    "]\n",
    "\n",
    "toplot = pd.concat([eia930[eiacols], oge_generation])"
   ]
  },
  {
   "cell_type": "code",
   "execution_count": null,
   "metadata": {},
   "outputs": [],
   "source": [
    "toplot.columns"
   ]
  },
  {
   "cell_type": "code",
   "execution_count": null,
   "metadata": {},
   "outputs": [],
   "source": [
    "# plot real-time and OGE per-fuel generation in FPC to identify source of neg correlation\n",
    "plotcols = [\n",
    "    # f'EBA.{ba_of_interest}-ALL.NG.COL.H',\n",
    "    # f'EBA.{ba_of_interest}-ALL.NG.NG.H',\n",
    "    # f'EBA.{ba_of_interest}-ALL.NG.NUC.H',\n",
    "    # f'EBA.{ba_of_interest}-ALL.NG.OIL.H',\n",
    "    f\"EBA.{ba_of_interest}-ALL.NG.OTH.H\",\n",
    "    # f'EBA.{ba_of_interest}-ALL.NG.SUN.H',\n",
    "    f\"EBA.{ba_of_interest}-ALL.NG.UNK.H\",\n",
    "    f\"EBA.{ba_of_interest}-ALL.NG.WAT.H\",\n",
    "    # f'EBA.{ba_of_interest}-ALL.NG.WND.H',\n",
    "    # \"biomass\",\n",
    "    # \"natural_gas\",\n",
    "    # \"petroleum\",\n",
    "    # \"solar\",\n",
    "    # \"total\",\n",
    "    # \"waste\",\n",
    "    # \"geothermal\",\n",
    "    \"hydro\",\n",
    "    # \"wind\",\n",
    "]\n",
    "\n",
    "px.line(toplot[plotcols])"
   ]
  },
  {
   "cell_type": "code",
   "execution_count": null,
   "metadata": {},
   "outputs": [],
   "source": [
    "# What plants"
   ]
  },
  {
   "cell_type": "code",
   "execution_count": null,
   "metadata": {},
   "outputs": [],
   "source": [
    "px.histogram(\n",
    "    all_dat,\n",
    "    x=\"percent_difs\",\n",
    "    title=\"NYIS hourly difference between benchmark and real-time<br>as percent of benchmark \",\n",
    ")"
   ]
  },
  {
   "cell_type": "markdown",
   "metadata": {},
   "source": [
    "# Roll up real-time to annual to compare to eGRID\n"
   ]
  },
  {
   "cell_type": "code",
   "execution_count": null,
   "metadata": {},
   "outputs": [],
   "source": [
    "print(f\"Real time aggregated over 2020, lb CO2 {all_dat['adjusted_carbon'].sum()}\")\n",
    "print(f\"egrid is {28845962*2000}\")"
   ]
  },
  {
   "cell_type": "code",
   "execution_count": null,
   "metadata": {},
   "outputs": [],
   "source": [
    "(55539223793.10689 - 57691924000) / 57691924000"
   ]
  },
  {
   "cell_type": "markdown",
   "metadata": {},
   "source": [
    "# Plot differences over BAs\n",
    "\n",
    "Correlation, % difference, BA size, CI. \n",
    "Goal: show that errors are concentrated in smaller BAs "
   ]
  },
  {
   "cell_type": "code",
   "execution_count": null,
   "metadata": {},
   "outputs": [],
   "source": [
    "out.head()"
   ]
  },
  {
   "cell_type": "code",
   "execution_count": null,
   "metadata": {},
   "outputs": [],
   "source": [
    "px.scatter(\n",
    "    out,\n",
    "    x=\"Difference as percent of OGE\",\n",
    "    y=\"Correlation\",\n",
    "    size=\"Annual BA generation\",\n",
    "    template=\"plotly_white\",\n",
    ")  # , text=out.index)"
   ]
  },
  {
   "cell_type": "code",
   "execution_count": null,
   "metadata": {},
   "outputs": [],
   "source": [
    "# fig = px.scatter(out, x=\"Annual BA generation\", y=\"Correlation\", template=\"plotly_white\")#, text=out.index)\n",
    "fig = go.Figure()\n",
    "\n",
    "fig.add_trace(\n",
    "    go.Scatter(\n",
    "        y=[-3000000, 805000000],\n",
    "        x=[1, 1],\n",
    "        line={\"width\": 2, \"color\": \"lightslategrey\"},\n",
    "        mode=\"lines\",\n",
    "    )\n",
    ")\n",
    "fig.add_trace(\n",
    "    go.Scatter(\n",
    "        y=out[\"Annual BA generation\"],\n",
    "        x=out[\"Correlation\"],\n",
    "        text=out.index,\n",
    "        mode=\"markers\",\n",
    "        marker={\"color\": \"rgb(17, 119, 51)\"},\n",
    "    )\n",
    ")  # , color=\"Median rate\")#, text=out.index)\n",
    "fig.update_yaxes(range=(-3000000, 805000000))\n",
    "fig.update_layout(template=\"plotly_white\", showlegend=False)\n",
    "\n",
    "fig.update_xaxes(dtick=0.250)\n",
    "fig.show()\n",
    "pio.write_image(\n",
    "    fig,\n",
    "    f\"{filepaths.data_folder()}/outputs/viz/cor_ba_gen.jpg\",\n",
    "    width=800 * (1 / 2),\n",
    "    height=900 * (1 / 2),\n",
    "    scale=4,\n",
    ")"
   ]
  },
  {
   "cell_type": "code",
   "execution_count": null,
   "metadata": {},
   "outputs": [],
   "source": [
    "# px.scatter(out, x=\"Annual BA generation\", y=\"Difference as percent of OGE\")#, text=out.index)"
   ]
  },
  {
   "cell_type": "code",
   "execution_count": null,
   "metadata": {},
   "outputs": [],
   "source": [
    "fig = go.Figure()\n",
    "\n",
    "fig.add_trace(\n",
    "    go.Scatter(\n",
    "        y=[-3000000, 805000000],\n",
    "        x=[0, 0],\n",
    "        line={\"width\": 2, \"color\": \"lightslategrey\"},\n",
    "        mode=\"lines\",\n",
    "    )\n",
    ")\n",
    "fig.add_trace(\n",
    "    go.Scatter(\n",
    "        y=out[\"Annual BA generation\"],\n",
    "        x=out[\"Median rate difference\"],\n",
    "        text=out.index,\n",
    "        mode=\"markers\",\n",
    "        marker={\"color\": \"rgb(17, 119, 51)\"},\n",
    "    )\n",
    ")  # , color=\"Median rate\")#, text=out.index)\n",
    "fig.update_yaxes(range=(-3000000, 805000000))\n",
    "fig.update_layout(template=\"plotly_white\", showlegend=False)\n",
    "fig.update_xaxes(dtick=500)\n",
    "fig.show()\n",
    "pio.write_image(\n",
    "    fig,\n",
    "    f\"{filepaths.data_folder()}/outputs/viz/dif_ba_gen.jpg\",\n",
    "    width=800 * (1 / 2),\n",
    "    height=900 * (1 / 2),\n",
    "    scale=4,\n",
    ")"
   ]
  },
  {
   "cell_type": "code",
   "execution_count": null,
   "metadata": {},
   "outputs": [],
   "source": [
    "px.colors.qualitative.Safe[3]"
   ]
  },
  {
   "cell_type": "markdown",
   "metadata": {},
   "source": [
    "# Plot natural gas emission rate as a \"future directons\" example"
   ]
  },
  {
   "cell_type": "code",
   "execution_count": null,
   "metadata": {},
   "outputs": [],
   "source": [
    "# dat ="
   ]
  },
  {
   "cell_type": "markdown",
   "metadata": {},
   "source": [
    "# Summary statistics"
   ]
  },
  {
   "cell_type": "code",
   "execution_count": null,
   "metadata": {},
   "outputs": [],
   "source": [
    "good = len(out[out[\"Difference as percent of OGE\"].abs() <= 0.1])\n",
    "bad = len(out[out[\"Difference as percent of OGE\"].abs() > 0.1])\n",
    "print(good / (bad + good))"
   ]
  },
  {
   "cell_type": "code",
   "execution_count": null,
   "metadata": {},
   "outputs": [],
   "source": [
    "for col in out.columns:\n",
    "    out = out.replace(np.inf, np.nan)\n",
    "    out = out.replace(-1 * np.inf, np.nan)\n",
    "    non_nan_out = out.dropna(subset=col)\n",
    "    a = np.average(non_nan_out[col].abs(), weights=non_nan_out[\"Annual BA generation\"])\n",
    "    print(f\"{col} = {a}\")"
   ]
  },
  {
   "cell_type": "markdown",
   "metadata": {},
   "source": [
    "# Outputs"
   ]
  },
  {
   "cell_type": "code",
   "execution_count": null,
   "metadata": {},
   "outputs": [],
   "source": [
    "# Plot and save all BAs\n",
    "for ba_of_interest in os.listdir(\n",
    "    f\"{filepaths.data_folder()}/outputs/2020/validation/real_time_rate/\"\n",
    "):\n",
    "    ba_of_interest = ba_of_interest.replace(\".csv\", \"\")\n",
    "    if \".DS_\" in ba_of_interest:\n",
    "        continue\n",
    "\n",
    "    real_time = pd.read_csv(\n",
    "        f\"{filepaths.data_folder()}/outputs/{year}/validation/real_time_rate/{ba_of_interest}.csv\",\n",
    "        index_col=0,\n",
    "        parse_dates=True,\n",
    "    )\n",
    "    real_time = real_time[\"2020-01-01T00:00\":]\n",
    "\n",
    "    hourly_generated = pd.read_csv(\n",
    "        gen_path + ba_of_interest + \".csv\",\n",
    "        usecols=[\n",
    "            \"datetime_utc\",\n",
    "            \"generated_co2_rate_lb_per_mwh_for_electricity\",\n",
    "            \"generated_co2_rate_lb_per_mwh_for_electricity_adjusted\",\n",
    "            \"co2_mass_lb\",\n",
    "            \"fuel_category\",\n",
    "        ],\n",
    "        index_col=\"datetime_utc\",\n",
    "        parse_dates=True,\n",
    "    )\n",
    "\n",
    "    all_dat = pd.concat(\n",
    "        [\n",
    "            real_time,\n",
    "            hourly_consumed,\n",
    "            hourly_generated.loc[hourly_generated.fuel_category == \"total\"],\n",
    "        ],\n",
    "        axis=\"columns\",\n",
    "    )\n",
    "    all_dat = all_dat.sort_index()\n",
    "\n",
    "    fig = px.line(\n",
    "        all_dat,\n",
    "        x=all_dat.index,\n",
    "        y=[\"generated_co2_rate_lb_per_mwh_for_electricity\", \"adjusted_rate\"],\n",
    "        title=f\"{ba_of_interest} rate comparison\",\n",
    "        labels={\"value\": \"Adjsuted CO2 emission rate (lb/mwh)\", \"index\": \"Hour\"},\n",
    "    )\n",
    "\n",
    "    newnames = {\n",
    "        \"generated_co2_rate_lb_per_mwh_for_electricity\": \"Our data\",\n",
    "        \"adjusted_rate\": \"Real-time data\",\n",
    "    }\n",
    "    fig.for_each_trace(lambda t: t.update(name=newnames[t.name]))\n",
    "    pio.write_image(\n",
    "        fig,\n",
    "        f\"{filepaths.data_folder()}/outputs/viz/{ba_of_interest}.jpg\",\n",
    "        width=1000,\n",
    "        height=400,\n",
    "        scale=3,\n",
    "    )"
   ]
  },
  {
   "cell_type": "code",
   "execution_count": null,
   "metadata": {},
   "outputs": [],
   "source": []
  }
 ],
 "metadata": {
  "kernelspec": {
   "display_name": "Python 3 (ipykernel)",
   "language": "python",
   "name": "python3"
  },
  "language_info": {
   "codemirror_mode": {
    "name": "ipython",
    "version": 3
   },
   "file_extension": ".py",
   "mimetype": "text/x-python",
   "name": "python",
   "nbconvert_exporter": "python",
   "pygments_lexer": "ipython3",
   "version": "3.10.4"
  },
  "vscode": {
   "interpreter": {
    "hash": "a6b598b31fc646bdc0acd5c2004810e407b47ff3b1550e1d461e8498c70ba381"
   }
  }
 },
 "nbformat": 4,
 "nbformat_minor": 4
}
