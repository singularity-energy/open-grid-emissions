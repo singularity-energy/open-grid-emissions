{
 "cells": [
  {
   "cell_type": "code",
   "execution_count": 1,
   "metadata": {},
   "outputs": [],
   "source": [
    "# import packages\n",
    "import pandas as pd\n",
    "\n",
    "%reload_ext autoreload\n",
    "%autoreload 2\n",
    "\n",
    "# # Tell python where to look for modules.\n",
    "import sys\n",
    "\n",
    "sys.path.append(\"../../src\")\n",
    "\n",
    "from oge.column_checks import get_dtypes\n",
    "from oge.filepaths import *\n",
    "import oge.data_cleaning as data_cleaning\n",
    "\n",
    "year = 2020"
   ]
  },
  {
   "cell_type": "markdown",
   "metadata": {},
   "source": [
    "# Functions for loading intermediate outputs"
   ]
  },
  {
   "cell_type": "code",
   "execution_count": null,
   "metadata": {},
   "outputs": [],
   "source": [
    "# load data from csv\n",
    "year = 2020\n",
    "path_prefix = f\"{year}/\"\n",
    "\n",
    "cems = pd.read_csv(\n",
    "    outputs_folder(f\"{path_prefix}/cems_subplant_{year}.csv\"),\n",
    "    dtype=get_dtypes(),\n",
    "    parse_dates=[\"datetime_utc\", \"report_date\"],\n",
    ")\n",
    "partial_cems_plant = pd.read_csv(\n",
    "    outputs_folder(f\"{path_prefix}/partial_cems_plant_{year}.csv\"),\n",
    "    dtype=get_dtypes(),\n",
    "    parse_dates=[\"datetime_utc\", \"report_date\"],\n",
    ")\n",
    "partial_cems_subplant = pd.read_csv(\n",
    "    outputs_folder(f\"{path_prefix}/partial_cems_subplant_{year}.csv\"),\n",
    "    dtype=get_dtypes(),\n",
    "    parse_dates=[\"datetime_utc\", \"report_date\"],\n",
    ")\n",
    "eia923_allocated = pd.read_csv(\n",
    "    outputs_folder(f\"{path_prefix}/eia923_allocated_{year}.csv\"),\n",
    "    dtype=get_dtypes(),\n",
    "    parse_dates=[\"report_date\"],\n",
    ")\n",
    "plant_attributes = pd.read_csv(\n",
    "    outputs_folder(f\"{path_prefix}/plant_static_attributes_{year}.csv\"),\n",
    "    dtype=get_dtypes(),\n",
    ")"
   ]
  },
  {
   "cell_type": "code",
   "execution_count": null,
   "metadata": {},
   "outputs": [],
   "source": [
    "# load data from csv\n",
    "year = 2020\n",
    "path_prefix = f\"{year}/\"\n",
    "\n",
    "eia923_allocated, primary_fuel_table = data_cleaning.clean_eia923(year, False)\n",
    "cems = data_cleaning.clean_cems(year, False, primary_fuel_table)"
   ]
  },
  {
   "cell_type": "code",
   "execution_count": null,
   "metadata": {},
   "outputs": [],
   "source": [
    "data = cems[cems[\"plant_id_eia\"] == 673]\n",
    "\n",
    "data.groupby([\"plant_id_eia\", \"unitid\", \"report_date\"]).sum()"
   ]
  },
  {
   "cell_type": "code",
   "execution_count": null,
   "metadata": {},
   "outputs": [],
   "source": [
    "eia923_allocated[eia923_allocated[\"plant_id_eia\"] == 50949].to_csv(\"test.csv\")"
   ]
  },
  {
   "cell_type": "markdown",
   "metadata": {},
   "source": [
    "## Explore Results"
   ]
  },
  {
   "cell_type": "code",
   "execution_count": null,
   "metadata": {},
   "outputs": [],
   "source": [
    "# load all power sector results and concat together\n",
    "\n",
    "resolution = \"annual\"\n",
    "\n",
    "all_data = []\n",
    "for ba in os.listdir(results_folder(f\"2021/power_sector_data/{resolution}/us_units\")):\n",
    "    df = pd.read_csv(\n",
    "        results_folder(f\"2021/power_sector_data/{resolution}/us_units/{ba}\")\n",
    "    )\n",
    "    df[\"ba_code\"] = ba.split(\".\")[0]\n",
    "    all_data.append(df)\n",
    "\n",
    "all_data = pd.concat(all_data, axis=0)\n",
    "\n",
    "all_data = all_data.groupby(\"fuel_category\", dropna=False).sum()"
   ]
  },
  {
   "cell_type": "code",
   "execution_count": null,
   "metadata": {},
   "outputs": [],
   "source": [
    "# calculations for exploring aggregated data\n",
    "all_data[\"co2_mass_lb_for_electricity\"] / all_data[\"net_generation_mwh\"]\n",
    "all_data[\"nox_mass_lb_for_electricity\"] / all_data[\"net_generation_mwh\"]\n",
    "all_data[\"so2_mass_lb_for_electricity\"] / all_data[\"net_generation_mwh\"]\n",
    "\n",
    "for pol in [\"co2\", \"nox\", \"so2\"]:\n",
    "    for fuel in [\"biomass\", \"geothermal\", \"waste\", \"other\"]:\n",
    "        calc = (\n",
    "            all_data.loc[fuel, f\"{pol}_mass_lb_for_electricity\"]\n",
    "            / all_data.loc[\"total\", f\"{pol}_mass_lb_for_electricity\"]\n",
    "        )\n",
    "        print(f\"{pol} {fuel}: {calc}\")"
   ]
  },
  {
   "cell_type": "markdown",
   "metadata": {},
   "source": [
    "## Explore the difference between adjusted and unadjusted (for biomass) factors"
   ]
  },
  {
   "cell_type": "code",
   "execution_count": null,
   "metadata": {},
   "outputs": [],
   "source": [
    "all_data[\"pctdiff\"] = (\n",
    "    all_data.generated_co2_rate_lb_per_mwh_for_electricity_adjusted\n",
    "    - all_data.generated_co2_rate_lb_per_mwh_for_electricity\n",
    ") / all_data.generated_co2_rate_lb_per_mwh_for_electricity\n",
    "\n",
    "\n",
    "all_data.loc[\n",
    "    all_data[\"fuel_category\"] == \"total\",\n",
    "    [\n",
    "        \"ba_code\",\n",
    "        \"pctdiff\",\n",
    "        \"generated_co2_rate_lb_per_mwh_for_electricity_adjusted\",\n",
    "        \"generated_co2_rate_lb_per_mwh_for_electricity\",\n",
    "    ],\n",
    "].sort_values(by=\"pctdiff\").head(25)"
   ]
  }
 ],
 "metadata": {
  "kernelspec": {
   "display_name": "open_grid_emissions",
   "language": "python",
   "name": "python3"
  },
  "language_info": {
   "codemirror_mode": {
    "name": "ipython",
    "version": 3
   },
   "file_extension": ".py",
   "mimetype": "text/x-python",
   "name": "python",
   "nbconvert_exporter": "python",
   "pygments_lexer": "ipython3",
   "version": "3.11.2"
  },
  "orig_nbformat": 4,
  "vscode": {
   "interpreter": {
    "hash": "25e36f192ecdbe5da57d9bea009812e7b11ef0e0053366a845a2802aae1b29d2"
   }
  }
 },
 "nbformat": 4,
 "nbformat_minor": 2
}
