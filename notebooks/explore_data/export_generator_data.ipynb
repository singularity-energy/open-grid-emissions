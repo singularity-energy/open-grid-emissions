{
 "cells": [
  {
   "cell_type": "code",
   "execution_count": 26,
   "metadata": {},
   "outputs": [],
   "source": [
    "# import packages\n",
    "import pandas as pd\n",
    "import numpy as np\n",
    "import os\n",
    "import plotly.express as px\n",
    "\n",
    "%reload_ext autoreload\n",
    "%autoreload 2\n",
    "\n",
    "# # Tell python where to look for modules.\n",
    "import sys\n",
    "sys.path.append('../../../open-grid-emissions/src/')\n",
    "\n",
    "import download_data\n",
    "import load_data\n",
    "from column_checks import get_dtypes\n",
    "from filepaths import *\n",
    "import impute_hourly_profiles\n",
    "import data_cleaning\n",
    "import output_data\n",
    "import emissions\n",
    "import validation\n",
    "import gross_to_net_generation\n",
    "import eia930\n",
    "\n",
    "year = 2022\n",
    "path_prefix = f\"{year}/\""
   ]
  },
  {
   "cell_type": "code",
   "execution_count": 27,
   "metadata": {},
   "outputs": [],
   "source": [
    "# load data for each generator\n",
    "gens = load_data.load_pudl_table(\n",
    "    \"generators_eia860\",\n",
    "    year,\n",
    "    columns=[\n",
    "        \"report_date\",\n",
    "        \"plant_id_eia\",\n",
    "        \"generator_id\",\n",
    "        \"prime_mover_code\",\n",
    "        \"capacity_mw\",\n",
    "        \"generator_retirement_date\",\n",
    "        \"operational_status\",\n",
    "        \"operational_status_code\",\n",
    "        \"current_planned_generator_operating_date\",\n",
    "        \"planned_generator_retirement_date\",\n",
    "    ],\n",
    ")\n",
    "\n",
    "gens_entity = load_data.load_pudl_table(\n",
    "    \"generators_entity_eia\",\n",
    "    columns=[\n",
    "        \"plant_id_eia\",\n",
    "        \"generator_id\",\n",
    "        \"generator_operating_date\",\n",
    "        \"original_planned_generator_operating_date\",\n",
    "    ],\n",
    ")\n",
    "\n",
    "plants_entity = load_data.load_pudl_table(\n",
    "    \"plants_entity_eia\", columns=[\"plant_id_eia\", \"latitude\", \"longitude\"]\n",
    ")\n",
    "\n",
    "plant_ba = load_data.load_pudl_table(\n",
    "    \"plants_eia860\", year, columns=[\"plant_id_eia\", \"balancing_authority_code_eia\"]\n",
    ").rename(columns={\"balancing_authority_code_eia\": \"ba_code\"})\n",
    "\n",
    "# merge the ba code into the gens data\n",
    "gens = (\n",
    "    gens.merge(\n",
    "        gens_entity, how=\"left\", on=[\"plant_id_eia\", \"generator_id\"], validate=\"m:1\"\n",
    "    )\n",
    "    .merge(plant_ba, how=\"left\", on=\"plant_id_eia\", validate=\"m:1\")\n",
    "    .merge(plants_entity, how=\"left\", on=\"plant_id_eia\", validate=\"m:1\")\n",
    ")"
   ]
  },
  {
   "cell_type": "code",
   "execution_count": 28,
   "metadata": {},
   "outputs": [],
   "source": [
    "# load wind data\n",
    "wind = pd.read_excel(\n",
    "    downloads_folder(f\"eia860/eia860{year}/3_2_Wind_Y{year}.xlsx\"),\n",
    "    sheet_name=\"Operable\",\n",
    "    header=1,\n",
    ").rename(columns=\n",
    "    {\n",
    "        \"Plant Code\": \"plant_id_eia\",\n",
    "        \"Generator ID\": \"generator_id\",\n",
    "        \"Design Wind Speed (mph)\": \"rated_speed_mph\",\n",
    "        \"Turbine Hub Height (Feet)\": \"hub_height_ft\",\n",
    "    }\n",
    ")\n",
    "\n",
    "# convert to metric units\n",
    "wind[\"rated_speed_m_per_s\"] = (wind[\"rated_speed_mph\"] * 0.44704).round(1)\n",
    "wind[\"hub_height_m\"] = (wind[\"hub_height_ft\"] * 0.3048).round(0)\n",
    "\n",
    "wind = wind[[\"plant_id_eia\", \"generator_id\", \"rated_speed_m_per_s\", \"hub_height_m\"]]\n",
    "\n",
    "# merge the wind data into the gens data\n",
    "gens = gens.merge(wind, how=\"left\", on=[\"plant_id_eia\",\"generator_id\"])"
   ]
  },
  {
   "cell_type": "code",
   "execution_count": 29,
   "metadata": {},
   "outputs": [],
   "source": [
    "gens.to_csv(outputs_folder(f\"gens_{year}.csv\"), index=False)"
   ]
  }
 ],
 "metadata": {
  "kernelspec": {
   "display_name": "open_grid_emissions",
   "language": "python",
   "name": "python3"
  },
  "language_info": {
   "codemirror_mode": {
    "name": "ipython",
    "version": 3
   },
   "file_extension": ".py",
   "mimetype": "text/x-python",
   "name": "python",
   "nbconvert_exporter": "python",
   "pygments_lexer": "ipython3",
   "version": "3.11.4"
  },
  "orig_nbformat": 4,
  "vscode": {
   "interpreter": {
    "hash": "b893a8d8fbb165be288531947168b3b06bdb1508177327a21c265e0400df3100"
   }
  }
 },
 "nbformat": 4,
 "nbformat_minor": 2
}
