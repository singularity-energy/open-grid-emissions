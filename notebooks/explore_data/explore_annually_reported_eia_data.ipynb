{
 "cells": [
  {
   "cell_type": "code",
   "execution_count": null,
   "metadata": {},
   "outputs": [],
   "source": [
    "# import packages\n",
    "import pandas as pd\n",
    "\n",
    "%reload_ext autoreload\n",
    "%autoreload 2\n",
    "\n",
    "# # Tell python where to look for modules.\n",
    "import sys\n",
    "\n",
    "sys.path.append(\"../../../open-grid-emissions/src/\")\n",
    "\n",
    "from column_checks import get_dtypes\n",
    "import load_data\n",
    "from filepaths import *\n",
    "\n",
    "year = 2020\n",
    "path_prefix = f\"{year}/\""
   ]
  },
  {
   "cell_type": "markdown",
   "metadata": {},
   "source": [
    "# How much of the data reported in EIA-923 comes from annually-reported plants?"
   ]
  },
  {
   "cell_type": "code",
   "execution_count": null,
   "metadata": {},
   "outputs": [],
   "source": [
    "pudl_out = load_data.initialize_pudl_out(year)\n",
    "\n",
    "plant_frequency = pudl_out.plants_eia860()[[\"plant_id_eia\", \"respondent_frequency\"]]\n",
    "\n",
    "# load the allocated EIA data\n",
    "eia923_allocated = pd.read_csv(\n",
    "    f\"{outputs_folder()}{path_prefix}/eia923_allocated_{year}.csv\",\n",
    "    dtype=get_dtypes(),\n",
    "    parse_dates=[\"report_date\"],\n",
    ")\n",
    "eia923_allocated = eia923_allocated.merge(\n",
    "    plant_frequency, how=\"left\", on=\"plant_id_eia\", validate=\"m:1\"\n",
    ")"
   ]
  },
  {
   "cell_type": "code",
   "execution_count": null,
   "metadata": {},
   "outputs": [],
   "source": [
    "data_from_annual = (\n",
    "    eia923_allocated.groupby([\"respondent_frequency\"], dropna=False)[\n",
    "        [\"fuel_consumed_mmbtu\", \"net_generation_mwh\", \"co2_mass_lb\"]\n",
    "    ].sum()\n",
    "    / eia923_allocated[\n",
    "        [\"fuel_consumed_mmbtu\", \"net_generation_mwh\", \"co2_mass_lb\"]\n",
    "    ].sum()\n",
    "    * 100\n",
    ")\n",
    "data_from_annual.loc[\"Total Percent\"] = data_from_annual.sum()\n",
    "data_from_annual"
   ]
  },
  {
   "cell_type": "code",
   "execution_count": null,
   "metadata": {},
   "outputs": [],
   "source": [
    "data_from_annual.loc[\"A\", :].rename(\"% of EIA-923 input data from EIA annual reporters\")"
   ]
  },
  {
   "cell_type": "markdown",
   "metadata": {},
   "source": [
    "## What percentage of the EIA data we actually use is from annually-reporting plants?\n",
    "Even though ~10% of the data in EIA-923 is reported annually, we do not directly use all of the EIA-923 in our final results, since in some cases we have CEMS data that supercedes the EIA data. So what percentage of the EIA data we actually do use comes from annually-reporting plants?"
   ]
  },
  {
   "cell_type": "code",
   "execution_count": null,
   "metadata": {},
   "outputs": [],
   "source": [
    "annual_eia_used = (\n",
    "    eia923_allocated[eia923_allocated[\"hourly_data_source\"] != \"cems\"]\n",
    "    .groupby([\"respondent_frequency\"], dropna=False)[\n",
    "        [\"fuel_consumed_mmbtu\", \"net_generation_mwh\", \"co2_mass_lb\"]\n",
    "    ]\n",
    "    .sum()\n",
    "    / eia923_allocated[\n",
    "        [\"fuel_consumed_mmbtu\", \"net_generation_mwh\", \"co2_mass_lb\"]\n",
    "    ].sum()\n",
    "    * 100\n",
    ")\n",
    "annual_eia_used.loc[\"Total Percent\"] = annual_eia_used.sum()\n",
    "annual_eia_used"
   ]
  },
  {
   "cell_type": "code",
   "execution_count": null,
   "metadata": {},
   "outputs": [],
   "source": [
    "annual_eia_used.loc[\"A\", :].rename(\"% of output data from EIA annual reporters\")"
   ]
  },
  {
   "cell_type": "markdown",
   "metadata": {},
   "source": [
    "## What percentage of the data that we get from multiple sources is annually reported?\n",
    "For subplants where all of the data comes from EIA, the annual reporting may lead to lower-quality allocation of the data to each month and hour, but there should not be a risk of double counting. However, for some plants, we draw data for some months from CEMS and other months from EIA-923. If the annually-reported data was not allocated to the correct month (relative to the CEMS data), there is a risk that we may double-count or under count data from that subplant. "
   ]
  },
  {
   "cell_type": "code",
   "execution_count": null,
   "metadata": {},
   "outputs": [],
   "source": [
    "multi_source_subplants = (\n",
    "    eia923_allocated[[\"plant_id_eia\", \"subplant_id\", \"hourly_data_source\"]]\n",
    "    .drop_duplicates()\n",
    "    .drop(columns=\"hourly_data_source\")\n",
    ")\n",
    "\n",
    "multi_source_subplants = multi_source_subplants[\n",
    "    multi_source_subplants.duplicated(subset=[\"plant_id_eia\", \"subplant_id\"])\n",
    "]\n",
    "\n",
    "multi_source_subplants = eia923_allocated.merge(\n",
    "    multi_source_subplants, how=\"inner\", on=[\"plant_id_eia\", \"subplant_id\"]\n",
    ")"
   ]
  },
  {
   "cell_type": "code",
   "execution_count": null,
   "metadata": {},
   "outputs": [],
   "source": [
    "# what percent of the total EIA-923 data comes from subplants with annually-reported data and multiple sources?\n",
    "multi_source_summary = (\n",
    "    multi_source_subplants.groupby([\"respondent_frequency\"], dropna=False)[\n",
    "        [\"fuel_consumed_mmbtu\", \"net_generation_mwh\", \"co2_mass_lb\"]\n",
    "    ].sum()\n",
    "    / eia923_allocated[\n",
    "        [\"fuel_consumed_mmbtu\", \"net_generation_mwh\", \"co2_mass_lb\"]\n",
    "    ].sum()\n",
    "    * 100\n",
    ")\n",
    "multi_source_summary.loc[\"Total Percent\"] = multi_source_summary.sum()\n",
    "multi_source_summary"
   ]
  },
  {
   "cell_type": "code",
   "execution_count": null,
   "metadata": {},
   "outputs": [],
   "source": [
    "multi_source_summary.loc[\"A\", :].rename(\n",
    "    \"% of output data mixing CEMS and annually-reported EIA data\"\n",
    ")"
   ]
  },
  {
   "cell_type": "code",
   "execution_count": null,
   "metadata": {},
   "outputs": [],
   "source": [
    "pd.concat(\n",
    "    [\n",
    "        pd.DataFrame(\n",
    "            data_from_annual.loc[\"A\", :]\n",
    "            .rename(\"% of EIA-923 input data from EIA annual reporters\")\n",
    "            .round(2)\n",
    "        ).T,\n",
    "        pd.DataFrame(\n",
    "            annual_eia_used.loc[\"A\", :]\n",
    "            .rename(\"% of output data from EIA annual reporters\")\n",
    "            .round(2)\n",
    "        ).T,\n",
    "        pd.DataFrame(\n",
    "            multi_source_summary.loc[\"A\", :]\n",
    "            .rename(\"% of output data mixing CEMS and annually-reported EIA data\")\n",
    "            .round(2)\n",
    "        ).T,\n",
    "    ],\n",
    "    axis=0,\n",
    ")"
   ]
  }
 ],
 "metadata": {
  "kernelspec": {
   "display_name": "Python 3.10.5 ('hourly_egrid')",
   "language": "python",
   "name": "python3"
  },
  "language_info": {
   "codemirror_mode": {
    "name": "ipython",
    "version": 3
   },
   "file_extension": ".py",
   "mimetype": "text/x-python",
   "name": "python",
   "nbconvert_exporter": "python",
   "pygments_lexer": "ipython3",
   "version": "3.10.5"
  },
  "orig_nbformat": 4,
  "vscode": {
   "interpreter": {
    "hash": "4103f3cd497821eca917ea303dbe10c590d787eb7d2dc3fd4e15dec0356e7931"
   }
  }
 },
 "nbformat": 4,
 "nbformat_minor": 2
}
