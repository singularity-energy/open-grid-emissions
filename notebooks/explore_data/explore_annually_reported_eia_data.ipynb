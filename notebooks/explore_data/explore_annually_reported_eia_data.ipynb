{
 "cells": [
  {
   "cell_type": "code",
   "execution_count": null,
   "metadata": {},
   "outputs": [],
   "source": [
    "# import packages\n",
    "import pandas as pd\n",
    "\n",
    "%reload_ext autoreload\n",
    "%autoreload 2\n",
    "\n",
    "# # Tell python where to look for modules.\n",
    "import sys\n",
    "sys.path.append('../../../open-grid-emissions/src/')\n",
    "\n",
    "from column_checks import get_dtypes\n",
    "import load_data\n",
    "from filepaths import *\n",
    "\n",
    "year = 2021\n",
    "path_prefix = f\"{year}/\""
   ]
  },
  {
   "cell_type": "markdown",
   "metadata": {},
   "source": [
    "# How much of the data reported in EIA-923 comes from annually-reported plants?"
   ]
  },
  {
   "cell_type": "code",
   "execution_count": null,
   "metadata": {},
   "outputs": [],
   "source": [
    "# load annual plant level outputs from OGE\n",
    "plant_data = pd.read_csv(\n",
    "    results_folder(f\"{year}/plant_data/annual/us_units/plant_data.csv\")\n",
    ")[\n",
    "    [\n",
    "        \"plant_id_eia\",\n",
    "        \"net_generation_mwh\",\n",
    "        \"fuel_consumed_for_electricity_mmbtu\",\n",
    "        \"co2_mass_lb_for_electricity\",\n",
    "    ]\n",
    "]\n",
    "\n",
    "# merge plant attributes\n",
    "plant_attributes = pd.read_csv(\n",
    "    outputs_folder(f\"{path_prefix}/plant_static_attributes_{year}.csv\"),\n",
    "    dtype=get_dtypes(),\n",
    ")\n",
    "plant_data = plant_data.merge(\n",
    "    plant_attributes[\n",
    "        [\n",
    "            \"plant_id_eia\",\n",
    "            \"ba_code\",\n",
    "            \"plant_primary_fuel\",\n",
    "            \"fuel_category\",\n",
    "            \"data_availability\",\n",
    "        ]\n",
    "    ],\n",
    "    how=\"outer\",\n",
    "    on=\"plant_id_eia\",\n",
    "    validate=\"1:1\",\n",
    ")\n",
    "\n",
    "# merge reporting frequency\n",
    "pudl_out = load_data.initialize_pudl_out(year)\n",
    "plant_frequency = pudl_out.plants_eia860()[\n",
    "    [\"plant_id_eia\", \"plant_name_eia\", \"state\", \"reporting_frequency_code\"]\n",
    "]\n",
    "plant_data = plant_data.merge(\n",
    "    plant_frequency, how=\"left\", on=\"plant_id_eia\", validate=\"1:1\"\n",
    ")\n",
    "\n",
    "plant_data"
   ]
  },
  {
   "cell_type": "code",
   "execution_count": null,
   "metadata": {},
   "outputs": [],
   "source": [
    "# filter to MISO only plants\n",
    "miso_data = plant_data[plant_data[\"ba_code\"] == \"MISO\"].copy()\n",
    "\n",
    "# add a column for clean vs emitting\n",
    "miso_data[\"emissions_category\"] = \"emitting\"\n",
    "miso_data.loc[\n",
    "    miso_data[\"fuel_category\"].isin([\"hydro\", \"nuclear\", \"solar\", \"wind\"]),\n",
    "    \"emissions_category\",\n",
    "] = \"non-emitting\"\n",
    "miso_data.loc[\n",
    "    miso_data[\"plant_primary_fuel\"].isin([\"MWH\",\"PUR\", \"WH\"]),\n",
    "    \"emissions_category\",\n",
    "] = \"non-emitting\"\n",
    "\n",
    "# change AM frequency to A\n",
    "miso_data.loc[\n",
    "    miso_data[\"reporting_frequency_code\"] == \"AM\", \"reporting_frequency_code\"\n",
    "] = \"A\"\n",
    "\n",
    "miso_data.loc[\n",
    "    miso_data[\"data_availability\"] == \"cems_only\", \"data_availability\"\n",
    "] = \"cems_and_eia\"\n",
    "miso_data[\"data_availability\"] = miso_data[\n",
    "    \"data_availability\"\n",
    "].cat.remove_unused_categories()\n",
    "\n",
    "\n",
    "# add reporting lag column\n",
    "miso_data[\"reporting_lag\"] = \"no_data_reported\"\n",
    "miso_data.loc[\n",
    "    (miso_data[\"data_availability\"] == \"eia_only\")\n",
    "    & (miso_data[\"reporting_frequency_code\"] == \"A\"),\n",
    "    \"reporting_lag\",\n",
    "] = \"10-22 months\"\n",
    "miso_data.loc[\n",
    "    (miso_data[\"data_availability\"] == \"eia_only\")\n",
    "    & (miso_data[\"reporting_frequency_code\"] == \"M\"),\n",
    "    \"reporting_lag\",\n",
    "] = \"2-3 months\"\n",
    "miso_data.loc[\n",
    "    (miso_data[\"data_availability\"] == \"eia_only\")\n",
    "    & (miso_data[\"reporting_frequency_code\"].isna()),\n",
    "    \"reporting_lag\",\n",
    "] = \"10-22 months\"  # assume worst case\n",
    "miso_data.loc[\n",
    "    (miso_data[\"data_availability\"] == \"cems_and_eia\")\n",
    "    & (miso_data[\"reporting_frequency_code\"] == \"M\"),\n",
    "    \"reporting_lag\",\n",
    "] = \"1-3 months\"\n",
    "miso_data.loc[\n",
    "    (miso_data[\"data_availability\"] == \"cems_and_eia\")\n",
    "    & (miso_data[\"reporting_frequency_code\"] == \"A\"),\n",
    "    \"reporting_lag\",\n",
    "] = \"1-4 months\"\n",
    "miso_data.loc[\n",
    "    (miso_data[\"data_availability\"] == \"cems_and_eia\")\n",
    "    & (miso_data[\"reporting_frequency_code\"].isna()),\n",
    "    \"reporting_lag\",\n",
    "] = \"1-4 months\"  # assume worse case\n",
    "miso_data.loc[\n",
    "    miso_data[\n",
    "        [\n",
    "            \"net_generation_mwh\",\n",
    "            \"fuel_consumed_for_electricity_mmbtu\",\n",
    "            \"co2_mass_lb_for_electricity\",\n",
    "        ]\n",
    "    ]\n",
    "    .isnull()\n",
    "    .all(axis=1),\n",
    "    \"reporting_lag\",\n",
    "] = \"no_data_reported\"\n",
    "miso_data[\"reporting_lag\"] = miso_data[\"reporting_lag\"].astype(\"category\")\n",
    "\n",
    "miso_data"
   ]
  },
  {
   "cell_type": "code",
   "execution_count": null,
   "metadata": {},
   "outputs": [],
   "source": [
    "# get statistics about where plants report\n",
    "miso_data.groupby(\n",
    "    [\"reporting_lag\", \"emissions_category\"], dropna=False\n",
    ")[\"plant_id_eia\"].count().reset_index().pivot(\n",
    "    index=[\"reporting_lag\"],\n",
    "    columns=[\"emissions_category\"],\n",
    "    values=\"plant_id_eia\",\n",
    ")"
   ]
  },
  {
   "cell_type": "code",
   "execution_count": null,
   "metadata": {},
   "outputs": [],
   "source": [
    "# get statistics about where plants report\n",
    "miso_data.groupby(\n",
    "    [ \"reporting_lag\", \"fuel_category\"], dropna=False\n",
    ")[\"plant_id_eia\"].count().reset_index().pivot(\n",
    "    index=[ \"reporting_lag\"],\n",
    "    columns=[\"fuel_category\"],\n",
    "    values=\"plant_id_eia\",\n",
    ")"
   ]
  },
  {
   "cell_type": "code",
   "execution_count": null,
   "metadata": {},
   "outputs": [],
   "source": [
    "(miso_data.groupby([\"emissions_category\",\"reporting_lag\"], dropna=True)[\n",
    "    [\"net_generation_mwh\", \"co2_mass_lb_for_electricity\"]\n",
    "].sum() ).round(1)"
   ]
  },
  {
   "cell_type": "code",
   "execution_count": null,
   "metadata": {},
   "outputs": [],
   "source": [
    "plant_report = miso_data[\n",
    "    [\n",
    "        \"plant_id_eia\",\n",
    "        \"plant_name_eia\",\n",
    "        \"state\",\n",
    "        \"fuel_category\",\n",
    "        \"emissions_category\",\n",
    "        \"data_availability\",\n",
    "        \"reporting_frequency_code\",\n",
    "        \"reporting_lag\",\n",
    "        \"net_generation_mwh\",\n",
    "        \"co2_mass_lb_for_electricity\",\n",
    "    ]\n",
    "]\n",
    "plant_report = plant_report.rename(\n",
    "    columns={\"reporting_frequency_code\": \"eia923_reporting_frequency\"}\n",
    ")\n",
    "plant_report.to_csv(outputs_folder(\"miso_plant_reporting_analysis.csv\"))"
   ]
  },
  {
   "cell_type": "markdown",
   "metadata": {},
   "source": [
    "## What percentage of the EIA data we actually use is from annually-reporting plants?\n",
    "Even though ~10% of the data in EIA-923 is reported annually, we do not directly use all of the EIA-923 in our final results, since in some cases we have CEMS data that supercedes the EIA data. So what percentage of the EIA data we actually do use comes from annually-reporting plants?"
   ]
  },
  {
   "cell_type": "code",
   "execution_count": null,
   "metadata": {},
   "outputs": [],
   "source": [
    "annual_eia_used = eia923_allocated[eia923_allocated[\"hourly_data_source\"] != \"cems\"].groupby([\"reporting_frequency_code\"], dropna=False)[[\"fuel_consumed_mmbtu\", \"net_generation_mwh\",\"co2_mass_lb\"]].sum() / eia923_allocated[[\"fuel_consumed_mmbtu\", \"net_generation_mwh\",\"co2_mass_lb\"]].sum() * 100\n",
    "annual_eia_used.loc[\"Total Percent\"] = annual_eia_used.sum()\n",
    "annual_eia_used"
   ]
  },
  {
   "cell_type": "code",
   "execution_count": null,
   "metadata": {},
   "outputs": [],
   "source": [
    "annual_eia_used.loc[\"A\",:].rename(\"% of output data from EIA annual reporters\")"
   ]
  },
  {
   "cell_type": "markdown",
   "metadata": {},
   "source": [
    "## What percentage of the data that we get from multiple sources is annually reported?\n",
    "For subplants where all of the data comes from EIA, the annual reporting may lead to lower-quality allocation of the data to each month and hour, but there should not be a risk of double counting. However, for some plants, we draw data for some months from CEMS and other months from EIA-923. If the annually-reported data was not allocated to the correct month (relative to the CEMS data), there is a risk that we may double-count or under count data from that subplant. "
   ]
  },
  {
   "cell_type": "code",
   "execution_count": null,
   "metadata": {},
   "outputs": [],
   "source": [
    "multi_source_subplants = eia923_allocated[\n",
    "    [\"plant_id_eia\", \"subplant_id\", \"hourly_data_source\"]\n",
    "].drop_duplicates().drop(columns=\"hourly_data_source\")\n",
    "\n",
    "multi_source_subplants = multi_source_subplants[\n",
    "            multi_source_subplants.duplicated(\n",
    "                subset=[\"plant_id_eia\", \"subplant_id\"])]\n",
    "\n",
    "multi_source_subplants = eia923_allocated.merge(multi_source_subplants, how=\"inner\", on=[\"plant_id_eia\", \"subplant_id\"])\n"
   ]
  },
  {
   "cell_type": "code",
   "execution_count": null,
   "metadata": {},
   "outputs": [],
   "source": [
    "# what percent of the total EIA-923 data comes from subplants with annually-reported data and multiple sources?\n",
    "multi_source_summary = (multi_source_subplants.groupby([\"respondent_frequency\"], dropna=False)[[\"fuel_consumed_mmbtu\", \"net_generation_mwh\",\"co2_mass_lb\"]].sum() / eia923_allocated[[\"fuel_consumed_mmbtu\", \"net_generation_mwh\",\"co2_mass_lb\"]].sum() * 100)\n",
    "multi_source_summary.loc[\"Total Percent\"] = multi_source_summary.sum()\n",
    "multi_source_summary"
   ]
  },
  {
   "cell_type": "code",
   "execution_count": null,
   "metadata": {},
   "outputs": [],
   "source": [
    "multi_source_summary.loc[\"A\",:].rename(\"% of output data mixing CEMS and annually-reported EIA data\")"
   ]
  },
  {
   "cell_type": "code",
   "execution_count": null,
   "metadata": {},
   "outputs": [],
   "source": [
    "pd.concat([pd.DataFrame(data_from_annual.loc[\"A\",:].rename(\"% of EIA-923 input data from EIA annual reporters\").round(2)).T, pd.DataFrame(annual_eia_used.loc[\"A\",:].rename(\"% of output data from EIA annual reporters\").round(2)).T, pd.DataFrame(multi_source_summary.loc[\"A\",:].rename(\"% of output data mixing CEMS and annually-reported EIA data\").round(2)).T], axis=0)"
   ]
  }
 ],
 "metadata": {
  "kernelspec": {
   "display_name": "Python 3.10.5 ('hourly_egrid')",
   "language": "python",
   "name": "python3"
  },
  "language_info": {
   "codemirror_mode": {
    "name": "ipython",
    "version": 3
   },
   "file_extension": ".py",
   "mimetype": "text/x-python",
   "name": "python",
   "nbconvert_exporter": "python",
   "pygments_lexer": "ipython3",
   "version": "3.10.11"
  },
  "orig_nbformat": 4,
  "vscode": {
   "interpreter": {
    "hash": "4103f3cd497821eca917ea303dbe10c590d787eb7d2dc3fd4e15dec0356e7931"
   }
  }
 },
 "nbformat": 4,
 "nbformat_minor": 2
}
