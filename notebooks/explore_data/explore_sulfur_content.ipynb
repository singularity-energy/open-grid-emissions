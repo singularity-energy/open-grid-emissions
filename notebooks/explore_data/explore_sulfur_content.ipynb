{
 "cells": [
  {
   "cell_type": "code",
   "execution_count": null,
   "metadata": {},
   "outputs": [],
   "source": [
    "import matplotlib.pyplot as plt\n",
    "import numpy as np\n",
    "import pandas as pd\n",
    "\n",
    "from oge.emissions import (\n",
    "    return_monthly_plant_fuel_sulfur_content,\n",
    "    return_monthly_national_fuel_sulfur_content,\n",
    "    return_annual_national_fuel_sulfur_content,\n",
    ")\n",
    "from oge.load_data import load_pudl_table"
   ]
  },
  {
   "cell_type": "markdown",
   "metadata": {},
   "source": [
    "# Get Sulfur Content for Years 2008 through 2022\n",
    "Get sulfur content (in percent) at plant/month, ESC/month, ESC/year resolutions."
   ]
  },
  {
   "cell_type": "code",
   "execution_count": null,
   "metadata": {},
   "outputs": [],
   "source": [
    "year = range(2008, 2023)\n",
    "plant = {}\n",
    "national = {}\n",
    "annual = {}\n",
    "\n",
    "for y in year:\n",
    "    print(f\"Processing {y}\")\n",
    "    plant[y] = return_monthly_plant_fuel_sulfur_content(y)\n",
    "    national[y] = return_monthly_national_fuel_sulfur_content(y)\n",
    "    annual[y] = return_annual_national_fuel_sulfur_content(y)"
   ]
  },
  {
   "cell_type": "markdown",
   "metadata": {},
   "source": [
    "## Annual Data\n",
    "Here we consider the sulfur content for each energy source code and year combination."
   ]
  },
  {
   "cell_type": "code",
   "execution_count": null,
   "metadata": {},
   "outputs": [],
   "source": [
    "for i, y in enumerate(year):\n",
    "    if i == 0:\n",
    "        all_annual = annual[y].rename(columns={\"sulfur_content_pct\": f\"{y}\"}).copy()\n",
    "    else:\n",
    "        all_annual = pd.merge(\n",
    "            all_annual,\n",
    "            annual[y].rename(columns={\"sulfur_content_pct\": f\"{y}\"}),\n",
    "            how=\"outer\",\n",
    "            on=\"energy_source_code\",\n",
    "        )\n",
    "display(all_annual)"
   ]
  },
  {
   "cell_type": "markdown",
   "metadata": {},
   "source": [
    "### Plot Annual Average Across Years"
   ]
  },
  {
   "cell_type": "code",
   "execution_count": null,
   "metadata": {},
   "outputs": [],
   "source": [
    "all_annual[\"average\"] = all_annual.mean(axis=1, numeric_only=True, skipna=True)\n",
    "all_annual.rename(columns={\"energy_source_code\": \"Energy Source Code\"}).plot(\n",
    "    kind=\"bar\",\n",
    "    x=\"Energy Source Code\",\n",
    "    y=\"average\",\n",
    "    legend=False,\n",
    "    title=\"Average Sulfur Content Percentage\",\n",
    "    figsize=(10, 10),\n",
    ")\n",
    "plt.show()"
   ]
  },
  {
   "cell_type": "markdown",
   "metadata": {},
   "source": [
    "### Plot Annual for All Years\n",
    "We only consider energy source code that are non-zero"
   ]
  },
  {
   "cell_type": "code",
   "execution_count": null,
   "metadata": {},
   "outputs": [],
   "source": [
    "reduced_annual = all_annual[all_annual[\"average\"] > 0]\n",
    "reduced_annual.rename(columns={\"energy_source_code\": \"Energy Source Code\"}).drop(\n",
    "    columns=\"average\"\n",
    ").plot(\n",
    "    kind=\"bar\",\n",
    "    x=\"Energy Source Code\",\n",
    "    stacked=True,\n",
    "    title=\"Sulfur Content Percentage\",\n",
    "    legend=year,\n",
    "    figsize=(10, 10),\n",
    ")\n",
    "plt.show()"
   ]
  },
  {
   "cell_type": "markdown",
   "metadata": {},
   "source": [
    "Sulfur content appears to be constant across years for each energy source code. Note that `SC` (coal-derived syngas) is non-zero for 2008 only."
   ]
  },
  {
   "cell_type": "markdown",
   "metadata": {},
   "source": [
    "## National Data\n",
    "Here we consider sulfur content for each energy source code and for each report date across all years"
   ]
  },
  {
   "cell_type": "code",
   "execution_count": null,
   "metadata": {},
   "outputs": [],
   "source": [
    "for j, y in enumerate(year):\n",
    "    national[y].insert(1, \"month\", national[y][\"report_date\"].dt.month)\n",
    "    if j == 0:\n",
    "        all_national = (\n",
    "            national[y]\n",
    "            .rename(columns={\"sulfur_content_pct\": f\"{y}\"})\n",
    "            .drop(columns=\"report_date\")\n",
    "            .copy()\n",
    "        )\n",
    "    else:\n",
    "        all_national = pd.merge(\n",
    "            all_national,\n",
    "            national[y]\n",
    "            .rename(columns={\"sulfur_content_pct\": f\"{y}\"})\n",
    "            .drop(columns=\"report_date\"),\n",
    "            how=\"outer\",\n",
    "            on=[\"energy_source_code\", \"month\"],\n",
    "        )\n",
    "    national[y] = national[y].drop(columns=\"month\")\n",
    "\n",
    "display(all_national)"
   ]
  },
  {
   "cell_type": "markdown",
   "metadata": {},
   "source": [
    "### Plot National Data\n",
    "Compare monthly data across years for each energy source code "
   ]
  },
  {
   "cell_type": "code",
   "execution_count": null,
   "metadata": {},
   "outputs": [],
   "source": [
    "reduced_national = {\n",
    "    e: all_national.query(\"energy_source_code == @e\")\n",
    "    .drop(columns=\"energy_source_code\")\n",
    "    .set_index(\"month\")\n",
    "    for e in reduced_annual[\"energy_source_code\"].to_list()\n",
    "}"
   ]
  },
  {
   "cell_type": "code",
   "execution_count": null,
   "metadata": {},
   "outputs": [],
   "source": [
    "fig, axes = plt.subplots(ncols=4, nrows=3)\n",
    "for e, ax in zip(reduced_national, axes.flatten()):\n",
    "    reduced_national[e].plot(\n",
    "        title=e,\n",
    "        figsize=(20, 10),\n",
    "        ylabel=\"Sulfur Content Percentage\",\n",
    "        ax=ax,\n",
    "        legend=False,\n",
    "    )\n",
    "\n",
    "handles, labels = plt.gca().get_legend_handles_labels()\n",
    "fig.legend(handles, labels, loc=\"center right\")\n",
    "fig.tight_layout()\n",
    "plt.show()"
   ]
  },
  {
   "cell_type": "markdown",
   "metadata": {},
   "source": [
    "To the exception of `KER` (Kerosene), monthly values vary across years and the variation is different from year-to-year."
   ]
  },
  {
   "cell_type": "markdown",
   "metadata": {},
   "source": [
    "## Plant Data\n",
    "Let's focus on some `BIT` (Bituminous Coal) and `PC` (Petroleum Coke) plants as these fuel types have the most sulfur content."
   ]
  },
  {
   "cell_type": "code",
   "execution_count": null,
   "metadata": {},
   "outputs": [],
   "source": [
    "for j, y in enumerate(year):\n",
    "    plant[y].insert(1, \"month\", plant[y][\"report_date\"].dt.month)\n",
    "    if j == 0:\n",
    "        all_plant = (\n",
    "            plant[y]\n",
    "            .query(\"energy_source_code == 'BIT' or energy_source_code == 'PC'\")\n",
    "            .rename(columns={\"sulfur_content_pct\": f\"{y}\"})\n",
    "            .drop(columns=\"report_date\")\n",
    "            .copy()\n",
    "        )\n",
    "    else:\n",
    "        all_plant = pd.merge(\n",
    "            all_plant,\n",
    "            plant[y]\n",
    "            .query(\"energy_source_code == 'BIT' or energy_source_code == 'PC'\")\n",
    "            .rename(columns={\"sulfur_content_pct\": f\"{y}\"})\n",
    "            .drop(columns=[\"report_date\", \"prime_mover_code\"]),\n",
    "            how=\"outer\",\n",
    "            on=[\"plant_id_eia\", \"energy_source_code\", \"month\"],\n",
    "        )\n",
    "    plant[y] = plant[y].drop(columns=\"month\")\n",
    "\n",
    "display(all_plant)"
   ]
  },
  {
   "cell_type": "markdown",
   "metadata": {},
   "source": [
    "### Select `BIT` and `PC` Plants with Data for All years and at least 10 Months"
   ]
  },
  {
   "cell_type": "code",
   "execution_count": null,
   "metadata": {},
   "outputs": [],
   "source": [
    "all_plant_keep = all_plant[\n",
    "    all_plant.select_dtypes(include=[\"number\"]).notnull().all(axis=1)\n",
    "]\n",
    "display(all_plant_keep)"
   ]
  },
  {
   "cell_type": "code",
   "execution_count": null,
   "metadata": {},
   "outputs": [],
   "source": [
    "all_plant_keep_idx = (\n",
    "    all_plant_keep[\n",
    "        all_plant_keep.groupby(\"plant_id_eia\")[\"month\"].transform(\"size\") >= 10\n",
    "    ]\n",
    "    .groupby([\"energy_source_code\"])[\"plant_id_eia\"]\n",
    "    .unique()\n",
    ")\n",
    "\n",
    "display(all_plant_keep_idx)"
   ]
  },
  {
   "cell_type": "markdown",
   "metadata": {},
   "source": [
    "### Plot Plant Data"
   ]
  },
  {
   "cell_type": "code",
   "execution_count": null,
   "metadata": {},
   "outputs": [],
   "source": [
    "bit_idx = np.random.choice(all_plant_keep_idx.loc[\"BIT\"], size=1)[0]\n",
    "pc_idx = np.random.choice(all_plant_keep_idx.loc[\"PC\"], size=1)[0]"
   ]
  },
  {
   "cell_type": "code",
   "execution_count": null,
   "metadata": {},
   "outputs": [],
   "source": [
    "bit_idx"
   ]
  },
  {
   "cell_type": "code",
   "execution_count": null,
   "metadata": {},
   "outputs": [],
   "source": [
    "bit_plant = all_plant_keep.set_index(\"plant_id_eia\").loc[bit_idx].round(2)\n",
    "display(bit_plant)"
   ]
  },
  {
   "cell_type": "code",
   "execution_count": null,
   "metadata": {},
   "outputs": [],
   "source": [
    "pc_plant = all_plant_keep.set_index(\"plant_id_eia\").loc[pc_idx].round(2)\n",
    "display(pc_plant)"
   ]
  },
  {
   "cell_type": "code",
   "execution_count": null,
   "metadata": {},
   "outputs": [],
   "source": [
    "fig, axes = plt.subplots(2)\n",
    "bit_plant.select_dtypes(include=\"number\").plot(\n",
    "    x=\"month\",\n",
    "    title=f\"BIT, plant #{bit_idx}\",\n",
    "    ylabel=\"Sulfur Content Percentage\",\n",
    "    figsize=(20, 10),\n",
    "    ax=axes[0],\n",
    "    legend=False,\n",
    ")\n",
    "pc_plant.select_dtypes(include=\"number\").plot(\n",
    "    x=\"month\",\n",
    "    title=f\"PC, plant #{pc_idx}\",\n",
    "    ylabel=\"Sulfur Content Percentage\",\n",
    "    figsize=(20, 10),\n",
    "    ax=axes[1],\n",
    "    legend=False,\n",
    ")\n",
    "\n",
    "handles, labels = plt.gca().get_legend_handles_labels()\n",
    "fig.legend(handles, labels, loc=\"center right\")\n",
    "fig.tight_layout()\n",
    "plt.show()"
   ]
  },
  {
   "cell_type": "markdown",
   "metadata": {},
   "source": [
    "### State Level Average"
   ]
  },
  {
   "cell_type": "code",
   "execution_count": null,
   "metadata": {},
   "outputs": [],
   "source": [
    "plant_state = load_pudl_table(\n",
    "    \"core_eia__entity_plants\", columns=[\"plant_id_eia\", \"state\"]\n",
    ")"
   ]
  },
  {
   "cell_type": "code",
   "execution_count": null,
   "metadata": {},
   "outputs": [],
   "source": [
    "esc_keep = reduced_annual[\"energy_source_code\"].to_list()\n",
    "for j, y in enumerate(year):\n",
    "    plant[y].insert(1, \"month\", plant[y][\"report_date\"].dt.month)\n",
    "    if j == 0:\n",
    "        plant_average = (\n",
    "            plant[y]\n",
    "            .query(\"energy_source_code == @esc_keep\")\n",
    "            .rename(columns={\"sulfur_content_pct\": f\"{y}\"})\n",
    "            .drop(columns=\"report_date\")\n",
    "            .copy()\n",
    "        )\n",
    "    else:\n",
    "        plant_average = pd.merge(\n",
    "            plant_average,\n",
    "            plant[y]\n",
    "            .query(\"energy_source_code == @esc_keep\")\n",
    "            .rename(columns={\"sulfur_content_pct\": f\"{y}\"})\n",
    "            .drop(columns=[\"report_date\", \"prime_mover_code\"]),\n",
    "            how=\"outer\",\n",
    "            on=[\"plant_id_eia\", \"energy_source_code\", \"month\"],\n",
    "        )\n",
    "    plant[y] = plant[y].drop(columns=\"month\")\n",
    "\n",
    "plant_average = (\n",
    "    plant_average.drop(columns=[\"month\", \"prime_mover_code\"])\n",
    "    .groupby([\"plant_id_eia\", \"energy_source_code\"])\n",
    "    .mean()\n",
    "    .mean(axis=1)\n",
    ")\n",
    "\n",
    "display(plant_average)"
   ]
  },
  {
   "cell_type": "code",
   "execution_count": null,
   "metadata": {},
   "outputs": [],
   "source": [
    "display(f\"Number of plant with no sulfur content: {plant_average.isna().sum()}\")"
   ]
  },
  {
   "cell_type": "code",
   "execution_count": null,
   "metadata": {},
   "outputs": [],
   "source": [
    "plant_average = plant_average.dropna()"
   ]
  },
  {
   "cell_type": "code",
   "execution_count": null,
   "metadata": {},
   "outputs": [],
   "source": [
    "display(\"Breakdown by energy source code:\")\n",
    "display(plant_average.reset_index()[\"energy_source_code\"].value_counts())"
   ]
  },
  {
   "cell_type": "code",
   "execution_count": null,
   "metadata": {},
   "outputs": [],
   "source": [
    "plant_average.name = \"average_sulfur_content\"\n",
    "plant_average = plant_average.reset_index()\n",
    "plant_average = pd.merge(plant_average, plant_state, on=\"plant_id_eia\", how=\"left\")\n",
    "\n",
    "display(plant_average)"
   ]
  },
  {
   "cell_type": "code",
   "execution_count": null,
   "metadata": {},
   "outputs": [],
   "source": [
    "state_average = plant_average.groupby([\"energy_source_code\", \"state\"])[\n",
    "    \"average_sulfur_content\"\n",
    "].mean()\n",
    "\n",
    "display(state_average)"
   ]
  },
  {
   "cell_type": "code",
   "execution_count": null,
   "metadata": {},
   "outputs": [],
   "source": [
    "state_average.reset_index().rename(\n",
    "    columns={\"energy_source_code\": \"Energy Source Code\"}\n",
    ").pivot(\n",
    "    columns=\"state\", index=\"Energy Source Code\", values=\"average_sulfur_content\"\n",
    ").plot(\n",
    "    kind=\"bar\",\n",
    "    title=\"Sulfur Content Percentage\",\n",
    "    figsize=(10, 20),\n",
    "    stacked=True,\n",
    ")\n",
    "plt.show()"
   ]
  },
  {
   "cell_type": "code",
   "execution_count": null,
   "metadata": {},
   "outputs": [],
   "source": []
  }
 ],
 "metadata": {
  "kernelspec": {
   "display_name": "open-grid-emissions-zm3GQQDc",
   "language": "python",
   "name": "python3"
  },
  "language_info": {
   "codemirror_mode": {
    "name": "ipython",
    "version": 3
   },
   "file_extension": ".py",
   "mimetype": "text/x-python",
   "name": "python",
   "nbconvert_exporter": "python",
   "pygments_lexer": "ipython3",
   "version": "3.11.2"
  }
 },
 "nbformat": 4,
 "nbformat_minor": 2
}
