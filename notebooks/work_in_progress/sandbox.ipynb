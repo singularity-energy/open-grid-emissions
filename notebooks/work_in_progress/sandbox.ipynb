{
 "cells": [
  {
   "cell_type": "code",
   "execution_count": 1,
   "metadata": {},
   "outputs": [],
   "source": [
    "# import packages\n",
    "import pandas as pd\n",
    "import numpy as np\n",
    "import os\n",
    "import plotly.express as px\n",
    "\n",
    "%reload_ext autoreload\n",
    "%autoreload 2\n",
    "\n",
    "# # Tell python where to look for modules.\n",
    "import sys\n",
    "\n",
    "sys.path.append(\"../../src/\")\n",
    "\n",
    "import oge.download_data as download_data\n",
    "import oge.load_data as load_data\n",
    "from oge.column_checks import get_dtypes\n",
    "from oge.filepaths import *\n",
    "import oge.impute_hourly_profiles as impute_hourly_profiles\n",
    "import oge.data_cleaning as data_cleaning\n",
    "import oge.output_data as output_data\n",
    "import oge.emissions as emissions\n",
    "import oge.validation as validation\n",
    "import oge.gross_to_net_generation as gross_to_net_generation\n",
    "import oge.eia930 as eia930\n",
    "from oge.logging_util import get_logger, configure_root_logger\n",
    "\n",
    "configure_root_logger()\n",
    "logger = get_logger(\"test\")\n",
    "\n",
    "\n",
    "year = 2020\n",
    "path_prefix = f\"{year}/\""
   ]
  },
  {
   "cell_type": "code",
   "execution_count": null,
   "metadata": {},
   "outputs": [],
   "source": []
  }
 ],
 "metadata": {
  "kernelspec": {
   "display_name": "open_grid_emissions",
   "language": "python",
   "name": "python3"
  },
  "language_info": {
   "codemirror_mode": {
    "name": "ipython",
    "version": 3
   },
   "file_extension": ".py",
   "mimetype": "text/x-python",
   "name": "python",
   "nbconvert_exporter": "python",
   "pygments_lexer": "ipython3",
   "version": "3.11.4"
  },
  "orig_nbformat": 4,
  "vscode": {
   "interpreter": {
    "hash": "b893a8d8fbb165be288531947168b3b06bdb1508177327a21c265e0400df3100"
   }
  }
 },
 "nbformat": 4,
 "nbformat_minor": 2
}
