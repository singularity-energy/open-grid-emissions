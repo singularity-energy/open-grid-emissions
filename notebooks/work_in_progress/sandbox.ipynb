{
 "cells": [
  {
   "cell_type": "code",
   "execution_count": 4,
   "metadata": {},
   "outputs": [],
   "source": [
    "# import packages\n",
    "import pandas as pd\n",
    "import numpy as np\n",
    "import os\n",
    "import plotly.express as px\n",
    "\n",
    "%reload_ext autoreload\n",
    "%autoreload 2\n",
    "\n",
    "# # Tell python where to look for modules.\n",
    "import sys\n",
    "sys.path.append('../../../open-grid-emissions/src/')\n",
    "\n",
    "import download_data\n",
    "import load_data\n",
    "from column_checks import get_dtypes\n",
    "from filepaths import *\n",
    "import impute_hourly_profiles\n",
    "import data_cleaning\n",
    "import output_data\n",
    "import emissions\n",
    "import validation\n",
    "import gross_to_net_generation\n",
    "import eia930\n",
    "from logging_util import get_logger, configure_root_logger\n",
    "configure_root_logger()\n",
    "logger = get_logger(\"test\")\n",
    "\n",
    "\n",
    "year = 2021\n",
    "path_prefix = f\"{year}/\""
   ]
  }
 ],
 "metadata": {
  "kernelspec": {
   "display_name": "open_grid_emissions",
   "language": "python",
   "name": "python3"
  },
  "language_info": {
   "codemirror_mode": {
    "name": "ipython",
    "version": 3
   },
   "file_extension": ".py",
   "mimetype": "text/x-python",
   "name": "python",
   "nbconvert_exporter": "python",
   "pygments_lexer": "ipython3",
   "version": "3.10.11"
  },
  "orig_nbformat": 4,
  "vscode": {
   "interpreter": {
    "hash": "b893a8d8fbb165be288531947168b3b06bdb1508177327a21c265e0400df3100"
   }
  }
 },
 "nbformat": 4,
 "nbformat_minor": 2
}
