{
 "cells": [
  {
   "cell_type": "markdown",
   "metadata": {},
   "source": [
    "This notebook is set up to test code as needed."
   ]
  },
  {
   "cell_type": "code",
   "execution_count": null,
   "metadata": {},
   "outputs": [],
   "source": [
    "# import packages\n",
    "import pandas as pd\n",
    "import os\n",
    "\n",
    "%reload_ext autoreload\n",
    "%autoreload 2\n",
    "\n",
    "# # Tell python where to look for modules.\n",
    "import sys\n",
    "sys.path.append('../../../open-grid-emissions/src/')\n",
    "\n",
    "import download_data\n",
    "import load_data\n",
    "from column_checks import get_dtypes\n",
    "from filepaths import *\n",
    "import impute_hourly_profiles\n",
    "import data_cleaning\n",
    "import output_data\n",
    "import emissions\n",
    "import validation\n",
    "import gross_to_net_generation\n",
    "import eia930\n",
    "\n",
    "year = 2020\n",
    "path_prefix = f\"{year}/\""
   ]
  },
  {
   "cell_type": "code",
   "execution_count": null,
   "metadata": {},
   "outputs": [],
   "source": [
    "# 3. Clean EIA-923 Generation and Fuel Data at the Monthly Level\n",
    "####################################################################################\n",
    "print(\"3. Cleaning EIA-923 data\")\n",
    "eia923_allocated, primary_fuel_table = data_cleaning.clean_eia923(year, False)\n",
    "# Add primary fuel data to each generator\n",
    "eia923_allocated = eia923_allocated.merge(\n",
    "    primary_fuel_table,\n",
    "    how=\"left\",\n",
    "    on=[\"plant_id_eia\", \"generator_id\"],\n",
    "    validate=\"m:1\",\n",
    ")\n",
    "\n",
    "# 4. Clean Hourly Data from CEMS\n",
    "####################################################################################\n",
    "print(\"4. Cleaning CEMS data\")\n",
    "cems = data_cleaning.clean_cems(year, False, primary_fuel_table)"
   ]
  },
  {
   "cell_type": "code",
   "execution_count": null,
   "metadata": {},
   "outputs": [],
   "source": [
    "report_months = cems[[\"plant_id_eia\",\"unitid\",\"report_date\"]].drop_duplicates()\n",
    "report_months[\"plant_unit\"] = report_months[\"plant_id_eia\"].astype(str) + \"_\" + report_months[\"unitid\"].astype(str)\n",
    "report_months[\"data_reported\"] = 1\n",
    "report_months = report_months.pivot_table(index=\"plant_unit\", columns=\"report_date\", values=\"data_reported\")\n",
    "report_months = report_months.sort_values(by=list(report_months.columns))\n",
    "report_months[\"oz_total\"] = report_months[[\"2020-05-01 00:00:00\", \"2020-06-01 00:00:00\", \"2020-07-01 00:00:00\", \"2020-08-01 00:00:00\", \"2020-09-01 00:00:00\"]].sum(axis=1)\n",
    "report_months[\"total\"] = report_months.sum(axis=1) - report_months[\"oz_total\"]\n",
    "report_months[\"type\"] = 0\n",
    "report_months.loc[(report_months[\"total\"] == 5) & (report_months[\"oz_total\"] == 5) ,\"type\"] = 1\n",
    "report_months.loc[(report_months[\"total\"] == 12) ,\"type\"] = 2\n",
    "report_months = report_months.sort_values(by=[\"type\",\"total\",\"oz_total\"])\n",
    "report_months = report_months.drop(columns=[\"type\",\"total\",\"oz_total\"])\n",
    "report_months"
   ]
  },
  {
   "cell_type": "code",
   "execution_count": null,
   "metadata": {},
   "outputs": [],
   "source": [
    "import plotly.express as px"
   ]
  },
  {
   "cell_type": "code",
   "execution_count": null,
   "metadata": {},
   "outputs": [],
   "source": [
    "px.imshow(report_months, height=800)"
   ]
  },
  {
   "cell_type": "code",
   "execution_count": null,
   "metadata": {},
   "outputs": [],
   "source": [
    "clean_fuels = [\"SUN\", \"MWH\", \"WND\", \"WAT\", \"WH\", \"PUR\", \"NUC\"]\n",
    "primary_fuel_table.loc[(primary_fuel_table[\"plant_primary_fuel\"].isin(clean_fuels)) & (~primary_fuel_table[\"energy_source_code\"].isin(clean_fuels)), [\"plant_id_eia\",\"energy_source_code\",\"plant_primary_fuel\"]].drop_duplicates()"
   ]
  },
  {
   "cell_type": "code",
   "execution_count": null,
   "metadata": {},
   "outputs": [],
   "source": [
    "cems = cems.merge(primary_fuel_table[[\"plant_id_eia\",\"plant_primary_fuel\"]].drop_duplicates(), how=\"left\", on=\"plant_id_eia\")"
   ]
  },
  {
   "cell_type": "code",
   "execution_count": null,
   "metadata": {},
   "outputs": [],
   "source": [
    "cems.loc[cems[\"plant_primary_fuel\"] == \"NUC\",[\"plant_id_eia\",\"unitid\"]].drop_duplicates()"
   ]
  },
  {
   "cell_type": "code",
   "execution_count": null,
   "metadata": {},
   "outputs": [],
   "source": [
    "pudl_out = load_data.initialize_pudl_out(2020)"
   ]
  },
  {
   "cell_type": "code",
   "execution_count": null,
   "metadata": {},
   "outputs": [],
   "source": [
    "gens = pudl_out.gens_eia860()"
   ]
  },
  {
   "cell_type": "code",
   "execution_count": null,
   "metadata": {},
   "outputs": [],
   "source": [
    "gens"
   ]
  },
  {
   "cell_type": "code",
   "execution_count": null,
   "metadata": {},
   "outputs": [],
   "source": [
    "resolution = \"hourly\"\n",
    "\n",
    "all_data = []\n",
    "for ba in os.listdir(results_folder(f\"2020/power_sector_data/{resolution}/us_units\")):\n",
    "    df = pd.read_csv(results_folder(f\"2020/power_sector_data/{resolution}/us_units/{ba}\"))\n",
    "    df[\"ba_code\"] = ba.split(\".\")[0]\n",
    "    all_data.append(df)\n",
    "\n",
    "all_data = pd.concat(all_data, axis=0)"
   ]
  },
  {
   "cell_type": "code",
   "execution_count": null,
   "metadata": {},
   "outputs": [],
   "source": [
    "hourly_profiles = pd.read_csv(f\"{outputs_folder()}{path_prefix}/hourly_profiles_{year}.csv\")"
   ]
  },
  {
   "cell_type": "code",
   "execution_count": null,
   "metadata": {},
   "outputs": [],
   "source": [
    "resolution = \"hourly\"\n",
    "pjm = pd.read_csv(results_folder(f\"2020/power_sector_data/{resolution}/us_units/PJM.csv\"))"
   ]
  },
  {
   "cell_type": "code",
   "execution_count": null,
   "metadata": {},
   "outputs": [],
   "source": [
    "pjm_total = pjm[pjm[\"fuel_category\"] == \"total\"].set_index(\"datetime_local\")\n",
    "pjm_total = pjm_total.filter(like=\"generated_co2_\")\n",
    "pjm_total"
   ]
  },
  {
   "cell_type": "code",
   "execution_count": null,
   "metadata": {},
   "outputs": [],
   "source": [
    "import plotly.express as px"
   ]
  },
  {
   "cell_type": "code",
   "execution_count": null,
   "metadata": {},
   "outputs": [],
   "source": [
    "px.line(pjm_total)"
   ]
  },
  {
   "cell_type": "code",
   "execution_count": null,
   "metadata": {},
   "outputs": [],
   "source": [
    "pjm_fuel = pjm[pjm[\"fuel_category\"] != \"total\"].set_index(\"datetime_local\")\n",
    "pjm_fuel = pjm_fuel[[\"fuel_category\",\"generated_co2_rate_lb_per_mwh_for_electricity\"]]\n",
    "pjm_fuel"
   ]
  },
  {
   "cell_type": "code",
   "execution_count": null,
   "metadata": {},
   "outputs": [],
   "source": [
    "px.line(pjm_fuel, color=\"fuel_category\")"
   ]
  },
  {
   "cell_type": "code",
   "execution_count": null,
   "metadata": {},
   "outputs": [],
   "source": [
    "pjm_gen = pjm[pjm[\"fuel_category\"] != \"total\"].set_index(\"datetime_local\")\n",
    "pjm_gen = pjm_gen[[\"fuel_category\",\"net_generation_mwh\"]]\n",
    "px.line(pjm_gen, color=\"fuel_category\")"
   ]
  },
  {
   "cell_type": "code",
   "execution_count": null,
   "metadata": {},
   "outputs": [],
   "source": [
    "pjm"
   ]
  },
  {
   "cell_type": "code",
   "execution_count": null,
   "metadata": {},
   "outputs": [],
   "source": [
    "import plotly.express as px"
   ]
  },
  {
   "cell_type": "code",
   "execution_count": null,
   "metadata": {},
   "outputs": [],
   "source": [
    "px.line(pjm, y=\"generated_co2_rate_lb_per_mwh_for_electricity\", x=\"datetime_local\", color=\"fuel_category\")"
   ]
  },
  {
   "cell_type": "code",
   "execution_count": null,
   "metadata": {},
   "outputs": [],
   "source": [
    "data"
   ]
  },
  {
   "cell_type": "code",
   "execution_count": null,
   "metadata": {},
   "outputs": [],
   "source": [
    "ba = \"PJM\"\n",
    "fuel_category = \"nuclear\"\n",
    "data = hourly_profiles[\n",
    "    (hourly_profiles[\"ba_code\"] == ba)\n",
    "    & (hourly_profiles[\"fuel_category\"] == fuel_category)\n",
    "]\n",
    "px.line(data, x=\"datetime_local\", y=[\"eia930_profile\",\"cems_profile\",\"residual_profile\",\"scaled_residual_profile\",\"shifted_residual_profile\"])"
   ]
  },
  {
   "cell_type": "code",
   "execution_count": null,
   "metadata": {},
   "outputs": [],
   "source": [
    "ba = \"BANC\"\n",
    "fuel_category = \"natural_gas\"\n",
    "data = hourly_profiles[\n",
    "    (hourly_profiles[\"ba_code\"] == ba)\n",
    "    & (hourly_profiles[\"fuel_category\"] == fuel_category)\n",
    "]\n",
    "px.line(\n",
    "    data.rename(columns={\"eia930_profile\":\"EIA-930 Net Generation\", \"cems_profile\":\"CEMS Net Generation\", \"residual_profile\":\"Residual Net Generation\"}),\n",
    "    x=\"datetime_local\",\n",
    "    y=[\"EIA-930 Net Generation\", \"CEMS Net Generation\", \"Residual Net Generation\"],\n",
    "    width=1000,\n",
    "    title=\"Hourly net generation for natural gas generators in BANC\",\n",
    "    labels={\"value\": \"MW\", \"variable\": \"Profile\",},\n",
    ")\n"
   ]
  },
  {
   "cell_type": "code",
   "execution_count": null,
   "metadata": {},
   "outputs": [],
   "source": [
    "ba = \"BANC\"\n",
    "fuel_category = \"natural_gas\"\n",
    "data = hourly_profiles[\n",
    "    (hourly_profiles[\"ba_code\"] == ba)\n",
    "    & (hourly_profiles[\"fuel_category\"] == fuel_category)\n",
    "]\n",
    "px.line(\n",
    "    data.rename(columns={\"eia930_profile\":\"EIA-930 Reported\", \"cems_profile\":\"CEMS Reported\", \"residual_profile\":\"Residual\"}),\n",
    "    x=\"datetime_local\",\n",
    "    y=[\"EIA-930 Reported\", \"CEMS Reported\", \"Residual\"],\n",
    "    width=1200,\n",
    "    height=600,\n",
    "    color_discrete_sequence=['#636EFA', '#00CC96', '#EF553B'],\n",
    "    title=\"Calculating the hourly profile for non-CEMS gas generators in BANC\",\n",
    "    labels={\"value\": \"MW\", \"variable\": \"Net Generation\",},\n",
    ").update_layout(legend=dict(\n",
    "    orientation=\"h\",\n",
    "    yanchor=\"top\",\n",
    "    y=1.1,\n",
    "    xanchor=\"left\",\n",
    "    x=0\n",
    ")).update_yaxes(rangemode=\"tozero\")\n"
   ]
  },
  {
   "cell_type": "code",
   "execution_count": null,
   "metadata": {},
   "outputs": [],
   "source": [
    "# load gridemissions data\n",
    "clean_930_file = downloads_folder(\"eia930/chalendar/EBA_elec.csv\")\n",
    "\n",
    "eia930_data = eia930.load_chalendar_for_pipeline(clean_930_file, year=year)\n",
    "eia930_data"
   ]
  },
  {
   "cell_type": "code",
   "execution_count": null,
   "metadata": {},
   "outputs": [],
   "source": [
    "eia930_data.loc[eia930_data[\"report_date\"].dt.year == 2020, \"net_generation_mwh_930\"].sum()"
   ]
  },
  {
   "cell_type": "code",
   "execution_count": null,
   "metadata": {},
   "outputs": [],
   "source": [
    "# load co2 data\n",
    "ge_co2 = pd.read_csv(data_folder(\"reference/EBA_co2.csv\"))"
   ]
  },
  {
   "cell_type": "code",
   "execution_count": null,
   "metadata": {},
   "outputs": [],
   "source": [
    "ba_ref = pd.read_csv(manual_folder(\"ba_reference.csv\"))\n",
    "foreign_bas = list(ba_ref.loc[ba_ref[\"us_ba\"] == \"No\", \"ba_code\"])"
   ]
  },
  {
   "cell_type": "code",
   "execution_count": null,
   "metadata": {},
   "outputs": [],
   "source": [
    "# only keep generation-related emissions\n",
    "ge_co2 = ge_co2.filter(like=\"_NG\")\n",
    "#remove columns for foreign BAs"
   ]
  }
 ],
 "metadata": {
  "kernelspec": {
   "display_name": "Python 3.10.4 ('open_grid_emissions')",
   "language": "python",
   "name": "python3"
  },
  "language_info": {
   "codemirror_mode": {
    "name": "ipython",
    "version": 3
   },
   "file_extension": ".py",
   "mimetype": "text/x-python",
   "name": "python",
   "nbconvert_exporter": "python",
   "pygments_lexer": "ipython3",
   "version": "3.10.4"
  },
  "orig_nbformat": 4,
  "vscode": {
   "interpreter": {
    "hash": "25e36f192ecdbe5da57d9bea009812e7b11ef0e0053366a845a2802aae1b29d2"
   }
  }
 },
 "nbformat": 4,
 "nbformat_minor": 2
}
