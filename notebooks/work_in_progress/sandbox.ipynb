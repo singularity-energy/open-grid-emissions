{
 "cells": [
  {
   "cell_type": "code",
   "execution_count": null,
   "metadata": {},
   "outputs": [],
   "source": [
    "# import packages\n",
    "import pandas as pd\n",
    "import numpy as np\n",
    "import os\n",
    "import plotly.express as px\n",
    "\n",
    "%reload_ext autoreload\n",
    "%autoreload 2\n",
    "\n",
    "# # Tell python where to look for modules.\n",
    "import sys\n",
    "\n",
    "sys.path.append(\"../../src/\")\n",
    "\n",
    "import oge.download_data as download_data\n",
    "import oge.load_data as load_data\n",
    "from oge.column_checks import get_dtypes, apply_dtypes\n",
    "from oge.filepaths import *\n",
    "import oge.impute_hourly_profiles as impute_hourly_profiles\n",
    "import oge.data_cleaning as data_cleaning\n",
    "import oge.output_data as output_data\n",
    "import oge.emissions as emissions\n",
    "import oge.validation as validation\n",
    "import oge.gross_to_net_generation as gross_to_net_generation\n",
    "import oge.eia930 as eia930\n",
    "from oge.logging_util import get_logger, configure_root_logger\n",
    "\n",
    "configure_root_logger()\n",
    "logger = get_logger(\"test\")\n",
    "\n",
    "\n",
    "year = 2022\n",
    "path_prefix = f\"{year}/\""
   ]
  },
  {
   "cell_type": "code",
   "execution_count": null,
   "metadata": {},
   "outputs": [],
   "source": [
    "emissions_controls_eia923_names = [\n",
    "    \"report_date\",\n",
    "    \"plant_id_eia\",\n",
    "    \"equipment_tech_description\",\n",
    "    \"particulate_control_id_eia\",\n",
    "    \"so2_control_id_eia\",\n",
    "    \"nox_control_id_eia\",\n",
    "    \"mercury_control_id_eia\",\n",
    "    \"operational_status\",\n",
    "    \"hours_in_service\",  # not yet in pudl\n",
    "    \"annual_nox_emission_rate_lb_per_mmbtu\",\n",
    "    \"ozone_season_nox_emission_rate_lb_per_mmbtu\",  # not yet in pudl\n",
    "    \"particulate_emission_rate_lb_per_mmbtu\",\n",
    "    \"particulate_removal_efficiency_annual\",\n",
    "    \"particulate_removal_efficiency_at_full_load\",\n",
    "    \"particulate_test_date\",\n",
    "    \"so2_removal_efficiency_annual\",\n",
    "    \"so2_removal_efficiency_at_full_load\",\n",
    "    \"so2_test_date\",\n",
    "    \"fgd_sorbent_consumption_1000_tons\",\n",
    "    \"fgd_electricity_consumption_mwh\",\n",
    "    \"mercury_removal_efficiency\",\n",
    "    \"mercury_emission_rate_lb_per_trillion_btu\",\n",
    "    \"acid_gas_removal_efficiency\",\n",
    "]\n",
    "\n",
    "emissions_controls_eia923 = pd.read_excel(\n",
    "    io=downloads_folder(\n",
    "        f\"eia923/f923_{year}/EIA923_Schedule_8_Annual_Environmental_Information_{year}_Final.xlsx\"\n",
    "    ),\n",
    "    sheet_name=\"8C Air Emissions Control Info\",\n",
    "    header=4,\n",
    "    names=emissions_controls_eia923_names,\n",
    "    na_values=\".\",\n",
    ")"
   ]
  },
  {
   "cell_type": "code",
   "execution_count": null,
   "metadata": {},
   "outputs": [],
   "source": [
    "cems"
   ]
  },
  {
   "cell_type": "code",
   "execution_count": null,
   "metadata": {},
   "outputs": [],
   "source": [
    "from pudl.metadata.fields import apply_pudl_dtypes"
   ]
  },
  {
   "cell_type": "code",
   "execution_count": null,
   "metadata": {},
   "outputs": [],
   "source": [
    "tables_we_load = [\n",
    "    \"out_eia923__monthly_generation_fuel_combined\",\n",
    "    \"out_eia923__monthly_boiler_fuel\",\n",
    "    \"out_eia923__monthly_generation\",\n",
    "    \"out_eia__yearly_generators\",\n",
    "    \"core_eia860__assn_boiler_generator\",\n",
    "    \"core_eia860__scd_generators\",\n",
    "    \"core_eia__codes_firing_types\",\n",
    "    \"core_epa__assn_eia_epacamd\",\n",
    "    \"out_eia__yearly_boilers\",\n",
    "    \"core_eia__entity_plants\",\n",
    "    \"out_eia__yearly_plants\",\n",
    "    \"core_eia__entity_utilities\",\n",
    "    \"core_eia860__scd_boilers\",\n",
    "    \"core_eia860__assn_yearly_boiler_emissions_control_equipment\",\n",
    "]\n",
    "dtype_dict = {}\n",
    "for table in tables_we_load:\n",
    "    try:\n",
    "        t = load_data.load_pudl_table(table, year)\n",
    "    except:\n",
    "        t = load_data.load_pudl_table(table)\n",
    "    dtype_dict.update(dict(t.dtypes))"
   ]
  },
  {
   "cell_type": "code",
   "execution_count": null,
   "metadata": {},
   "outputs": [],
   "source": [
    "cems = pd.read_parquet(\n",
    "    downloads_folder(\"pudl/core_epacems__hourly_emissions.parquet\"),\n",
    "    filters=[[\"year\", \"==\", year]],\n",
    ")"
   ]
  },
  {
   "cell_type": "code",
   "execution_count": null,
   "metadata": {},
   "outputs": [],
   "source": [
    "cems.dtypes"
   ]
  },
  {
   "cell_type": "code",
   "execution_count": null,
   "metadata": {},
   "outputs": [],
   "source": [
    "cems = apply_dtypes(cems)"
   ]
  },
  {
   "cell_type": "code",
   "execution_count": null,
   "metadata": {},
   "outputs": [],
   "source": [
    "cems.dtypes"
   ]
  },
  {
   "cell_type": "code",
   "execution_count": null,
   "metadata": {},
   "outputs": [],
   "source": [
    "cems[\"operating_datetime_utc\"] = cems[\"operating_datetime_utc\"].dt.tz_localize(\"UTC\")"
   ]
  },
  {
   "cell_type": "code",
   "execution_count": null,
   "metadata": {},
   "outputs": [],
   "source": [
    "cems[\"operating_datetime_utc\"].dt.tz_localize(None).astype(\"datetime64[s]\")"
   ]
  },
  {
   "cell_type": "code",
   "execution_count": null,
   "metadata": {},
   "outputs": [],
   "source": [
    "cems[\"operating_datetime_utc\"]"
   ]
  },
  {
   "cell_type": "code",
   "execution_count": null,
   "metadata": {},
   "outputs": [],
   "source": [
    "cems[\"operating_datetime_utc\"].dtype"
   ]
  },
  {
   "cell_type": "code",
   "execution_count": null,
   "metadata": {},
   "outputs": [],
   "source": [
    "sorted_keys = list(dtype_dict.keys())\n",
    "sorted_keys.sort()\n",
    "sorted_dtype_dict = {i: dtype_dict[i] for i in sorted_keys}"
   ]
  },
  {
   "cell_type": "code",
   "execution_count": null,
   "metadata": {},
   "outputs": [],
   "source": [
    "sorted_dtype_dict"
   ]
  }
 ],
 "metadata": {
  "kernelspec": {
   "display_name": "open_grid_emissions",
   "language": "python",
   "name": "python3"
  },
  "language_info": {
   "codemirror_mode": {
    "name": "ipython",
    "version": 3
   },
   "file_extension": ".py",
   "mimetype": "text/x-python",
   "name": "python",
   "nbconvert_exporter": "python",
   "pygments_lexer": "ipython3",
   "version": "3.11.4"
  },
  "orig_nbformat": 4,
  "vscode": {
   "interpreter": {
    "hash": "b893a8d8fbb165be288531947168b3b06bdb1508177327a21c265e0400df3100"
   }
  }
 },
 "nbformat": 4,
 "nbformat_minor": 2
}
