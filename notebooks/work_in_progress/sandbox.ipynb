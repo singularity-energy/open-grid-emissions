{
 "cells": [
  {
   "cell_type": "code",
   "execution_count": null,
   "metadata": {},
   "outputs": [],
   "source": [
    "# import packages\n",
    "import pandas as pd\n",
    "import numpy as np\n",
    "import os\n",
    "import plotly.express as px\n",
    "\n",
    "# # Tell python where to look for modules.\n",
    "import sys\n",
    "\n",
    "sys.path.append(\"../../src/\")\n",
    "\n",
    "%reload_ext autoreload\n",
    "%autoreload 2\n",
    "import oge.load_data as load_data\n",
    "from oge.filepaths import *\n",
    "import oge.data_cleaning as data_cleaning\n",
    "from oge.logging_util import get_logger, configure_root_logger\n",
    "\n",
    "configure_root_logger()\n",
    "logger = get_logger(\"test\")\n"
   ]
  },
  {
   "cell_type": "code",
   "execution_count": null,
   "metadata": {},
   "outputs": [],
   "source": [
    "# NOTE: Need to introduce the concept of a static earliest year\n",
    "\n",
    "# The earliest_year represents the earliest year that the OGE dataset will ever cover\n",
    "# data back to 2001 is available in PUDL, but EIA-860 files prior to 2004 was distributed\n",
    "# in a different format that may not be consistent with later files, and may use \n",
    "# different primary keys for generators.\n",
    "# https://catalystcoop-pudl.readthedocs.io/en/v2023.12.01/data_sources/eia860.html#how-much-of-the-data-is-accessible-through-pudl\n",
    "earliest_year = 2005\n",
    "year = 2022\n",
    "\n",
    "path_prefix = f\"{year}/\""
   ]
  },
  {
   "cell_type": "code",
   "execution_count": null,
   "metadata": {},
   "outputs": [],
   "source": [
    "\n",
    "# although we could directly load all years at once from the cems parquet file, this\n",
    "# would lead to a memoryerror, so we load one year at a time and drop duplicates before\n",
    "# concatting the next year to the dataframe\n",
    "cems_ids = []\n",
    "# use 2001 as the start year as this is the earliest year that EIA data is available\n",
    "# in PUDL, and we would likely never use data before this year.\n",
    "for year in range(earliest_year, year + 1):\n",
    "    cems_id_year = pd.read_parquet(\n",
    "        downloads_folder(\"pudl/hourly_emissions_epacems.parquet\"),\n",
    "        filters=[[\"year\", \"==\", year]],\n",
    "        columns=[\"plant_id_epa\", \"plant_id_eia\", \"emissions_unit_id_epa\"],\n",
    "    ).drop_duplicates()\n",
    "    cems_ids.append(cems_id_year)\n",
    "    cems_ids = [pd.concat(cems_ids, axis=0).drop_duplicates()]\n",
    "cems_ids = (\n",
    "    pd.concat(cems_ids, axis=0)\n",
    "    .drop_duplicates()\n",
    "    .sort_values(by=[\"plant_id_eia\", \"emissions_unit_id_epa\"])\n",
    ")"
   ]
  },
  {
   "cell_type": "code",
   "execution_count": null,
   "metadata": {},
   "outputs": [],
   "source": [
    "#######################################################\n",
    "# generate_subplant_ids()\n",
    "\n",
    "import pudl.analysis.epacamd_eia as epacamd_eia\n",
    "\n",
    "# load the crosswalk and filter it by the data that actually exists in cems\n",
    "crosswalk = load_data.load_epa_eia_crosswalk(year)\n",
    "\n",
    "# filter the crosswalk to drop any units that don't exist in CEMS\n",
    "filtered_crosswalk = epacamd_eia.filter_crosswalk(crosswalk, cems_ids)"
   ]
  },
  {
   "cell_type": "code",
   "execution_count": null,
   "metadata": {},
   "outputs": [],
   "source": [
    "######################################################\n",
    "from pudl.etl.glue_assets import make_subplant_ids\n",
    "\n",
    "# use graph analysis to identify subplants\n",
    "crosswalk_with_subplant_ids = make_subplant_ids(filtered_crosswalk)\n",
    "\n",
    "# change the eia plant id to int\n",
    "crosswalk_with_subplant_ids[\"plant_id_eia\"] = crosswalk_with_subplant_ids[\n",
    "    \"plant_id_eia\"\n",
    "].astype(int)\n",
    "\n",
    "# change the order of the columns\n",
    "crosswalk_with_subplant_ids = crosswalk_with_subplant_ids[\n",
    "    [\n",
    "        \"plant_id_epa\",\n",
    "        \"emissions_unit_id_epa\",\n",
    "        \"plant_id_eia\",\n",
    "        \"generator_id\",\n",
    "        \"subplant_id\",\n",
    "    ]\n",
    "]"
   ]
  },
  {
   "cell_type": "code",
   "execution_count": null,
   "metadata": {},
   "outputs": [],
   "source": [
    "complete_gens = load_data.load_pudl_table(\n",
    "    \"denorm_generators_eia\",\n",
    "    columns=[\n",
    "        \"report_date\",\n",
    "        \"plant_id_eia\",\n",
    "        \"generator_id\",\n",
    "        \"unit_id_pudl\",\n",
    "        \"operational_status_code\",\n",
    "        \"generator_operating_date\",\n",
    "        \"generator_retirement_date\",\n",
    "        \"original_planned_generator_operating_date\",\n",
    "        \"current_planned_generator_operating_date\",\n",
    "    ],\n",
    ")"
   ]
  },
  {
   "cell_type": "code",
   "execution_count": null,
   "metadata": {},
   "outputs": [],
   "source": [
    "complete_gens[(complete_gens[\"plant_id_eia\"] == 136) & (complete_gens[\"generator_id\"] == \"2\")]"
   ]
  },
  {
   "cell_type": "code",
   "execution_count": null,
   "metadata": {},
   "outputs": [],
   "source": [
    "complete_gens = load_data.load_pudl_table(\n",
    "    \"denorm_generators_eia\",\n",
    "    columns=[\n",
    "        \"report_date\",\n",
    "        \"plant_id_eia\",\n",
    "        \"generator_id\",\n",
    "        \"unit_id_pudl\",\n",
    "        \"operational_status_code\",\n",
    "        \"generator_operating_date\",\n",
    "        \"generator_retirement_date\",\n",
    "        \"original_planned_generator_operating_date\",\n",
    "        \"current_planned_generator_operating_date\",\n",
    "    ],\n",
    ")\n",
    "\n",
    "\n",
    "# drop any data that was reported prior to the earliest year\n",
    "# only keep data for years <= the year\n",
    "# this avoids using potentially preliminary early-release data\n",
    "complete_gens = complete_gens[\n",
    "    (complete_gens[\"report_date\"].dt.year >= earliest_year)\n",
    "    & (complete_gens[\"report_date\"].dt.year <= year)\n",
    "]\n",
    "\n",
    "# for any retired gens, forward fill the most recently available unit_id_pudl to the\n",
    "# most recent available year\n",
    "complete_gens[\"unit_id_pudl\"] = complete_gens.groupby([\"plant_id_eia\", \"generator_id\"])[\n",
    "    \"unit_id_pudl\"\n",
    "].ffill()\n",
    "\n",
    "# only keep the most recent entry for each generator\n",
    "complete_gens = complete_gens.sort_values(\n",
    "    by=[\"plant_id_eia\", \"generator_id\", \"report_date\"], ascending=True\n",
    ").drop_duplicates(subset=[\"plant_id_eia\", \"generator_id\"], keep=\"last\")\n",
    "\n",
    "# remove generators that are proposed but not yet under construction, or cancelled\n",
    "status_codes_to_remove = [\"CN\", \"IP\", \"P\", \"L\", \"T\"]\n",
    "complete_gens = complete_gens[\n",
    "    ~complete_gens[\"operational_status_code\"].isin(status_codes_to_remove)\n",
    "]\n",
    "\n",
    "# remove generators that retired prior to the earliest year\n",
    "complete_gens = complete_gens[\n",
    "    ~(\n",
    "        (complete_gens[\"operational_status_code\"] == \"RE\")\n",
    "        & (complete_gens[\"generator_retirement_date\"].dt.year < earliest_year)\n",
    "    )\n",
    "]\n",
    "\n",
    "# remove generators that have no operating or retirement date, and the last time they\n",
    "# reported data was prior to the current year. This is often proposed plants that are\n",
    "# assigned a new plant_id_eia once operational\n",
    "complete_gens = complete_gens[\n",
    "    ~(\n",
    "        (complete_gens[\"generator_operating_date\"].isna())\n",
    "        & (complete_gens[\"generator_retirement_date\"].isna())\n",
    "        & (complete_gens[\"report_date\"].dt.year < year)\n",
    "    )\n",
    "]"
   ]
  },
  {
   "cell_type": "code",
   "execution_count": null,
   "metadata": {},
   "outputs": [],
   "source": [
    "# load unit codes for proposed generators\n",
    "proposed_unit_ids = (\n",
    "    pd.read_excel(\n",
    "        downloads_folder(f\"eia860/eia860{year}/3_1_Generator_Y{year}.xlsx\"),\n",
    "        sheet_name=\"Proposed\",\n",
    "        header=1,\n",
    "        usecols=[\"Plant Code\", \"Generator ID\", \"Unit Code\"],\n",
    "    )\n",
    "    .dropna(subset=\"Unit Code\")\n",
    "    .rename(\n",
    "        columns={\n",
    "            \"Plant Code\": \"plant_id_eia\",\n",
    "            \"Generator ID\": \"generator_id\",\n",
    "            \"Unit Code\": \"unit_id_eia\",\n",
    "        }\n",
    "    )\n",
    ")\n",
    "# create a numeric version of the ID, starting at 1\n",
    "proposed_unit_ids[\"unit_id_eia_numeric\"] = proposed_unit_ids.groupby([\"plant_id_eia\"])[\n",
    "    \"unit_id_eia\"\n",
    "].transform(lambda x: pd.factorize(x)[0] + 1)\n",
    "\n",
    "# merge the proposed unit ids into the complete_gens\n",
    "complete_gens = complete_gens.merge(\n",
    "    proposed_unit_ids, how=\"left\", on=[\"plant_id_eia\", \"generator_id\"], validate=\"1:1\"\n",
    ")\n",
    "# update the unit_id_eia_numeric to be one higher than the highest existing unit_id_pudl\n",
    "# if unit_id_eia_numeric is NA, the updated value should also still be na\n",
    "complete_gens[\"unit_id_eia_numeric\"] = complete_gens[\n",
    "    \"unit_id_eia_numeric\"\n",
    "] + complete_gens.groupby(\"plant_id_eia\")[\"unit_id_pudl\"].transform(\"max\").fillna(0)\n",
    "\n",
    "# fill in missing unit_id_pudl with the updated values\n",
    "complete_gens[\"unit_id_pudl\"] = complete_gens[\"unit_id_pudl\"].fillna(\n",
    "    complete_gens[\"unit_id_eia_numeric\"]\n",
    ")\n",
    "\n",
    "complete_gens = complete_gens.drop(columns=[\"unit_id_eia\",\"unit_id_eia_numeric\"])"
   ]
  },
  {
   "cell_type": "code",
   "execution_count": null,
   "metadata": {},
   "outputs": [],
   "source": [
    "complete_generator_ids = complete_gens[[\"plant_id_eia\", \"generator_id\", \"unit_id_pudl\"]].drop_duplicates()"
   ]
  },
  {
   "cell_type": "code",
   "execution_count": null,
   "metadata": {},
   "outputs": [],
   "source": [
    "##################################################\n",
    "# update the subplant_crosswalk to ensure completeness\n",
    "# prepare the subplant crosswalk by adding a complete list of generators and adding\n",
    "# the unit_id_pudl column\n",
    "#complete_generator_ids = complete_gens[[\"plant_id_eia\", \"generator_id\", \"unit_id_pudl\"]].drop_duplicates()\n",
    "\n",
    "subplant_crosswalk_complete = crosswalk_with_subplant_ids.merge(\n",
    "    complete_gens,\n",
    "    how=\"outer\",\n",
    "    on=[\"plant_id_eia\", \"generator_id\"],\n",
    "    validate=\"m:1\",\n",
    ")\n",
    "# also add a complete list of cems emissions_unit_id_epa\n",
    "subplant_crosswalk_complete = subplant_crosswalk_complete.merge(\n",
    "    cems_ids[[\"plant_id_eia\", \"emissions_unit_id_epa\"]].drop_duplicates(),\n",
    "    how=\"outer\",\n",
    "    on=[\"plant_id_eia\", \"emissions_unit_id_epa\"],\n",
    "    validate=\"m:1\",\n",
    ")"
   ]
  },
  {
   "cell_type": "code",
   "execution_count": null,
   "metadata": {},
   "outputs": [],
   "source": [
    "#NOTE: plant_parts_eia does not contain all of the unit_id_pudl\n",
    "# we need to investigate another source (plant 613)\n",
    "\n",
    "# instead we will use denorm_generators_eia"
   ]
  },
  {
   "cell_type": "code",
   "execution_count": null,
   "metadata": {},
   "outputs": [],
   "source": [
    "#NOTE: For any generators that are proposed but not existing, we should always sort these last in case they are \n",
    "# never completed so that they do not mess up the order\n",
    "# eg plant 64811 UPT7"
   ]
  },
  {
   "cell_type": "code",
   "execution_count": null,
   "metadata": {},
   "outputs": [],
   "source": [
    "subplant_crosswalk_complete[\"sort_date\"] = subplant_crosswalk_complete[\n",
    "    \"generator_operating_date\"\n",
    "].fillna(subplant_crosswalk_complete[\"generator_retirement_date\"]).fillna(subplant_crosswalk_complete[\"original_planned_generator_operating_date\"])"
   ]
  },
  {
   "cell_type": "code",
   "execution_count": null,
   "metadata": {},
   "outputs": [],
   "source": [
    "subplant_crosswalk_complete[subplant_crosswalk_complete[\"sort_date\"].isna()]"
   ]
  },
  {
   "cell_type": "code",
   "execution_count": null,
   "metadata": {},
   "outputs": [],
   "source": [
    "subplant_crosswalk_complete[\n",
    "    (subplant_crosswalk_complete[\"generator_operating_date\"].isna())\n",
    "    & (subplant_crosswalk_complete[\"generator_retirement_date\"].isna())\n",
    "    & (subplant_crosswalk_complete[\"report_date\"].dt.year < year)\n",
    "    #& (subplant_crosswalk_complete[\"current_planned_generator_operating_date\"].dt.year >= year)\n",
    "]"
   ]
  },
  {
   "cell_type": "code",
   "execution_count": null,
   "metadata": {},
   "outputs": [],
   "source": [
    "subplant_crosswalk_complete[subplant_crosswalk_complete[\"sort_date\"].isna()].head(20)"
   ]
  },
  {
   "cell_type": "code",
   "execution_count": null,
   "metadata": {},
   "outputs": [],
   "source": [
    "# sort values to ensure static order\n",
    "subplant_crosswalk = subplant_crosswalk_complete.sort_values(\n",
    "    by=[\"plant_id_eia\", \"generator_operating_date\", \"generator_retirement_date\", \"generator_id\"], ascending=True\n",
    ").copy()"
   ]
  },
  {
   "cell_type": "code",
   "execution_count": null,
   "metadata": {},
   "outputs": [],
   "source": [
    "# load generator commercial operating dates\n",
    "gen_cods = load_data.load_pudl_table(\n",
    "    \"generators_entity_eia\",\n",
    "    columns=[\n",
    "        \"plant_id_eia\",\n",
    "        \"generator_id\",\n",
    "        \"generator_operating_date\",\n",
    "        \"original_planned_generator_operating_date\",\n",
    "    ],\n",
    ").sort_values(\n",
    "    by=[\n",
    "        \"plant_id_eia\",\n",
    "        \"generator_id\",\n",
    "    ]\n",
    ")\n",
    "\n",
    "# fill missing dates with the planned operating date (for proposed generators)\n",
    "gen_cods[\"generator_operating_date\"] = gen_cods[\n",
    "    \"generator_operating_date\"\n",
    "].fillna(gen_cods[\"original_planned_generator_operating_date\"])\n",
    "\n",
    "gen_cods = gen_cods.drop(columns=[\"original_planned_generator_operating_date\"])"
   ]
  },
  {
   "cell_type": "code",
   "execution_count": null,
   "metadata": {},
   "outputs": [],
   "source": [
    "# merge the dates into the dataframe\n",
    "subplant_crosswalk_complete = subplant_crosswalk_complete.merge(\n",
    "    gen_cods, how=\"left\", on=[\"plant_id_eia\", \"generator_id\"], validate=\"m:1\"\n",
    ")"
   ]
  },
  {
   "cell_type": "code",
   "execution_count": null,
   "metadata": {},
   "outputs": [],
   "source": [
    "subplant_crosswalk = subplant_crosswalk_complete.sort_values(by=[\"plant_id_eia\",\"generator_operating_date\",\"generator_id\"], ascending=True).copy()"
   ]
  },
  {
   "cell_type": "code",
   "execution_count": null,
   "metadata": {},
   "outputs": [],
   "source": [
    "subplant_crosswalk[subplant_crosswalk[\"plant_id_eia\"] == 422]"
   ]
  },
  {
   "cell_type": "code",
   "execution_count": null,
   "metadata": {},
   "outputs": [],
   "source": [
    "# NOTE: connect_ids() seems to be incorrectly grouping ids\n",
    "# NOTE: subset should probably be [plant_id_iea, id_to_update]"
   ]
  },
  {
   "cell_type": "code",
   "execution_count": null,
   "metadata": {},
   "outputs": [],
   "source": [
    "def connect_ids(df, id_to_update, connecting_id):\n",
    "    \"\"\"Corrects an id value if it is connected by an id value in another column.\n",
    "\n",
    "    if multiple subplant_id are connected by a single unit_id_pudl, this groups these\n",
    "    subplant_id together\n",
    "    if multiple unit_id_pudl are connected by a single subplant_id, this groups these\n",
    "    unit_id_pudl together\n",
    "\n",
    "    Args:\n",
    "        df: dataframe containing columns with id_to_update and connecting_id columns\n",
    "        subplant_unit_pairs\n",
    "    \"\"\"\n",
    "\n",
    "    # get a table with all unique subplant to unit pairs\n",
    "    subplant_unit_pairs = df[\n",
    "        [\"plant_id_eia\", \"subplant_id\", \"unit_id_pudl\"]\n",
    "    ].drop_duplicates()\n",
    "\n",
    "    # identify if any non-NA id_to_update are duplicated, indicated that it is\n",
    "    # associated with multiple connecting_id\n",
    "    duplicates = subplant_unit_pairs[\n",
    "        (subplant_unit_pairs.duplicated(subset=[\"plant_id_eia\", connecting_id], keep=False))\n",
    "        & (~subplant_unit_pairs[connecting_id].isna())\n",
    "    ].copy()\n",
    "\n",
    "    # if there are any duplicate units, indicating an incorrect id_to_update,\n",
    "    # fix the id_to_update\n",
    "    df[f\"{id_to_update}_connected\"] = df[id_to_update]\n",
    "    if len(duplicates) > 0:\n",
    "        # find the lowest number subplant id associated with each duplicated\n",
    "        # unit_id_pudl\n",
    "        duplicates.loc[:, f\"{id_to_update}_to_replace\"] = (\n",
    "            duplicates.groupby([\"plant_id_eia\", connecting_id])[id_to_update]\n",
    "            .min()\n",
    "            .iloc[0]\n",
    "        )\n",
    "        # merge this replacement subplant_id into the dataframe and use it to update\n",
    "        # the existing subplant id\n",
    "        df = df.merge(\n",
    "            duplicates,\n",
    "            how=\"left\",\n",
    "            on=[\"plant_id_eia\", id_to_update, connecting_id],\n",
    "            validate=\"m:1\",\n",
    "        )\n",
    "        df.update({f\"{id_to_update}_connected\": df[f\"{id_to_update}_to_replace\"]})\n",
    "        df = df.drop(columns=f\"{id_to_update}_to_replace\")\n",
    "    return df"
   ]
  },
  {
   "cell_type": "code",
   "execution_count": null,
   "metadata": {},
   "outputs": [],
   "source": [
    "##################################\n",
    "df = subplant_crosswalk.copy()\n",
    "id_to_update = \"subplant_id\"\n",
    "connecting_id = \"unit_id_pudl\"\n",
    "\n",
    "# get a table with all unique subplant to unit pairs\n",
    "subplant_unit_pairs = df[\n",
    "    [\"plant_id_eia\", \"subplant_id\", \"unit_id_pudl\"]\n",
    "].drop_duplicates()\n",
    "\n",
    "# identify if any non-NA id_to_update are duplicated, indicated that it is\n",
    "# associated with multiple connecting_id\n",
    "duplicates = subplant_unit_pairs[\n",
    "    (subplant_unit_pairs.duplicated(subset=[\"plant_id_eia\", connecting_id], keep=False))\n",
    "    & (~subplant_unit_pairs[connecting_id].isna())\n",
    "].copy()\n",
    "\n",
    "# if there are any duplicate units, indicating an incorrect id_to_update,\n",
    "# fix the id_to_update\n",
    "df[f\"{id_to_update}_connected\"] = df[id_to_update]\n",
    "if len(duplicates) > 0:\n",
    "    # find the lowest number subplant id associated with each duplicated\n",
    "    # unit_id_pudl\n",
    "    duplicates.loc[:, f\"{id_to_update}_to_replace\"] = (\n",
    "        duplicates.groupby([\"plant_id_eia\", connecting_id])[id_to_update]\n",
    "        .min()\n",
    "        .iloc[0]\n",
    "    )\n",
    "    # merge this replacement subplant_id into the dataframe and use it to update\n",
    "    # the existing subplant id\n",
    "    df = df.merge(\n",
    "        duplicates,\n",
    "        how=\"left\",\n",
    "        on=[\"plant_id_eia\", id_to_update, connecting_id],\n",
    "        validate=\"m:1\",\n",
    "    )\n",
    "    df.update({f\"{id_to_update}_connected\": df[f\"{id_to_update}_to_replace\"]})\n",
    "    #df = df.drop(columns=f\"{id_to_update}_to_replace\")"
   ]
  },
  {
   "cell_type": "code",
   "execution_count": null,
   "metadata": {},
   "outputs": [],
   "source": [
    "#####################################\n",
    "# update_subplant_ids()\n",
    "\n",
    "# Step 1: Create corrected versions of subplant_id and unit_id_pudl\n",
    "# if multiple unit_id_pudl are connected by a single subplant_id,\n",
    "# unit_id_pudl_connected groups these unit_id_pudl together\n",
    "subplant_crosswalk = connect_ids(\n",
    "    subplant_crosswalk, id_to_update=\"unit_id_pudl\", connecting_id=\"subplant_id\"\n",
    ")"
   ]
  },
  {
   "cell_type": "code",
   "execution_count": null,
   "metadata": {},
   "outputs": [],
   "source": [
    "subplant_crosswalk[subplant_crosswalk[\"plant_id_eia\"] == 422]"
   ]
  },
  {
   "cell_type": "code",
   "execution_count": null,
   "metadata": {},
   "outputs": [],
   "source": [
    "\n",
    "# if multiple subplant_id are connected by a single unit_id_pudl, group these\n",
    "# subplant_id together\n",
    "subplant_crosswalk = connect_ids(\n",
    "    subplant_crosswalk, id_to_update=\"subplant_id\", connecting_id=\"unit_id_pudl\"\n",
    ")"
   ]
  },
  {
   "cell_type": "code",
   "execution_count": null,
   "metadata": {},
   "outputs": [],
   "source": [
    "subplant_crosswalk[subplant_crosswalk[\"plant_id_eia\"] == 880110]"
   ]
  },
  {
   "cell_type": "code",
   "execution_count": null,
   "metadata": {},
   "outputs": [],
   "source": [
    "# NOTE: we have to add sort=False to groupby so that it keeps the values in index order\n",
    "# NOTE: ngroup() creates a unique number across the entire dataframe, not per group\n",
    "# pd.factorize() instead creates unique IDs within each group"
   ]
  },
  {
   "cell_type": "code",
   "execution_count": null,
   "metadata": {},
   "outputs": [],
   "source": [
    "# NOTE: use_na_sentinel=False creates the same generator ID for all Na values\n",
    "# so this will lead to incorrect subplant groupings. Eg plant 880110 has no generator_id\n",
    "# so all 4 units are assigned a generator_id of 0.\n",
    "# This needs to be fixed"
   ]
  },
  {
   "cell_type": "code",
   "execution_count": null,
   "metadata": {},
   "outputs": [],
   "source": [
    "# Step 2: Fill missing subplant_id\n",
    "# We will use unit_id_pudl to fill missing subplant ids, so first we need to fill\n",
    "# any missing unit_id_pudl. We do this by assigning a new unit_id_pudl to each\n",
    "# generator that isn't already grouped into a unit\n",
    "\n",
    "# since generat\n",
    "# create a numeric version of each generator_id\n",
    "# ngroup() creates a unique number for each element in the group\n",
    "# each unit\n",
    "subplant_crosswalk[\"numeric_generator_id\"] = subplant_crosswalk.groupby(\n",
    "    [\"plant_id_eia\"], dropna=False, sort=False\n",
    ")[\"generator_id\"].transform(lambda x: pd.factorize(x, use_na_sentinel=False)[0])"
   ]
  },
  {
   "cell_type": "code",
   "execution_count": null,
   "metadata": {},
   "outputs": [],
   "source": [
    "subplant_crosswalk"
   ]
  },
  {
   "cell_type": "code",
   "execution_count": null,
   "metadata": {},
   "outputs": [],
   "source": [
    "subplant_crosswalk[subplant_crosswalk[\"plant_id_eia\"] == 613]"
   ]
  },
  {
   "cell_type": "code",
   "execution_count": null,
   "metadata": {},
   "outputs": [],
   "source": [
    "# when filling in missing unit_id_pudl, we don't want these numeric_generator_id to\n",
    "# overlap existing unit_id to ensure this, we will add 1000 to each of these numeric\n",
    "# generator ids to ensure they are unique 1000 was chosen as an arbitrarily high\n",
    "# number, since the largest unit_id_pudl is ~ 10.\n",
    "subplant_crosswalk[\"numeric_generator_id\"] = (\n",
    "    subplant_crosswalk[\"numeric_generator_id\"] + 1000\n",
    ")\n",
    "# fill any missing unit_id_pudl with a number for each unique generator\n",
    "subplant_crosswalk[\"subplant_id_filled\"] = (\n",
    "    subplant_crosswalk[\"subplant_id_connected\"]\n",
    "    .fillna(subplant_crosswalk[\"unit_id_pudl_connected\"] + 100)\n",
    "    .fillna(subplant_crosswalk[\"numeric_generator_id\"])\n",
    ")\n"
   ]
  },
  {
   "cell_type": "code",
   "execution_count": null,
   "metadata": {},
   "outputs": [],
   "source": [
    "# NOTE: The pudl bga table does not contain data for proposed units like Barry A3ST\n",
    "# Even though this has a unit code that links it to other generators\n",
    "# this means that some proposed gens won't be properly linked"
   ]
  },
  {
   "cell_type": "code",
   "execution_count": null,
   "metadata": {},
   "outputs": [],
   "source": [
    "bga = load_data.load_pudl_table(\"boiler_generator_assn_eia860\")\n",
    "bga[(bga[\"plant_id_eia\"] == 3) & (bga[\"generator_id\"] == \"A3ST\")]"
   ]
  },
  {
   "cell_type": "code",
   "execution_count": null,
   "metadata": {},
   "outputs": [],
   "source": [
    "bga[(bga[\"plant_id_eia\"] == 613) & (bga[\"generator_id\"] == \"4GT1\")]"
   ]
  },
  {
   "cell_type": "code",
   "execution_count": null,
   "metadata": {},
   "outputs": [],
   "source": [
    "subplant_crosswalk[subplant_crosswalk[\"plant_id_eia\"] == 3]"
   ]
  },
  {
   "cell_type": "code",
   "execution_count": null,
   "metadata": {},
   "outputs": [],
   "source": [
    "# create a new unique subplant_id based on the connected subplant ids and the\n",
    "# filled unit_id\n",
    "subplant_crosswalk[\"new_subplant\"] = subplant_crosswalk.groupby(\n",
    "    [\"plant_id_eia\"],\n",
    "    dropna=False, sort=False\n",
    ")[\"subplant_id_filled\"].transform(lambda x: pd.factorize(x, use_na_sentinel=False)[0])"
   ]
  },
  {
   "cell_type": "code",
   "execution_count": null,
   "metadata": {},
   "outputs": [],
   "source": [
    "subplant_crosswalk"
   ]
  },
  {
   "cell_type": "code",
   "execution_count": null,
   "metadata": {},
   "outputs": [],
   "source": [
    "subplant_crosswalk[subplant_crosswalk[\"plant_id_eia\"] == 613]"
   ]
  },
  {
   "cell_type": "markdown",
   "metadata": {},
   "source": [
    "## Plant 54"
   ]
  },
  {
   "cell_type": "code",
   "execution_count": null,
   "metadata": {},
   "outputs": [],
   "source": [
    "test = load_data.load_pudl_table(\n",
    "    \"generators_entity_eia\"\n",
    ")\n",
    "\n",
    "test[test[\"plant_id_eia\"] == 54]"
   ]
  },
  {
   "cell_type": "code",
   "execution_count": null,
   "metadata": {},
   "outputs": [],
   "source": [
    "test = load_data.load_pudl_table(\n",
    "    \"generators_eia860\"\n",
    ")"
   ]
  },
  {
   "cell_type": "code",
   "execution_count": null,
   "metadata": {},
   "outputs": [],
   "source": [
    "test[(test[\"plant_id_eia\"] == 1) & (test[\"generator_id\"] == \"3\")]"
   ]
  }
 ],
 "metadata": {
  "kernelspec": {
   "display_name": "open_grid_emissions",
   "language": "python",
   "name": "python3"
  },
  "language_info": {
   "codemirror_mode": {
    "name": "ipython",
    "version": 3
   },
   "file_extension": ".py",
   "mimetype": "text/x-python",
   "name": "python",
   "nbconvert_exporter": "python",
   "pygments_lexer": "ipython3",
   "version": "3.11.4"
  },
  "orig_nbformat": 4,
  "vscode": {
   "interpreter": {
    "hash": "b893a8d8fbb165be288531947168b3b06bdb1508177327a21c265e0400df3100"
   }
  }
 },
 "nbformat": 4,
 "nbformat_minor": 2
}
