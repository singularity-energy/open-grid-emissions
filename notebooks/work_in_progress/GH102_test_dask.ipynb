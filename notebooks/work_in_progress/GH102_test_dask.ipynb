{
 "cells": [
  {
   "cell_type": "markdown",
   "metadata": {},
   "source": [
    "# Test part of data pipeline where we merge all the hourly data\n",
    "\n",
    "Breaks on full run: need to convert to dask df"
   ]
  },
  {
   "cell_type": "code",
   "execution_count": null,
   "metadata": {},
   "outputs": [],
   "source": [
    "import pandas as pd\n",
    "import numpy as np\n",
    "import dask.dataframe as dd\n",
    "from src.load_data import PATH_TO_LOCAL_REPO"
   ]
  },
  {
   "cell_type": "code",
   "execution_count": null,
   "metadata": {},
   "outputs": [],
   "source": [
    "# Start client so can see worker mem use\n",
    "from dask.distributed import Client\n",
    "\n",
    "client = Client(\n",
    "    n_workers=2, threads_per_worker=2, memory_limit=\"1GB\"\n",
    ")  # limit worker size to create issues even on --small dataset\n",
    "client"
   ]
  },
  {
   "cell_type": "code",
   "execution_count": null,
   "metadata": {},
   "outputs": [],
   "source": [
    "%reload_ext autoreload\n",
    "%autoreload 2\n",
    "\n",
    "# # Tell python where to look for modules.\n",
    "import sys\n",
    "\n",
    "sys.path.append(\"../../open-grid-emissions/\")\n",
    "\n",
    "# import local modules\n",
    "import src.data_cleaning as data_cleaning"
   ]
  },
  {
   "cell_type": "code",
   "execution_count": null,
   "metadata": {},
   "outputs": [],
   "source": [
    "o_shaped_eia_data = pd.read_csv(\n",
    "    PATH_TO_LOCAL_REPO + \"data/outputs/small/shaped_eia923_data_2020.csv\",\n",
    "    parse_dates=[\"datetime_utc\"],\n",
    ")\n",
    "o_partial_cems_scaled = pd.read_csv(\n",
    "    PATH_TO_LOCAL_REPO + \"data/outputs/small/partial_cems_scaled_2020.csv\",\n",
    "    parse_dates=[\"datetime_utc\"],\n",
    ")  # NOT FINAL VERSION\n",
    "o_cems = pd.read_csv(\n",
    "    PATH_TO_LOCAL_REPO + \"data/outputs/small/cems_2020.csv\",\n",
    "    parse_dates=[\"datetime_utc\"],\n",
    ")  # NOT FINAL VERSION\n",
    "\n",
    "# shaped_eia_data = pd.read_csv(PATH_TO_LOCAL_REPO + 'data/outputs/shaped_eia923_data_2020.csv')\n",
    "# partial_cems_scaled = pd.read_csv(PATH_TO_LOCAL_REPO + 'data/outputs/partial_cems_scaled_2020.csv') #NOT FINAL VERSION\n",
    "# cems = pd.read_csv(PATH_TO_LOCAL_REPO + 'data/outputs/cems_2020.csv') # NOT FINAL VERSION"
   ]
  },
  {
   "cell_type": "code",
   "execution_count": null,
   "metadata": {},
   "outputs": [],
   "source": [
    "# most of the stuff done to partial_cems_scaled and cems in data_pipeline is in plant_static_attributes:\n",
    "# plant_static_attributes = pd.read_csv(PATH_TO_LOCAL_REPO + 'data/results/plant_data/plant_static_attributes.csv')\n",
    "\n",
    "plant_static_attributes = pd.read_csv(\n",
    "    PATH_TO_LOCAL_REPO + \"data/results/small/plant_data/plant_static_attributes.csv\"\n",
    ")"
   ]
  },
  {
   "cell_type": "code",
   "execution_count": null,
   "metadata": {},
   "outputs": [],
   "source": [
    "o_partial_cems_scaled = o_partial_cems_scaled.merge(\n",
    "    plant_static_attributes, how=\"left\", on=\"plant_id_eia\"\n",
    ")\n",
    "o_cems = o_cems.merge(plant_static_attributes, how=\"left\", on=\"plant_id_eia\")"
   ]
  },
  {
   "cell_type": "code",
   "execution_count": null,
   "metadata": {},
   "outputs": [],
   "source": [
    "# Problem data_pipeline steps: on small data, these are fine with worker size 16GB (break with worker size 1GB)\n",
    "# On full dataset, these break with worker size 16GB (ie Gailin's laptop)\n",
    "\n",
    "combined_plant_data = data_cleaning.combine_subplant_data(\n",
    "    o_cems, o_partial_cems_scaled, o_shaped_eia_data\n",
    ")\n",
    "\n",
    "# 12. Aggregate CEMS data to BA-fuel and write power sector results\n",
    "ba_fuel_data = data_cleaning.aggregate_plant_data_to_ba_fuel(\n",
    "    combined_plant_data, plant_static_attributes\n",
    ")"
   ]
  },
  {
   "cell_type": "code",
   "execution_count": null,
   "metadata": {},
   "outputs": [],
   "source": [
    "# plants = combined_plant_data.groupby('plant_id_eia').sum().compute()"
   ]
  },
  {
   "cell_type": "markdown",
   "metadata": {},
   "source": [
    "# What is the minimum dataset for which this breaks? "
   ]
  },
  {
   "cell_type": "code",
   "execution_count": null,
   "metadata": {},
   "outputs": [],
   "source": [
    "o_shaped_eia_data.datetime_utc = pd.to_datetime(o_shaped_eia_data.datetime_utc)"
   ]
  },
  {
   "cell_type": "code",
   "execution_count": null,
   "metadata": {},
   "outputs": [],
   "source": [
    "# dt_shaped['datetime_utc'] = dt_shaped.datetime_utc.dt.to_datetime64()\n"
   ]
  },
  {
   "cell_type": "code",
   "execution_count": null,
   "metadata": {},
   "outputs": [],
   "source": [
    "dt_shaped = o_shaped_eia_data.set_index(\"datetime_utc\")\n",
    "shaped_eia_dask = dd.from_pandas(dt_shaped, npartitions=50)"
   ]
  },
  {
   "cell_type": "code",
   "execution_count": null,
   "metadata": {},
   "outputs": [],
   "source": [
    "shaped_eia_dask"
   ]
  },
  {
   "cell_type": "code",
   "execution_count": null,
   "metadata": {},
   "outputs": [],
   "source": [
    "smol = shaped_eia_dask[[\"net_generation_mwh\", \"fuel_consumed_mmbtu\"]]"
   ]
  },
  {
   "cell_type": "code",
   "execution_count": null,
   "metadata": {},
   "outputs": [],
   "source": [
    "# even this breaks. If can get this to work, maybe that solution works for rest?\n",
    "smol.groupby(\"datetime_utc\").sum().compute()"
   ]
  },
  {
   "cell_type": "code",
   "execution_count": null,
   "metadata": {},
   "outputs": [],
   "source": []
  },
  {
   "cell_type": "code",
   "execution_count": null,
   "metadata": {},
   "outputs": [],
   "source": []
  }
 ],
 "metadata": {
  "kernelspec": {
   "display_name": "Python 3.10.5 ('hourly_egrid')",
   "language": "python",
   "name": "python3"
  },
  "language_info": {
   "codemirror_mode": {
    "name": "ipython",
    "version": 3
   },
   "file_extension": ".py",
   "mimetype": "text/x-python",
   "name": "python",
   "nbconvert_exporter": "python",
   "pygments_lexer": "ipython3",
   "version": "3.10.5"
  },
  "orig_nbformat": 4,
  "vscode": {
   "interpreter": {
    "hash": "4103f3cd497821eca917ea303dbe10c590d787eb7d2dc3fd4e15dec0356e7931"
   }
  }
 },
 "nbformat": 4,
 "nbformat_minor": 2
}
