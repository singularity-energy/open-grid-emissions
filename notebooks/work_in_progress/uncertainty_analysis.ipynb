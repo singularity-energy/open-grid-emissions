{
 "cells": [
  {
   "cell_type": "markdown",
   "metadata": {},
   "source": [
    "# Uncertainty analysis \n",
    "\n",
    "* Compare results to results using a flat profile \n",
    "* Calculate maximum uncertainty bands: between CEMS hourly data and CEMS + total non-CEMS capacity \n",
    "\n",
    "gailin - 7/21/2022"
   ]
  },
  {
   "cell_type": "code",
   "execution_count": null,
   "metadata": {},
   "outputs": [],
   "source": [
    "# Calculate min and max possible at each hour\n",
    "import pandas as pd\n",
    "import plotly.express as px\n",
    "import plotly.graph_objects as go\n",
    "import os"
   ]
  },
  {
   "cell_type": "code",
   "execution_count": null,
   "metadata": {},
   "outputs": [],
   "source": [
    "%reload_ext autoreload\n",
    "%autoreload 2\n",
    "\n",
    "# Tell python where to look for modules.\n",
    "# Depending on how your jupyter handles working directories, this may not be needed.\n",
    "import sys\n",
    "\n",
    "sys.path.append(\"../../hourly-egrid/\")\n",
    "\n",
    "import src.load_data as load_data\n",
    "import src.column_checks as column_checks"
   ]
  },
  {
   "cell_type": "code",
   "execution_count": null,
   "metadata": {},
   "outputs": [],
   "source": [
    "year = 2020"
   ]
  },
  {
   "cell_type": "code",
   "execution_count": null,
   "metadata": {},
   "outputs": [],
   "source": [
    "ba = \"MISO\""
   ]
  },
  {
   "cell_type": "markdown",
   "metadata": {},
   "source": [
    "# Visualize flat vs. base result"
   ]
  },
  {
   "cell_type": "code",
   "execution_count": null,
   "metadata": {},
   "outputs": [],
   "source": [
    "flat = pd.read_csv(\n",
    "    f\"../data/results/flat/{year}/power_sector_data/hourly/us_units/{ba}.csv\",\n",
    "    parse_dates=[\"datetime_utc\"],\n",
    ")\n",
    "base = pd.read_csv(\n",
    "    f\"../data/results/{year}/power_sector_data/hourly/us_units/{ba}.csv\",\n",
    "    parse_dates=[\"datetime_utc\"],\n",
    ")"
   ]
  },
  {
   "cell_type": "code",
   "execution_count": null,
   "metadata": {},
   "outputs": [],
   "source": [
    "flat = flat[flat.fuel_category == \"total\"]\n",
    "base = base[base.fuel_category == \"total\"]"
   ]
  },
  {
   "cell_type": "code",
   "execution_count": null,
   "metadata": {},
   "outputs": [],
   "source": [
    "both = flat.merge(base, how=\"left\", on=\"datetime_utc\", suffixes=(\"_flat\", \"_base\"))"
   ]
  },
  {
   "cell_type": "code",
   "execution_count": null,
   "metadata": {},
   "outputs": [],
   "source": [
    "both.columns"
   ]
  },
  {
   "cell_type": "code",
   "execution_count": null,
   "metadata": {},
   "outputs": [],
   "source": [
    "fig = px.line(\n",
    "    both,\n",
    "    x=\"datetime_utc\",\n",
    "    y=[\n",
    "        \"generated_co2e_rate_lb_per_mwh_for_electricity_adjusted_flat\",\n",
    "        \"generated_co2e_rate_lb_per_mwh_for_electricity_adjusted_base\",\n",
    "    ],\n",
    "    title=f\"{ba}, carbon intensity using flat vs. base generation\",\n",
    ")\n",
    "fig.show()\n",
    "# newnames = {'generated_co2_rate_lb_per_mwh_adjusted': 'Our data', 'generated_co2_rate_lb_per_mwh_for_electricity_adjusted': 'Real-time data'}\n",
    "# fig.for_each_trace(lambda t: t.update(name = newnames[t.name]))"
   ]
  },
  {
   "cell_type": "markdown",
   "metadata": {},
   "source": [
    "# Draw min (CEMS-only) and max (CEMS + total non-CEMS capacity)"
   ]
  },
  {
   "cell_type": "code",
   "execution_count": null,
   "metadata": {},
   "outputs": [],
   "source": [
    "cems = pd.read_csv(\n",
    "    \"../data/results/2020/plant_data/hourly/us_units/individual_plant_data.csv\",\n",
    "    parse_dates=[\"datetime_utc\", \"report_date\"],\n",
    ")\n",
    "plant_meta = pd.read_csv(\"../data/results/2020/plant_data/plant_static_attributes.csv\")"
   ]
  },
  {
   "cell_type": "code",
   "execution_count": null,
   "metadata": {},
   "outputs": [],
   "source": [
    "cems = cems.merge(plant_meta, how=\"left\", on=\"plant_id_eia\")"
   ]
  },
  {
   "cell_type": "code",
   "execution_count": null,
   "metadata": {},
   "outputs": [],
   "source": [
    "pudl_reader = load_data.initialize_pudl_out(year)"
   ]
  },
  {
   "cell_type": "markdown",
   "metadata": {},
   "source": [
    "## Calculate maximum and minimum hourly emissions and generation \n",
    "\n",
    "### Generation \n",
    "\n",
    "* Min generation is CEMS generation \n",
    "* Max generation is CEMS generation + (plant capacity for EIA-only plants with positive 923 generation in this month)\n",
    "\n",
    "### Emissions \n",
    "\n",
    "* Min emissions is CEMS emissions alone \n",
    "* Max emissions is CEMS generation + sum[(plant capacity for each plant with positive 923 generation in this month)x(monthly rate for that plant)] \n",
    "\n",
    "Note that this assumes (and asserts) that there are no EIA-only plants with negative 923 generation. "
   ]
  },
  {
   "cell_type": "code",
   "execution_count": null,
   "metadata": {},
   "outputs": [],
   "source": [
    "caps = pudl_reader.gens_eia860()[\n",
    "    [\"plant_id_eia\", \"capacity_mw\", \"summer_capacity_mw\", \"winter_capacity_mw\"]\n",
    "].copy()\n",
    "caps[\"max_capacity\"] = caps[\n",
    "    [\"capacity_mw\", \"summer_capacity_mw\", \"winter_capacity_mw\"]\n",
    "].max(axis=1)\n",
    "caps = caps.groupby(\"plant_id_eia\").sum()[\"max_capacity\"]"
   ]
  },
  {
   "cell_type": "code",
   "execution_count": null,
   "metadata": {},
   "outputs": [],
   "source": [
    "monthly_rates = pd.read_csv(\n",
    "    \"../data/results/2020/plant_data/monthly/us_units/plant_data.csv\",\n",
    "    parse_dates=[\"report_date\"],\n",
    ")"
   ]
  },
  {
   "cell_type": "code",
   "execution_count": null,
   "metadata": {},
   "outputs": [],
   "source": [
    "monthly_rates = monthly_rates.merge(\n",
    "    caps, how=\"left\", left_on=\"plant_id_eia\", right_index=True\n",
    ")\n",
    "monthly_rates = monthly_rates.merge(plant_meta, how=\"left\", on=\"plant_id_eia\")"
   ]
  },
  {
   "cell_type": "code",
   "execution_count": null,
   "metadata": {},
   "outputs": [],
   "source": [
    "# Calculate per-plant, per-month maximum net generation and emissions:\n",
    "#   max net gen = capacity\n",
    "#   max emissions = capacity * monthly rate\n",
    "pols = [\"co2\", \"ch4\", \"n2o\", \"co2e\", \"nox\", \"so2\"]\n",
    "for pol in pols:\n",
    "    monthly_rates[f\"max_hourly_{pol}\"] = monthly_rates[\"max_capacity\"] * (\n",
    "        monthly_rates[f\"{pol}_mass_lb_for_electricity_adjusted\"]\n",
    "        / monthly_rates[\"net_generation_mwh\"]\n",
    "    )"
   ]
  },
  {
   "cell_type": "code",
   "execution_count": null,
   "metadata": {},
   "outputs": [],
   "source": [
    "# Filter for non-CEMS plants\n",
    "# Filter for plants with non-zero generation in this month: we know that hourly generation shouldn't include the capacity of these plants\n",
    "# Group by BA and month to get monthly max hourly emissions\n",
    "pol_cols = [f\"max_hourly_{p}\" for p in pols] + [\"max_capacity\"]\n",
    "filtered_monthly_rates = monthly_rates[\n",
    "    (monthly_rates.data_availability == \"eia_only\")\n",
    "    & (monthly_rates.net_generation_mwh > 0)\n",
    "]\n",
    "non_cems_maxes = (\n",
    "    filtered_monthly_rates.groupby([\"report_date\", \"ba_code\"])[pol_cols]\n",
    "    .sum()\n",
    "    .reset_index()\n",
    ")"
   ]
  },
  {
   "cell_type": "code",
   "execution_count": null,
   "metadata": {},
   "outputs": [],
   "source": [
    "# Identify plants with negative net generation.\n",
    "# These will be included in net generation minimum, emissions maximum\n",
    "negative_monthly = monthly_rates[\n",
    "    (monthly_rates.data_availability == \"eia_only\")\n",
    "    & (monthly_rates.net_generation_mwh < 0)\n",
    "]\n",
    "assert len(negative_monthly) == 0\n",
    "\n",
    "\n",
    "# ########### FAKE NEGATIVE PLANT FOR TESTING\n",
    "# negative_monthly = monthly_rates[(monthly_rates.plant_id_eia == 3)].copy()\n",
    "# negative_monthly.loc[:,\"net_generation_mwh\"] = -300"
   ]
  },
  {
   "cell_type": "code",
   "execution_count": null,
   "metadata": {},
   "outputs": [],
   "source": [
    "cols = [f\"{p}_mass_lb_for_electricity_adjusted\" for p in pols] + [\"net_generation_mwh\"]\n",
    "minimum_bound = cems.groupby([\"datetime_utc\", \"ba_code\"])[cols].sum().reset_index()"
   ]
  },
  {
   "cell_type": "code",
   "execution_count": null,
   "metadata": {},
   "outputs": [],
   "source": [
    "# Add report date back in (dropped during groupby)\n",
    "report_dates = (\n",
    "    cems.groupby([\"datetime_utc\", \"ba_code\"])[\"report_date\"].first().reset_index()\n",
    ")\n",
    "minimum_bound = minimum_bound.merge(\n",
    "    report_dates, how=\"left\", on=[\"datetime_utc\", \"ba_code\"]\n",
    ")"
   ]
  },
  {
   "cell_type": "code",
   "execution_count": null,
   "metadata": {},
   "outputs": [],
   "source": [
    "# Calculate maximum by merging hourly max emissions and generation into minimum, then adding\n",
    "maximum_bound = minimum_bound.merge(\n",
    "    non_cems_maxes, how=\"left\", on=[\"report_date\", \"ba_code\"]\n",
    ")"
   ]
  },
  {
   "cell_type": "code",
   "execution_count": null,
   "metadata": {},
   "outputs": [],
   "source": [
    "for pol in pols:\n",
    "    maximum_bound[f\"{pol}_mass_lb_for_electricity_adjusted\"] = (\n",
    "        maximum_bound[f\"{pol}_mass_lb_for_electricity_adjusted\"]\n",
    "        + maximum_bound[f\"max_hourly_{pol}\"]\n",
    "    )\n",
    "maximum_bound[\"net_generation_mwh\"] = (\n",
    "    maximum_bound[\"net_generation_mwh\"] + maximum_bound[\"max_capacity\"]\n",
    ")\n",
    "maximum_bound = maximum_bound[cols + [\"datetime_utc\", \"ba_code\"]]"
   ]
  },
  {
   "cell_type": "markdown",
   "metadata": {},
   "source": [
    "# Plot max and min bounds"
   ]
  },
  {
   "cell_type": "code",
   "execution_count": null,
   "metadata": {},
   "outputs": [],
   "source": [
    "ba = \"DEAA\""
   ]
  },
  {
   "cell_type": "code",
   "execution_count": null,
   "metadata": {},
   "outputs": [],
   "source": [
    "flat = pd.read_csv(\n",
    "    f\"../data/results/flat/2020/power_sector_data/hourly/us_units/{ba}.csv\",\n",
    "    parse_dates=[\"datetime_utc\"],\n",
    ")\n",
    "base = pd.read_csv(\n",
    "    f\"../data/results/2020/power_sector_data/hourly/us_units/{ba}.csv\",\n",
    "    parse_dates=[\"datetime_utc\"],\n",
    ")"
   ]
  },
  {
   "cell_type": "code",
   "execution_count": null,
   "metadata": {},
   "outputs": [],
   "source": [
    "# Only take totals\n",
    "flat = flat[flat.fuel_category == \"total\"]\n",
    "base = base[base.fuel_category == \"total\"]"
   ]
  },
  {
   "cell_type": "code",
   "execution_count": null,
   "metadata": {},
   "outputs": [],
   "source": [
    "this_max = maximum_bound[maximum_bound.ba_code == ba]\n",
    "this_min = minimum_bound[minimum_bound.ba_code == ba]\n",
    "\n",
    "fig = go.Figure()\n",
    "fig.add_trace(\n",
    "    go.Scatter(\n",
    "        x=this_min.datetime_utc,\n",
    "        y=this_min.net_generation_mwh,\n",
    "        fill=None,\n",
    "        mode=\"lines\",\n",
    "        line_color=\"indigo\",\n",
    "        showlegend=False,\n",
    "    )\n",
    ")\n",
    "fig.add_trace(\n",
    "    go.Scatter(\n",
    "        x=this_max.datetime_utc,\n",
    "        y=this_max.net_generation_mwh,\n",
    "        fill=\"tonexty\",  # fill area between trace0 and trace1\n",
    "        mode=\"lines\",\n",
    "        line_color=\"indigo\",\n",
    "        name=\"Min/max possible\",\n",
    "    )\n",
    ")\n",
    "\n",
    "fig.add_trace(\n",
    "    go.Scatter(\n",
    "        x=flat.datetime_utc,\n",
    "        y=flat.net_generation_mwh,\n",
    "        mode=\"lines\",\n",
    "        line_color=\"brown\",\n",
    "        name=\"Flat\",\n",
    "    )\n",
    ")\n",
    "\n",
    "fig.add_trace(\n",
    "    go.Scatter(\n",
    "        x=base.datetime_utc,\n",
    "        y=base.net_generation_mwh,\n",
    "        mode=\"lines\",\n",
    "        line_color=\"blue\",\n",
    "        name=\"Best guess\",\n",
    "    )\n",
    ")\n",
    "\n",
    "fig.update_layout(\n",
    "    title=f\"{ba} total net generation estimates\",\n",
    "    xaxis_title=\"Hour\",\n",
    "    yaxis_title=\"Net generation (MWh)\",\n",
    "    legend_title=\"Estimate type\",\n",
    ")\n",
    "\n",
    "fig.show()"
   ]
  },
  {
   "cell_type": "code",
   "execution_count": null,
   "metadata": {},
   "outputs": [],
   "source": [
    "this_max = maximum_bound[maximum_bound.ba_code == ba]\n",
    "this_min = minimum_bound[minimum_bound.ba_code == ba]\n",
    "\n",
    "fig = go.Figure()\n",
    "fig.add_trace(\n",
    "    go.Scatter(\n",
    "        x=this_min.datetime_utc,\n",
    "        y=this_min.co2_mass_lb_for_electricity_adjusted,\n",
    "        fill=None,\n",
    "        mode=\"lines\",\n",
    "        line_color=\"indigo\",\n",
    "        showlegend=False,\n",
    "    )\n",
    ")\n",
    "fig.add_trace(\n",
    "    go.Scatter(\n",
    "        x=this_max.datetime_utc,\n",
    "        y=this_max.co2_mass_lb_for_electricity_adjusted,\n",
    "        fill=\"tonexty\",  # fill area between trace0 and trace1\n",
    "        mode=\"lines\",\n",
    "        line_color=\"indigo\",\n",
    "        name=\"Min/max possible\",\n",
    "    )\n",
    ")\n",
    "\n",
    "fig.add_trace(\n",
    "    go.Scatter(\n",
    "        x=flat.datetime_utc,\n",
    "        y=flat.co2_mass_lb_for_electricity_adjusted,\n",
    "        mode=\"lines\",\n",
    "        line_color=\"brown\",\n",
    "        name=\"Flat\",\n",
    "    )\n",
    ")\n",
    "\n",
    "fig.add_trace(\n",
    "    go.Scatter(\n",
    "        x=base.datetime_utc,\n",
    "        y=base.co2_mass_lb_for_electricity_adjusted,\n",
    "        mode=\"lines\",\n",
    "        line_color=\"blue\",\n",
    "        name=\"Best guess\",\n",
    "    )\n",
    ")\n",
    "\n",
    "fig.update_layout(\n",
    "    title=f\"{ba} total carbon emissions\",\n",
    "    xaxis_title=\"Hour\",\n",
    "    yaxis_title=\"CO2 (lb)\",\n",
    "    legend_title=\"Estimate type\",\n",
    ")\n",
    "\n",
    "fig.show()"
   ]
  },
  {
   "cell_type": "markdown",
   "metadata": {},
   "source": [
    "# Where do our monthly generation / emissions exceed min/max bounds? "
   ]
  },
  {
   "cell_type": "code",
   "execution_count": null,
   "metadata": {},
   "outputs": [],
   "source": [
    "# \"net_generation_mwh\" or \"co2_mass_lb_for_electricity_adjusted\"\n",
    "col_to_check = \"net_generation_mwh\"\n",
    "\n",
    "issues = []\n",
    "for ba in os.listdir(\"../data/results/2020/power_sector_data/hourly/us_units/\"):\n",
    "    if \".DS_Store\" in ba:\n",
    "        continue\n",
    "    our_guess = pd.read_csv(\n",
    "        f\"../data/results/2020/power_sector_data/hourly/us_units/{ba}\",\n",
    "        parse_dates=[\"datetime_utc\"],\n",
    "    )\n",
    "    our_guess = our_guess[our_guess.fuel_category == \"total\"]\n",
    "    ba = ba.replace(\".csv\", \"\")\n",
    "    to_compare = our_guess[\n",
    "        [\"datetime_utc\", \"co2_mass_lb_for_electricity_adjusted\", \"net_generation_mwh\"]\n",
    "    ].merge(\n",
    "        minimum_bound.loc[\n",
    "            minimum_bound.ba_code == ba,\n",
    "            [\n",
    "                \"datetime_utc\",\n",
    "                \"co2_mass_lb_for_electricity_adjusted\",\n",
    "                \"net_generation_mwh\",\n",
    "            ],\n",
    "        ],\n",
    "        how=\"left\",\n",
    "        on=\"datetime_utc\",\n",
    "        suffixes=(\"\", \"_min\"),\n",
    "    )\n",
    "    to_compare = to_compare.merge(\n",
    "        maximum_bound.loc[\n",
    "            maximum_bound.ba_code == ba,\n",
    "            [\n",
    "                \"datetime_utc\",\n",
    "                \"co2_mass_lb_for_electricity_adjusted\",\n",
    "                \"net_generation_mwh\",\n",
    "            ],\n",
    "        ],\n",
    "        how=\"left\",\n",
    "        on=\"datetime_utc\",\n",
    "        suffixes=(\"_best\", \"_max\"),\n",
    "    )\n",
    "    to_compare[\"ok\"] = (\n",
    "        to_compare[f\"{col_to_check}_min\"] > to_compare[f\"{col_to_check}_best\"]\n",
    "    ) | (to_compare[f\"{col_to_check}_best\"] > to_compare[f\"{col_to_check}_max\"])\n",
    "    issues.append(\n",
    "        to_compare[[\"datetime_utc\", \"ok\"]]\n",
    "        .set_index(\"datetime_utc\")\n",
    "        .squeeze()\n",
    "        .rename(ba)\n",
    "    )"
   ]
  },
  {
   "cell_type": "code",
   "execution_count": null,
   "metadata": {},
   "outputs": [],
   "source": [
    "all_issues = pd.concat(issues, axis=1)"
   ]
  },
  {
   "cell_type": "code",
   "execution_count": null,
   "metadata": {},
   "outputs": [],
   "source": [
    "all_issues.sum(axis=0).sort_values(ascending=False).head(20)"
   ]
  },
  {
   "cell_type": "code",
   "execution_count": null,
   "metadata": {},
   "outputs": [],
   "source": [
    "monthly_rates[monthly_rates.ba_code == \"DEAA\"]"
   ]
  },
  {
   "cell_type": "code",
   "execution_count": null,
   "metadata": {},
   "outputs": [],
   "source": []
  }
 ],
 "metadata": {
  "kernelspec": {
   "display_name": "Python 3.10.4 ('open_grid_emissions')",
   "language": "python",
   "name": "python3"
  },
  "language_info": {
   "codemirror_mode": {
    "name": "ipython",
    "version": 3
   },
   "file_extension": ".py",
   "mimetype": "text/x-python",
   "name": "python",
   "nbconvert_exporter": "python",
   "pygments_lexer": "ipython3",
   "version": "3.10.4"
  },
  "orig_nbformat": 4,
  "vscode": {
   "interpreter": {
    "hash": "25e36f192ecdbe5da57d9bea009812e7b11ef0e0053366a845a2802aae1b29d2"
   }
  }
 },
 "nbformat": 4,
 "nbformat_minor": 2
}
