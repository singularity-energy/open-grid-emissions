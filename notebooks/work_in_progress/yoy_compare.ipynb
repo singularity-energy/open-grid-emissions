{
 "cells": [
  {
   "attachments": {},
   "cell_type": "markdown",
   "metadata": {},
   "source": [
    "## temp notebook for developing year over year comparison checks \n",
    "\n",
    "TODO: these same functions could easily be used to compare data after code changes as well. "
   ]
  },
  {
   "cell_type": "code",
   "execution_count": null,
   "metadata": {},
   "outputs": [],
   "source": [
    "import numpy as np\n",
    "import pandas as pd\n",
    "import plotly.express as px\n",
    "import os\n"
   ]
  },
  {
   "cell_type": "code",
   "execution_count": null,
   "metadata": {},
   "outputs": [],
   "source": [
    "%reload_ext autoreload\n",
    "%autoreload 2\n",
    "\n",
    "import sys\n",
    "sys.path.append(\"../../src\")\n",
    "\n",
    "from column_checks import get_dtypes\n",
    "from filepaths import results_folder"
   ]
  },
  {
   "attachments": {},
   "cell_type": "markdown",
   "metadata": {},
   "source": [
    "# Annual data\n",
    "\n",
    "This is the highest priority for triage and the easiest "
   ]
  },
  {
   "cell_type": "code",
   "execution_count": null,
   "metadata": {},
   "outputs": [],
   "source": [
    "y1 = 2020\n",
    "y2 = 2021\n",
    "dat_y1 = pd.read_csv(f\"../../data/results/{y1}/plant_data/annual/us_units/plant_data.csv\")\n",
    "dat_y2 = pd.read_csv(f\"../../data/results/{y2}/plant_data/annual/us_units/plant_data.csv\")\n"
   ]
  },
  {
   "cell_type": "code",
   "execution_count": null,
   "metadata": {},
   "outputs": [],
   "source": [
    "file_type_to_index_cols = {\n",
    "    \"plant_data\":[\"plant_id_eia\"]\n",
    "}"
   ]
  },
  {
   "cell_type": "code",
   "execution_count": null,
   "metadata": {},
   "outputs": [],
   "source": [
    "dat_y1 = dat_y1.set_index(file_type_to_index_cols['plant_data'])\n",
    "dat_y2 = dat_y2.set_index(file_type_to_index_cols['plant_data'])"
   ]
  },
  {
   "cell_type": "code",
   "execution_count": null,
   "metadata": {},
   "outputs": [],
   "source": [
    "emission_cols = [c for c in dat_y1.columns if \"mass_lb\" in c]"
   ]
  },
  {
   "cell_type": "code",
   "execution_count": null,
   "metadata": {},
   "outputs": [],
   "source": [
    "in_both = dat_y1.index.intersection(dat_y2.index)\n",
    "dat_y1 = dat_y1.loc[in_both]\n",
    "dat_y2 = dat_y2.loc[in_both]\n"
   ]
  },
  {
   "cell_type": "code",
   "execution_count": null,
   "metadata": {},
   "outputs": [],
   "source": [
    "non_zero_gen = dat_y1[(dat_y1.net_generation_mwh > 0)].index.intersection(dat_y2[(dat_y2.net_generation_mwh > 0)].index)\n",
    "print(len(non_zero_gen))\n",
    "dat_y1 = dat_y1.loc[non_zero_gen]\n",
    "dat_y2 = dat_y2.loc[non_zero_gen]"
   ]
  },
  {
   "cell_type": "code",
   "execution_count": null,
   "metadata": {},
   "outputs": [],
   "source": [
    "rates_y1 = dat_y1[emission_cols].div(dat_y1.net_generation_mwh, axis=0)\n",
    "rates_y1.columns = [c+\"_per_mwh\" for c in rates_y1.columns]\n",
    "\n",
    "rates_y2 = dat_y2[emission_cols].div(dat_y2.net_generation_mwh, axis=0)\n",
    "rates_y2.columns = [c+\"_per_mwh\" for c in rates_y2.columns]"
   ]
  },
  {
   "cell_type": "code",
   "execution_count": null,
   "metadata": {},
   "outputs": [],
   "source": [
    "# Drop emission rate zero plants. \n",
    "# TODO: ID rates zero in one year and not in other\n",
    "non_zero_rates = rates_y1.loc[(rates_y1 != 0).all(axis=1)].index.intersection(rates_y2.loc[(rates_y2 != 0).all(axis=1)].index)\n",
    "rates_y1 = rates_y1.loc[non_zero_rates]\n",
    "rates_y2 = rates_y2.loc[non_zero_rates]"
   ]
  },
  {
   "cell_type": "code",
   "execution_count": null,
   "metadata": {},
   "outputs": [],
   "source": [
    "frac_diff = abs(rates_y2 - rates_y1)/rates_y1\n"
   ]
  },
  {
   "cell_type": "code",
   "execution_count": null,
   "metadata": {},
   "outputs": [],
   "source": [
    "px.line(frac_diff.quantile(np.arange(0, 1, .01)))"
   ]
  },
  {
   "cell_type": "code",
   "execution_count": null,
   "metadata": {},
   "outputs": [],
   "source": [
    "# Top 5% of differences: \n",
    "frac_diff.quantile(.95) * 100"
   ]
  },
  {
   "cell_type": "code",
   "execution_count": null,
   "metadata": {},
   "outputs": [],
   "source": [
    "# What fraction of differences are above 10%? \n",
    "((frac_diff > 1).sum(axis=0)/len(frac_diff)).sort_values(ascending=False) * 100"
   ]
  },
  {
   "attachments": {},
   "cell_type": "markdown",
   "metadata": {},
   "source": [
    "# BA-level, annual \n",
    "\n",
    "(to come: BA level, monthly)"
   ]
  },
  {
   "cell_type": "code",
   "execution_count": null,
   "metadata": {},
   "outputs": [],
   "source": [
    "y1 = 2019\n",
    "y2 = 2020\n",
    "\n",
    "path1 = results_folder(f\"{y1}/power_sector_data/annual/us_units/\")\n",
    "path2 = results_folder(f\"{y2}/power_sector_data/annual/us_units/\")"
   ]
  },
  {
   "cell_type": "code",
   "execution_count": null,
   "metadata": {},
   "outputs": [],
   "source": [
    "ba_list = {d.replace(\".csv\",\"\") for d in os.listdir(path1)}\n",
    "ba_list2 = {d.replace(\".csv\",\"\") for d in os.listdir(path2)}\n",
    "bas_to_check = set.intersection(ba_list, ba_list2)\n",
    "bas_cant_check = set.difference(set.union(ba_list2, ba_list), bas_to_check)"
   ]
  },
  {
   "cell_type": "code",
   "execution_count": null,
   "metadata": {},
   "outputs": [],
   "source": [
    "# Warning: can't check these BAs since they only exist in one or the other year.\n",
    "bas_cant_check"
   ]
  },
  {
   "cell_type": "code",
   "execution_count": null,
   "metadata": {},
   "outputs": [],
   "source": [
    "all_ba_changes = [] \n",
    "all_bad_rates = []\n",
    "for ba in bas_to_check: \n",
    "    ba_y1 = pd.read_csv(f\"{path1}/{ba}.csv\", dtype=get_dtypes(), index_col=\"fuel_category\")\n",
    "    ba_y2 = pd.read_csv(f\"{path2}/{ba}.csv\", dtype=get_dtypes(), index_col=\"fuel_category\")\n",
    "        # Identify any differences in fuel types between years\n",
    "    any_year_fuels = ba_y1.index.union(ba_y2.index)\n",
    "    both_year_fuels = ba_y1.index.intersection(ba_y2.index)\n",
    "    one_year_fuels = any_year_fuels.difference(both_year_fuels)\n",
    "    if len(one_year_fuels) > 0: \n",
    "        print(f\"{ba} Warning: fuels {one_year_fuels.values} in only one of comparison years\")\n",
    "\n",
    "    # Is this BA all zero? \n",
    "    # TODO: separate check by year, expand to check for all zero/nan (eg, RIMS 2020)\n",
    "    if (((ba_y1 == 0) | ba_y1.isna()).all().all()):\n",
    "        print(f\"Warning: ba {ba} {y1} is all zero/NaN.\")\n",
    "        \n",
    "    if (((ba_y2 == 0) | ba_y2.isna()).all().all()):\n",
    "        print(f\"Warning: ba {ba} {y2} is all zero/NaN.\")\n",
    "    \n",
    "    rate_cols = [c for c in ba_y1.columns if \"rate\" in c]\n",
    "    diff = (ba_y1[rate_cols] - ba_y2[rate_cols])\n",
    "    frac_change = diff/ba_y1[rate_cols]\n",
    "    \n",
    "    # Renewables are often zero in both years -- don't want NaN here \n",
    "    frac_change[diff == 0] = 0 \n",
    "\n",
    "    # But if there was zero emissions in y1 and non-zero in y2, we want inf not NaN\n",
    "    if frac_change.isna().any().any(): \n",
    "        print(f\"{ba} Warning! some non-zero in y2 but zero in y1\")\n",
    "        frac_change[frac_change.isna()] = np.inf\n",
    "\n",
    "    ba_changes = frac_change.melt(ignore_index=False, value_name=\"frac_change\").reset_index()\n",
    "    ba_changes[\"BA\"] = ba\n",
    "    ba_changes = ba_changes.set_index([\"BA\",\"fuel_category\",\"variable\"])\n",
    "\n",
    "    diff_size = diff.melt(ignore_index=False, value_name=\"diff\").reset_index()\n",
    "    diff_size[\"BA\"] = ba\n",
    "    diff_size = diff_size.set_index([\"BA\",\"fuel_category\",\"variable\"])\n",
    "\n",
    "    ba_changes[\"difference\"] = diff_size[\"diff\"]\n",
    "    \n",
    "    # Find and exclude differences from rates which are NaN in one or other year \n",
    "    bad_rates = diff.isna().melt(ignore_index=False, value_name=\"is_na\").reset_index()\n",
    "    bad_rates[\"BA\"] = ba\n",
    "    bad_rates = bad_rates.set_index([\"BA\",\"fuel_category\",\"variable\"])\n",
    "\n",
    "    all_bad_rates.append(bad_rates[bad_rates.is_na])\n",
    "    ba_changes = ba_changes.loc[bad_rates[bad_rates.is_na == False].index]\n",
    "    \n",
    "    all_ba_changes.append(ba_changes)\n"
   ]
  },
  {
   "cell_type": "code",
   "execution_count": null,
   "metadata": {},
   "outputs": [],
   "source": [
    "# Sort by size of change (not relative)\n",
    "to_export = pd.concat(all_ba_changes)\n",
    "to_export[\"abs_diff\"] = to_export.difference.abs()\n",
    "to_export = to_export.sort_values(\"abs_diff\", ascending=False)\n",
    "to_export = to_export.drop(columns=\"abs_diff\")"
   ]
  },
  {
   "cell_type": "code",
   "execution_count": null,
   "metadata": {},
   "outputs": [],
   "source": [
    "os.makedirs(results_folder(\"validation\"), exist_ok=True)\n",
    "to_export.to_csv(f\"{results_folder('validation')}/yoy_compare_{y1}_{y2}\")"
   ]
  },
  {
   "cell_type": "code",
   "execution_count": null,
   "metadata": {},
   "outputs": [],
   "source": []
  }
 ],
 "metadata": {
  "kernelspec": {
   "display_name": "open_grid_emissions",
   "language": "python",
   "name": "python3"
  },
  "language_info": {
   "codemirror_mode": {
    "name": "ipython",
    "version": 3
   },
   "file_extension": ".py",
   "mimetype": "text/x-python",
   "name": "python",
   "nbconvert_exporter": "python",
   "pygments_lexer": "ipython3",
   "version": "3.10.6"
  },
  "orig_nbformat": 4,
  "vscode": {
   "interpreter": {
    "hash": "3035f9e4886fbbd36e5472dea39a16278dd2b875736b64746b1db5f69a1d6c82"
   }
  }
 },
 "nbformat": 4,
 "nbformat_minor": 2
}
