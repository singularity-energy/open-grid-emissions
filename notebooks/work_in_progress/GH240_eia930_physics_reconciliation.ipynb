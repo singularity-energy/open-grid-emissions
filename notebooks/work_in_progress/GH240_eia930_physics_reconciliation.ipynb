{
 "cells": [
  {
   "cell_type": "markdown",
   "metadata": {},
   "source": [
    "This notebook is meant to start exploring issue 240 (https://github.com/singularity-energy/open-grid-emissions/issues/240).\n",
    "\n",
    "We want to investigate how much the physics-based reconciliation is modifying the original net generation profiles, especially in ways that seem inconsistent with the original data (e.g. modifying a flat nuclear profile to be load following).  \n",
    "\n",
    "To do this, we are loading the raw EIA-930 data and the reconciled data and comparing them side by side.  \n",
    "\n",
    "We first calculate the correlation between each timeseries in each month to identify particularly eggregious examples where the shape of the modified profile does not resemble the shape of the raw profile (e.g. correlation near zero or negative)\n",
    "\n",
    "We then visualize these individual timeseries to see what's going on. In some cases, these low correlations are resulting from spikes being cleaned, but in others, the reconciliation process is just modifying the profile in an unacceptable way.\n",
    "\n",
    "The next step is to think about if we can adjust the reconciliation parameters to prevent this issue."
   ]
  },
  {
   "cell_type": "code",
   "execution_count": null,
   "metadata": {},
   "outputs": [],
   "source": [
    "# import packages\n",
    "import pandas as pd\n",
    "import os\n",
    "import plotly.express as px\n",
    "\n",
    "%reload_ext autoreload\n",
    "%autoreload 2\n",
    "\n",
    "# # Tell python where to look for modules.\n",
    "import sys\n",
    "sys.path.append('../../../open-grid-emissions/src/')\n",
    "\n",
    "import download_data\n",
    "import load_data\n",
    "from column_checks import get_dtypes\n",
    "from filepaths import *\n",
    "import impute_hourly_profiles\n",
    "import data_cleaning\n",
    "import output_data\n",
    "import emissions\n",
    "import validation\n",
    "import gross_to_net_generation\n",
    "import eia930\n",
    "\n",
    "year = 2020\n",
    "path_prefix = f\"{year}/\""
   ]
  },
  {
   "cell_type": "code",
   "execution_count": null,
   "metadata": {},
   "outputs": [],
   "source": [
    "# load the raw and cleaned eia930 data to compare\n",
    "raw_930_file = outputs_folder(f\"{path_prefix}/eia930/eia930_raw.csv\")\n",
    "clean_930_file = outputs_folder(f\"{path_prefix}/eia930/eia930_elec.csv\")\n",
    "\n",
    "eia930_raw = eia930.load_chalendar_for_pipeline(raw_930_file, year=year)\n",
    "eia930_data = eia930.load_chalendar_for_pipeline(clean_930_file, year=year)\n",
    "\n",
    "eia930_merged = eia930_raw.merge(eia930_data, how=\"left\", on=[\"ba_code\",\"fuel_category_eia930\",\"datetime_utc\",\"datetime_local\",\"report_date\"], suffixes=(\"_raw\",\"_cleaned\"))"
   ]
  },
  {
   "cell_type": "code",
   "execution_count": null,
   "metadata": {},
   "outputs": [],
   "source": [
    "# calculate how well correlated the raw and cleaned data is\n",
    "correlations = eia930_merged.groupby([\"ba_code\",\"fuel_category_eia930\",\"report_date\"], dropna=False)[[\"net_generation_mwh_930_raw\",\"net_generation_mwh_930_cleaned\"]].corr().reset_index()\n",
    "correlations = correlations[correlations[\"level_3\"] == \"net_generation_mwh_930_raw\"]\n",
    "correlations = correlations.drop(columns=[\"level_3\",\"net_generation_mwh_930_raw\"])\n",
    "correlations = correlations.rename(columns={\"net_generation_mwh_930_cleaned\":\"correlation_with_raw\"})\n",
    "correlations = correlations[correlations[\"report_date\"].dt.year == 2020]\n",
    "correlations"
   ]
  },
  {
   "cell_type": "code",
   "execution_count": null,
   "metadata": {},
   "outputs": [],
   "source": [
    "ba = \"PJM\"\n",
    "fuel = \"coal\"\n",
    "\n",
    "correlations[(correlations[\"ba_code\"] == ba) & (correlations[\"fuel_category_eia930\"] == fuel)]"
   ]
  },
  {
   "cell_type": "code",
   "execution_count": null,
   "metadata": {},
   "outputs": [],
   "source": [
    "correlations[correlations[\"correlation_with_raw\"] < 0.1]"
   ]
  },
  {
   "cell_type": "code",
   "execution_count": null,
   "metadata": {},
   "outputs": [],
   "source": [
    "ba = \"BPAT\"\n",
    "fuel = \"nuclear\"\n",
    "\n",
    "data_to_plot = eia930_merged[(eia930_merged[\"ba_code\"] == ba) & (eia930_merged[\"fuel_category_eia930\"] == fuel)]\n",
    "\n",
    "px.line(data_to_plot, x=\"datetime_local\", y=[\"net_generation_mwh_930_raw\",\"net_generation_mwh_930_cleaned\"])"
   ]
  }
 ],
 "metadata": {
  "kernelspec": {
   "display_name": "Python 3.10.4 ('open_grid_emissions')",
   "language": "python",
   "name": "python3"
  },
  "language_info": {
   "codemirror_mode": {
    "name": "ipython",
    "version": 3
   },
   "file_extension": ".py",
   "mimetype": "text/x-python",
   "name": "python",
   "nbconvert_exporter": "python",
   "pygments_lexer": "ipython3",
   "version": "3.10.4"
  },
  "orig_nbformat": 4,
  "vscode": {
   "interpreter": {
    "hash": "25e36f192ecdbe5da57d9bea009812e7b11ef0e0053366a845a2802aae1b29d2"
   }
  }
 },
 "nbformat": 4,
 "nbformat_minor": 2
}
