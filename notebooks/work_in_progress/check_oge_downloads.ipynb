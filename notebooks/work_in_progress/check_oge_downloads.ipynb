{
 "cells": [
  {
   "cell_type": "code",
   "execution_count": null,
   "id": "d6d61f2e",
   "metadata": {},
   "outputs": [],
   "source": [
    "import os\n",
    "import sys\n",
    "import pandas as pd\n",
    "import requests\n",
    "import glob\n",
    "import numpy as np"
   ]
  },
  {
   "cell_type": "code",
   "execution_count": null,
   "id": "9609ecc7",
   "metadata": {},
   "outputs": [],
   "source": [
    "sys.path.append(\"../../src\")\n",
    "from filepaths import downloads_folder\n",
    "from download_data import download_helper"
   ]
  },
  {
   "cell_type": "code",
   "execution_count": null,
   "id": "d2b874f7",
   "metadata": {},
   "outputs": [],
   "source": [
    "DOWNLOAD_BASE_URL = 'https://open-grid-emissions.s3.amazonaws.com'\n",
    "YEARS = [2021, 2020, 2019]\n",
    "ZIP_FILE_PATHS = [\n",
    "    '{}_power_sector_data_hourly_{}_units.zip',\n",
    "    '{}_carbon_accounting_hourly_{}_units.zip'\n",
    "]"
   ]
  },
  {
   "cell_type": "code",
   "execution_count": null,
   "id": "db2395aa",
   "metadata": {},
   "outputs": [],
   "source": [
    "# def download_helper(url: str, download_path: str, output_path: str, chunk_size=1024, required_unzip=True):\n",
    "#     r = requests.get(url, stream=True)\n",
    "#     with open(download_path, \"wb\") as fd:\n",
    "#         for chunk in r.iter_content(chunk_size=chunk_size):\n",
    "#             fd.write(chunk)\n",
    "#     # Optionally unzip the downloaded file.\n",
    "#     if requires_unzip:\n",
    "#         if output_path is None:\n",
    "#             raise ValueError(\"Unzipping requires an output_path destination.\")\n",
    "#         with zipfile.ZipFile(download_path, \"r\") as zip_to_unzip:\n",
    "#             zip_to_unzip.extractall(output_path)"
   ]
  },
  {
   "cell_type": "code",
   "execution_count": null,
   "id": "84d929b1",
   "metadata": {},
   "outputs": [],
   "source": [
    "# Download all of the public links.\n",
    "\n",
    "os.makedirs(downloads_folder('oge'), exist_ok=True)\n",
    "\n",
    "for year in YEARS:\n",
    "    for zip_path in ZIP_FILE_PATHS:\n",
    "        for units in ('us', 'metric'):\n",
    "            zipped_filename = zip_path.format(year, units)\n",
    "            unzipped_filename = zipped_filename.replace('.zip', '')\n",
    "            url = f'{DOWNLOAD_BASE_URL}/{zipped_filename}'\n",
    "            print(url)\n",
    "            download_helper(\n",
    "                url,\n",
    "                downloads_folder(f'oge/{zipped_filename}'),\n",
    "                output_path=downloads_folder(f'oge/{unzipped_filename}'),\n",
    "                requires_unzip=True\n",
    "            )"
   ]
  },
  {
   "cell_type": "code",
   "execution_count": null,
   "id": "df65abeb",
   "metadata": {
    "scrolled": true
   },
   "outputs": [
    {
     "name": "stdout",
     "output_type": "stream",
     "text": [
      "FAIL: File is empty\n",
      "\n",
      "/Users/milo.knowles/singularity/open-grid-emissions/data/downloads/oge/2020_power_sector_data_hourly_metric_units/SOCO.csv\n",
      "FAIL: File is empty\n",
      "\n",
      "/Users/milo.knowles/singularity/open-grid-emissions/data/downloads/oge/2020_power_sector_data_hourly_metric_units/WWA.csv\n",
      "FAIL: Line 4204 is too long (2998940 chars). This is probably a corrupted line.\n",
      "\n",
      "/Users/milo.knowles/singularity/open-grid-emissions/data/downloads/oge/2020_power_sector_data_hourly_metric_units/YAD.csv\n",
      "FAIL: File is empty\n",
      "\n",
      "/Users/milo.knowles/singularity/open-grid-emissions/data/downloads/oge/2020_power_sector_data_hourly_metric_units/SEC.csv\n",
      "FAIL: File is empty\n",
      "\n",
      "/Users/milo.knowles/singularity/open-grid-emissions/data/downloads/oge/2020_power_sector_data_hourly_metric_units/TIDC.csv\n",
      "FAIL: File is empty\n",
      "\n",
      "/Users/milo.knowles/singularity/open-grid-emissions/data/downloads/oge/2020_power_sector_data_hourly_metric_units/SCEG.csv\n",
      "FAIL: File is empty\n",
      "\n",
      "/Users/milo.knowles/singularity/open-grid-emissions/data/downloads/oge/2020_power_sector_data_hourly_metric_units/SEPA.csv\n",
      "FAIL: File is empty\n",
      "\n",
      "/Users/milo.knowles/singularity/open-grid-emissions/data/downloads/oge/2020_power_sector_data_hourly_metric_units/PNM.csv\n",
      "FAIL: Line 1158 is too long (5636539 chars). This is probably a corrupted line.\n",
      "\n",
      "/Users/milo.knowles/singularity/open-grid-emissions/data/downloads/oge/2020_power_sector_data_hourly_metric_units/WAUW.csv\n",
      "FAIL: File is empty\n",
      "\n",
      "/Users/milo.knowles/singularity/open-grid-emissions/data/downloads/oge/2020_power_sector_data_hourly_metric_units/WACM.csv\n",
      "FAIL: File is empty\n",
      "\n",
      "/Users/milo.knowles/singularity/open-grid-emissions/data/downloads/oge/2020_power_sector_data_hourly_metric_units/WALC.csv\n",
      "FAIL: File is empty\n",
      "\n",
      "/Users/milo.knowles/singularity/open-grid-emissions/data/downloads/oge/2020_power_sector_data_hourly_metric_units/TEPC.csv\n",
      "FAIL: File is empty\n",
      "\n",
      "/Users/milo.knowles/singularity/open-grid-emissions/data/downloads/oge/2020_power_sector_data_hourly_metric_units/RIMS.csv\n"
     ]
    }
   ],
   "source": [
    "# Make sure that all CSV files are readable and not empty.\n",
    "\n",
    "csv_files = glob.glob(downloads_folder('oge/*/*.csv'))\n",
    "# csv_files = ['/Users/milo.knowles/singularity/open-grid-emissions/data/downloads/oge/2021_power_sector_data_hourly_us_units/SRP.csv']\n",
    "\n",
    "for csv_file in csv_files:\n",
    "    try:\n",
    "        df = pd.read_csv(csv_file)\n",
    "\n",
    "        if len(df) == 0:\n",
    "            print('FAIL: File is empty')\n",
    "            raise ValueError()\n",
    "        \n",
    "        with open(csv_file, 'r') as f:\n",
    "            line_lengths = [len(l) for l in f]\n",
    "            median_line_length = np.median(line_lengths)\n",
    "            \n",
    "            for i, ll in enumerate(line_lengths):\n",
    "                if ll > (2*median_line_length) and i > 0:\n",
    "                    print('FAIL: Line {} is too long ({} chars). This is probably a corrupted line.'.format(i, ll))\n",
    "                    raise ValueError()\n",
    "\n",
    "    except BaseException as e:\n",
    "        print(e)\n",
    "        print(csv_file)\n",
    "\n",
    "print('Done')\n"
   ]
  },
  {
   "cell_type": "code",
   "execution_count": null,
   "id": "184c85e3",
   "metadata": {},
   "outputs": [],
   "source": []
  }
 ],
 "metadata": {
  "kernelspec": {
   "display_name": "Python 3 (ipykernel)",
   "language": "python",
   "name": "python3"
  },
  "language_info": {
   "codemirror_mode": {
    "name": "ipython",
    "version": 3
   },
   "file_extension": ".py",
   "mimetype": "text/x-python",
   "name": "python",
   "nbconvert_exporter": "python",
   "pygments_lexer": "ipython3",
   "version": "3.10.5"
  }
 },
 "nbformat": 4,
 "nbformat_minor": 5
}
