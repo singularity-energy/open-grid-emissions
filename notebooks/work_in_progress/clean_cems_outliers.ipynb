{
 "cells": [
  {
   "cell_type": "markdown",
   "metadata": {},
   "source": [
    "# Clean cems\n",
    "\n",
    "Temporary notebook for cleaning cems using 860 net capacity \n",
    "\n",
    "Notes: \n",
    "* CEMS data is per smokestack/EPA unit: https://catalystcoop-pudl.readthedocs.io/en/latest/data_sources/epacems.html, while 860 capacity is per generator. So need to use crosswalk to sum generators to EPA units before checking against CEMS \n",
    "* Some CEMS spikes will be short enough to interpolate, while some won't. What's the cutoff? And when we don't interpolate, do we want to trash the whole month and use the residual, or just fill in the residual during missing times? "
   ]
  },
  {
   "cell_type": "code",
   "execution_count": null,
   "metadata": {},
   "outputs": [],
   "source": [
    "import pandas as pd\n",
    "import numpy as np\n",
    "import plotly.express as px"
   ]
  },
  {
   "cell_type": "code",
   "execution_count": null,
   "metadata": {},
   "outputs": [],
   "source": [
    "%reload_ext autoreload\n",
    "%autoreload 2\n",
    "\n",
    "# # Tell python where to look for modules.\n",
    "import sys\n",
    "\n",
    "sys.path.append(\"../../src/\")\n",
    "\n",
    "# import local modules\n",
    "import src.load_data as load_data\n",
    "from src.filepaths import outputs_folder\n",
    "from src.column_checks import get_dtypes"
   ]
  },
  {
   "cell_type": "code",
   "execution_count": null,
   "metadata": {},
   "outputs": [],
   "source": [
    "year = 2020"
   ]
  },
  {
   "cell_type": "code",
   "execution_count": null,
   "metadata": {},
   "outputs": [],
   "source": [
    "cems = pd.read_csv(\n",
    "    f\"{outputs_folder()}/{year}/cems_cleaned_{year}.csv\", dtype=get_dtypes()\n",
    ")"
   ]
  },
  {
   "cell_type": "code",
   "execution_count": null,
   "metadata": {},
   "outputs": [],
   "source": [
    "# example CEMS data\n",
    "px.line(\n",
    "    cems[cems.plant_id_eia == 3],\n",
    "    x=\"datetime_utc\",\n",
    "    y=\"net_generation_mwh\",\n",
    "    color=\"subplant_id\",\n",
    ")"
   ]
  },
  {
   "cell_type": "markdown",
   "metadata": {},
   "source": [
    "# Simple cleaning \n",
    "At the subplant level, filter data where hourly CEMS generation exceeds 890 capacity. \n",
    "\n",
    "Active questions: \n",
    "* Do we need to build in a buffer for generation that slightly exceeds capacity but is still possible? In some cases, capacity is estimated; and we know that it's variable (eg, summer capacity < winter capacity; both summer and winter capacity often exceed nameplate capacity)\n",
    "* Do we need to aggregate to the plant level to do this check? This would allow data to pass through the filter even if it's potentially labeled with the incorrect subplant. "
   ]
  },
  {
   "cell_type": "code",
   "execution_count": null,
   "metadata": {},
   "outputs": [],
   "source": [
    "pudl_dat = load_data.initialize_pudl_out(year=year)"
   ]
  },
  {
   "cell_type": "code",
   "execution_count": null,
   "metadata": {},
   "outputs": [],
   "source": [
    "gens_pudl = pudl_dat.gens_eia860()"
   ]
  },
  {
   "cell_type": "code",
   "execution_count": null,
   "metadata": {},
   "outputs": [],
   "source": [
    "# Table is unique by plant ID, generator ID.\n",
    "# For each plant and generator, find the maximum of the three capacity values (summer, winter, nameplate)\n",
    "gens = gens_pudl.copy(deep=True)\n",
    "gens[\"net_capacity_mw\"] = gens.winter_capacity_mw.combine(gens.summer_capacity_mw, max)\n",
    "gens[\"net_capacity_mw\"] = gens.net_capacity_mw.combine(gens.capacity_mw, max)\n",
    "gens = gens.loc[:, [\"plant_id_eia\", \"generator_id\", \"net_capacity_mw\"]]"
   ]
  },
  {
   "cell_type": "code",
   "execution_count": null,
   "metadata": {},
   "outputs": [],
   "source": [
    "# Subplants are defined on \"plant_id_eia\", largest of (\"emissions_unit_id_epa\", \"generator_id\")\n",
    "subplant_crosswalk = pd.read_csv(f\"{outputs_folder()}/{year}/subplant_crosswalk.csv\")"
   ]
  },
  {
   "cell_type": "code",
   "execution_count": null,
   "metadata": {},
   "outputs": [],
   "source": [
    "gens_unit = gens.merge(\n",
    "    subplant_crosswalk, how=\"left\", on=[\"plant_id_eia\", \"generator_id\"]\n",
    ")\n",
    "print(f\"Setting {sum(gens_unit.subplant_id.isna())} NaN subplants to 1 in 860 data\")\n",
    "gens_unit.loc[gens_unit.subplant_id.isna()] = 1"
   ]
  },
  {
   "cell_type": "code",
   "execution_count": null,
   "metadata": {},
   "outputs": [],
   "source": [
    "# Group gens by subplant\n",
    "gens_per_sub = gens_unit.groupby([\"plant_id_eia\", \"subplant_id\"]).sum().reset_index()"
   ]
  },
  {
   "cell_type": "code",
   "execution_count": null,
   "metadata": {},
   "outputs": [],
   "source": [
    "cems.subplant_id.dtype"
   ]
  },
  {
   "cell_type": "code",
   "execution_count": null,
   "metadata": {},
   "outputs": [],
   "source": [
    "print(f\"Setting {sum(cems.subplant_id.isna())} NaN subplants to 1 in CEMS data\")\n",
    "cems.loc[cems.subplant_id.isna(), \"subplant_id\"] = 1"
   ]
  },
  {
   "cell_type": "code",
   "execution_count": null,
   "metadata": {},
   "outputs": [],
   "source": [
    "# Now that nans are gone, we can switch from the weird pandas int dtype to numpy dtype, which is required for merge\n",
    "cems = cems.astype(dtype={\"subplant_id\": np.int32})"
   ]
  },
  {
   "cell_type": "code",
   "execution_count": null,
   "metadata": {},
   "outputs": [],
   "source": [
    "cems_cap = cems.merge(\n",
    "    gens_per_sub[[\"plant_id_eia\", \"subplant_id\", \"net_capacity_mw\"]],\n",
    "    how=\"left\",\n",
    "    on=[\"plant_id_eia\", \"subplant_id\"],\n",
    ")"
   ]
  },
  {
   "cell_type": "code",
   "execution_count": null,
   "metadata": {},
   "outputs": [],
   "source": [
    "# TODO: here we're assuming that all columns are bad if net gen is bad, and that all bad rows have bad net gen.\n",
    "dat_cols = [\n",
    "    \"gross_generation_mwh\",\n",
    "    \"steam_load_1000_lb\",\n",
    "    \"fuel_consumed_mmbtu\",\n",
    "    \"co2_mass_lb\",\n",
    "    \"nox_mass_lb\",\n",
    "    \"so2_mass_lb\",\n",
    "    \"plant_id_epa\",\n",
    "    \"co2_mass_measurement_code\",\n",
    "    \"nox_mass_measurement_code\",\n",
    "    \"so2_mass_measurement_code\",\n",
    "    \"report_date\",\n",
    "    \"energy_source_code\",\n",
    "    \"ch4_mass_lb\",\n",
    "    \"n2o_mass_lb\",\n",
    "    \"fuel_consumed_for_electricity_mmbtu\",\n",
    "    \"co2_mass_lb_for_electricity\",\n",
    "    \"ch4_mass_lb_for_electricity\",\n",
    "    \"n2o_mass_lb_for_electricity\",\n",
    "    \"nox_mass_lb_for_electricity\",\n",
    "    \"so2_mass_lb_for_electricity\",\n",
    "    \"co2_mass_lb_adjusted\",\n",
    "    \"ch4_mass_lb_adjusted\",\n",
    "    \"n2o_mass_lb_adjusted\",\n",
    "    \"nox_mass_lb_adjusted\",\n",
    "    \"so2_mass_lb_adjusted\",\n",
    "    \"net_generation_mwh\",\n",
    "]\n",
    "bad = cems_cap.net_generation_mwh > cems_cap.net_capacity_mw\n",
    "cems_cap.loc[bad, dat_cols] = np.nan"
   ]
  },
  {
   "cell_type": "code",
   "execution_count": null,
   "metadata": {},
   "outputs": [],
   "source": [
    "cems_cap[bad]"
   ]
  },
  {
   "cell_type": "code",
   "execution_count": null,
   "metadata": {},
   "outputs": [],
   "source": [
    "## What proportion of CEMS data was ID'ed as bad using capacity filter?\n",
    "sum(bad) / len(cems)"
   ]
  },
  {
   "cell_type": "code",
   "execution_count": null,
   "metadata": {},
   "outputs": [],
   "source": [
    "plant = 2410\n",
    "\n",
    "print(\n",
    "    gens_unit.loc[\n",
    "        gens_unit.plant_id_eia == plant,\n",
    "        [\"plant_id_eia\", \"subplant_id\", \"generator_id\", \"net_capacity_mw\"],\n",
    "    ]\n",
    ")\n",
    "\n",
    "px.line(\n",
    "    cems_cap[cems_cap.plant_id_eia == plant],\n",
    "    x=\"datetime_utc\",\n",
    "    y=\"net_generation_mwh\",\n",
    "    color=\"subplant_id\",\n",
    ")"
   ]
  },
  {
   "cell_type": "code",
   "execution_count": null,
   "metadata": {},
   "outputs": [],
   "source": [
    "print(\n",
    "    gens_unit.loc[\n",
    "        gens_unit.plant_id_eia == plant,\n",
    "        [\"plant_id_eia\", \"subplant_id\", \"generator_id\", \"net_capacity_mw\"],\n",
    "    ]\n",
    ")\n",
    "\n",
    "px.line(\n",
    "    cems[cems.plant_id_eia == plant],\n",
    "    x=\"datetime_utc\",\n",
    "    y=\"net_generation_mwh\",\n",
    "    color=\"subplant_id\",\n",
    "    title=f\"plant id = {plant}\",\n",
    ")"
   ]
  },
  {
   "cell_type": "markdown",
   "metadata": {},
   "source": [
    "# Median/IQR cleaning \n",
    "\n",
    "### Advantages over capacity cleaning: \n",
    "Works consistantly for all data types, and isn't sensitive to plants occasionally producing over capacity"
   ]
  },
  {
   "cell_type": "code",
   "execution_count": null,
   "metadata": {},
   "outputs": [],
   "source": [
    "# Get per-plant, per-variable median and IQR\n",
    "numeric_cols = [\n",
    "    \"gross_generation_mwh\",\n",
    "    \"steam_load_1000_lb\",\n",
    "    \"fuel_consumed_mmbtu\",\n",
    "    \"co2_mass_lb\",\n",
    "    \"ch4_mass_lb\",\n",
    "    \"n2o_mass_lb\",\n",
    "    \"nox_mass_lb\",\n",
    "    \"so2_mass_lb\",\n",
    "    \"co2_mass_lb_adjusted\",\n",
    "    \"ch4_mass_lb_adjusted\",\n",
    "    \"n2o_mass_lb_adjusted\",\n",
    "    \"nox_mass_lb_adjusted\",\n",
    "    \"so2_mass_lb_adjusted\",\n",
    "    \"net_generation_mwh\",\n",
    "    \"fuel_consumed_for_electricity_mmbtu\",\n",
    "    \"co2_mass_lb_for_electricity\",\n",
    "    \"co2_mass_lb_for_electricity_adjusted\",\n",
    "    \"ch4_mass_lb_for_electricity\",\n",
    "    \"ch4_mass_lb_for_electricity_adjusted\",\n",
    "    \"n2o_mass_lb_for_electricity\",\n",
    "    \"n2o_mass_lb_for_electricity_adjusted\",\n",
    "    \"nox_mass_lb_for_electricity\",\n",
    "    \"nox_mass_lb_for_electricity_adjusted\",\n",
    "    \"so2_mass_lb_for_electricity\",\n",
    "    \"so2_mass_lb_for_electricity_adjusted\",\n",
    "    \"co2e_mass_lb\",\n",
    "    \"co2e_mass_lb_adjusted\",\n",
    "    \"co2e_mass_lb_for_electricity\",\n",
    "    \"co2e_mass_lb_for_electricity_adjusted\",\n",
    "]\n",
    "iqr = cems.groupby([\"plant_id_eia\", \"subplant_id\"])[numeric_cols].quantile(\n",
    "    0.75\n",
    ") - cems.groupby([\"plant_id_eia\", \"subplant_id\"])[numeric_cols].quantile(0.25)"
   ]
  },
  {
   "cell_type": "code",
   "execution_count": null,
   "metadata": {},
   "outputs": [],
   "source": [
    "median = cems.groupby([\"plant_id_eia\", \"subplant_id\"]).median()"
   ]
  },
  {
   "cell_type": "code",
   "execution_count": null,
   "metadata": {},
   "outputs": [],
   "source": [
    "lower_bound = median + (iqr * -3)\n",
    "upper_bound = median + (iqr * 3)"
   ]
  },
  {
   "cell_type": "code",
   "execution_count": null,
   "metadata": {},
   "outputs": [],
   "source": [
    "cems_filtered = cems.copy()\n",
    "# for plant in cems_filtered.plant_id_eia.unique():"
   ]
  },
  {
   "cell_type": "code",
   "execution_count": null,
   "metadata": {},
   "outputs": [],
   "source": [
    "cems_filtered = cems_filtered.set_index([\"plant_id_eia\", \"subplant_id\"])"
   ]
  },
  {
   "cell_type": "code",
   "execution_count": null,
   "metadata": {},
   "outputs": [],
   "source": [
    "cems_filtered.loc[(3, 1)]"
   ]
  },
  {
   "cell_type": "code",
   "execution_count": null,
   "metadata": {},
   "outputs": [],
   "source": [
    "checked = (cems_filtered.loc[(3, 1), lower_bound.columns] < lower_bound.loc[(3, 1)]) | (\n",
    "    cems_filtered.loc[(3, 1), lower_bound.columns] > upper_bound.loc[(3, 1)]\n",
    ")"
   ]
  },
  {
   "cell_type": "code",
   "execution_count": null,
   "metadata": {},
   "outputs": [],
   "source": [
    "checked.sum()"
   ]
  },
  {
   "cell_type": "code",
   "execution_count": null,
   "metadata": {},
   "outputs": [],
   "source": [
    "toplot = cems_filtered.loc[(3, 1)]\n",
    "px.scatter(\n",
    "    toplot,\n",
    "    x=\"datetime_utc\",\n",
    "    y=\"fuel_consumed_mmbtu\",\n",
    "    color=checked[\"fuel_consumed_mmbtu\"],\n",
    ")"
   ]
  },
  {
   "cell_type": "code",
   "execution_count": null,
   "metadata": {},
   "outputs": [],
   "source": [
    "median.loc[(3, 1)]"
   ]
  }
 ],
 "metadata": {
  "kernelspec": {
   "display_name": "oge_update",
   "language": "python",
   "name": "python3"
  },
  "language_info": {
   "codemirror_mode": {
    "name": "ipython",
    "version": 3
   },
   "file_extension": ".py",
   "mimetype": "text/x-python",
   "name": "python",
   "nbconvert_exporter": "python",
   "pygments_lexer": "ipython3",
   "version": "3.10.8 | packaged by conda-forge | (main, Nov 24 2022, 14:07:00) [MSC v.1916 64 bit (AMD64)]"
  },
  "orig_nbformat": 4,
  "vscode": {
   "interpreter": {
    "hash": "a6b598b31fc646bdc0acd5c2004810e407b47ff3b1550e1d461e8498c70ba381"
   }
  }
 },
 "nbformat": 4,
 "nbformat_minor": 2
}
