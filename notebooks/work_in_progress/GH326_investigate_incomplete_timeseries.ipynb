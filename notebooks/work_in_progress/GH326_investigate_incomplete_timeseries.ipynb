{
 "cells": [
  {
   "cell_type": "code",
   "execution_count": null,
   "metadata": {},
   "outputs": [],
   "source": [
    "# import packages\n",
    "import pandas as pd\n",
    "import numpy as np\n",
    "import os\n",
    "import plotly.express as px\n",
    "\n",
    "%reload_ext autoreload\n",
    "%autoreload 2\n",
    "\n",
    "# # Tell python where to look for modules.\n",
    "import sys\n",
    "\n",
    "sys.path.append(\"../../src/\")\n",
    "\n",
    "import oge.download_data as download_data\n",
    "import oge.load_data as load_data\n",
    "from oge.column_checks import get_dtypes\n",
    "from oge.filepaths import *\n",
    "import oge.impute_hourly_profiles as impute_hourly_profiles\n",
    "import oge.data_cleaning as data_cleaning\n",
    "import oge.output_data as output_data\n",
    "import oge.emissions as emissions\n",
    "import oge.validation as validation\n",
    "import oge.gross_to_net_generation as gross_to_net_generation\n",
    "import oge.eia930 as eia930\n",
    "from oge.logging_util import get_logger, configure_root_logger\n",
    "\n",
    "configure_root_logger()\n",
    "logger = get_logger(\"test\")\n",
    "\n",
    "\n",
    "year = 2022\n",
    "path_prefix = f\"{year}/\""
   ]
  },
  {
   "cell_type": "markdown",
   "metadata": {},
   "source": [
    "## Evaluate plants with 8761 data"
   ]
  },
  {
   "cell_type": "code",
   "execution_count": null,
   "metadata": {},
   "outputs": [],
   "source": [
    "data = pd.read_csv(results_folder(f\"{year}/plant_data/hourly/us_units/MISO.csv\"))"
   ]
  },
  {
   "cell_type": "code",
   "execution_count": null,
   "metadata": {},
   "outputs": [],
   "source": [
    "test = data.pivot(index=\"datetime_utc\", columns=\"plant_id_eia\", values=\"plant_id_eia\")\n",
    "test"
   ]
  },
  {
   "cell_type": "code",
   "execution_count": null,
   "metadata": {},
   "outputs": [],
   "source": [
    "test.loc[\"2023-01-01 06:00:00+00:00\", :].dropna()"
   ]
  },
  {
   "cell_type": "code",
   "execution_count": null,
   "metadata": {},
   "outputs": [],
   "source": [
    "test[50240]"
   ]
  },
  {
   "cell_type": "code",
   "execution_count": null,
   "metadata": {},
   "outputs": [],
   "source": [
    "# plant 50240 is located in ET, where MISO spans from MT to CT to ET. 50240 has data\n",
    "# starting 5am UTC (expected for EST), but ending at 5am UTC (it should end 4am.)\n",
    "# It looks like this plant has data for December from both CEMS and EIA\n",
    "# it is possible that we are using CT to shape the EIA data since this is in MISO -\n",
    "# we need to make sure that we are using plant-specific time zones"
   ]
  },
  {
   "cell_type": "code",
   "execution_count": null,
   "metadata": {},
   "outputs": [],
   "source": [
    "cems_cleaned = pd.read_csv(outputs_folder(\"2022/cems_subplant_2022.csv\"))"
   ]
  },
  {
   "cell_type": "code",
   "execution_count": null,
   "metadata": {},
   "outputs": [],
   "source": [
    "cems_cleaned[cems_cleaned[\"plant_id_eia\"] == 50240]"
   ]
  },
  {
   "cell_type": "code",
   "execution_count": null,
   "metadata": {},
   "outputs": [],
   "source": [
    "# It looks like the CEMS data is correct - goes until 4am on 2023-01-01"
   ]
  },
  {
   "cell_type": "code",
   "execution_count": null,
   "metadata": {},
   "outputs": [],
   "source": [
    "profiles = pd.read_csv(\n",
    "    outputs_folder(\"2022/hourly_profiles_2022.csv\"),\n",
    "    parse_dates=[\"datetime_utc\", \"datetime_local\"],\n",
    ")"
   ]
  },
  {
   "cell_type": "code",
   "execution_count": null,
   "metadata": {},
   "outputs": [],
   "source": [
    "profiles[(profiles[\"ba_code\"] == \"MISO\") & (profiles[\"fuel_category\"] == \"natural_gas\")]"
   ]
  },
  {
   "cell_type": "markdown",
   "metadata": {},
   "source": [
    "### Evaluate 8759 plants"
   ]
  },
  {
   "cell_type": "code",
   "execution_count": null,
   "metadata": {},
   "outputs": [],
   "source": [
    "data = pd.read_csv(results_folder(f\"{year}/plant_data/hourly/us_units/ISNE.csv\"))\n",
    "test = data.pivot(index=\"datetime_utc\", columns=\"plant_id_eia\", values=\"plant_id_eia\")"
   ]
  },
  {
   "cell_type": "code",
   "execution_count": null,
   "metadata": {},
   "outputs": [],
   "source": [
    "test[test[542].isna()]"
   ]
  },
  {
   "cell_type": "code",
   "execution_count": null,
   "metadata": {},
   "outputs": [],
   "source": [
    "# it appears that multiple plants are missing data at this 4/1 4am timestamp\n",
    "# they all appear to be petroluem - this is likely an issue with the hourly eia-930 profile being used.\n",
    "# let's look at those"
   ]
  },
  {
   "cell_type": "code",
   "execution_count": null,
   "metadata": {},
   "outputs": [],
   "source": [
    "profiles = pd.read_csv(\n",
    "    outputs_folder(\"2022/hourly_profiles_2022.csv\"),\n",
    "    parse_dates=[\"datetime_utc\", \"datetime_local\"],\n",
    ")"
   ]
  },
  {
   "cell_type": "code",
   "execution_count": null,
   "metadata": {},
   "outputs": [],
   "source": [
    "profiles[\n",
    "    (profiles[\"ba_code\"] == \"ISNE\")\n",
    "    & (profiles[\"fuel_category\"] == \"petroleum\")\n",
    "    & (profiles[\"datetime_utc\"] >= \"2022-04-01\")\n",
    "    & (profiles[\"datetime_utc\"] < \"2022-04-02\")\n",
    "]"
   ]
  },
  {
   "cell_type": "code",
   "execution_count": null,
   "metadata": {},
   "outputs": [],
   "source": [
    "# it looks like this profile is non-missing for that entire day, which means it's not an issue with the profile itself\n",
    "# looking at the plant metadata, we switch from using the 930 profile in march to the CEMS profile in April\n",
    "# is the CEMS profile missing some data here? Is there an incorrect transition between DST where we are missing an hour?\n",
    "# did this hour exist in the original CEMS data but we dropped it when removing standalone plant hours?"
   ]
  },
  {
   "cell_type": "code",
   "execution_count": null,
   "metadata": {},
   "outputs": [],
   "source": [
    "# let's look at our cleaned cems data first"
   ]
  },
  {
   "cell_type": "code",
   "execution_count": null,
   "metadata": {},
   "outputs": [],
   "source": [
    "cems_cleaned = pd.read_csv(outputs_folder(\"2022/cems_subplant_2022.csv\"))"
   ]
  },
  {
   "cell_type": "code",
   "execution_count": null,
   "metadata": {},
   "outputs": [],
   "source": [
    "cems_cleaned[cems_cleaned[\"plant_id_eia\"] == 540]"
   ]
  },
  {
   "cell_type": "code",
   "execution_count": null,
   "metadata": {},
   "outputs": [],
   "source": [
    "# the earliest datetime in our cleaned CEMS data is 2022-04-01 05:00:00+00:00\n",
    "# at this point in the year, we are in EDT, which is UTC -4, so midnight local time on 4/1 should be 4am UTC time.\n",
    "# it looks like we are missing the first hour of this month"
   ]
  },
  {
   "cell_type": "code",
   "execution_count": null,
   "metadata": {},
   "outputs": [],
   "source": [
    "# next, let's look at the \"raw\" CEMS data from PUDL\n",
    "# it looks like on the CEMS website, there is no data available prior to 2022-04-01 at hour 0"
   ]
  },
  {
   "cell_type": "code",
   "execution_count": null,
   "metadata": {},
   "outputs": [],
   "source": [
    "# specify the columns to use from the CEMS database\n",
    "cems_columns = [\n",
    "    \"plant_id_epa\",  # try to load this column to make sure it has been converted to plant_id_eia\n",
    "    \"plant_id_eia\",\n",
    "    \"emissions_unit_id_epa\",\n",
    "    \"operating_datetime_utc\",\n",
    "    \"operating_time_hours\",\n",
    "    \"gross_load_mw\",\n",
    "    \"steam_load_1000_lbs\",\n",
    "    \"co2_mass_tons\",\n",
    "    \"co2_mass_measurement_code\",\n",
    "    \"nox_mass_lbs\",\n",
    "    \"nox_mass_measurement_code\",\n",
    "    \"so2_mass_lbs\",\n",
    "    \"so2_mass_measurement_code\",\n",
    "    \"heat_content_mmbtu\",\n",
    "]\n",
    "\n",
    "# load the CEMS data\n",
    "cems = pd.read_parquet(\n",
    "    downloads_folder(\"pudl/hourly_emissions_epacems.parquet\"),\n",
    "    filters=[[\"year\", \"==\", year]],\n",
    "    columns=cems_columns,\n",
    ")"
   ]
  },
  {
   "cell_type": "code",
   "execution_count": null,
   "metadata": {},
   "outputs": [],
   "source": [
    "cems[cems[\"plant_id_eia\"] == 540]"
   ]
  },
  {
   "cell_type": "code",
   "execution_count": null,
   "metadata": {},
   "outputs": [],
   "source": [
    "# this data is also available at 5am UTC at the earliest"
   ]
  },
  {
   "cell_type": "code",
   "execution_count": null,
   "metadata": {},
   "outputs": [],
   "source": [
    "cems_540 = cems_cleaned[cems_cleaned[\"plant_id_eia\"] == 540].copy()"
   ]
  },
  {
   "cell_type": "code",
   "execution_count": null,
   "metadata": {},
   "outputs": [],
   "source": [
    "cems_540.report_date = pd.to_datetime(cems_540.report_date)"
   ]
  },
  {
   "cell_type": "code",
   "execution_count": null,
   "metadata": {},
   "outputs": [],
   "source": [
    "cems_540.report_date.dt.days_in_month"
   ]
  },
  {
   "cell_type": "code",
   "execution_count": null,
   "metadata": {},
   "outputs": [],
   "source": [
    "test = (\n",
    "    cems_540.groupby([\"plant_id_eia\", \"subplant_id\"] + [\"report_date\"])[\n",
    "        [\"datetime_utc\"]\n",
    "    ]\n",
    "    .agg([\"count\", \"min\", \"max\"])\n",
    "    .droplevel(level=0, axis=1)\n",
    ").reset_index()"
   ]
  },
  {
   "cell_type": "code",
   "execution_count": null,
   "metadata": {},
   "outputs": [],
   "source": [
    "# get complete number of hours in month\n",
    "test[\"hours_in_month\"] = test[\"report_date\"].dt.days_in_month * 24\n",
    "# adjust March and November for DST"
   ]
  },
  {
   "cell_type": "code",
   "execution_count": null,
   "metadata": {},
   "outputs": [],
   "source": [
    "test"
   ]
  },
  {
   "cell_type": "code",
   "execution_count": null,
   "metadata": {},
   "outputs": [],
   "source": [
    "# we want to ensure a complete hourly timeseries for all plants in CEMS\n",
    "# we want to test and make sure this works for both hourly and monthly data\n",
    "\n",
    "# import necessary modules\n",
    "from itertools import product\n",
    "\n",
    "# define what will be function inputs\n",
    "df = cems_cleaned[cems_cleaned[\"plant_id_eia\"].isin([3, 540])]\n",
    "key_columns = [\"plant_id_eia\", \"subplant_id\"]\n",
    "timeseries_column = [\"datetime_utc\"]\n",
    "year = 2022\n",
    "\n",
    "# add timezones to each CEMS plant\n",
    "\n",
    "# for each timezone, create a complete hourly timeseries\n",
    "# we want to do this for each timezone so that we are not adding more than 8760 values for any plant\n",
    "\n",
    "# for each group of plants in each timezone, create a complete index, concating all together\n",
    "\n",
    "col_list = key_columns + timeseries_column\n",
    "\n",
    "# get a list of lists of unique values in each column\n",
    "unique_column_values = []\n",
    "for col in col_list:\n",
    "    unique_column_values.append(list(df[col].unique()))\n",
    "\n",
    "# get the cartesian product of all possible combinations\n",
    "unique_combinations = []\n",
    "for element in product(*unique_column_values):\n",
    "    unique_combinations.append(element)\n",
    "\n",
    "# create a complete timeseries based on this\n",
    "complete_timeseries_df = pd.DataFrame(\n",
    "    unique_combinations,\n",
    "    columns=[\"plant_id_eia\", \"subplant_id\", \"datetime_utc\"],\n",
    ")\n",
    "\n",
    "\n",
    "# make sure the datetime dtypes match before merging\n",
    "complete_timeseries_df[timeseries_column] = complete_timeseries_df[\n",
    "    timeseries_column\n",
    "].astype(df[timeseries_column].dtype)\n",
    "# complete the report dates\n",
    "df = df.merge(\n",
    "    complete_timeseries_df,\n",
    "    how=\"outer\",\n",
    "    on=col_list,\n",
    "    validate=\"1:1\",\n",
    ").sort_values(by=col_list)"
   ]
  }
 ],
 "metadata": {
  "kernelspec": {
   "display_name": "open_grid_emissions",
   "language": "python",
   "name": "python3"
  },
  "language_info": {
   "codemirror_mode": {
    "name": "ipython",
    "version": 3
   },
   "file_extension": ".py",
   "mimetype": "text/x-python",
   "name": "python",
   "nbconvert_exporter": "python",
   "pygments_lexer": "ipython3",
   "version": "3.11.4"
  },
  "orig_nbformat": 4,
  "vscode": {
   "interpreter": {
    "hash": "b893a8d8fbb165be288531947168b3b06bdb1508177327a21c265e0400df3100"
   }
  }
 },
 "nbformat": 4,
 "nbformat_minor": 2
}
