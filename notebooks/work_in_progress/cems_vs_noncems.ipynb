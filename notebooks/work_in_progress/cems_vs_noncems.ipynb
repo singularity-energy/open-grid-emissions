{
 "cells": [
  {
   "cell_type": "markdown",
   "metadata": {},
   "source": [
    "The purpose of this notebook is to evaluate how similar plants that report to CEMS are to plants that don't report to CEMS. We will look at:\n",
    " - Correlation in hourly profiles\n",
    " - Variation in generation\n",
    " - Capacity factors?\n",
    " - Heat rates?"
   ]
  },
  {
   "cell_type": "code",
   "execution_count": null,
   "metadata": {},
   "outputs": [],
   "source": [
    "# import packages\n",
    "import pandas as pd\n",
    "import os\n",
    "import plotly.express as px\n",
    "\n",
    "%reload_ext autoreload\n",
    "%autoreload 2\n",
    "\n",
    "# # Tell python where to look for modules.\n",
    "import sys\n",
    "sys.path.append('../../../open-grid-emissions/src/')\n",
    "\n",
    "import download_data\n",
    "import load_data\n",
    "from column_checks import get_dtypes\n",
    "from filepaths import *\n",
    "import impute_hourly_profiles\n",
    "import data_cleaning\n",
    "import output_data\n",
    "import emissions\n",
    "import validation\n",
    "import gross_to_net_generation\n",
    "import eia930\n",
    "\n",
    "year = 2020\n",
    "path_prefix = f\"{year}/\""
   ]
  },
  {
   "cell_type": "code",
   "execution_count": null,
   "metadata": {},
   "outputs": [],
   "source": [
    "profiles = pd.read_csv(outputs_folder(f\"{year}/hourly_profiles_{year}.csv\") ,dtype=get_dtypes())\n",
    "\n",
    "# only keep the fuel categories that would report to CEMS\n",
    "profiles = profiles[profiles[\"fuel_category\"].isin(['coal', 'natural_gas', 'petroleum', 'other', 'biomass', 'waste'])]\n",
    "\n",
    "# only keep data for fleet-months that report some data to CEMS\n",
    "profiles = profiles[profiles.groupby([\"ba_code\",\"fuel_category\",\"report_date\"])[\"cems_profile\"].transform(sum) > 0]\n",
    "\n",
    "# only keep data where the residual profile is used for non-cems plants\n",
    "profiles = profiles[profiles[\"profile_method\"].isin([\"shifted_residual_profile\",\"residual_profile\"])]"
   ]
  },
  {
   "cell_type": "code",
   "execution_count": null,
   "metadata": {},
   "outputs": [],
   "source": [
    "correlations = profiles.groupby([\"ba_code\",\"fuel_category\",\"report_date\"])[[\"cems_profile\",\"profile\"]].corr().reset_index()\n",
    "correlations = correlations[correlations[\"level_3\"] == \"cems_profile\"].drop(columns=[\"level_3\", \"cems_profile\"])\n",
    "correlations"
   ]
  },
  {
   "cell_type": "code",
   "execution_count": null,
   "metadata": {},
   "outputs": [],
   "source": [
    "px.box(correlations, x=\"ba_code\", y=\"profile\", facet_col=\"fuel_category\")"
   ]
  },
  {
   "cell_type": "code",
   "execution_count": null,
   "metadata": {},
   "outputs": [],
   "source": [
    "ba = \"ISNE\"\n",
    "fuel = \"petroleum\"\n",
    "\n",
    "correlations[(correlations[\"ba_code\"] == ba) & (correlations[\"fuel_category\"] == fuel)]"
   ]
  },
  {
   "cell_type": "code",
   "execution_count": null,
   "metadata": {},
   "outputs": [],
   "source": [
    "ba = \"ISNE\"\n",
    "fuel= \"petroleum\"\n",
    "month = \"2020-02-01\"\n",
    "\n",
    "data_to_graph = profiles[(profiles[\"ba_code\"] == ba) & (profiles[\"fuel_category\"] == fuel) & (profiles[\"report_date\"] == month)]\n",
    "\n",
    "px.line(data_to_graph, x= \"datetime_local\", y=[\"cems_profile\",\"profile\",\"eia930_profile\"])"
   ]
  },
  {
   "cell_type": "code",
   "execution_count": null,
   "metadata": {},
   "outputs": [],
   "source": [
    "def cov(df, groupby_columns:list, value_column:str):\n",
    "    \"\"\"\n",
    "    Calculates the coefficient of variation for data grouped by specific columns\n",
    "    Args:\n",
    "        df: pandas dataframe\n",
    "        groupby_columns: list of column names to group the data by\n",
    "        value_column: string name of column containing the values for which you want cov calculated\n",
    "    Returns:\n",
    "        result: a pandas df with grouped statistics for count, mean, population standard deviation, and cov\n",
    "    \"\"\"\n",
    "\n",
    "    # define a function to calculate the population standard deviation with ddof=0\n",
    "    std_p = lambda x: x.std(ddof=0)\n",
    "    std_p.__name__ = 'std_p'\n",
    "\n",
    "    columns_to_keep = groupby_columns + [value_column]\n",
    "\n",
    "    df = df.copy()[columns_to_keep]\n",
    "\n",
    "    result = df.groupby(groupby_columns).agg(['count','mean',std_p])\n",
    "\n",
    "    result = result.droplevel(level=0, axis=1)\n",
    "\n",
    "    result['cov'] = result['std_p'] / result['mean']\n",
    "\n",
    "    return result"
   ]
  },
  {
   "cell_type": "code",
   "execution_count": null,
   "metadata": {},
   "outputs": [],
   "source": [
    "cems_cov = cov(profiles, groupby_columns=[\"ba_code\",\"fuel_category\",\"report_date\"], value_column=\"cems_profile\").reset_index()\n",
    "cems_cov"
   ]
  },
  {
   "cell_type": "code",
   "execution_count": null,
   "metadata": {},
   "outputs": [],
   "source": [
    "profile_cov = cov(profiles, groupby_columns=[\"ba_code\",\"fuel_category\",\"report_date\"], value_column=\"profile\").reset_index()\n",
    "profile_cov"
   ]
  },
  {
   "cell_type": "code",
   "execution_count": null,
   "metadata": {},
   "outputs": [],
   "source": [
    "cems_cov[cems_cov[\"ba_code\"] == \"ISNE\"].groupby(\"fuel_category\").mean()"
   ]
  },
  {
   "cell_type": "code",
   "execution_count": null,
   "metadata": {},
   "outputs": [],
   "source": [
    "profile_cov[profile_cov[\"ba_code\"] == \"ISNE\"].groupby(\"fuel_category\").mean()"
   ]
  }
 ],
 "metadata": {
  "kernelspec": {
   "display_name": "Python 3.10.4 ('open_grid_emissions')",
   "language": "python",
   "name": "python3"
  },
  "language_info": {
   "codemirror_mode": {
    "name": "ipython",
    "version": 3
   },
   "file_extension": ".py",
   "mimetype": "text/x-python",
   "name": "python",
   "nbconvert_exporter": "python",
   "pygments_lexer": "ipython3",
   "version": "3.10.4"
  },
  "orig_nbformat": 4,
  "vscode": {
   "interpreter": {
    "hash": "25e36f192ecdbe5da57d9bea009812e7b11ef0e0053366a845a2802aae1b29d2"
   }
  }
 },
 "nbformat": 4,
 "nbformat_minor": 2
}
