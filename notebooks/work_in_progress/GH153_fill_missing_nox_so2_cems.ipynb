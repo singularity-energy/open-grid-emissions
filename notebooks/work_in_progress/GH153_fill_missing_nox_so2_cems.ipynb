{
 "cells": [
  {
   "cell_type": "code",
   "execution_count": null,
   "metadata": {},
   "outputs": [],
   "source": [
    "import pandas as pd\n",
    "import numpy as np\n",
    "\n",
    "%reload_ext autoreload\n",
    "%autoreload 2\n",
    "\n",
    "# # Tell python where to look for modules.\n",
    "import sys\n",
    "\n",
    "sys.path.append(\"../../src\")\n",
    "from column_checks import get_dtypes\n",
    "import load_data\n",
    "from data_cleaning import *\n",
    "from emissions import *\n",
    "\n",
    "from pudl.analysis.allocate_net_gen import distribute_annually_reported_data_to_months"
   ]
  },
  {
   "cell_type": "markdown",
   "metadata": {},
   "source": [
    "# Filling missing nox so2 in CEMS"
   ]
  },
  {
   "cell_type": "code",
   "execution_count": null,
   "metadata": {},
   "outputs": [],
   "source": [
    "year = 2020"
   ]
  },
  {
   "cell_type": "code",
   "execution_count": null,
   "metadata": {},
   "outputs": [],
   "source": [
    "# load the CEMS data\n",
    "cems = load_data.load_cems_data(year)\n",
    "\n",
    "\n",
    "# remove non-grid connected plants\n",
    "cems = remove_plants(\n",
    "    cems,\n",
    "    non_grid_connected=True,\n",
    "    remove_states=[\"PR\"],\n",
    "    steam_only_plants=False,\n",
    "    distribution_connected_plants=False,\n",
    ")\n",
    "\n",
    "# manually remove steam-only units\n",
    "cems = manually_remove_steam_units(cems)\n",
    "\n",
    "# add a report date\n",
    "cems = load_data.add_report_date(cems)\n",
    "\n",
    "# remove data for any unit-months where there are incomplete data reported\n",
    "# this is generally when there is a single observation reported for an entire month\n",
    "cems = remove_incomplete_unit_months(cems)\n",
    "\n",
    "# TODO: identify and remove any hourly values that appear to be outliers\n",
    "\n",
    "# add a fuel type to each observation\n",
    "cems = assign_fuel_type_to_cems(cems, year)"
   ]
  },
  {
   "cell_type": "code",
   "execution_count": null,
   "metadata": {},
   "outputs": [],
   "source": [
    "# replace all \"missing\" CO2 values with zero\n",
    "cems[\"nox_mass_lb\"] = cems[\"nox_mass_lb\"].fillna(0)\n",
    "\n",
    "# replace 0 reported CO2 values with missing values, if there was reported heat input\n",
    "cems.loc[\n",
    "    (cems[\"nox_mass_lb\"] == 0) & (cems[\"fuel_consumed_mmbtu\"] > 0),\n",
    "    \"nox_mass_lb\",\n",
    "] = np.NaN\n",
    "\n",
    "# create a new df with all observations with missing co2 data\n",
    "missing_nox = cems[cems[\"nox_mass_lb\"].isnull()]\n",
    "missing_nox"
   ]
  },
  {
   "cell_type": "code",
   "execution_count": null,
   "metadata": {},
   "outputs": [],
   "source": [
    "# replace all \"missing\" CO2 values with zero\n",
    "cems[\"so2_mass_lb\"] = cems[\"so2_mass_lb\"].fillna(0)\n",
    "\n",
    "# replace 0 reported CO2 values with missing values, if there was reported heat input\n",
    "cems.loc[\n",
    "    (cems[\"so2_mass_lb\"] == 0) & (cems[\"fuel_consumed_mmbtu\"] > 0),\n",
    "    \"so2_mass_lb\",\n",
    "] = np.NaN\n",
    "\n",
    "# create a new df with all observations with missing co2 data\n",
    "missing_so2 = cems[cems[\"so2_mass_lb\"].isnull()]\n",
    "missing_so2"
   ]
  },
  {
   "cell_type": "code",
   "execution_count": null,
   "metadata": {},
   "outputs": [],
   "source": [
    "epa_eia_crosswalk = load_data.load_epa_eia_crosswalk(year)\n",
    "boiler_to_unit_crosswalk = epa_eia_crosswalk[\n",
    "    [\"plant_id_eia\", \"emissions_unit_id_epa\", \"boiler_id\"]\n",
    "].drop_duplicates()\n",
    "boiler_to_unit_crosswalk"
   ]
  },
  {
   "cell_type": "code",
   "execution_count": null,
   "metadata": {},
   "outputs": [],
   "source": [
    "unit_controlled_nox_rates = emissions.calculate_unit_specific_controlled_nox_rates(year)\n",
    "unit_controlled_nox_rates"
   ]
  },
  {
   "cell_type": "code",
   "execution_count": null,
   "metadata": {},
   "outputs": [],
   "source": [
    "# merge the controlled nox rates into missing_nox\n",
    "missing_nox = missing_nox.merge(\n",
    "    unit_controlled_nox_rates,\n",
    "    how=\"left\",\n",
    "    on=[\"plant_id_eia\", \"emissions_unit_id_epa\"],\n",
    "    validate=\"m:1\",\n",
    ")\n",
    "# calculate the controlled nox emissions based on the month\n",
    "missing_nox = missing_nox.assign(\n",
    "    controlled_nox_mass_lb=lambda x: np.where(\n",
    "        ((x.report_date.dt.month >= 5) & (x.report_date.dt.month <= 9)),\n",
    "        x.fuel_consumed_mmbtu * x.controlled_ozone_season_nox_ef_lb_per_mmbtu,\n",
    "        x.fuel_consumed_mmbtu * x.controlled_non_ozone_season_nox_ef_lb_per_mmbtu,\n",
    "    )\n",
    ")"
   ]
  },
  {
   "cell_type": "code",
   "execution_count": null,
   "metadata": {},
   "outputs": [],
   "source": [
    "# load emission factors\n",
    "nox_emission_factors = load_data.load_nox_emission_factors()\n",
    "# remove duplicate factors\n",
    "nox_emission_factors = nox_emission_factors.drop_duplicates(\n",
    "    subset=[\n",
    "        \"prime_mover_code\",\n",
    "        \"energy_source_code\",\n",
    "        \"boiler_bottom_type\",\n",
    "        \"boiler_firing_type\",\n",
    "    ]\n",
    ")"
   ]
  },
  {
   "cell_type": "code",
   "execution_count": null,
   "metadata": {},
   "outputs": [],
   "source": [
    "# load the boiler firing type and merge in prime mover\n",
    "boiler_firing_type = emissions.load_boiler_firing_type(year).merge(\n",
    "    pd.read_sql(\"boilers_entity_eia\", pudl_out.pudl_engine),\n",
    "    how=\"left\",\n",
    "    on=[\"plant_id_eia\", \"boiler_id\"],\n",
    "    validate=\"m:1\",\n",
    ")"
   ]
  },
  {
   "cell_type": "code",
   "execution_count": null,
   "metadata": {},
   "outputs": [],
   "source": [
    "epa_eia_crosswalk = load_data.load_epa_eia_crosswalk(year)\n",
    "boiler_to_unit_crosswalk = epa_eia_crosswalk[\n",
    "    [\"plant_id_eia\", \"emissions_unit_id_epa\", \"boiler_id\"]\n",
    "].drop_duplicates()"
   ]
  },
  {
   "cell_type": "code",
   "execution_count": null,
   "metadata": {},
   "outputs": [],
   "source": [
    "# merge in all possible fuel-specific emission factors for the pm boiler design parameters\n",
    "boiler_factors = boiler_firing_type.merge(\n",
    "    nox_emission_factors,\n",
    "    how=\"left\",\n",
    "    on=[\"prime_mover_code\", \"boiler_bottom_type\", \"boiler_firing_type\"],\n",
    ")\n",
    "\n",
    "# associate a unit\n",
    "boiler_factors = boiler_factors.merge(\n",
    "    boiler_to_unit_crosswalk, how=\"left\", on=[\"plant_id_eia\", \"boiler_id\"]\n",
    ")\n",
    "\n",
    "# aggregate by unit fuel\n",
    "boiler_factors = (\n",
    "    boiler_factors.groupby(\n",
    "        [\n",
    "            \"plant_id_eia\",\n",
    "            \"emissions_unit_id_epa\",\n",
    "            \"energy_source_code\",\n",
    "            \"emission_factor_denominator\",\n",
    "        ],\n",
    "        dropna=False,\n",
    "    )[\"emission_factor\"]\n",
    "    .mean()\n",
    "    .reset_index()\n",
    ")\n",
    "\n",
    "boiler_factors"
   ]
  }
 ],
 "metadata": {
  "kernelspec": {
   "display_name": "Python 3.9.12 ('hourly_egrid')",
   "language": "python",
   "name": "python3"
  },
  "language_info": {
   "codemirror_mode": {
    "name": "ipython",
    "version": 3
   },
   "file_extension": ".py",
   "mimetype": "text/x-python",
   "name": "python",
   "nbconvert_exporter": "python",
   "pygments_lexer": "ipython3",
   "version": "3.10.5"
  },
  "orig_nbformat": 4,
  "vscode": {
   "interpreter": {
    "hash": "4103f3cd497821eca917ea303dbe10c590d787eb7d2dc3fd4e15dec0356e7931"
   }
  }
 },
 "nbformat": 4,
 "nbformat_minor": 2
}
