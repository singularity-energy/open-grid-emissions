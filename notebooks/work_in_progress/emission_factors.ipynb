{
 "cells": [
  {
   "cell_type": "code",
   "execution_count": null,
   "metadata": {},
   "outputs": [],
   "source": [
    "# import packages\n",
    "import pandas as pd\n",
    "import numpy as np\n",
    "import os\n",
    "import plotly.express as px\n",
    "\n",
    "%reload_ext autoreload\n",
    "%autoreload 2\n",
    "\n",
    "# # Tell python where to look for modules.\n",
    "import sys\n",
    "sys.path.append('../../../open-grid-emissions/src/')\n",
    "\n",
    "import load_data\n",
    "from column_checks import get_dtypes\n",
    "from filepaths import *\n",
    "import output_data\n",
    "import emissions\n",
    "import validation\n",
    "import emission_factors as efs\n"
   ]
  },
  {
   "attachments": {},
   "cell_type": "markdown",
   "metadata": {},
   "source": [
    "## Notes\n",
    "\n",
    "For each calculation, we need to follow certain steps:\n",
    "1. Load fuel category mapping from energy_source_groups\n",
    "2. Load individual plant data\n",
    "3. Assign each plant to a fuel category and region\n",
    "4. Calculate Fleet Emission Factors\n",
    "6. Calculate Backstop national values\n",
    "7. Merge and format\n",
    "\n",
    "\n",
    "First load EIA source, then ISO, then ISO-H\n",
    "Recycle the functions"
   ]
  },
  {
   "attachments": {},
   "cell_type": "markdown",
   "metadata": {},
   "source": [
    "# Calculate eGRID Emission Factors"
   ]
  },
  {
   "attachments": {},
   "cell_type": "markdown",
   "metadata": {},
   "source": [
    "### Calculate factors for EIA regions"
   ]
  },
  {
   "cell_type": "code",
   "execution_count": null,
   "metadata": {},
   "outputs": [],
   "source": [
    "egrid_years = [2018, 2019, 2020]\n",
    "\n",
    "egrid_factors_eia = efs.create_egrid_factors_for_eia_regions(egrid_years)\n",
    "\n",
    "egrid_factors_iso = efs.create_egrid_factors_for_iso_regions(\n",
    "    iso_list=[\"BPAT\", \"CISO\", \"ERCO\", \"ISNE\", \"MISO\", \"NYIS\", \"PJM\", \"SWPP\"],\n",
    "    egrid_years=egrid_years,\n",
    "    fuel_mix_source=\"ISO\",\n",
    ")\n",
    "\n",
    "egrid_factors_isoh = efs.create_egrid_factors_for_iso_regions(\n",
    "    iso_list=[\"ERCO\", \"MISO\"], egrid_years=egrid_years, fuel_mix_source=\"ISO-H\"\n",
    ")\n"
   ]
  },
  {
   "attachments": {},
   "cell_type": "markdown",
   "metadata": {},
   "source": [
    "### Combine the eGRID data"
   ]
  },
  {
   "cell_type": "code",
   "execution_count": null,
   "metadata": {},
   "outputs": [],
   "source": [
    "egrid_factors_combined = pd.concat([egrid_factors_eia, egrid_factors_iso, egrid_factors_isoh], axis=0)\n",
    "\n",
    "egrid_factors_combined[\"year\"] = egrid_factors_combined[\"year\"].astype(int)\n",
    "egrid_factors_combined[\"emission_factor_lb_per_mwh\"] = egrid_factors_combined[\n",
    "    \"emission_factor_lb_per_mwh\"\n",
    "].round(3)\n",
    "egrid_factors_combined = egrid_factors_combined.sort_values(\n",
    "    by=[\n",
    "        \"fuel_mix_source\",\n",
    "        \"year\",\n",
    "        \"region\",\n",
    "        \"fuel_category\",\n",
    "        \"pollutant\",\n",
    "        \"emission_factor_adjustment\",\n",
    "        \"emission_factor_source\",\n",
    "    ]\n",
    ")\n",
    "\n",
    "egrid_factors_combined\n"
   ]
  },
  {
   "cell_type": "code",
   "execution_count": null,
   "metadata": {},
   "outputs": [],
   "source": [
    "# check for missing factors for ISO or ISO-H regions since there is no backstop\n",
    "egrid_factors_combined[(egrid_factors_combined[\"fuel_mix_source\"].isin([\"ISO\",\"ISO-H\"])) & (egrid_factors_combined[\"emission_factor_lb_per_mwh\"].isna())]"
   ]
  },
  {
   "cell_type": "code",
   "execution_count": null,
   "metadata": {},
   "outputs": [],
   "source": [
    "# identify where there are zero emission rates for non-clean fuels\n",
    "egrid_factors_combined[\n",
    "    (egrid_factors_combined[\"pollutant\"].isin([\"co2\", \"co2e\"]))\n",
    "    & (egrid_factors_combined[\"emission_factor_adjustment\"] == \"for_electricity\")\n",
    "    & (egrid_factors_combined[\"emission_factor_lb_per_mwh\"] == 0)\n",
    "    & ~(egrid_factors_combined[\"fuel_category\"].isin(efs.zero_carbon_fuels))\n",
    "]\n"
   ]
  },
  {
   "cell_type": "code",
   "execution_count": null,
   "metadata": {},
   "outputs": [],
   "source": [
    "anomalous_screen = efs.screen_for_anomalous_factors(egrid_factors_combined, filter_factor=3)\n",
    "anomalous_screen\n"
   ]
  },
  {
   "cell_type": "code",
   "execution_count": null,
   "metadata": {},
   "outputs": [],
   "source": [
    "egrid_factors_combined.to_csv(\n",
    "    outputs_folder(\"egrid_emission_factors.csv\"), index=False\n",
    ")"
   ]
  },
  {
   "cell_type": "code",
   "execution_count": null,
   "metadata": {},
   "outputs": [],
   "source": [
    "# load data if already created\n",
    "egrid_factors_combined = pd.read_csv(outputs_folder(\"egrid_emission_factors.csv\"))\n",
    "egrid_factors_combined"
   ]
  },
  {
   "cell_type": "code",
   "execution_count": null,
   "metadata": {},
   "outputs": [],
   "source": [
    "pol = \"co2e\"\n",
    "adjustment = \"for_electricity\"\n",
    "source = \"EIA\"\n",
    "data_to_plot = egrid_factors_combined[\n",
    "    (egrid_factors_combined[\"pollutant\"] == pol)\n",
    "    & (egrid_factors_combined[\"emission_factor_adjustment\"] == adjustment)\n",
    "    & (egrid_factors_combined[\"fuel_mix_source\"] == source)\n",
    "    & (~egrid_factors_combined[\"fuel_category\"].isin(efs.zero_carbon_fuels))\n",
    "]\n",
    "\n",
    "px.box(\n",
    "    data_to_plot,\n",
    "    x=\"fuel_category\",\n",
    "    y=\"emission_factor_lb_per_mwh\",\n",
    "    color=\"year\",\n",
    "    title=f\"eGRID {pol}_{adjustment} factors for {source} regions\",\n",
    ").update_yaxes(dtick=1000)\n"
   ]
  },
  {
   "cell_type": "code",
   "execution_count": null,
   "metadata": {},
   "outputs": [],
   "source": [
    "pol = \"co2e\"\n",
    "adjustment = \"for_electricity\"\n",
    "source = \"ISO\"\n",
    "region = \"ERCO\"\n",
    "data_to_plot = egrid_factors_combined[\n",
    "    (egrid_factors_combined[\"pollutant\"] == pol)\n",
    "    & (egrid_factors_combined[\"emission_factor_adjustment\"] == adjustment)\n",
    "    & (egrid_factors_combined[\"fuel_mix_source\"] == source)\n",
    "    & (egrid_factors_combined[\"region\"] == region)\n",
    "    & (~egrid_factors_combined[\"fuel_category\"].isin(zero_carbon_fuels))\n",
    "]\n",
    "\n",
    "px.bar(\n",
    "    data_to_plot,\n",
    "    x=\"fuel_category\",\n",
    "    y=\"emission_factor_lb_per_mwh\",\n",
    "    color=data_to_plot.year.astype(str),\n",
    "    barmode=\"group\",\n",
    "    width=600,\n",
    "    title=f\"eGRID {pol}_{adjustment} factors for {source} {region}\",\n",
    ").update_yaxes(dtick=1000)\n"
   ]
  },
  {
   "attachments": {},
   "cell_type": "markdown",
   "metadata": {},
   "source": [
    "# Calculate annual-average OGE factors"
   ]
  },
  {
   "cell_type": "code",
   "execution_count": null,
   "metadata": {},
   "outputs": [],
   "source": [
    "years_to_load = [2019, 2020, 2021]\n",
    "\n",
    "oge_factors_eia = efs.create_oge_factors_for_eia_regions(years_to_load)\n",
    "\n",
    "oge_factors_iso = efs.create_oge_factors_for_iso_regions(\n",
    "    iso_list=[\"BPAT\", \"CISO\", \"ERCO\", \"ISNE\", \"MISO\", \"NYIS\", \"PJM\", \"SWPP\"],\n",
    "    years_to_load=years_to_load,\n",
    "    fuel_mix_source=\"ISO\",\n",
    ")\n",
    "oge_factors_isoh = efs.create_oge_factors_for_iso_regions(\n",
    "    iso_list=[\"ERCO\", \"MISO\"], years_to_load=years_to_load, fuel_mix_source=\"ISO-H\"\n",
    ")\n"
   ]
  },
  {
   "cell_type": "code",
   "execution_count": null,
   "metadata": {},
   "outputs": [],
   "source": [
    "oge_factors_combined = pd.concat([oge_factors_eia, oge_factors_iso, oge_factors_isoh], axis=0)\n",
    "\n",
    "oge_factors_combined[\"year\"] = oge_factors_combined[\"year\"].astype(int)\n",
    "oge_factors_combined[\"emission_factor_lb_per_mwh\"] = oge_factors_combined[\n",
    "    \"emission_factor_lb_per_mwh\"\n",
    "].round(3)\n",
    "oge_factors_combined = oge_factors_combined.sort_values(\n",
    "    by=[\n",
    "        \"fuel_mix_source\",\n",
    "        \"year\",\n",
    "        \"region\",\n",
    "        \"fuel_category\",\n",
    "        \"pollutant\",\n",
    "        \"emission_factor_adjustment\",\n",
    "        \"emission_factor_source\",\n",
    "    ]\n",
    ")\n",
    "\n",
    "oge_factors_combined\n"
   ]
  },
  {
   "cell_type": "code",
   "execution_count": null,
   "metadata": {},
   "outputs": [],
   "source": [
    "# check for missing factors for ISO or ISO-H regions since there is no backstop\n",
    "oge_factors_combined[(oge_factors_combined[\"fuel_mix_source\"].isin([\"ISO\",\"ISO-H\"])) & (oge_factors_combined[\"emission_factor_lb_per_mwh\"].isna())]"
   ]
  },
  {
   "cell_type": "code",
   "execution_count": null,
   "metadata": {},
   "outputs": [],
   "source": [
    "# identify where there are zero emission rates for non-clean fuels\n",
    "oge_factors_combined[\n",
    "    (oge_factors_combined[\"pollutant\"].isin([\"co2\", \"co2e\"]))\n",
    "    & (oge_factors_combined[\"emission_factor_adjustment\"] == \"for_electricity\")\n",
    "    & (oge_factors_combined[\"emission_factor_lb_per_mwh\"] == 0)\n",
    "    & ~(oge_factors_combined[\"fuel_category\"].isin(efs.zero_carbon_fuels))\n",
    "]\n"
   ]
  },
  {
   "cell_type": "code",
   "execution_count": null,
   "metadata": {},
   "outputs": [],
   "source": [
    "anomalous_screen = efs.screen_for_anomalous_factors(oge_factors_combined, filter_factor=3)\n",
    "anomalous_screen\n"
   ]
  },
  {
   "cell_type": "code",
   "execution_count": null,
   "metadata": {},
   "outputs": [],
   "source": [
    "oge_factors_combined.to_csv(\n",
    "    outputs_folder(\"oge_emission_factors.csv\"), index=False\n",
    ")"
   ]
  },
  {
   "cell_type": "code",
   "execution_count": null,
   "metadata": {},
   "outputs": [],
   "source": [
    "emission_factors = pd.concat([egrid_factors_combined,oge_factors_combined], axis=0)\n",
    "emission_factors.to_csv(\n",
    "    outputs_folder(\"emission_factors.csv\"), index=False\n",
    ")"
   ]
  },
  {
   "cell_type": "code",
   "execution_count": null,
   "metadata": {},
   "outputs": [],
   "source": [
    "pol = \"co2\"\n",
    "adj = \"for_electricity\"\n",
    "f_source = \"EIA\"\n",
    "year = 2020\n",
    "\n",
    "to_plot = emission_factors[\n",
    "    (emission_factors[\"pollutant\"] == pol)\n",
    "    & (emission_factors[\"emission_factor_adjustment\"] == adj)\n",
    "    & (emission_factors[\"fuel_mix_source\"] == f_source)\n",
    "    & (emission_factors[\"year\"] == year)\n",
    "    #& (emission_factors[\"region\"].isin([\"BPAT\", \"CISO\", \"ERCO\", \"ISNE\", \"MISO\", \"NYIS\", \"PJM\", \"SWPP\"]))\n",
    "    & ~(emission_factors[\"fuel_category\"].isin(efs.zero_carbon_fuels))\n",
    "]\n",
    "\n",
    "px.bar(\n",
    "    to_plot,\n",
    "    x=\"region\",\n",
    "    y=\"emission_factor_lb_per_mwh\",\n",
    "    color=\"emission_factor_source\",\n",
    "    facet_col=\"fuel_category\",\n",
    "    facet_col_wrap=1,\n",
    "    height=800,\n",
    "    barmode=\"group\",\n",
    ").update_yaxes(matches=None)\n"
   ]
  },
  {
   "cell_type": "code",
   "execution_count": null,
   "metadata": {},
   "outputs": [],
   "source": [
    "pol = \"co2\"\n",
    "adj = \"for_electricity\"\n",
    "f_source = \"EIA\"\n",
    "e_source = \"OGEv0.2.0\"\n",
    "\n",
    "to_plot = emission_factors[\n",
    "    (emission_factors[\"pollutant\"] == pol)\n",
    "    & (emission_factors[\"emission_factor_adjustment\"] == adj)\n",
    "    & (emission_factors[\"fuel_mix_source\"] == f_source)\n",
    "    & (emission_factors[\"emission_factor_source\"] == e_source)\n",
    "    #& (emission_factors[\"region\"].isin([\"BPAT\", \"CISO\", \"ERCO\", \"ISNE\", \"MISO\", \"NYIS\", \"PJM\", \"SWPP\"]))\n",
    "    & ~(emission_factors[\"fuel_category\"].isin(efs.zero_carbon_fuels))\n",
    "]\n",
    "\n",
    "to_plot[\"year\"] = to_plot[\"year\"].astype(str)\n",
    "\n",
    "px.bar(\n",
    "    to_plot,\n",
    "    x=\"region\",\n",
    "    y=\"emission_factor_lb_per_mwh\",\n",
    "    color=\"year\",\n",
    "    facet_col=\"fuel_category\",\n",
    "    facet_col_wrap=1,\n",
    "    height=800,\n",
    "    barmode=\"group\",\n",
    ").update_yaxes(matches=None)\n"
   ]
  },
  {
   "attachments": {},
   "cell_type": "markdown",
   "metadata": {},
   "source": [
    "# Calculate Time-varying emission factors from OGE"
   ]
  },
  {
   "attachments": {},
   "cell_type": "markdown",
   "metadata": {},
   "source": [
    "### Create Emission factors for EIA-930 regions"
   ]
  },
  {
   "cell_type": "code",
   "execution_count": null,
   "metadata": {},
   "outputs": [],
   "source": [
    "years_to_load = [2019, 2020, 2021]\n",
    "\n",
    "# get a list of all balancing areas for which there is data in EIA-930\n",
    "ba_reference = load_data.load_ba_reference()\n",
    "bas_in_eia930 = ba_reference[\n",
    "    (~ba_reference[\"timezone_reporting_eia930\"].isna())\n",
    "    & (ba_reference[\"us_ba\"] == \"Yes\")\n",
    "    & (~(ba_reference[\"ba_category\"] == \"miscellaneous\"))\n",
    "    & (~(ba_reference[\"retirement_date\"].dt.year < min(years_to_load)))\n",
    "]\n",
    "ba_list = list(bas_in_eia930.ba_code.unique())\n",
    "\n",
    "oge_factors_eia = []\n",
    "for ba in ba_list:\n",
    "    print(ba)\n",
    "    # load and concat multiple years of data\n",
    "    ba_data = []\n",
    "    for year in years_to_load:\n",
    "        fuel_category_table = pd.read_csv(\n",
    "            outputs_folder(f\"{year}/plant_static_attributes_{year}.csv\"),\n",
    "            dtype=get_dtypes(),\n",
    "        )[[\"plant_id_eia\", \"fuel_category_eia930\"]].rename(\n",
    "            columns={\"fuel_category_eia930\": \"fuel_category\"}\n",
    "        )\n",
    "\n",
    "        # start by loading data for a single BA\n",
    "        try:\n",
    "            ba_year_data = pd.read_csv(\n",
    "                results_folder(f\"{year}/plant_data/hourly/us_units/{ba}.csv\")\n",
    "            )\n",
    "\n",
    "            # make sure the data frame is not empty\n",
    "            if len(ba_year_data) > 0:\n",
    "                ba_data.append(\n",
    "                    calculate_emissions_for_ba_year_fuel(\n",
    "                        ba, ba_year_data, fuel_category_table, year\n",
    "                    )\n",
    "                )\n",
    "        except FileNotFoundError:\n",
    "            pass\n",
    "\n",
    "    try:\n",
    "        # concat data for all years together\n",
    "        ba_data = pd.concat(ba_data, axis=0)\n",
    "\n",
    "        region = ba\n",
    "\n",
    "        ba_data = calculate_month_hour_emission_factors(\n",
    "            region, ba, ba_data, local_tz_to_use, datetime_to_use, ba_reference\n",
    "        )\n",
    "\n",
    "        oge_factors_eia.append(ba_data)\n",
    "    # let us know if there was not any data to concatenate\n",
    "    except ValueError:\n",
    "        print(f\"No data available for {ba}\")\n",
    "        pass\n",
    "\n",
    "oge_factors_eia = pd.concat(oge_factors_eia, axis=0)\n",
    "\n",
    "# only keep data that are in the data years we want\n",
    "oge_factors_eia = oge_factors_eia[oge_factors_eia[\"year\"].isin(years_to_load)]\n",
    "\n",
    "oge_factors_eia[\"emission_factor_source\"] = f\"OGE v{oge_version_number}\"\n",
    "\n",
    "oge_factors_eia = add_national_average_oge_values(oge_factors_eia)\n",
    "\n",
    "oge_factors_eia = format_df_for_output(\n",
    "    oge_factors_eia,\n",
    "    fuel_mix_source=\"EIA\",\n",
    "    id_columns=[\"fuel_mix_source\", \"emission_factor_source\", \"region\", \"fuel_category\", \"year\", \"month\", \"hour\"],\n",
    ")\n"
   ]
  },
  {
   "attachments": {},
   "cell_type": "markdown",
   "metadata": {},
   "source": [
    "### Create Emission Factors for ISO Regions"
   ]
  },
  {
   "cell_type": "code",
   "execution_count": null,
   "metadata": {},
   "outputs": [],
   "source": [
    "years_to_load = [2019, 2020, 2021]\n",
    "iso_list = [\"BPAT\", \"CISO\", \"ERCO\", \"ERCO-H\", \"ISNE\", \"MISO\", \"NYIS\", \"PJM\", \"SWPP\"]\n",
    "\n",
    "ba_reference = load_data.load_ba_reference()\n",
    "\n",
    "local_tz_to_use = \"timezone_local\"\n",
    "datetime_to_use = \"datetime_utc\"\n",
    "\n",
    "oge_factors_iso = []\n",
    "for region in iso_list:\n",
    "    print(region)\n",
    "\n",
    "    if region == \"ERCO-H\":\n",
    "        ba = \"ERCO\"\n",
    "    else:\n",
    "        ba = region\n",
    "\n",
    "    # load and concat multiple years of data\n",
    "    ba_data = []\n",
    "    for year in years_to_load:\n",
    "\n",
    "        fuel_category_table = load_plant_fuel_category_for_iso(region, year)\n",
    "\n",
    "        # start by loading data for a single BA\n",
    "        try:\n",
    "            ba_year_data = pd.read_csv(\n",
    "                results_folder(f\"{year}/plant_data/hourly/us_units/{ba}.csv\")\n",
    "            )\n",
    "            # make sure the data frame is not empty\n",
    "            if len(ba_year_data) > 0:\n",
    "                ba_data.append(\n",
    "                    calculate_emissions_for_ba_year_fuel(\n",
    "                        region, ba_year_data, fuel_category_table, year\n",
    "                    )\n",
    "                )\n",
    "        except FileNotFoundError:\n",
    "            pass\n",
    "\n",
    "    try:\n",
    "        # concat data for all years together\n",
    "        ba_data = pd.concat(ba_data, axis=0)\n",
    "\n",
    "        ba_data = calculate_month_hour_emission_factors(\n",
    "            region, ba, ba_data, local_tz_to_use, datetime_to_use, ba_reference\n",
    "        )\n",
    "\n",
    "        oge_factors_iso.append(ba_data)\n",
    "    # let us know if there was not any data to concatenate\n",
    "    except ValueError:\n",
    "        print(f\"No data available for {ba}\")\n",
    "        pass\n",
    "\n",
    "oge_factors_iso = pd.concat(oge_factors_iso, axis=0)\n",
    "\n",
    "# only keep data that are in the data years we want\n",
    "oge_factors_iso = oge_factors_iso[oge_factors_iso[\"year\"].isin(years_to_load)]\n",
    "\n",
    "oge_factors_iso[\"emission_factor_source\"] = f\"OGE v{oge_version_number}\"\n",
    "\n",
    "oge_factors_iso = format_df_for_output(\n",
    "    oge_factors_iso,\n",
    "    fuel_mix_source=\"ISO\",\n",
    "    id_columns=[\"fuel_mix_source\", \"emission_factor_source\", \"region\", \"fuel_category\", \"year\", \"month\", \"hour\"],\n",
    ")\n"
   ]
  },
  {
   "cell_type": "code",
   "execution_count": null,
   "metadata": {},
   "outputs": [],
   "source": [
    "oge_factors_combined = pd.concat([oge_factors_eia, oge_factors_iso], axis=0)\n",
    "\n",
    "oge_factors_combined[\"year\"] = oge_factors_combined[\"year\"].astype(int)\n",
    "oge_factors_combined[\"month\"] = oge_factors_combined[\"month\"].astype(int)\n",
    "oge_factors_combined[\"hour\"] = oge_factors_combined[\"hour\"].astype(int)\n",
    "oge_factors_combined[\"emission_factor_lb_per_mwh\"] = oge_factors_combined[\"emission_factor_lb_per_mwh\"].round(3)\n",
    "oge_factors_combined = oge_factors_combined.sort_values(by=[\"fuel_mix_source\",\"year\",\"region\",\"fuel_category\",\"pollutant\", \"emission_factor_adjustment\",\"emission_factor_source\", \"month\",\"hour\"])\n",
    "\n",
    "oge_factors_combined"
   ]
  },
  {
   "cell_type": "code",
   "execution_count": null,
   "metadata": {},
   "outputs": [],
   "source": [
    "oge_factors_combined.to_csv(\n",
    "    outputs_folder(\"oge_emission_factors.csv\"), index=False\n",
    ")"
   ]
  },
  {
   "cell_type": "code",
   "execution_count": null,
   "metadata": {},
   "outputs": [],
   "source": [
    "# load data if already created\n",
    "oge_factors_combined = pd.read_csv(outputs_folder(\"oge_emission_factors.csv\"))\n",
    "oge_factors_combined"
   ]
  },
  {
   "attachments": {},
   "cell_type": "markdown",
   "metadata": {},
   "source": [
    "## Plot Data"
   ]
  },
  {
   "cell_type": "code",
   "execution_count": null,
   "metadata": {},
   "outputs": [],
   "source": [
    "# compare honth hour averages across years\n",
    "region = \"CISO\"\n",
    "fuel_source = \"ISO\"\n",
    "pollutant = \"co2e\"\n",
    "adjustment = \"for_electricity\"\n",
    "\n",
    "data_to_plot = oge_factors_combined[\n",
    "    (oge_factors_combined[\"region\"] == region)\n",
    "    & (oge_factors_combined[\"fuel_mix_source\"] == fuel_source)\n",
    "    & (oge_factors_combined[\"pollutant\"] == pollutant)\n",
    "    & (oge_factors_combined[\"emission_factor_adjustment\"] == adjustment)\n",
    "    & (~oge_factors_combined[\"fuel_category\"].isin(zero_carbon_fuels))\n",
    "]\n",
    "\n",
    "data_to_plot[\"month-hour\"] = (\n",
    "    data_to_plot[\"month\"].astype(str) + \" \" + data_to_plot[\"hour\"].astype(str) + \":00\"\n",
    ")\n",
    "\n",
    "px.line(\n",
    "    data_to_plot,\n",
    "    x=\"month-hour\",\n",
    "    y=\"emission_factor_lb_per_mwh\",\n",
    "    color=\"year\",\n",
    "    facet_col=\"fuel_category\",\n",
    "    facet_col_wrap=1,\n",
    "    title=f\"{fuel_source} {region} {pollutant}_{adjustment}\",\n",
    "    height=800,\n",
    ").update_yaxes(matches=None)\n"
   ]
  },
  {
   "cell_type": "code",
   "execution_count": null,
   "metadata": {},
   "outputs": [],
   "source": [
    "# compare ISO and EIA categories\n",
    "region = \"SWPP\"\n",
    "pollutant = \"co2\"\n",
    "adjustment = \"for_electricity\"\n",
    "\n",
    "data_to_plot = oge_factors_combined[\n",
    "    (oge_factors_combined[\"region\"] == region)\n",
    "    & (oge_factors_combined[\"pollutant\"] == pollutant)\n",
    "    & (oge_factors_combined[\"emission_factor_adjustment\"] == adjustment)\n",
    "    & (~oge_factors_combined[\"fuel_category\"].isin(zero_carbon_fuels))\n",
    "]\n",
    "\n",
    "data_to_plot[\"date\"] = (\n",
    "    data_to_plot[\"year\"].astype(str)\n",
    "    + \"-\"\n",
    "    + data_to_plot[\"month\"].astype(str)\n",
    "    + \" \"\n",
    "    + data_to_plot[\"hour\"].astype(str)\n",
    "    + \":00\"\n",
    ")\n",
    "\n",
    "px.line(\n",
    "    data_to_plot,\n",
    "    x=\"date\",\n",
    "    y=\"emission_factor_lb_per_mwh\",\n",
    "    color=\"fuel_mix_source\",\n",
    "    facet_col=\"fuel_category\",\n",
    "    facet_col_wrap=1,\n",
    "    height=800,\n",
    ").update_yaxes(matches=None)\n"
   ]
  },
  {
   "attachments": {},
   "cell_type": "markdown",
   "metadata": {},
   "source": [
    "## Explore Emission Rate Curves\n",
    "We should test this both with CEMS only data, and with all plant data"
   ]
  },
  {
   "cell_type": "code",
   "execution_count": null,
   "metadata": {},
   "outputs": [],
   "source": [
    "ba = \"\"\n",
    "fuel = \"\"\n",
    "\n",
    "all_data = []\n",
    "for year in [2019, 2020, 2021]:\n",
    "    plant_attributes = pd.read_csv(\n",
    "                outputs_folder(f\"{year}/plant_static_attributes_{year}.csv\"),\n",
    "                dtype=get_dtypes(),\n",
    "            )[[\"plant_id_eia\", \"fuel_category\", \"ba_code\"]]\n",
    "    # identify all plants in the ba and fleet\n",
    "    relevant_plants = list(plant_attributes.loc[(plant_attributes[\"ba_code\"] == ba) & (plant_attributes[\"fuel_category\"] == fuel), \"plant_id_eia\"].unique())\n",
    "\n",
    "    # load cleaned CEMS data\n",
    "    cems_data = pd.read_csv(\n",
    "        outputs_folder(f\"{year}/cems_subplant_{year}.csv\"),\n",
    "        usecols=[\n",
    "            \"plant_id_eia\",\n",
    "            \"subplant_id\",\n",
    "            \"datetime_utc\",\n",
    "            \"gross_generation_mwh\",\n",
    "            \"net_generation_mwh\",\n",
    "            \"fuel_consumed_for_electricity_mmbtu\",\n",
    "            \"co2_mass_lb_for_electricity\",\n",
    "        ]\n",
    "    )\n",
    "\n",
    "    # filter the cems data to only those plants that exist in the BA data\n",
    "    cems_data = cems_data[cems_data[\"plant_id_eia\"].isin(relevant_plants)]\n",
    "\n",
    "    all_data.append(cems_data)\n",
    "\n",
    "cems_data = pd.concat(all_data, axis=0)\n"
   ]
  },
  {
   "cell_type": "code",
   "execution_count": null,
   "metadata": {},
   "outputs": [],
   "source": [
    "cems_fleet = cems_data.groupby([\"datetime_utc\"])[[\"gross_generation_mwh\",\"net_generation_mwh\", \"co2_mass_lb_for_electricity\"]].sum()\n",
    "# only keep data where net generation is greater than 1\n",
    "cems_fleet = cems_fleet[cems_fleet[\"net_generation_mwh\"] >= 1]\n",
    "cems_fleet[\"co2_rate_net\"] = cems_fleet[\"co2_mass_lb_for_electricity\"] / cems_fleet[\"net_generation_mwh\"]\n",
    "cems_fleet[\"co2_rate_gross\"] = cems_fleet[\"co2_mass_lb_for_electricity\"] / cems_fleet[\"gross_generation_mwh\"]\n",
    "cems_fleet"
   ]
  },
  {
   "cell_type": "code",
   "execution_count": null,
   "metadata": {},
   "outputs": [],
   "source": [
    "px.scatter(cems_fleet, x=\"net_generation_mwh\", y=\"co2_rate_gross\")"
   ]
  },
  {
   "cell_type": "code",
   "execution_count": null,
   "metadata": {},
   "outputs": [],
   "source": [
    "def model_heat_input(df):\n",
    "    hr_model = ols(\n",
    "        \"co2_mass_lb ~ net_generation_mwh + I(net_generation_mwh**2)\",  \n",
    "        data=df,\n",
    "    ).fit()\n",
    "\n",
    "    a0 = hr_model.params[0]\n",
    "    a1 = hr_model.params[1]\n",
    "    a2 = hr_model.params[2]\n",
    "    r2 = hr_model.rsquared\n",
    "    nobs = hr_model.nobs\n",
    "\n",
    "    return a0, a1, a2, r2, nobs\n",
    "\n",
    "\n",
    "# filter the cems data to those plants that combust fuel\n",
    "data_for_ci_calc = cems_data.loc[:,\n",
    "    [\n",
    "        \"plant_id_eia\",\n",
    "        \"emissions_unit_id_epa\",\n",
    "        \"datetime_utc\",\n",
    "        \"co2_mass_lb\",\n",
    "        \"gross_generation_mwh\",\n",
    "    ],\n",
    "]\n",
    "\n",
    "hr_regression = data_for_ci_calc.groupby(\n",
    "    [\"plant_id_eia\", \"emissions_unit_id_epa\"]\n",
    ").apply(model_heat_input)\n",
    "\n",
    "gross_ci = pd.DataFrame(\n",
    "    hr_regression.tolist(),\n",
    "    index=hr_regression.index,\n",
    "    columns=[\"a0\", \"a1\", \"a2\", \"rsquared\", \"observations\"],\n",
    ").reset_index()\n",
    "\n",
    "gross_ci\n"
   ]
  }
 ],
 "metadata": {
  "kernelspec": {
   "display_name": "open_grid_emissions",
   "language": "python",
   "name": "python3"
  },
  "language_info": {
   "codemirror_mode": {
    "name": "ipython",
    "version": 3
   },
   "file_extension": ".py",
   "mimetype": "text/x-python",
   "name": "python",
   "nbconvert_exporter": "python",
   "pygments_lexer": "ipython3",
   "version": "3.10.8"
  },
  "orig_nbformat": 4,
  "vscode": {
   "interpreter": {
    "hash": "25e36f192ecdbe5da57d9bea009812e7b11ef0e0053366a845a2802aae1b29d2"
   }
  }
 },
 "nbformat": 4,
 "nbformat_minor": 2
}
