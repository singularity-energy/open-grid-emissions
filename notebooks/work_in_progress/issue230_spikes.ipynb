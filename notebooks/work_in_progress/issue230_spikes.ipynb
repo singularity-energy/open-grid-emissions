{
 "cells": [
  {
   "cell_type": "markdown",
   "metadata": {},
   "source": [
    "# issue 230: spikes in PJM caused by broken filter \n",
    "\n",
    "process: \n",
    "\n",
    "* verify that shaped_profiles shows bug \n",
    "\n",
    "It does not! profile_method correctly selects 930_profile during the issue, and `profile` does not show the dips. So the issue seems to be with the application of the profiles. \n",
    "Shaped 923 data also does not show issue (though it does show variable nuclear profile, which is still wrong -- that's an issue introduced by `gridemissions`)\n",
    "\n",
    "* replicate running `impute_hourly_profiles.calculate_hourly_profiles` to reproduce bug \n",
    "* fix bug \n",
    "\n"
   ]
  },
  {
   "cell_type": "code",
   "execution_count": null,
   "metadata": {},
   "outputs": [],
   "source": [
    "import pandas as pd\n",
    "import plotly.express as px"
   ]
  },
  {
   "cell_type": "code",
   "execution_count": 1,
   "metadata": {},
   "outputs": [],
   "source": [
    "%reload_ext autoreload\n",
    "%autoreload 2\n",
    "\n",
    "# # Tell python where to look for modules.\n",
    "import sys\n",
    "\n",
    "sys.path.append(\"../../src/\")\n",
    "\n",
    "import oge.impute_hourly_profiles as impute_hourly_profiles\n",
    "from oge.filepaths import outputs_folder, results_folder\n",
    "from oge.column_checks import get_dtypes"
   ]
  },
  {
   "cell_type": "code",
   "execution_count": null,
   "metadata": {},
   "outputs": [],
   "source": [
    "problem_profiles = pd.read_csv(\n",
    "    f\"{outputs_folder()}/2020/hourly_profiles_2020.csv\", dtype=get_dtypes()\n",
    ")"
   ]
  },
  {
   "cell_type": "code",
   "execution_count": null,
   "metadata": {},
   "outputs": [],
   "source": [
    "problem_profiles = problem_profiles[\n",
    "    (problem_profiles.ba_code == \"PJM\") & (problem_profiles.fuel_category == \"nuclear\")\n",
    "]"
   ]
  },
  {
   "cell_type": "code",
   "execution_count": null,
   "metadata": {},
   "outputs": [],
   "source": [
    "problem_profiles.head()\n",
    "\n",
    "px.line(\n",
    "    problem_profiles,\n",
    "    x=\"datetime_utc\",\n",
    "    y=[\n",
    "        \"residual_profile\",\n",
    "        \"scaled_residual_profile\",\n",
    "        \"shifted_residual_profile\",\n",
    "        \"profile\",\n",
    "    ],\n",
    ")"
   ]
  },
  {
   "cell_type": "code",
   "execution_count": null,
   "metadata": {},
   "outputs": [],
   "source": [
    "problem_profiles.profile_method.unique()"
   ]
  },
  {
   "cell_type": "code",
   "execution_count": null,
   "metadata": {},
   "outputs": [],
   "source": [
    "problem_profiles[\n",
    "    (problem_profiles.datetime_utc > \"2020-04-15\")\n",
    "    & (problem_profiles.datetime_utc < \"2020-04-16\")\n",
    "]"
   ]
  },
  {
   "cell_type": "code",
   "execution_count": null,
   "metadata": {},
   "outputs": [],
   "source": [
    "### Look for the issue in the next output\n",
    "shaped = pd.read_csv(\n",
    "    f\"{outputs_folder()}/2020/shaped_eia923_data_2020.csv\", dtype=get_dtypes()\n",
    ")"
   ]
  },
  {
   "cell_type": "code",
   "execution_count": null,
   "metadata": {},
   "outputs": [],
   "source": [
    "shaped = shaped[(shaped.ba_code == \"PJM\")]"
   ]
  },
  {
   "cell_type": "code",
   "execution_count": null,
   "metadata": {},
   "outputs": [],
   "source": [
    "px.line(\n",
    "    shaped,\n",
    "    x=\"datetime_utc\",\n",
    "    y=\"net_generation_mwh\",\n",
    "    line_group=\"fuel_category\",\n",
    "    color=\"fuel_category\",\n",
    ")"
   ]
  },
  {
   "cell_type": "code",
   "execution_count": null,
   "metadata": {},
   "outputs": [],
   "source": [
    "#### Ok, issue is not in 923 shaped data, so it must just be in CEMS data\n",
    "plant_level = pd.read_csv(\n",
    "    f\"{results_folder()}/2020/plant_data/hourly/us_units/individual_plant_data.csv\"\n",
    ")"
   ]
  },
  {
   "cell_type": "code",
   "execution_count": null,
   "metadata": {},
   "outputs": [],
   "source": [
    "problem_plant = plant_level[plant_level.plant_id_eia == 2410]"
   ]
  },
  {
   "cell_type": "code",
   "execution_count": null,
   "metadata": {},
   "outputs": [],
   "source": [
    "px.line(problem_plant, x=\"datetime_utc\", y=\"net_generation_mwh\")"
   ]
  },
  {
   "cell_type": "code",
   "execution_count": null,
   "metadata": {},
   "outputs": [],
   "source": []
  }
 ],
 "metadata": {
  "kernelspec": {
   "display_name": "Python 3.10.5 ('hourly_egrid')",
   "language": "python",
   "name": "python3"
  },
  "language_info": {
   "codemirror_mode": {
    "name": "ipython",
    "version": 3
   },
   "file_extension": ".py",
   "mimetype": "text/x-python",
   "name": "python",
   "nbconvert_exporter": "python",
   "pygments_lexer": "ipython3",
   "version": "3.11.2"
  },
  "orig_nbformat": 4,
  "vscode": {
   "interpreter": {
    "hash": "65c02dfd2dc2ef471c0b5088763a28c1faaa7cad28937ca42fadf51e669fd8e8"
   }
  }
 },
 "nbformat": 4,
 "nbformat_minor": 2
}
